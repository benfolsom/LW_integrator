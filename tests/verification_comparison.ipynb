{
 "cells": [
  {
   "cell_type": "markdown",
   "id": "dffdb746",
   "metadata": {},
   "source": [
    "# LW Integrator Verification: Original vs Refactored Implementations\n",
    "\n",
    "**Objective:** Verify that our architectural improvements haven't introduced any bugs by comparing trajectories between:\n",
    "1. **Original Legacy Code** (from demo notebooks)\n",
    "2. **Refactored Basic Integrator** (functionalized trajectory_integrator.py)\n",
    "3. **Optimized Integrator** (performance.py with JIT compilation)\n",
    "\n",
    "**Test Case:** Two-particle electromagnetic interaction simulation based on `two_particle_demo_main.ipynb`\n",
    "\n",
    "---\n",
    "\n",
    "## Verification Strategy\n",
    "- Use **identical initial conditions** and simulation parameters\n",
    "- Compare **final particle trajectories** and **energy conservation**\n",
    "- Measure **numerical differences** and **statistical distributions**\n",
    "- Validate **performance improvements** while maintaining accuracy"
   ]
  },
  {
   "cell_type": "code",
   "execution_count": null,
   "id": "c474d551",
   "metadata": {},
   "outputs": [],
   "source": [
    "# Import Required Libraries\n",
    "import numpy as np\n",
    "import matplotlib.pyplot as plt\n",
    "import time\n",
    "import sys\n",
    "import os\n",
    "from typing import Dict, List, Tuple, Any\n",
    "import warnings\n",
    "warnings.filterwarnings('ignore')\n",
    "\n",
    "# Configure matplotlib for better plots\n",
    "plt.rcParams.update({'font.size': 12, 'figure.figsize': (10, 6)})\n",
    "\n",
    "# Add paths for imports\n",
    "sys.path.insert(0, '/home/benfol/work/LW_windows/LW_integrator')\n",
    "sys.path.insert(0, '/home/benfol/work/LW_windows/LW_integrator/LW_integrator')\n",
    "\n",
    "print(\"✅ Libraries imported successfully\")\n",
    "print(f\"NumPy version: {np.__version__}\")\n",
    "print(f\"Python version: {sys.version}\")\n",
    "print(\"=\"*50)"
   ]
  },
  {
   "cell_type": "code",
   "execution_count": null,
   "id": "6dcd6e74",
   "metadata": {},
   "outputs": [],
   "source": [
    "# Load Original Integrator Code\n",
    "# Import the original legacy integrator functions from the main LW_integrator directory\n",
    "try:\n",
    "    # Original code from the demo notebooks\n",
    "    from covariant_integrator_library import retarded_integrator3, static_integrator3\n",
    "    from bunch_inits import init_bunch\n",
    "    from plotting_variables import calculate_plotting_variables\n",
    "    print(\"✅ Original legacy integrator loaded successfully\")\n",
    "    LEGACY_AVAILABLE = True\n",
    "except ImportError as e:\n",
    "    print(f\"⚠️  Original legacy code not available: {e}\")\n",
    "    print(\"   Will proceed with refactored implementations only\")\n",
    "    LEGACY_AVAILABLE = False\n",
    "\n",
    "print(\"=\"*50)"
   ]
  }
 ],
 "metadata": {
  "language_info": {
   "name": "python"
  }
 },
 "nbformat": 4,
 "nbformat_minor": 5
}
