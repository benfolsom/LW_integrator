{
 "cells": [
  {
   "cell_type": "code",
   "execution_count": null,
   "id": "782335bb-405e-4969-8752-ec5817eef307",
   "metadata": {
    "metadata": {},
    "tags": []
   },
   "outputs": [],
   "source": [
    "from covariant_integrator_library_heavyion import *\n",
    "from bunch_inits import *\n",
    "from plotting_variables import *\n",
    "\n",
    "font_size = 16\n",
    "# Update the rcParams dictionary to set the font size globally\n",
    "plt.rcParams.update({'font.size': font_size})"
   ]
  },
  {
   "cell_type": "markdown",
   "id": "90f9b85a",
   "metadata": {},
   "source": [
    "### Call the LW integrator. Two energy loss plots will be generated for each run as a sanity check. Final plot is calculated below, with a cell for inputting warpx results."
   ]
  },
  {
   "cell_type": "code",
   "execution_count": null,
   "id": "43c45df3",
   "metadata": {
    "metadata": {}
   },
   "outputs": [],
   "source": [
    "c_ms = 299792458\n",
    "\n",
    "transv_dist = 1e-4\n",
    "\n",
    "m_particle_rider = 1.007319468  #proton -amu\n",
    "#m_particle_driver = 207.2 #lead, amu\n",
    "m_particle_driver = 199.96 # gold\n",
    "#m_particle = 0.0005485   #electron -amu\n",
    "#m_particle_driver = 315 #gold hexafloride, amu\n",
    "\n",
    "stripped_ions_rider = 1.\n",
    "stripped_ions_driver = 79.\n",
    "charge_sign_rider= 1.\n",
    "charge_sign_driver = 1.\n",
    "Pz_list = np.linspace(9.584300885e5,9.584295e4,30)\n",
    "min_dE_MeVs_rider = []\n",
    "min_dE_MeVs_driver = []\n",
    "fracs_E_rider = []\n",
    "fracs_E_driver = []\n",
    "gams = []\n",
    "gams_drv = []\n",
    "bets = []\n",
    "bets_drv = []\n",
    "        \n",
    "for i in range(0,len(Pz_list)):\n",
    "#for i in range(0,1):\n",
    "        #Pz_list = np.linspace(9.584300885e5,9.584295e4,30)\n",
    "        Pz_list = np.linspace(1.28e6,9.584295e4,30)\n",
    "        \n",
    "        starting_Pz_rider = Pz_list[i]   #3.25E5 corresponds to 1 TeV\n",
    "        \n",
    "        starting_Pz_driver = -starting_Pz_rider/m_particle_driver*m_particle_rider  #actually velocity-like, mass factored later\n",
    "        transv_mom_rider = 1e-6   #1e-2 is roughly 10keV scale\n",
    "        transv_mom_driver = transv_mom_rider#*207 # lazy adding lead mass\n",
    "        starting_distance_rider = 1e-3\n",
    "        starting_distance_driver = 100.\n",
    "\n",
    "        sim_type = 2    # type 2 used here, it is for bunch--bunch simulations\n",
    "        pcount_rider = 1    #bunch counts\n",
    "        pcount_driver = 1\n",
    "\n",
    "        init_rider, E_MeV_rest_rider = init_bunch(starting_distance_rider,transv_mom_rider,starting_Pz_rider,stripped_ions_rider,m_particle_rider,transv_dist,pcount_rider,charge_sign_rider)\n",
    "\n",
    "        init_driver, E_MeV_rest_driver = init_bunch(starting_distance_driver,transv_mom_driver,starting_Pz_driver,stripped_ions_driver,m_particle_driver,-transv_dist,pcount_driver,charge_sign_driver)\n",
    "\n",
    "\n",
    "        #### parameters not used in this test, but required to run integrator\n",
    "        bunch_dist = 1E5   #bunch--bunch distance at which the driver bunch has maximum charge (gaussian mean)\n",
    "        cav_spacing = 1E5  #distance to the subsequent driver bunch\n",
    "        aperture = 1E5 #this parameter reused for bunch-driven gaussian sigma\n",
    "        z_cutoff = 0\n",
    "        wall_pos= 1E5\n",
    "\n",
    "\n",
    "        #coarse initialization\n",
    "        # static_steps = 1#set init_steps equal to tot_steps to test static integrator only\n",
    "        # ret_steps = 25\n",
    "        # step_size = 2e-6\n",
    "\n",
    "        #interaction zone\n",
    "        static_steps = 1\n",
    "        ret_steps = 5500\n",
    "        #step_size = 1e-7 #+ 2.3e-6 / ( (i+1) / (25) )\n",
    "        step_size = 1.8e-8 + (i+1)*6.5e-9 \n",
    "        print(step_size)\n",
    "        \n",
    "        retarded_traj,retarded_drv_traj = retarded_integrator3(static_steps,ret_steps,step_size,wall_pos,aperture,sim_type,init_rider,init_driver,bunch_dist,cav_spacing,z_cutoff)#just use retarded_intergrator2 for retarded calcs\n",
    "        #retarded_traj,retarded_drv_traj = retarded_integrator3(static_steps,ret_steps,step_size,wall_pos,aperture,sim_type,retarded_traj_pre[-1],retarded_drv_traj_pre[-1],bunch_dist,cav_spacing,z_cutoff)#just use retarded_intergrator2 for retarded calcs\n",
    "        #retarded_traj,retarded_drv_traj = retarded_traj2,retarded_drv_traj2\n",
    "\n",
    "        delta_e, delta_e_drv, tot_e, tot_e_drv, delta_e_keV, delta_e_MeV, tot_e_GeV, delta_e_keV_drv, delta_e_MeV_drv, tot_e_GeV_drv, zs, xs, zs_drv, xs_drv, bzs, bxs, bys, bdotxs, bdotys, bdotzs, Pzs, Pxs, Pys, Pts, gammas, tees, bzs_drv, bxs_drv, bys_drv, bdotxs_drv, bdotys_drv, bdotzs_drv, Pzs_drv, Pxs_drv, Pys_drv, Pts_drv, gammas_drv, tees_drv, qs_drv, gam_fixed, bdotzs_seconds, q_statC_squared, q_kg_m3_sneg2, Pows_z_rider_watts = calculate_plotting_variables(retarded_traj,\n",
    "        retarded_drv_traj, init_rider, init_driver, static_steps, ret_steps, E_MeV_rest_rider, E_MeV_rest_driver, c_ms)\n",
    "        min_dE_MeVs_rider = np.append(min_dE_MeVs_rider,np.min(delta_e_MeV))\n",
    "        min_dE_MeVs_driver = np.append(min_dE_MeVs_driver,np.min(delta_e_MeV_drv))\n",
    "        # max_dE_MeVs_rider = np.append(max_dE_MeVs_rider,np.max(np.abs(delta_e_MeV)))\n",
    "        # max_dE_MeVs_driver = np.append(max_dE_MeVs_driver,np.max(np.abs(delta_e_MeV_drv)))\n",
    "        print(zs[-1])\n",
    "        frac_E_rider = np.divide(np.min(tot_e),tot_e[0])\n",
    "        frac_E_driver = np.divide(np.min(tot_e_drv),tot_e_drv[0])\n",
    "        fracs_E_rider = np.append(fracs_E_rider,frac_E_rider)\n",
    "        fracs_E_driver = np.append(fracs_E_driver,frac_E_driver)\n",
    "        print(\"driver fractional energy shift\", fracs_E_driver)\n",
    "        print(\"rider fractional energy shift\", fracs_E_rider)\n",
    "        gams = np.append(gams,gammas[0])\n",
    "        gams_drv = np.append(gams_drv,gammas_drv[0])\n",
    "        bets = np.append(bets,bzs[0])\n",
    "        bets_drv = np.append(bets_drv,bzs_drv[0])\n",
    "\n",
    "        fig = plt.figure(figsize=(6,5))\n",
    "        ax = fig.add_subplot(1, 1, 1) \n",
    "        ax.scatter(zs,delta_e_MeV/1000,s=40)\n",
    "        #ax.scatter(zs_drv,delta_e_MeV_drv,s=40)\n",
    "        #ax.scatter(tees,np.abs(np.multiply(qs_drv,1E-2)),s=40)\n",
    "        ax.set_ylabel(r\"$\\Delta$ E [GeV]\")\n",
    "        ax.set_xlabel(r\"z [mm]\")\n",
    "        #ax.axvline(30,color='g',label=\"wall paosition\")\n",
    "        #plt.xlim(starting_distance_rider/2,3)\n",
    "        #plt.ylim(1E-2,2e3)\n",
    "        #plt.xscale('log')  #log scale works at 1mm range\n",
    "        #plt.yscale('log')\n",
    "        plt.title(\"Rider\")\n",
    "        plt.tight_layout()\n",
    "        #plt.savefig(\"./6.26_prot_antiprot_10nm.png\",dpi=600)\n",
    "        plt.show()\n",
    "\n",
    "        fig = plt.figure(figsize=(6,5))\n",
    "        ax = fig.add_subplot(1, 1, 1) \n",
    "        #ax.scatter(zs,delta_e_MeV,s=40)\n",
    "        ax.scatter(zs_drv,delta_e_MeV_drv/1000,s=40)\n",
    "        #ax.scatter(zs_drv,np.abs(delta_e_MeV_drv/1000),s=40)  #for log plotting\n",
    "        #ax.scatter(tees,np.abs(np.multiply(qs_drv,1E-2)),s=40)\n",
    "        ax.set_ylabel(r\"$\\Delta$ E [GeV]\")\n",
    "        #ax.set_xlabel(r\"z [mm]\")\n",
    "        #ax.axvline(30,color='g',label=\"wall paosition\")\n",
    "        #plt.xlim(-0.54,0.01)\n",
    "        #plt.ylim(1E-5,5e3)\n",
    "        #plt.xscale('log')\n",
    "        #plt.yscale('log')\n",
    "        plt.title(\"Driver\")\n",
    "        plt.tight_layout()\n",
    "        #plt.savefig(\"./6.26_prot_antiprot_10nm.png\",dpi=600)\n",
    "        plt.show()\n",
    "\n",
    "\n",
    "\n"
   ]
  },
  {
   "cell_type": "code",
   "execution_count": null,
   "id": "7f8b8651",
   "metadata": {},
   "outputs": [],
   "source": [
    "amu_kg = 1.66053907E-27\n",
    "c_ms = 299792458 # Speed of light in m/s\n",
    "mass_kg = m_particle_driver*amu_kg\n",
    "vz_mmns = Pz_list/(m_particle_driver*gammas_drv[0]) #NOT mass_kg here\n",
    "vz_ms = vz_mmns*1e6\n",
    "Pz_kgms  = vz_ms*mass_kg*gammas_drv[0]\n",
    "E_J     = Pz_kgms*c_ms\n",
    "E_MeV_drv = E_J*6.242E12"
   ]
  },
  {
   "cell_type": "code",
   "execution_count": null,
   "id": "47595e6e",
   "metadata": {},
   "outputs": [],
   "source": [
    "amu_kg = 1.66053907E-27\n",
    "c_ms = 299792458 # Speed of light in m/s\n",
    "mass_kg = m_particle_rider*amu_kg\n",
    "vz_mmns = Pz_list/(m_particle_rider*gammas[0]) #NOT mass_kg here\n",
    "vz_ms = vz_mmns*1e6\n",
    "Pz_kgms  = vz_ms*mass_kg*gammas[0]\n",
    "E_J     = Pz_kgms*c_ms\n",
    "E_MeV = E_J*6.242E12"
   ]
  },
  {
   "cell_type": "markdown",
   "id": "701cee84",
   "metadata": {},
   "source": [
    "#### The following are for generating $\\gamma \\beta$ values to input into warpX"
   ]
  },
  {
   "cell_type": "code",
   "execution_count": null,
   "id": "804e2a4b",
   "metadata": {},
   "outputs": [],
   "source": [
    "gams"
   ]
  },
  {
   "cell_type": "code",
   "execution_count": null,
   "id": "038a1f7d",
   "metadata": {},
   "outputs": [],
   "source": [
    "gams_drv"
   ]
  },
  {
   "cell_type": "code",
   "execution_count": null,
   "id": "c96d0e9b",
   "metadata": {},
   "outputs": [],
   "source": [
    "gambets = np.multiply(bets,gams)"
   ]
  },
  {
   "cell_type": "code",
   "execution_count": null,
   "id": "c7ae134e",
   "metadata": {},
   "outputs": [],
   "source": [
    "gambets_drv = np.multiply(bets_drv,gams_drv)"
   ]
  },
  {
   "cell_type": "code",
   "execution_count": null,
   "id": "05cacb3d",
   "metadata": {},
   "outputs": [],
   "source": [
    "gambets"
   ]
  },
  {
   "cell_type": "code",
   "execution_count": null,
   "id": "61b4d696",
   "metadata": {},
   "outputs": [],
   "source": [
    "-gambets_drv"
   ]
  },
  {
   "cell_type": "markdown",
   "id": "080df797",
   "metadata": {},
   "source": [
    "### The outputs from the warpX gamma_parser.py should then be copied in the following cell"
   ]
  },
  {
   "cell_type": "code",
   "execution_count": null,
   "id": "6a2ef931",
   "metadata": {},
   "outputs": [],
   "source": [
    ";pwd"
   ]
  },
  {
   "cell_type": "code",
   "execution_count": null,
   "id": "7ce59be9",
   "metadata": {},
   "outputs": [],
   "source": [
    "warpx_gams_start = np.loadtxt('/home/benjamif/work/warpx/proton_gold/saved_runs_alt_coord2_gammasqd0.25/second_row_values.txt')\n",
    "warpx_gams_end = np.loadtxt('/home/benjamif/work/warpx/proton_gold/saved_runs_alt_coord2_gammasqd0.25/last_row_values.txt')\n",
    "\n",
    "#warpx_gams_start = np.loadtxt('/home/benjamif/work/warpx/proton_gold/saved_runs_alt_coord2_gammasqd1/second_row_values.txt')\n",
    "#warpx_gams_end = np.loadtxt('/home/benjamif/work/warpx/proton_gold/saved_runs_alt_coord2_gammasqd1/last_row_values.txt')\n",
    "\n",
    "#warpx_gams_start = np.loadtxt('/home/benjamif/work/warpx/proton_gold/saved_runs_alt_coord2_gammsqd0.5_FIXME/second_row_values.txt')\n",
    "#warpx_gams_end = np.loadtxt('/home/benjamif/work/warpx/proton_gold/saved_runs_alt_coord2_gammsqd0.5_FIXME/last_row_values.txt')\n",
    "\n",
    "#warpx_gams_start = np.loadtxt('/home/benjamif/work/warpx/proton_gold/saved_runs_alt_8_18_noenergyset/second_row_values.txt')\n",
    "#warpx_gams_end = np.loadtxt('/home/benjamif/work/warpx/proton_gold/saved_runs_alt_8_18_noenergyset//last_row_values.txt')\n",
    "\n",
    "#warpx_gams_start = np.loadtxt('/home/benjamif/work/warpx/proton_gold/saved_runs_alt_coord2_gammasqd4/second_row_values.txt')\n",
    "#warpx_gams_end = np.loadtxt('/home/benjamif/work/warpx/proton_gold/saved_runs_alt_coord2_gammasqd4/last_row_values.txt')"
   ]
  },
  {
   "cell_type": "code",
   "execution_count": null,
   "id": "9f206772",
   "metadata": {},
   "outputs": [],
   "source": [
    "warpx_gams_end"
   ]
  },
  {
   "cell_type": "code",
   "execution_count": null,
   "id": "1e844449",
   "metadata": {},
   "outputs": [],
   "source": [
    "fracs_E_driver_warpx = np.flip(np.divide(warpx_gams_end, warpx_gams_start))\n",
    "#fracs_E_driver_warpx = (np.divide(warpx_gams_end, warpx_gams_start))"
   ]
  },
  {
   "cell_type": "code",
   "execution_count": null,
   "id": "edfb1c9d",
   "metadata": {},
   "outputs": [],
   "source": [
    "#fracs_E_driver_warpx_gam_0_5 =  fracs_E_driver_warpx\n",
    "fracs_E_driver_warpx_gam_0_25 =  fracs_E_driver_warpx\n",
    "#fracs_E_driver_warpx_gam_1 =  fracs_E_driver_warpx\n",
    "#fracs_E_driver_warpx_gam_4 =  fracs_E_driver_warpx\n"
   ]
  },
  {
   "cell_type": "code",
   "execution_count": null,
   "id": "8a8581f2",
   "metadata": {},
   "outputs": [],
   "source": [
    "fracs_E_driver"
   ]
  },
  {
   "cell_type": "code",
   "execution_count": null,
   "id": "fba8c731",
   "metadata": {},
   "outputs": [],
   "source": [
    "fracs_E_rider"
   ]
  },
  {
   "cell_type": "code",
   "execution_count": null,
   "id": "65b40148",
   "metadata": {},
   "outputs": [],
   "source": []
  },
  {
   "cell_type": "code",
   "execution_count": null,
   "id": "d5fb7357",
   "metadata": {},
   "outputs": [],
   "source": [
    "fig = plt.figure(figsize=(6,5))\n",
    "ax = fig.add_subplot(1, 1, 1) \n",
    "#ax.scatter(zs,delta_e_MeV,s=40)\n",
    "ax.scatter(E_MeV_drv/1e6,np.abs(fracs_E_driver-1)*100,s=60,label=\"Covariant/LW\",alpha=0.95)\n",
    "ax.scatter(E_MeV_drv/1e6,np.abs(fracs_E_driver_warpx_gam_0_5-1)*100,s=60,marker='h',label=\"WarpX\",alpha=0.95)\n",
    "\n",
    "ax.fill_between(E_MeV_drv[0::]/1e6,np.abs(fracs_E_driver_warpx_gam_1[0::]-1)*100,np.abs(fracs_E_driver_warpx_gam_0_25[0::]-1)*100, alpha=0.3)\n",
    "#ax.fill_between(E_MeV_drv[13::]/1e6,np.abs(fracs_E_driver_warpx_gam_4[13::]-1)*100,np.abs(fracs_E_driver_warpx_gam_0_5[13::]-1)*100, alpha=0.5)\n",
    "\n",
    "#ax.scatter(E_MeV/1e6,np.abs(fracs_E_rider-1)*100,s=40,label=\"p\")\n",
    "#ax.scatter(zs_drv,np.abs(delta_e_MeV_drv/1000),s=40)  #for log plotting\n",
    "#ax.scatter(tees,np.abs(np.multiply(qs_drv,1E-2)),s=40)\n",
    "ax.set_ylabel(r\"% Kinetic Energy Loss for Au\")\n",
    "ax.set_xlabel(r\"Starting Energy [TeV]\")\n",
    "#ax.axvline(30,color='g',label=\"wall paosition\")\n",
    "#plt.xlim(-0.54,0.01)\n",
    "#plt.ylim(1E-5,5e3)\n",
    "#plt.xscale('log')\n",
    "plt.legend()\n",
    "plt.yscale('log')\n",
    "#plt.title(\"p$-$Au @ d$_T$=100nm\")\n",
    "plt.tight_layout()\n",
    "plt.savefig(\"./p_Au_energy_dependent_v2.png\",dpi=600)\n",
    "plt.show()"
   ]
  },
  {
   "cell_type": "code",
   "execution_count": null,
   "id": "e1547eba",
   "metadata": {},
   "outputs": [],
   "source": [
    "E_MeV_drv[21:-1]/1e6"
   ]
  },
  {
   "cell_type": "code",
   "execution_count": null,
   "id": "8282bf48",
   "metadata": {},
   "outputs": [],
   "source": []
  }
 ],
 "metadata": {
  "kernelspec": {
   "display_name": "Python 3",
   "language": "python",
   "name": "python3"
  },
  "language_info": {
   "codemirror_mode": {
    "name": "ipython",
    "version": 3
   },
   "file_extension": ".py",
   "mimetype": "text/x-python",
   "name": "python",
   "nbconvert_exporter": "python",
   "pygments_lexer": "ipython3",
   "version": "3.10.12"
  }
 },
 "nbformat": 4,
 "nbformat_minor": 5
}
