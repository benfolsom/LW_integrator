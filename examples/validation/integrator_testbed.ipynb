{
 "cells": [
  {
   "cell_type": "markdown",
   "id": "f6377961",
   "metadata": {},
   "source": [
    "# Integrator Testbed\n",
    "\n",
    "Experiment with the core integrator across all supported simulation types. Toggle the legacy\n",
    "comparison when needed, tune particle parameters, and explore output artefacts for debugging or validation."
   ]
  },
  {
   "cell_type": "code",
   "execution_count": 1,
   "id": "2f756473",
   "metadata": {},
   "outputs": [],
   "source": [
    "from __future__ import annotations\n",
    "\n",
    "import sys\n",
    "from pathlib import Path\n",
    "\n",
    "PROJECT_ROOT = Path.cwd().resolve()\n",
    "while PROJECT_ROOT.name and PROJECT_ROOT.name != \"LW_windows\":\n",
    "    PROJECT_ROOT = PROJECT_ROOT.parent\n",
    "if str(PROJECT_ROOT) not in sys.path:\n",
    "    sys.path.insert(0, str(PROJECT_ROOT))\n",
    "\n",
    "VALIDATION_ROOT = PROJECT_ROOT / \"examples\" / \"validation\"\n",
    "if str(VALIDATION_ROOT) not in sys.path:\n",
    "    sys.path.insert(0, str(VALIDATION_ROOT))\n",
    "\n",
    "from testbed_ui import IntegratorTestbedApp"
   ]
  },
  {
   "cell_type": "code",
   "execution_count": null,
   "id": "63dcfe23",
   "metadata": {},
   "outputs": [
    {
     "data": {
      "application/vnd.jupyter.widget-view+json": {
       "model_id": "cd83743e91d24ee1be81a4f0012f0076",
       "version_major": 2,
       "version_minor": 0
      },
      "text/plain": [
       "VBox(children=(HBox(children=(IntSlider(value=1000, continuous_update=False, description='Steps:', max=20000, …"
      ]
     },
     "metadata": {},
     "output_type": "display_data"
    }
   ],
   "source": [
    "# Build the reusable widget app and display it in the notebook\n",
    "app = IntegratorTestbedApp(project_root=PROJECT_ROOT)\n",
    "app.display()"
   ]
  }
 ],
 "metadata": {
  "kernelspec": {
   "display_name": ".venv",
   "language": "python",
   "name": "python3"
  },
  "language_info": {
   "codemirror_mode": {
    "name": "ipython",
    "version": 3
   },
   "file_extension": ".py",
   "mimetype": "text/x-python",
   "name": "python",
   "nbconvert_exporter": "python",
   "pygments_lexer": "ipython3",
   "version": "3.13.7"
  }
 },
 "nbformat": 4,
 "nbformat_minor": 5
}
