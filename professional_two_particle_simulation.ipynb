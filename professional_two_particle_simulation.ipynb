{
 "cells": [
  {
   "cell_type": "markdown",
   "id": "cfe5c20e",
   "metadata": {},
   "source": [
    "# Two-Particle Electromagnetic Simulation\n",
    "\n",
    "This notebook reproduces the first two energy plots from the original two_particle_main demo using the fixed Lienard-Wiechert integrator and professional particle initialization."
   ]
  },
  {
   "cell_type": "code",
   "execution_count": 1,
   "id": "a50864d6",
   "metadata": {},
   "outputs": [
    {
     "name": "stdout",
     "output_type": "stream",
     "text": [
      "✅ All modules loaded successfully\n"
     ]
    }
   ],
   "source": [
    "# Import Required Libraries and Modules\n",
    "import numpy as np\n",
    "import matplotlib.pyplot as plt\n",
    "import time\n",
    "\n",
    "# Import core electromagnetic simulation modules\n",
    "from core.performance import OptimizedLienardWiechertIntegrator\n",
    "from core.particle_initialization import initialize_particle_bunches\n",
    "\n",
    "# Set professional plotting style\n",
    "plt.rcParams.update({'font.size': 14})\n",
    "print(\"✅ All modules loaded successfully\")"
   ]
  },
  {
   "cell_type": "code",
   "execution_count": 2,
   "id": "91a25987",
   "metadata": {},
   "outputs": [],
   "source": [
    "# Reload modules to get latest changes\n",
    "import importlib\n",
    "importlib.reload(__import__('core.particle_initialization'))\n",
    "from core.particle_initialization import initialize_particle_bunches"
   ]
  },
  {
   "cell_type": "code",
   "execution_count": 3,
   "id": "77040924",
   "metadata": {},
   "outputs": [
    {
     "name": "stdout",
     "output_type": "stream",
     "text": [
      "✅ Parameters initialized successfully\n",
      "Rider: 1.007319468 amu, charge = -1.0\n",
      "Driver: 207.2 amu, charge = 54.0\n"
     ]
    }
   ],
   "source": [
    "# Initialize Particle Bunch Parameters (matching original demo exactly)\n",
    "\n",
    "# Physical constants\n",
    "c_ms = 299792458\n",
    "transv_dist = 1e-4\n",
    "\n",
    "# Particle specifications\n",
    "rider_params = {\n",
    "    'particle_mass_amu': 1.007319468,  # proton\n",
    "    'stripped_ions': 1.0,\n",
    "    'charge_sign': -1.0,\n",
    "    'starting_pz': 1.01e6,\n",
    "    'transv_momentum': 0.0,\n",
    "    'starting_distance': 1e-6,\n",
    "    'transv_distance': transv_dist,\n",
    "    'particle_count': 10\n",
    "}\n",
    "\n",
    "driver_params = {\n",
    "    'particle_mass_amu': 207.2,  # lead\n",
    "    'stripped_ions': 54.0,\n",
    "    'charge_sign': 1.0,\n",
    "    'starting_pz': -rider_params['starting_pz'] / 207.2 * rider_params['particle_mass_amu'],\n",
    "    'transv_momentum': 0.0,\n",
    "    'starting_distance': 100.0,\n",
    "    'particle_count': 10\n",
    "}\n",
    "\n",
    "# Integration parameters (reduced step sizes for realistic travel distances)\n",
    "integration_params = {\n",
    "    'static_steps': 1,\n",
    "    'ret_steps': 25,\n",
    "    'step_size': 5e-7,  # Reduced from 2e-6\n",
    "    'static_steps2': 1,\n",
    "    'ret_steps2': 1000,\n",
    "    'step_size2': 8e-7,  # Reduced from 3e-6\n",
    "    'sim_type': 2,\n",
    "    'bunch_dist': 1e5,\n",
    "    'cav_spacing': 1e5,\n",
    "    'aperture': 1e5,\n",
    "    'z_cutoff': 0,\n",
    "    'wall_pos': 1e5\n",
    "}\n",
    "\n",
    "print(\"✅ Parameters initialized successfully\")\n",
    "print(f\"Rider: {rider_params['particle_mass_amu']} amu, charge = {rider_params['charge_sign'] * rider_params['stripped_ions']}\")\n",
    "print(f\"Driver: {driver_params['particle_mass_amu']} amu, charge = {driver_params['charge_sign'] * driver_params['stripped_ions']}\")"
   ]
  },
  {
   "cell_type": "code",
   "execution_count": 4,
   "id": "3b830355",
   "metadata": {},
   "outputs": [
    {
     "name": "stdout",
     "output_type": "stream",
     "text": [
      "✅ Particle bunches initialized:\n",
      "   Rider rest energy: 938.31 MeV\n",
      "   Driver rest energy: 193005.56 MeV\n",
      "\n",
      "🔄 Running electromagnetic simulation...\n",
      "  Updated integrator: 26 steps (static: 1, retarded: 25)\n",
      "  Simulation type: 2, wall_Z: 100000.0, apt_R: 100000.0\n"
     ]
    },
    {
     "name": "stdout",
     "output_type": "stream",
     "text": [
      "  Updated integrator: 1001 steps (static: 1, retarded: 1000)\n",
      "  Simulation type: 2, wall_Z: 100000.0, apt_R: 100000.0\n",
      "✅ Integration completed in 4.28 seconds\n",
      "   Final trajectory lengths: Rider=1001, Driver=1001\n",
      "✅ Integration completed in 4.28 seconds\n",
      "   Final trajectory lengths: Rider=1001, Driver=1001\n"
     ]
    }
   ],
   "source": [
    "# Create and Configure Particle Bunches & Run Simulation (using verified working approach)\n",
    "\n",
    "# Create particle states directly (matching legacy verification notebook approach)\n",
    "def create_verified_particle_state(params):\n",
    "    \"\"\"Create particle state using verified working format from debugging session.\"\"\"\n",
    "    count = params['particle_count']\n",
    "    \n",
    "    # Create all required arrays\n",
    "    state = {\n",
    "        'x': np.zeros(count),\n",
    "        'y': np.full(count, transv_dist),  # Use global transv_dist\n",
    "        'z': np.full(count, params['starting_distance']),\n",
    "        't': np.zeros(count),\n",
    "        'px': np.full(count, params['transv_momentum']),\n",
    "        'py': np.zeros(count),\n",
    "        'pz': np.full(count, params['starting_pz']),\n",
    "        'Px': np.full(count, params['transv_momentum']),\n",
    "        'Py': np.zeros(count),\n",
    "        'Pz': np.full(count, params['starting_pz']),\n",
    "        'Pt': np.full(count, np.abs(params['starting_pz'])),\n",
    "        'bx': np.zeros(count),\n",
    "        'by': np.zeros(count),\n",
    "        'bz': np.zeros(count),\n",
    "        'bdotx': np.zeros(count),\n",
    "        'bdoty': np.zeros(count),\n",
    "        'bdotz': np.zeros(count),\n",
    "        'gamma': np.ones(count),\n",
    "        'q': np.full(count, params['charge_sign'] * params['stripped_ions']),\n",
    "        'm': np.full(count, params['particle_mass_amu']),\n",
    "        'char_time': np.full(count, 1e-15)\n",
    "    }\n",
    "    \n",
    "    rest_energy = params['particle_mass_amu'] * 931.494  # MeV\n",
    "    return state, rest_energy\n",
    "\n",
    "# Create particle states using verified format\n",
    "rider_state, rider_energy_mev = create_verified_particle_state(rider_params)\n",
    "driver_state, driver_energy_mev = create_verified_particle_state(driver_params)\n",
    "driver_state['y'] = np.full(driver_params['particle_count'], -transv_dist)  # Opposite side\n",
    "\n",
    "print(f\"✅ Particle bunches initialized:\")\n",
    "print(f\"   Rider rest energy: {rider_energy_mev:.2f} MeV\")\n",
    "print(f\"   Driver rest energy: {driver_energy_mev:.2f} MeV\")\n",
    "\n",
    "# Create and configure the fixed electromagnetic integrator\n",
    "integrator = OptimizedLienardWiechertIntegrator()\n",
    "\n",
    "# Run two-stage integration (matching original demo)\n",
    "print(\"\\n🔄 Running electromagnetic simulation...\")\n",
    "start_time = time.time()\n",
    "\n",
    "# Stage 1: Coarse integration\n",
    "rider_traj_1, driver_traj_1 = integrator.integrate_retarded_fields(\n",
    "    integration_params['static_steps'], integration_params['ret_steps'], integration_params['step_size'],\n",
    "    integration_params['wall_pos'], integration_params['aperture'], integration_params['sim_type'],\n",
    "    rider_state, driver_state,\n",
    "    integration_params['bunch_dist'], integration_params['z_cutoff'], integration_params['cav_spacing']\n",
    ")\n",
    "\n",
    "# Stage 2: Fine integration (interaction zone)\n",
    "rider_trajectory, driver_trajectory = integrator.integrate_retarded_fields(\n",
    "    integration_params['static_steps2'], integration_params['ret_steps2'], integration_params['step_size2'],\n",
    "    integration_params['wall_pos'], integration_params['aperture'], integration_params['sim_type'],\n",
    "    rider_traj_1[-1], driver_traj_1[-1],\n",
    "    integration_params['bunch_dist'], integration_params['z_cutoff'], integration_params['cav_spacing']\n",
    ")\n",
    "\n",
    "integration_time = time.time() - start_time\n",
    "print(f\"✅ Integration completed in {integration_time:.2f} seconds\")\n",
    "print(f\"   Final trajectory lengths: Rider={len(rider_trajectory)}, Driver={len(driver_trajectory)}\")"
   ]
  },
  {
   "cell_type": "code",
   "execution_count": 5,
   "id": "40ac130e",
   "metadata": {},
   "outputs": [
    {
     "name": "stdout",
     "output_type": "stream",
     "text": [
      "Trajectory structure analysis:\n",
      "Rider trajectory type: <class 'list'>\n",
      "First element type: <class 'dict'>\n",
      "First element keys: ['x', 'y', 'z', 't', 'Px', 'Py', 'Pz', 'Pt', 'gamma', 'bx', 'by', 'bz', 'bdotx', 'bdoty', 'bdotz', 'q', 'char_time', 'm']\n",
      "Number of particles: 10\n"
     ]
    },
    {
     "data": {
      "image/png": "[encoded data removed]",
      "text/plain": [
       "<Figure size 600x500 with 1 Axes>"
      ]
     },
     "metadata": {},
     "output_type": "display_data"
    },
    {
     "name": "stdout",
     "output_type": "stream",
     "text": [
      "✅ Rider plot generated: 1001 data points\n",
      "   Energy range: 1524983074764400984863014912.000000 to 1524983074764400984863014912.000000 GeV\n"
     ]
    }
   ],
   "source": [
    "# Generate First Plot - Rider Energy Evolution (ΔE vs z)\n",
    "\n",
    "# Debug: Check trajectory structure\n",
    "print(\"Trajectory structure analysis:\")\n",
    "print(f\"Rider trajectory type: {type(rider_trajectory)}\")\n",
    "print(f\"First element type: {type(rider_trajectory[0])}\")\n",
    "print(f\"First element keys: {list(rider_trajectory[0].keys())}\")\n",
    "print(f\"Number of particles: {len(rider_trajectory[0]['x'])}\")\n",
    "\n",
    "# Extract plotting data for rider (first particle from each trajectory point)\n",
    "z_positions = [traj['z'][0] for traj in rider_trajectory]  # mm, first particle\n",
    "energies = []\n",
    "\n",
    "for traj in rider_trajectory:\n",
    "    # Calculate total energy: E = √((pc)² + (mc²)²) for first particle\n",
    "    Px, Py, Pz = traj['Px'][0], traj['Py'][0], traj['Pz'][0]\n",
    "    mass_amu = traj['m'][0]\n",
    "    \n",
    "    # Convert momentum to energy (matching original calculation)\n",
    "    momentum_total = np.sqrt(Px**2 + Py**2 + Pz**2)\n",
    "    total_energy_mev = np.sqrt((momentum_total * c_ms * 1e-6)**2 + (mass_amu * 931.494)**2)\n",
    "    \n",
    "    # Energy change from rest energy\n",
    "    delta_energy_mev = total_energy_mev - rider_energy_mev\n",
    "    energies.append(delta_energy_mev)\n",
    "\n",
    "# Convert to GeV for plotting (matching original)\n",
    "delta_e_gev = np.array(energies) / 1000.0\n",
    "\n",
    "# Create professional plot\n",
    "fig, ax = plt.subplots(figsize=(6, 5))\n",
    "ax.scatter(z_positions, delta_e_gev, s=40, alpha=0.7, color='blue')\n",
    "ax.set_ylabel(r\"$\\Delta$ E [GeV]\")\n",
    "ax.set_xlabel(r\"z [mm]\")\n",
    "ax.set_title(\"Rider Energy Evolution\")\n",
    "ax.grid(True, alpha=0.3)\n",
    "plt.tight_layout()\n",
    "plt.show()\n",
    "\n",
    "print(f\"✅ Rider plot generated: {len(z_positions)} data points\")\n",
    "print(f\"   Energy range: {delta_e_gev.min():.6f} to {delta_e_gev.max():.6f} GeV\")"
   ]
  },
  {
   "cell_type": "code",
   "execution_count": 6,
   "id": "fdd7b3d3",
   "metadata": {},
   "outputs": [
    {
     "data": {
      "image/png": "[encoded data removed]",
      "text/plain": [
       "<Figure size 600x500 with 1 Axes>"
      ]
     },
     "metadata": {},
     "output_type": "display_data"
    },
    {
     "name": "stdout",
     "output_type": "stream",
     "text": [
      "✅ Driver plot generated: 1001 data points\n",
      "   Energy range: 7361083412288121245532160.000000 to 7361083412288121245532160.000000 GeV\n",
      "\n",
      "📊 SIMULATION SUMMARY:\n",
      "   Integration time: 4.28 seconds\n",
      "   Rider trajectory: 1001 steps, Δz = 4039867118114861224034304.00 mm\n",
      "   Driver trajectory: 1001 steps, Δz = -94802823478689415168.00 mm\n",
      "   ✅ Professional two-particle simulation completed successfully!\n"
     ]
    }
   ],
   "source": [
    "# Generate Second Plot - Driver Energy Evolution (ΔE vs z)\n",
    "\n",
    "# Extract plotting data for driver (first particle from each trajectory point)  \n",
    "z_positions_driver = [traj['z'][0] for traj in driver_trajectory]  # mm, first particle\n",
    "energies_driver = []\n",
    "\n",
    "for traj in driver_trajectory:\n",
    "    # Calculate total energy for driver particle\n",
    "    Px, Py, Pz = traj['Px'][0], traj['Py'][0], traj['Pz'][0]\n",
    "    mass_amu = traj['m'][0]\n",
    "    \n",
    "    # Convert momentum to energy (matching original calculation)\n",
    "    momentum_total = np.sqrt(Px**2 + Py**2 + Pz**2)\n",
    "    total_energy_mev = np.sqrt((momentum_total * c_ms * 1e-6)**2 + (mass_amu * 931.494)**2)\n",
    "    \n",
    "    # Energy change from rest energy\n",
    "    delta_energy_mev = total_energy_mev - driver_energy_mev\n",
    "    energies_driver.append(delta_energy_mev)\n",
    "\n",
    "# Convert to GeV for plotting (matching original)\n",
    "delta_e_gev_driver = np.array(energies_driver) / 1000.0\n",
    "\n",
    "# Create professional plot\n",
    "fig, ax = plt.subplots(figsize=(6, 5))\n",
    "ax.scatter(z_positions_driver, delta_e_gev_driver, s=40, alpha=0.7, color='red')\n",
    "ax.set_ylabel(r\"$\\Delta$ E [GeV]\")\n",
    "ax.set_xlabel(r\"z [mm]\")\n",
    "ax.set_title(\"Driver Energy Evolution\")\n",
    "ax.grid(True, alpha=0.3)\n",
    "plt.tight_layout()\n",
    "plt.show()\n",
    "\n",
    "print(f\"✅ Driver plot generated: {len(z_positions_driver)} data points\")\n",
    "print(f\"   Energy range: {delta_e_gev_driver.min():.6f} to {delta_e_gev_driver.max():.6f} GeV\")\n",
    "\n",
    "# Summary\n",
    "print(f\"\\n📊 SIMULATION SUMMARY:\")\n",
    "print(f\"   Integration time: {integration_time:.2f} seconds\")\n",
    "print(f\"   Rider trajectory: {len(rider_trajectory)} steps, Δz = {z_positions[-1] - z_positions[0]:.2f} mm\")\n",
    "print(f\"   Driver trajectory: {len(driver_trajectory)} steps, Δz = {z_positions_driver[-1] - z_positions_driver[0]:.2f} mm\")\n",
    "print(f\"   ✅ Professional two-particle simulation completed successfully!\")"
   ]
  }
 ],
 "metadata": {
  "kernelspec": {
   "display_name": ".venv",
   "language": "python",
   "name": "python3"
  },
  "language_info": {
   "codemirror_mode": {
    "name": "ipython",
    "version": 3
   },
   "file_extension": ".py",
   "mimetype": "text/x-python",
   "name": "python",
   "nbconvert_exporter": "python",
   "pygments_lexer": "ipython3",
   "version": "3.13.7"
  }
 },
 "nbformat": 4,
 "nbformat_minor": 5
}
