{
 "cells": [
  {
   "cell_type": "code",
   "execution_count": null,
   "id": "782335bb-405e-4969-8752-ec5817eef307",
   "metadata": {
    "metadata": {},
    "tags": []
   },
   "outputs": [],
   "source": [
    "from covariant_integrator_library import *\n",
    "from bunch_inits import *\n",
    "from plotting_variables import *\n",
    "\n",
    "font_size = 16\n",
    "# Update the rcParams dictionary to set the font size globally\n",
    "plt.rcParams.update({'font.size': font_size})"
   ]
  },
  {
   "cell_type": "code",
   "execution_count": null,
   "id": "43c45df3",
   "metadata": {
    "metadata": {}
   },
   "outputs": [],
   "source": [
    "c_ms = 299792458\n",
    "\n",
    "transv_dist = 1e-4\n",
    "\n",
    "m_particle_rider = 1.007319468  #proton -amu\n",
    "#m_particle_driver = 207.2 #lead, amu\n",
    "m_particle_driver = 199.96 # gold\n",
    "#m_particle = 0.0005485   #electron -amu\n",
    "#m_particle_driver = 315 #gold hexafloride, amu\n",
    "\n",
    "stripped_ions_rider = 1.\n",
    "stripped_ions_driver = 79.\n",
    "charge_sign_rider= 1.\n",
    "charge_sign_driver = 1.\n",
    "Pz_list = np.linspace(9.584300885e5,9.584295e4,30)\n",
    "min_dE_MeVs_rider = []\n",
    "min_dE_MeVs_driver = []\n",
    "fracs_E_rider = []\n",
    "fracs_E_driver = []\n",
    "gams = []\n",
    "gams_drv = []\n",
    "bets = []\n",
    "bets_drv = []\n",
    "        \n",
    "for i in range(0,len(Pz_list)):\n",
    "#for i in range(0,1):\n",
    "        #Pz_list = np.linspace(9.584300885e5,9.584295e4,30)\n",
    "        Pz_list = np.linspace(1.28e6,9.584295e4,30)\n",
    "        \n",
    "        starting_Pz_rider = Pz_list[i]   #3.25E5 corresponds to 1 TeV\n",
    "        \n",
    "        starting_Pz_driver = -starting_Pz_rider/m_particle_driver*m_particle_rider  #actually velocity-like, mass factored later\n",
    "        transv_mom_rider = 1e-6   #1e-2 is roughly 10keV scale\n",
    "        transv_mom_driver = transv_mom_rider#*207 # lazy adding lead mass\n",
    "        starting_distance_rider = 1e-3\n",
    "        starting_distance_driver = 100.\n",
    "\n",
    "        sim_type = 2    # type 2 used here, it is for bunch--bunch simulations\n",
    "        pcount_rider = 1    #bunch counts\n",
    "        pcount_driver = 1\n",
    "\n",
    "        init_rider, E_MeV_rest_rider = init_bunch(starting_distance_rider,transv_mom_rider,starting_Pz_rider,stripped_ions_rider,m_particle_rider,transv_dist,pcount_rider,charge_sign_rider)\n",
    "\n",
    "        init_driver, E_MeV_rest_driver = init_bunch(starting_distance_driver,transv_mom_driver,starting_Pz_driver,stripped_ions_driver,m_particle_driver,-transv_dist,pcount_driver,charge_sign_driver)\n",
    "\n",
    "\n",
    "        #### parameters not used in this test, but required to run integrator\n",
    "        bunch_dist = 1E5   #bunch--bunch distance at which the driver bunch has maximum charge (gaussian mean)\n",
    "        cav_spacing = 1E5  #distance to the subsequent driver bunch\n",
    "        aperture = 1E5 #this parameter reused for bunch-driven gaussian sigma\n",
    "        z_cutoff = 0\n",
    "        wall_pos= 1E5\n",
    "\n",
    "\n",
    "        #coarse initialization\n",
    "        # static_steps = 1#set init_steps equal to tot_steps to test static integrator only\n",
    "        # ret_steps = 25\n",
    "        # step_size = 2e-6\n",
    "\n",
    "        #interaction zone\n",
    "        static_steps = 1\n",
    "        ret_steps = 5500\n",
    "        #step_size = 1e-7 #+ 2.3e-6 / ( (i+1) / (25) )\n",
    "        step_size = 1.8e-8 + (i+1)*6.5e-9 \n",
    "        print(step_size)\n",
    "        \n",
    "        retarded_traj,retarded_drv_traj = retarded_integrator3(static_steps,ret_steps,step_size,wall_pos,aperture,sim_type,init_rider,init_driver,bunch_dist,cav_spacing,z_cutoff)#just use retarded_intergrator2 for retarded calcs\n",
    "        #retarded_traj,retarded_drv_traj = retarded_integrator3(static_steps,ret_steps,step_size,wall_pos,aperture,sim_type,retarded_traj_pre[-1],retarded_drv_traj_pre[-1],bunch_dist,cav_spacing,z_cutoff)#just use retarded_intergrator2 for retarded calcs\n",
    "        #retarded_traj,retarded_drv_traj = retarded_traj2,retarded_drv_traj2\n",
    "\n",
    "        delta_e, delta_e_drv, tot_e, tot_e_drv, delta_e_keV, delta_e_MeV, tot_e_GeV, delta_e_keV_drv, delta_e_MeV_drv, tot_e_GeV_drv, zs, xs, zs_drv, xs_drv, bzs, bxs, bys, bdotxs, bdotys, bdotzs, Pzs, Pxs, Pys, Pts, gammas, tees, bzs_drv, bxs_drv, bys_drv, bdotxs_drv, bdotys_drv, bdotzs_drv, Pzs_drv, Pxs_drv, Pys_drv, Pts_drv, gammas_drv, tees_drv, qs_drv, gam_fixed, bdotzs_seconds, q_statC_squared, q_kg_m3_sneg2, Pows_z_rider_watts = calculate_plotting_variables(retarded_traj,\n",
    "        retarded_drv_traj, init_rider, init_driver, static_steps, ret_steps, E_MeV_rest_rider, E_MeV_rest_driver, c_ms)\n",
    "        min_dE_MeVs_rider = np.append(min_dE_MeVs_rider,np.min(delta_e_MeV))\n",
    "        min_dE_MeVs_driver = np.append(min_dE_MeVs_driver,np.min(delta_e_MeV_drv))\n",
    "        # max_dE_MeVs_rider = np.append(max_dE_MeVs_rider,np.max(np.abs(delta_e_MeV)))\n",
    "        # max_dE_MeVs_driver = np.append(max_dE_MeVs_driver,np.max(np.abs(delta_e_MeV_drv)))\n",
    "        print(zs[-1])\n",
    "        frac_E_rider = np.divide(np.min(tot_e),tot_e[0])\n",
    "        frac_E_driver = np.divide(np.min(tot_e_drv),tot_e_drv[0])\n",
    "        fracs_E_rider = np.append(fracs_E_rider,frac_E_rider)\n",
    "        fracs_E_driver = np.append(fracs_E_driver,frac_E_driver)\n",
    "        print(\"driver fractional energy shift\", fracs_E_driver)\n",
    "        print(\"rider fractional energy shift\", fracs_E_rider)\n",
    "        gams = np.append(gams,gammas[0])\n",
    "        gams_drv = np.append(gams_drv,gammas_drv[0])\n",
    "        bets = np.append(bets,bzs[0])\n",
    "        bets_drv = np.append(bets_drv,bzs_drv[0])\n",
    "\n",
    "        fig = plt.figure(figsize=(6,5))\n",
    "        ax = fig.add_subplot(1, 1, 1) \n",
    "        ax.scatter(zs,delta_e_MeV/1000,s=40)\n",
    "        #ax.scatter(zs_drv,delta_e_MeV_drv,s=40)\n",
    "        #ax.scatter(tees,np.abs(np.multiply(qs_drv,1E-2)),s=40)\n",
    "        ax.set_ylabel(r\"$\\Delta$ E [GeV]\")\n",
    "        ax.set_xlabel(r\"z [mm]\")\n",
    "        #ax.axvline(30,color='g',label=\"wall paosition\")\n",
    "        #plt.xlim(starting_distance_rider/2,3)\n",
    "        #plt.ylim(1E-2,2e3)\n",
    "        #plt.xscale('log')  #log scale works at 1mm range\n",
    "        #plt.yscale('log')\n",
    "        plt.title(\"Rider\")\n",
    "        plt.tight_layout()\n",
    "        #plt.savefig(\"./6.26_prot_antiprot_10nm.png\",dpi=600)\n",
    "        plt.show()\n",
    "\n",
    "        fig = plt.figure(figsize=(6,5))\n",
    "        ax = fig.add_subplot(1, 1, 1) \n",
    "        #ax.scatter(zs,delta_e_MeV,s=40)\n",
    "        ax.scatter(zs_drv,delta_e_MeV_drv/1000,s=40)\n",
    "        #ax.scatter(zs_drv,np.abs(delta_e_MeV_drv/1000),s=40)  #for log plotting\n",
    "        #ax.scatter(tees,np.abs(np.multiply(qs_drv,1E-2)),s=40)\n",
    "        ax.set_ylabel(r\"$\\Delta$ E [GeV]\")\n",
    "        #ax.set_xlabel(r\"z [mm]\")\n",
    "        #ax.axvline(30,color='g',label=\"wall paosition\")\n",
    "        #plt.xlim(-0.54,0.01)\n",
    "        #plt.ylim(1E-5,5e3)\n",
    "        #plt.xscale('log')\n",
    "        #plt.yscale('log')\n",
    "        plt.title(\"Driver\")\n",
    "        plt.tight_layout()\n",
    "        #plt.savefig(\"./6.26_prot_antiprot_10nm.png\",dpi=600)\n",
    "        plt.show()\n",
    "\n",
    "\n",
    "\n"
   ]
  },
  {
   "cell_type": "code",
   "execution_count": null,
   "id": "7f8b8651",
   "metadata": {},
   "outputs": [],
   "source": [
    "amu_kg = 1.66053907E-27\n",
    "c_ms = 299792458 # Speed of light in m/s\n",
    "mass_kg = m_particle_driver*amu_kg\n",
    "vz_mmns = Pz_list/(m_particle_driver*gammas_drv[0]) #NOT mass_kg here\n",
    "vz_ms = vz_mmns*1e6\n",
    "Pz_kgms  = vz_ms*mass_kg*gammas_drv[0]\n",
    "E_J     = Pz_kgms*c_ms\n",
    "E_MeV_drv = E_J*6.242E12"
   ]
  },
  {
   "cell_type": "code",
   "execution_count": null,
   "id": "47595e6e",
   "metadata": {},
   "outputs": [],
   "source": [
    "amu_kg = 1.66053907E-27\n",
    "c_ms = 299792458 # Speed of light in m/s\n",
    "mass_kg = m_particle_rider*amu_kg\n",
    "vz_mmns = Pz_list/(m_particle_rider*gammas[0]) #NOT mass_kg here\n",
    "vz_ms = vz_mmns*1e6\n",
    "Pz_kgms  = vz_ms*mass_kg*gammas[0]\n",
    "E_J     = Pz_kgms*c_ms\n",
    "E_MeV = E_J*6.242E12"
   ]
  },
  {
   "cell_type": "markdown",
   "id": "701cee84",
   "metadata": {},
   "source": [
    "#### The following are for generating $\\gamma \\beta$ values to input into warpX"
   ]
  },
  {
   "cell_type": "code",
   "execution_count": null,
   "id": "804e2a4b",
   "metadata": {},
   "outputs": [],
   "source": [
    "gams"
   ]
  },
  {
   "cell_type": "code",
   "execution_count": null,
   "id": "038a1f7d",
   "metadata": {},
   "outputs": [],
   "source": [
    "gams_drv"
   ]
  },
  {
   "cell_type": "code",
   "execution_count": null,
   "id": "c96d0e9b",
   "metadata": {},
   "outputs": [],
   "source": [
    "gambets = np.multiply(bets,gams)"
   ]
  },
  {
   "cell_type": "code",
   "execution_count": null,
   "id": "c7ae134e",
   "metadata": {},
   "outputs": [],
   "source": [
    "gambets_drv = np.multiply(bets_drv,gams_drv)"
   ]
  },
  {
   "cell_type": "code",
   "execution_count": null,
   "id": "05cacb3d",
   "metadata": {},
   "outputs": [],
   "source": [
    "gambets"
   ]
  },
  {
   "cell_type": "code",
   "execution_count": null,
   "id": "61b4d696",
   "metadata": {},
   "outputs": [],
   "source": [
    "-gambets_drv"
   ]
  },
  {
   "cell_type": "markdown",
   "id": "080df797",
   "metadata": {},
   "source": [
    "### The outputs from the warpX gamma_parser.py should then be copied in the following cell"
   ]
  },
  {
   "cell_type": "code",
   "execution_count": null,
   "id": "c48d394c",
   "metadata": {},
   "outputs": [],
   "source": [
    "# warpx_gams_start = [ 2.14319839,  2.6925824 ,  3.29539072,  3.92937654,  4.57853951,\n",
    "#         5.2353912 ,  5.89543043,  6.56658968,  7.23900298,  7.91284275,\n",
    "#         8.58841662,  9.26611807,  9.94440727, 10.62416721, 11.30431776,\n",
    "#        11.98568927, 12.66743298, 13.3492081 , 14.03167802, 14.71392076,\n",
    "#        15.39251766, 16.07972518, 16.76309578, 17.44648265, 17.44648265,\n",
    "#        18.81359532, 19.49756112, 20.18159028, 20.86497738, 21.52324325]\n",
    "# warpx_gams_end = [2.14318595, 2.69247419, 3.29485617, 3.92749946, 4.57327266,\n",
    "#        5.22276232, 5.86846043, 6.5137032 , 7.1423231 , 7.74583133,\n",
    "#        8.31308817, 8.8306488 , 9.27611119, 9.63070017, 9.86655037,\n",
    "#        9.95740042, 9.86483241, 9.56953213, 9.05871631, 8.36536942,\n",
    "#        7.62706562, 7.1645092 , 7.34463443, 8.02875736, 8.47087247,\n",
    "#        9.03924486, 8.99683391, 9.11264007, 8.63744243, 8.36312382]\n",
    "# warpx_gams_end = [2.14318595, 2.69247419, 3.29485617, 3.92749946, 4.57327266,\n",
    "# 5.22276232, 5.86846043, 6.5137032 , 7.1423231 , 7.74583133,\n",
    "# 8.31308817, 8.8306488 , 9.27611119, 9.63070017, 9.86655037,\n",
    "# 9.95740042, 9.86483241, 9.56953213, 9.05871631, 8.36536942,\n",
    "# 7.62706562, 7.1645092 , 7.34463443, 8.02875736, 8.47087247,\n",
    "# 9.03924486, 8.99683391, 9.11264007, 8.63744243, 6.02]\n",
    "\n",
    "\n",
    "warpx_gams_start = [15.36448143, 16.0488535 , 16.733235  , 17.41776359, 18.10230205,\n",
    "       18.78690475, 19.47189539, 20.15682568, 20.8419969 , 21.52743286]\n",
    "warpx_gams_end = [ 8.38670602,  7.12206936,  5.60977295,  4.27445532,  4.44476514,\n",
    "        6.78895919,  9.13898241, 12.34485472, 13.41061135, 15.09808454]"
   ]
  },
  {
   "cell_type": "code",
   "execution_count": null,
   "id": "1e844449",
   "metadata": {},
   "outputs": [],
   "source": [
    "# fracs_E_driver_warpx = np.flip(np.divide(warpx_gams_end, warpx_gams_start))\n",
    "fracs_E_driver_warpx = (np.divide(warpx_gams_end, warpx_gams_start))"
   ]
  },
  {
   "cell_type": "code",
   "execution_count": null,
   "id": "edfb1c9d",
   "metadata": {},
   "outputs": [],
   "source": [
    "fracs_E_driver_warpx"
   ]
  },
  {
   "cell_type": "code",
   "execution_count": null,
   "id": "63e76ae1",
   "metadata": {},
   "outputs": [],
   "source": [
    "E_MeV_drv[0:10]/1e6"
   ]
  },
  {
   "cell_type": "code",
   "execution_count": null,
   "id": "d5fb7357",
   "metadata": {},
   "outputs": [],
   "source": [
    "fig = plt.figure(figsize=(6,5))\n",
    "ax = fig.add_subplot(1, 1, 1) \n",
    "#ax.scatter(zs,delta_e_MeV,s=40)\n",
    "ax.scatter(E_MeV_drv/1e6,np.abs(fracs_E_driver-1)*100,s=60,label=\"Covariant/LW\",alpha=0.95)\n",
    "ax.scatter(E_MeV_drv[0:10]/1e6,np.abs(fracs_E_driver_warpx-1)*100,s=60,marker='h',label=\"WarpX\",alpha=0.95)\n",
    "\n",
    "#ax.scatter(E_MeV/1e6,np.abs(fracs_E_rider-1)*100,s=40,label=\"p\")\n",
    "#ax.scatter(zs_drv,np.abs(delta_e_MeV_drv/1000),s=40)  #for log plotting\n",
    "#ax.scatter(tees,np.abs(np.multiply(qs_drv,1E-2)),s=40)\n",
    "ax.set_ylabel(r\"% Kinetic Energy Loss for Au\")\n",
    "ax.set_xlabel(r\"Starting Energy [TeV]\")\n",
    "#ax.axvline(30,color='g',label=\"wall paosition\")\n",
    "#plt.xlim(-0.54,0.01)\n",
    "#plt.ylim(1E-5,5e3)\n",
    "#plt.xscale('log')\n",
    "plt.legend()\n",
    "plt.yscale('log')\n",
    "#plt.title(\"p$-$Au @ d$_T$=100nm\")\n",
    "plt.tight_layout()\n",
    "#plt.savefig(\"./p_Au_energy_dependent.png\",dpi=600)\n",
    "plt.show()"
   ]
  },
  {
   "cell_type": "code",
   "execution_count": null,
   "id": "253f8578",
   "metadata": {},
   "outputs": [],
   "source": []
  },
  {
   "cell_type": "code",
   "execution_count": null,
   "id": "dad2480a",
   "metadata": {},
   "outputs": [],
   "source": [
    "(1.06-0.963)/1.06"
   ]
  },
  {
   "cell_type": "code",
   "execution_count": null,
   "id": "bfc39586",
   "metadata": {},
   "outputs": [],
   "source": [
    "fracs_E_driver"
   ]
  },
  {
   "cell_type": "code",
   "execution_count": null,
   "id": "4d692e3d",
   "metadata": {},
   "outputs": [],
   "source": [
    "fracs_E_rider"
   ]
  },
  {
   "cell_type": "code",
   "execution_count": null,
   "id": "c3c086e4",
   "metadata": {},
   "outputs": [],
   "source": [
    "np.append(max_dE_MeVs_driver,1)"
   ]
  },
  {
   "cell_type": "code",
   "execution_count": null,
   "id": "5582d4ff",
   "metadata": {},
   "outputs": [],
   "source": [
    "fig = plt.figure(figsize=(6,5))\n",
    "ax = fig.add_subplot(1, 1, 1) \n",
    "ax.scatter(zs,delta_e_MeV/1000,s=40)\n",
    "#ax.scatter(zs_drv,delta_e_MeV_drv,s=40)\n",
    "#ax.scatter(tees,np.abs(np.multiply(qs_drv,1E-2)),s=40)\n",
    "ax.set_ylabel(r\"$\\Delta$ E [GeV]\")\n",
    "ax.set_xlabel(r\"z [mm]\")\n",
    "#ax.axvline(30,color='g',label=\"wall paosition\")\n",
    "#plt.xlim(starting_distance_rider/2,3)\n",
    "#plt.ylim(1E-2,2e3)\n",
    "#plt.xscale('log')  #log scale works at 1mm range\n",
    "#plt.yscale('log')\n",
    "plt.title(\"Rider\")\n",
    "plt.tight_layout()\n",
    "#plt.savefig(\"./6.26_prot_antiprot_10nm.png\",dpi=600)\n",
    "plt.show()\n",
    "\n",
    "fig = plt.figure(figsize=(6,5))\n",
    "ax = fig.add_subplot(1, 1, 1) \n",
    "#ax.scatter(zs,delta_e_MeV,s=40)\n",
    "ax.scatter(zs_drv,delta_e_MeV_drv/1000,s=40)\n",
    "#ax.scatter(zs_drv,np.abs(delta_e_MeV_drv/1000),s=40)  #for log plotting\n",
    "#ax.scatter(tees,np.abs(np.multiply(qs_drv,1E-2)),s=40)\n",
    "ax.set_ylabel(r\"$\\Delta$ E [GeV]\")\n",
    "#ax.set_xlabel(r\"z [mm]\")\n",
    "#ax.axvline(30,color='g',label=\"wall paosition\")\n",
    "#plt.xlim(-0.54,0.01)\n",
    "#plt.ylim(1E-5,5e3)\n",
    "#plt.xscale('log')\n",
    "#plt.yscale('log')\n",
    "plt.title(\"Driver\")\n",
    "plt.tight_layout()\n",
    "#plt.savefig(\"./6.26_prot_antiprot_10nm.png\",dpi=600)\n",
    "plt.show()\n",
    "\n"
   ]
  },
  {
   "cell_type": "code",
   "execution_count": null,
   "id": "9ce60c57",
   "metadata": {},
   "outputs": [],
   "source": [
    "fig = plt.figure(figsize=(6,5))\n",
    "ax = fig.add_subplot(1, 1, 1) \n",
    "#ax.scatter(zs,delta_e_MeV,s=40)\n",
    "ax.scatter(zs_drv,delta_e_MeV_drv/1000,s=40)\n",
    "#ax.scatter(zs_drv,np.abs(delta_e_MeV_drv/1000),s=40)  #for log plotting\n",
    "#ax.scatter(tees,np.abs(np.multiply(qs_drv,1E-2)),s=40)\n",
    "ax.set_ylabel(r\"$\\Delta$ E [GeV]\")\n",
    "#ax.set_xlabel(r\"z [mm]\")\n",
    "#ax.axvline(30,color='g',label=\"wall paosition\")\n",
    "#plt.xlim(-0.54,0.01)\n",
    "#plt.ylim(1E-5,5e3)\n",
    "#plt.xscale('log')\n",
    "#plt.yscale('log')\n",
    "plt.title(\"Driver\")\n",
    "plt.tight_layout()\n",
    "#plt.savefig(\"./6.26_prot_antiprot_10nm.png\",dpi=600)\n",
    "plt.show()\n",
    "\n"
   ]
  },
  {
   "cell_type": "code",
   "execution_count": null,
   "id": "34c69c8e",
   "metadata": {},
   "outputs": [],
   "source": [
    "10/3000*100"
   ]
  },
  {
   "cell_type": "code",
   "execution_count": null,
   "id": "af48a3b6",
   "metadata": {},
   "outputs": [],
   "source": []
  },
  {
   "cell_type": "code",
   "execution_count": null,
   "id": "a242c1ff",
   "metadata": {},
   "outputs": [],
   "source": [
    "bets"
   ]
  },
  {
   "cell_type": "code",
   "execution_count": null,
   "id": "045e0576",
   "metadata": {},
   "outputs": [],
   "source": [
    "bets_drv"
   ]
  },
  {
   "cell_type": "code",
   "execution_count": null,
   "id": "62003686",
   "metadata": {
    "metadata": {}
   },
   "outputs": [],
   "source": [
    "fig = plt.figure(figsize=(6,5))\n",
    "ax = fig.add_subplot(1, 1, 1) \n",
    "ax.scatter(zs,delta_e_MeV/1000,s=40)\n",
    "#ax.scatter(zs_drv,delta_e_MeV_drv,s=40)\n",
    "#ax.scatter(tees,np.abs(np.multiply(qs_drv,1E-2)),s=40)\n",
    "ax.set_ylabel(r\"$\\Delta$ E [GeV]\")\n",
    "ax.set_xlabel(r\"z [mm]\")\n",
    "#ax.axvline(30,color='g',label=\"wall paosition\")\n",
    "#plt.xlim(starting_distance_rider/2,3)\n",
    "#plt.ylim(1E-2,2e3)\n",
    "#plt.xscale('log')  #log scale works at 1mm range\n",
    "#plt.yscale('log')\n",
    "plt.title(\"Rider\")\n",
    "plt.tight_layout()\n",
    "#plt.savefig(\"./6.26_prot_antiprot_10nm.png\",dpi=600)\n",
    "plt.show()"
   ]
  },
  {
   "cell_type": "code",
   "execution_count": null,
   "id": "543786ea",
   "metadata": {
    "metadata": {}
   },
   "outputs": [],
   "source": [
    "fig = plt.figure(figsize=(6,5))\n",
    "ax = fig.add_subplot(1, 1, 1) \n",
    "#ax.scatter(zs,delta_e_MeV,s=40)\n",
    "ax.scatter(zs_drv,delta_e_MeV_drv/1000,s=40)\n",
    "#ax.scatter(zs_drv,np.abs(delta_e_MeV_drv/1000),s=40)  #for log plotting\n",
    "#ax.scatter(tees,np.abs(np.multiply(qs_drv,1E-2)),s=40)\n",
    "ax.set_ylabel(r\"$\\Delta$ E [GeV]\")\n",
    "#ax.set_xlabel(r\"z [mm]\")\n",
    "#ax.axvline(30,color='g',label=\"wall paosition\")\n",
    "#plt.xlim(-0.54,0.01)\n",
    "#plt.ylim(1E-5,5e3)\n",
    "#plt.xscale('log')\n",
    "#plt.yscale('log')\n",
    "plt.title(\"Driver\")\n",
    "plt.tight_layout()\n",
    "#plt.savefig(\"./6.26_prot_antiprot_10nm.png\",dpi=600)\n",
    "plt.show()\n",
    "\n"
   ]
  },
  {
   "cell_type": "code",
   "execution_count": null,
   "id": "8efc017e",
   "metadata": {
    "metadata": {}
   },
   "outputs": [],
   "source": [
    "fig = plt.figure(figsize=(6,5))\n",
    "ax = fig.add_subplot(1, 1, 1) \n",
    "ax.scatter(zs,Pzs,s=40)\n",
    "#ax.scatter(tees,np.abs(np.multiply(qs_drv,1E-2)),s=40)\n",
    "ax.set_ylabel(r\"Pz\")\n",
    "ax.set_xlabel(r\"z [mm]\")\n",
    "#ax.axvline(30,color='g',label=\"wall paosition\")\n",
    "#plt.xlim(-315,45)\n",
    "#plt.yscale('log')\n",
    "plt.tight_layout()\n",
    "#plt.savefig(\"/home/benfolsom/notebooks/cov_ret_prab_figures/6.15_35MeV_electron_pinholev1.png\",dpi=600)\n",
    "plt.show()\n",
    "\n",
    "\n",
    "fig = plt.figure(figsize=(6,5))\n",
    "ax = fig.add_subplot(1, 1, 1) \n",
    "ax.scatter(zs_drv,Pzs_drv,s=40)\n",
    "#ax.scatter(tees,np.abs(np.multiply(qs_drv,1E-2)),s=40)\n",
    "ax.set_ylabel(r\"Pz\")\n",
    "ax.set_xlabel(r\"z [mm]\")\n",
    "#ax.axvline(30,color='g',label=\"wall paosition\")\n",
    "#plt.xlim(-315,45)\n",
    "#plt.yscale('log')\n",
    "plt.tight_layout()\n",
    "#plt.savefig(\"/home/benfolsom/notebooks/cov_ret_prab_figures/6.15_35MeV_electron_pinholev1.png\",dpi=600)\n",
    "plt.show()"
   ]
  },
  {
   "cell_type": "code",
   "execution_count": null,
   "id": "89cdaa99",
   "metadata": {
    "metadata": {}
   },
   "outputs": [],
   "source": [
    "fig = plt.figure(figsize=(6,5))\n",
    "ax = fig.add_subplot(1, 1, 1) \n",
    "ax.scatter(zs_drv,zs,s=40)\n",
    "#ax.scatter(tees,np.abs(np.multiply(qs_drv,1E-2)),s=40)\n",
    "ax.set_ylabel(r\"zs\")\n",
    "ax.set_xlabel(r\"zs_drv [mm]\")\n",
    "#ax.axvline(30,color='g',label=\"wall paosition\")\n",
    "#plt.xlim(-315,45)\n",
    "#plt.ylim(2E-2,5)\n",
    "#plt.yscale('log')\n",
    "plt.tight_layout()\n",
    "#plt.savefig(\"./6.26_prot_antiprot_10nm.png\",dpi=600)\n",
    "plt.show()"
   ]
  },
  {
   "cell_type": "code",
   "execution_count": null,
   "id": "428112a4",
   "metadata": {},
   "outputs": [],
   "source": []
  },
  {
   "cell_type": "code",
   "execution_count": null,
   "id": "a6e6b041",
   "metadata": {},
   "outputs": [],
   "source": []
  },
  {
   "cell_type": "code",
   "execution_count": null,
   "id": "c5530bff",
   "metadata": {},
   "outputs": [],
   "source": []
  },
  {
   "cell_type": "code",
   "execution_count": null,
   "id": "38b23e34",
   "metadata": {},
   "outputs": [],
   "source": []
  },
  {
   "cell_type": "markdown",
   "id": "060c03dc",
   "metadata": {},
   "source": [
    "### Various other plots"
   ]
  },
  {
   "cell_type": "code",
   "execution_count": null,
   "id": "23cfa94f",
   "metadata": {
    "metadata": {}
   },
   "outputs": [],
   "source": [
    "fig = plt.figure(figsize=(6,5))\n",
    "ax = fig.add_subplot(1, 1, 1) \n",
    "ax.scatter(zs,Pts,s=40)\n",
    "#ax.scatter(tees,np.abs(np.multiply(qs_drv,1E-2)),s=40)\n",
    "ax.set_ylabel(r\"Pt\")\n",
    "ax.set_xlabel(r\"z [mm]\")\n",
    "#ax.axvline(30,color='g',label=\"wall paosition\")\n",
    "#plt.xlim(-315,45)\n",
    "#plt.yscale('log')\n",
    "plt.tight_layout()\n",
    "#plt.savefig(\"/home/benfolsom/notebooks/cov_ret_prab_figures/6.15_35MeV_electron_pinholev1.png\",dpi=600)\n",
    "plt.show()\n",
    "\n",
    "\n",
    "fig = plt.figure(figsize=(6,5))\n",
    "ax = fig.add_subplot(1, 1, 1) \n",
    "ax.scatter(zs_drv,Pts_drv,s=40)\n",
    "#ax.scatter(tees,np.abs(np.multiply(qs_drv,1E-2)),s=40)\n",
    "ax.set_ylabel(r\"Pt_drv\")\n",
    "ax.set_xlabel(r\"z [mm]\")\n",
    "#ax.axvline(30,color='g',label=\"wall paosition\")\n",
    "#plt.xlim(-315,45)\n",
    "#plt.yscale('log')\n",
    "plt.tight_layout()\n",
    "#plt.savefig(\"/home/benfolsom/notebooks/cov_ret_prab_figures/6.15_35MeV_electron_pinholev1.png\",dpi=600)\n",
    "plt.show()"
   ]
  },
  {
   "cell_type": "code",
   "execution_count": null,
   "id": "a109ce66",
   "metadata": {},
   "outputs": [],
   "source": [
    "fig = plt.figure(figsize=(6,5))\n",
    "ax = fig.add_subplot(1, 1, 1) \n",
    "ax.scatter(zs,Pys,s=40)\n",
    "#ax.scatter(tees,np.abs(np.multiply(qs_drv,1E-2)),s=40)\n",
    "ax.set_ylabel(r\"Pys\")\n",
    "ax.set_xlabel(r\"z [mm]\")\n",
    "#ax.axvline(30,color='g',label=\"wall paosition\")\n",
    "#plt.xlim(-315,45)\n",
    "#plt.yscale('log')\n",
    "plt.tight_layout()\n",
    "#plt.savefig(\"/home/benfolsom/notebooks/cov_ret_prab_figures/6.15_35MeV_electron_pinholev1.png\",dpi=600)\n",
    "plt.show()\n",
    "\n",
    "\n",
    "fig = plt.figure(figsize=(6,5))\n",
    "ax = fig.add_subplot(1, 1, 1) \n",
    "ax.scatter(zs_drv,Pys_drv,s=40)\n",
    "#ax.scatter(tees,np.abs(np.multiply(qs_drv,1E-2)),s=40)\n",
    "ax.set_ylabel(r\"Pys_drv\")\n",
    "ax.set_xlabel(r\"z [mm]\")\n",
    "#ax.axvline(30,color='g',label=\"wall paosition\")\n",
    "#plt.xlim(-315,45)\n",
    "#plt.yscale('log')\n",
    "plt.tight_layout()\n",
    "#plt.savefig(\"/home/benfolsom/notebooks/cov_ret_prab_figures/6.15_35MeV_electron_pinholev1.png\",dpi=600)\n",
    "plt.show()"
   ]
  },
  {
   "cell_type": "code",
   "execution_count": null,
   "id": "c127a071",
   "metadata": {},
   "outputs": [],
   "source": [
    "fig = plt.figure(figsize=(6,5))\n",
    "ax = fig.add_subplot(1, 1, 1) \n",
    "ax.scatter(zs,Pxs,s=40)\n",
    "#ax.scatter(tees,np.abs(np.multiply(qs_drv,1E-2)),s=40)\n",
    "ax.set_ylabel(r\"Pxs\")\n",
    "ax.set_xlabel(r\"z [mm]\")\n",
    "#ax.axvline(30,color='g',label=\"wall paosition\")\n",
    "#plt.xlim(-315,45)\n",
    "#plt.yscale('log')\n",
    "plt.tight_layout()\n",
    "#plt.savefig(\"/home/benfolsom/notebooks/cov_ret_prab_figures/6.15_35MeV_electron_pinholev1.png\",dpi=600)\n",
    "plt.show()\n",
    "\n",
    "\n",
    "fig = plt.figure(figsize=(6,5))\n",
    "ax = fig.add_subplot(1, 1, 1) \n",
    "ax.scatter(zs_drv,Pxs_drv,s=40)\n",
    "#ax.scatter(tees,np.abs(np.multiply(qs_drv,1E-2)),s=40)\n",
    "ax.set_ylabel(r\"Pxs_drv\")\n",
    "ax.set_xlabel(r\"z [mm]\")\n",
    "#ax.axvline(30,color='g',label=\"wall paosition\")\n",
    "#plt.xlim(-315,45)\n",
    "#plt.yscale('log')\n",
    "plt.tight_layout()\n",
    "#plt.savefig(\"/home/benfolsom/notebooks/cov_ret_prab_figures/6.15_35MeV_electron_pinholev1.png\",dpi=600)\n",
    "plt.show()"
   ]
  },
  {
   "cell_type": "code",
   "execution_count": null,
   "id": "0eec4e44-093d-4720-ae97-70c5cece2bf7",
   "metadata": {
    "metadata": {},
    "tags": []
   },
   "outputs": [],
   "source": [
    "fig = plt.figure(figsize=(6,5))\n",
    "ax = fig.add_subplot(1, 1, 1) \n",
    "ax.scatter(zs,gammas,s=40)\n",
    "#ax.scatter(tees,np.abs(np.multiply(qs_drv,1E-2)),s=40)\n",
    "ax.set_ylabel(r\"gammas [mm]\")\n",
    "ax.set_xlabel(r\"z [mm]\")\n",
    "#ax.axvline(30,color='g',label=\"wall paosition\")\n",
    "#plt.xlim(-315,45)\n",
    "#plt.yscale('log')\n",
    "plt.tight_layout()\n",
    "#plt.savefig(\"/home/benfolsom/notebooks/cov_ret_prab_figures/6.15_35MeV_electron_pinholev1.png\",dpi=600)\n",
    "plt.show()\n",
    "\n",
    "\n",
    "fig = plt.figure(figsize=(6,5))\n",
    "ax = fig.add_subplot(1, 1, 1) \n",
    "ax.scatter(zs_drv,gammas_drv,s=40)\n",
    "#ax.scatter(tees,np.abs(np.multiply(qs_drv,1E-2)),s=40)\n",
    "ax.set_ylabel(r\"gammas_drvs [mm]\")\n",
    "ax.set_xlabel(r\"z [mm]\")\n",
    "#ax.axvline(30,color='g',label=\"wall paosition\")\n",
    "#plt.xlim(-315,45)\n",
    "#plt.yscale('log')\n",
    "plt.tight_layout()\n",
    "#plt.savefig(\"/home/benfolsom/notebooks/cov_ret_prab_figures/6.15_35MeV_electron_pinholev1.png\",dpi=600)\n",
    "plt.show()"
   ]
  },
  {
   "cell_type": "code",
   "execution_count": null,
   "id": "831b8afd",
   "metadata": {
    "metadata": {}
   },
   "outputs": [],
   "source": [
    "fig = plt.figure(figsize=(6,5))\n",
    "ax = fig.add_subplot(1, 1, 1) \n",
    "ax.scatter(zs,bzs,s=40)\n",
    "#ax.scatter(tees,np.abs(np.multiply(qs_drv,1E-2)),s=40)\n",
    "ax.set_ylabel(r\"bzs [mm]\")\n",
    "ax.set_xlabel(r\"z [mm]\")\n",
    "#ax.axvline(30,color='g',label=\"wall paosition\")\n",
    "#plt.xlim(-315,45)\n",
    "plt.yscale('log')\n",
    "plt.tight_layout()\n",
    "#plt.savefig(\"/home/benfolsom/notebooks/cov_ret_prab_figures/6.15_35MeV_electron_pinholev1.png\",dpi=600)\n",
    "plt.show()\n",
    "\n",
    "\n",
    "fig = plt.figure(figsize=(6,5))\n",
    "ax = fig.add_subplot(1, 1, 1) \n",
    "ax.scatter(zs_drv,np.abs(bzs_drv),s=40)\n",
    "#ax.scatter(tees,np.abs(np.multiply(qs_drv,1E-2)),s=40)\n",
    "ax.set_ylabel(r\"|bzs_drvs| [mm]\")\n",
    "ax.set_xlabel(r\"z [mm]\")\n",
    "#ax.axvline(30,color='g',label=\"wall paosition\")\n",
    "#plt.xlim(-315,45)\n",
    "#plt.yscale('log')\n",
    "plt.tight_layout()\n",
    "#plt.savefig(\"/home/benfolsom/notebooks/cov_ret_prab_figures/6.15_35MeV_electron_pinholev1.png\",dpi=600)\n",
    "plt.show()"
   ]
  },
  {
   "cell_type": "code",
   "execution_count": null,
   "id": "148665a7",
   "metadata": {},
   "outputs": [],
   "source": []
  },
  {
   "cell_type": "code",
   "execution_count": null,
   "id": "7f9bf4f0",
   "metadata": {},
   "outputs": [],
   "source": []
  },
  {
   "cell_type": "code",
   "execution_count": null,
   "id": "c492f6fa",
   "metadata": {},
   "outputs": [],
   "source": []
  },
  {
   "cell_type": "code",
   "execution_count": null,
   "id": "9c292a2e",
   "metadata": {},
   "outputs": [],
   "source": []
  },
  {
   "cell_type": "code",
   "execution_count": null,
   "id": "ce757004",
   "metadata": {},
   "outputs": [],
   "source": []
  },
  {
   "cell_type": "code",
   "execution_count": null,
   "id": "9ef7acfd",
   "metadata": {},
   "outputs": [],
   "source": []
  },
  {
   "cell_type": "code",
   "execution_count": null,
   "id": "67144a48",
   "metadata": {},
   "outputs": [],
   "source": []
  },
  {
   "cell_type": "code",
   "execution_count": null,
   "id": "d88f89c9",
   "metadata": {},
   "outputs": [],
   "source": []
  },
  {
   "cell_type": "code",
   "execution_count": null,
   "id": "7acaa8b8",
   "metadata": {},
   "outputs": [],
   "source": []
  },
  {
   "cell_type": "code",
   "execution_count": null,
   "id": "df157b09",
   "metadata": {},
   "outputs": [],
   "source": []
  },
  {
   "cell_type": "code",
   "execution_count": null,
   "id": "8e48f588",
   "metadata": {},
   "outputs": [],
   "source": []
  },
  {
   "cell_type": "code",
   "execution_count": null,
   "id": "4fae1d24",
   "metadata": {},
   "outputs": [],
   "source": []
  }
 ],
 "metadata": {
  "kernelspec": {
   "display_name": "Python 3",
   "language": "python",
   "name": "python3"
  },
  "language_info": {
   "codemirror_mode": {
    "name": "ipython",
    "version": 3
   },
   "file_extension": ".py",
   "mimetype": "text/x-python",
   "name": "python",
   "nbconvert_exporter": "python",
   "pygments_lexer": "ipython3",
   "version": "3.10.12"
  }
 },
 "nbformat": 4,
 "nbformat_minor": 5
}
