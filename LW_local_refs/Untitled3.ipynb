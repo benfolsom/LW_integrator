{
 "cells": [
  {
   "cell_type": "code",
   "execution_count": 2,
   "metadata": {},
   "outputs": [],
   "source": [
    "using Pkg"
   ]
  },
  {
   "cell_type": "code",
   "execution_count": 3,
   "metadata": {},
   "outputs": [
    {
     "name": "stderr",
     "output_type": "stream",
     "text": [
      "\u001b[32m\u001b[1m   Updating\u001b[22m\u001b[39m registry at `~/.julia/registries/General`\n"
     ]
    },
    {
     "name": "stdout",
     "output_type": "stream",
     "text": [
      "\u001b[?25l    "
     ]
    },
    {
     "name": "stderr",
     "output_type": "stream",
     "text": [
      "\u001b[32m\u001b[1m   Updating\u001b[22m\u001b[39m git-repo `https://github.com/JuliaRegistries/General.git`\n"
     ]
    },
    {
     "name": "stdout",
     "output_type": "stream",
     "text": [
      "\u001b[2K\u001b[?25h[1mFetching:\u001b[22m\u001b[39m [========================================>]  100.0 %[36m\u001b[1mFetching:\u001b[22m\u001b[39m [=====>                                   ]  10.9 %>                              ]  23.4 %]  27.2 %================>                        ]  39.8 %]  52.4 %\u001b[36m\u001b[1mFetching:\u001b[22m\u001b[39m [=========================>               ]  62.4 %>          ]  75.0 %====================================>    ]  87.6 %]  91.6 %"
     ]
    },
    {
     "name": "stderr",
     "output_type": "stream",
     "text": [
      "\u001b[32m\u001b[1m  Installed\u001b[22m\u001b[39m LibCURL_jll ────────────────── v7.70.0+2\n",
      "\u001b[32m\u001b[1m  Installed\u001b[22m\u001b[39m JLD ────────────────────────── v0.11.1\n",
      "\u001b[32m\u001b[1m  Installed\u001b[22m\u001b[39m Mustache ───────────────────── v1.0.9\n",
      "\u001b[32m\u001b[1m  Installed\u001b[22m\u001b[39m SymPy ──────────────────────── v1.0.36\n",
      "\u001b[32m\u001b[1m  Installed\u001b[22m\u001b[39m IJulia ─────────────────────── v1.23.1\n",
      "\u001b[32m\u001b[1m  Installed\u001b[22m\u001b[39m Plots ──────────────────────── v1.9.1\n",
      "\u001b[32m\u001b[1m  Installed\u001b[22m\u001b[39m Distributions ──────────────── v0.24.7\n",
      "\u001b[32m\u001b[1m  Installed\u001b[22m\u001b[39m FileIO ─────────────────────── v1.4.5\n",
      "\u001b[32m\u001b[1m  Installed\u001b[22m\u001b[39m Xorg_xcb_util_renderutil_jll ─ v0.3.9+1\n",
      "\u001b[32m\u001b[1m  Installed\u001b[22m\u001b[39m Mux ────────────────────────── v0.7.4\n",
      "\u001b[32m\u001b[1m  Installed\u001b[22m\u001b[39m WebSockets ─────────────────── v1.5.5\n",
      "\u001b[32m\u001b[1m  Installed\u001b[22m\u001b[39m Xorg_xcb_util_image_jll ────── v0.4.0+1\n",
      "\u001b[32m\u001b[1m  Installed\u001b[22m\u001b[39m Xorg_xcb_util_keysyms_jll ──── v0.4.0+1\n",
      "\u001b[32m\u001b[1m  Installed\u001b[22m\u001b[39m Tables ─────────────────────── v1.2.2\n",
      "\u001b[32m\u001b[1m  Installed\u001b[22m\u001b[39m StatsFuns ──────────────────── v0.9.6\n",
      "\u001b[32m\u001b[1m  Installed\u001b[22m\u001b[39m Contour ────────────────────── v0.5.7\n",
      "\u001b[32m\u001b[1m  Installed\u001b[22m\u001b[39m FillArrays ─────────────────── v0.10.1\n",
      "\u001b[32m\u001b[1m  Installed\u001b[22m\u001b[39m Xorg_xcb_util_jll ──────────── v0.4.0+1\n",
      "\u001b[32m\u001b[1m  Installed\u001b[22m\u001b[39m Formatting ─────────────────── v0.4.2\n",
      "\u001b[32m\u001b[1m  Installed\u001b[22m\u001b[39m PlotUtils ──────────────────── v1.0.8\n",
      "\u001b[32m\u001b[1m  Installed\u001b[22m\u001b[39m ChainRulesCore ─────────────── v0.9.23\n",
      "\u001b[32m\u001b[1m  Installed\u001b[22m\u001b[39m Parsers ────────────────────── v1.0.15\n",
      "\u001b[32m\u001b[1m  Installed\u001b[22m\u001b[39m LibSSH2_jll ────────────────── v1.9.0+3\n",
      "\u001b[32m\u001b[1m  Installed\u001b[22m\u001b[39m BinDeps ────────────────────── v1.0.2\n",
      "\u001b[32m\u001b[1m  Installed\u001b[22m\u001b[39m Latexify ───────────────────── v0.14.6\n",
      "\u001b[32m\u001b[1m  Installed\u001b[22m\u001b[39m TimeZones ──────────────────── v1.5.3\n",
      "\u001b[32m\u001b[1m  Installed\u001b[22m\u001b[39m HDF5 ───────────────────────── v0.14.3\n",
      "\u001b[32m\u001b[1m  Installed\u001b[22m\u001b[39m Xorg_xcb_util_wm_jll ───────── v0.4.1+1\n",
      "\u001b[32m\u001b[1m  Installed\u001b[22m\u001b[39m GeometryBasics ─────────────── v0.3.4\n",
      "\u001b[32m\u001b[1m  Installed\u001b[22m\u001b[39m StaticArrays ───────────────── v1.0.1\n",
      "\u001b[32m\u001b[1m  Installed\u001b[22m\u001b[39m Qt_jll ─────────────────────── v5.15.2+0\n",
      "\u001b[32m\u001b[1m  Installed\u001b[22m\u001b[39m Pixman_jll ─────────────────── v0.40.0+0\n",
      "\u001b[32m\u001b[1m  Installed\u001b[22m\u001b[39m SpecialFunctions ───────────── v1.2.1\n",
      "\u001b[32m\u001b[1m  Installed\u001b[22m\u001b[39m MuladdMacro ────────────────── v0.2.2\n",
      "\u001b[32m\u001b[1m  Installed\u001b[22m\u001b[39m GR_jll ─────────────────────── v0.53.0+0\n",
      "\u001b[32m\u001b[1m  Installed\u001b[22m\u001b[39m PlotlyBase ─────────────────── v0.4.3\n",
      "\u001b[32m\u001b[1m  Installed\u001b[22m\u001b[39m nghttp2_jll ────────────────── v1.40.0+2\n",
      "\u001b[32m\u001b[1m  Installed\u001b[22m\u001b[39m HDF5_jll ───────────────────── v1.12.0+1\n",
      "\u001b[32m\u001b[1m  Installed\u001b[22m\u001b[39m Compat ─────────────────────── v3.25.0\n",
      "\u001b[32m\u001b[1m  Installed\u001b[22m\u001b[39m Requires ───────────────────── v1.1.2\n",
      "\u001b[32m\u001b[1m  Installed\u001b[22m\u001b[39m NaNMath ────────────────────── v0.3.5\n",
      "\u001b[32m\u001b[1m  Installed\u001b[22m\u001b[39m ColorSchemes ───────────────── v3.10.2\n",
      "######################################################################### 100.0%\n",
      "######################################################################### 100.0%\n",
      "######################################################################### 100.0%\n",
      "######################################################################### 100.0%\n",
      "######################################################################### 100.0%                                    52.6%                                56.3%                           60.3%\n",
      "######################################################################### 100.0%\n",
      "######################################################################### 100.0%                             60.6%\n",
      "\u001b[32m\u001b[1mUpdating\u001b[22m\u001b[39m `~/.julia/environments/v1.5/Project.toml`\n",
      " \u001b[90m [31c24e10] \u001b[39m\u001b[93m↑ Distributions v0.24.3 ⇒ v0.24.7\u001b[39m\n",
      " \u001b[90m [7073ff75] \u001b[39m\u001b[93m↑ IJulia v1.22.0 ⇒ v1.23.1\u001b[39m\n",
      " \u001b[90m [4138dd39] \u001b[39m\u001b[93m↑ JLD v0.10.0 ⇒ v0.11.1\u001b[39m\n",
      " \u001b[90m [91a5bcdd] \u001b[39m\u001b[93m↑ Plots v1.9.0 ⇒ v1.9.1\u001b[39m\n",
      " \u001b[90m [24249f21] \u001b[39m\u001b[93m↑ SymPy v1.0.32 ⇒ v1.0.36\u001b[39m\n",
      "\u001b[32m\u001b[1mUpdating\u001b[22m\u001b[39m `~/.julia/environments/v1.5/Manifest.toml`\n",
      " \u001b[90m [9e28174c] \u001b[39m\u001b[93m↑ BinDeps v1.0.1 ⇒ v1.0.2\u001b[39m\n",
      " \u001b[90m [d360d2e6] \u001b[39m\u001b[92m+ ChainRulesCore v0.9.23\u001b[39m\n",
      " \u001b[90m [35d6a980] \u001b[39m\u001b[93m↑ ColorSchemes v3.10.1 ⇒ v3.10.2\u001b[39m\n",
      " \u001b[90m [34da2185] \u001b[39m\u001b[93m↑ Compat v3.23.0 ⇒ v3.25.0\u001b[39m\n",
      " \u001b[90m [d38c429a] \u001b[39m\u001b[93m↑ Contour v0.5.6 ⇒ v0.5.7\u001b[39m\n",
      " \u001b[90m [31c24e10] \u001b[39m\u001b[93m↑ Distributions v0.24.3 ⇒ v0.24.7\u001b[39m\n",
      " \u001b[90m [5789e2e9] \u001b[39m\u001b[93m↑ FileIO v1.4.4 ⇒ v1.4.5\u001b[39m\n",
      " \u001b[90m [1a297f60] \u001b[39m\u001b[93m↑ FillArrays v0.10.0 ⇒ v0.10.1\u001b[39m\n",
      " \u001b[90m [59287772] \u001b[39m\u001b[93m↑ Formatting v0.4.1 ⇒ v0.4.2\u001b[39m\n",
      " \u001b[90m [d2c73de3] \u001b[39m\u001b[93m↑ GR_jll v0.52.0+0 ⇒ v0.53.0+0\u001b[39m\n",
      " \u001b[90m [5c1252a2] \u001b[39m\u001b[93m↑ GeometryBasics v0.3.3 ⇒ v0.3.4\u001b[39m\n",
      " \u001b[90m [f67ccb44] \u001b[39m\u001b[93m↑ HDF5 v0.13.6 ⇒ v0.14.3\u001b[39m\n",
      " \u001b[90m [0234f1f7] \u001b[39m\u001b[93m↑ HDF5_jll v1.10.5+7 ⇒ v1.12.0+1\u001b[39m\n",
      " \u001b[90m [7073ff75] \u001b[39m\u001b[93m↑ IJulia v1.22.0 ⇒ v1.23.1\u001b[39m\n",
      " \u001b[90m [4138dd39] \u001b[39m\u001b[93m↑ JLD v0.10.0 ⇒ v0.11.1\u001b[39m\n",
      " \u001b[90m [23fbe1c1] \u001b[39m\u001b[93m↑ Latexify v0.14.5 ⇒ v0.14.6\u001b[39m\n",
      " \u001b[90m [deac9b47] \u001b[39m\u001b[92m+ LibCURL_jll v7.70.0+2\u001b[39m\n",
      " \u001b[90m [29816b5a] \u001b[39m\u001b[92m+ LibSSH2_jll v1.9.0+3\u001b[39m\n",
      " \u001b[90m [46d2c3a1] \u001b[39m\u001b[92m+ MuladdMacro v0.2.2\u001b[39m\n",
      " \u001b[90m [ffc61752] \u001b[39m\u001b[93m↑ Mustache v1.0.8 ⇒ v1.0.9\u001b[39m\n",
      " \u001b[90m [a975b10e] \u001b[39m\u001b[93m↑ Mux v0.7.3 ⇒ v0.7.4\u001b[39m\n",
      " \u001b[90m [77ba4419] \u001b[39m\u001b[93m↑ NaNMath v0.3.4 ⇒ v0.3.5\u001b[39m\n",
      " \u001b[90m [69de0a69] \u001b[39m\u001b[93m↑ Parsers v1.0.12 ⇒ v1.0.15\u001b[39m\n",
      " \u001b[90m [30392449] \u001b[39m\u001b[93m↑ Pixman_jll v0.38.4+5 ⇒ v0.40.0+0\u001b[39m\n",
      " \u001b[90m [995b91a9] \u001b[39m\u001b[93m↑ PlotUtils v1.0.7 ⇒ v1.0.8\u001b[39m\n",
      " \u001b[90m [a03496cd] \u001b[39m\u001b[93m↑ PlotlyBase v0.4.2 ⇒ v0.4.3\u001b[39m\n",
      " \u001b[90m [91a5bcdd] \u001b[39m\u001b[93m↑ Plots v1.9.0 ⇒ v1.9.1\u001b[39m\n",
      " \u001b[90m [784f63db] \u001b[39m\u001b[91m- Qhull_jll v2019.1.0+2\u001b[39m\n",
      " \u001b[90m [ede63266] \u001b[39m\u001b[93m↑ Qt_jll v5.15.0+3 ⇒ v5.15.2+0\u001b[39m\n",
      " \u001b[90m [ae029012] \u001b[39m\u001b[93m↑ Requires v1.1.0 ⇒ v1.1.2\u001b[39m\n",
      " \u001b[90m [276daf66] \u001b[39m\u001b[93m↑ SpecialFunctions v0.10.3 ⇒ v1.2.1\u001b[39m\n",
      " \u001b[90m [90137ffa] \u001b[39m\u001b[93m↑ StaticArrays v0.12.5 ⇒ v1.0.1\u001b[39m\n",
      " \u001b[90m [4c63d2b9] \u001b[39m\u001b[93m↑ StatsFuns v0.9.5 ⇒ v0.9.6\u001b[39m\n",
      " \u001b[90m [24249f21] \u001b[39m\u001b[93m↑ SymPy v1.0.32 ⇒ v1.0.36\u001b[39m\n",
      " \u001b[90m [bd369af6] \u001b[39m\u001b[93m↑ Tables v1.2.1 ⇒ v1.2.2\u001b[39m\n",
      " \u001b[90m [f269a46b] \u001b[39m\u001b[93m↑ TimeZones v1.5.0 ⇒ v1.5.3\u001b[39m\n",
      " \u001b[90m [104b5d7c] \u001b[39m\u001b[93m↑ WebSockets v1.5.2 ⇒ v1.5.5\u001b[39m\n",
      " \u001b[90m [12413925] \u001b[39m\u001b[93m↑ Xorg_xcb_util_image_jll v0.4.0+0 ⇒ v0.4.0+1\u001b[39m\n",
      " \u001b[90m [2def613f] \u001b[39m\u001b[93m↑ Xorg_xcb_util_jll v0.4.0+0 ⇒ v0.4.0+1\u001b[39m\n",
      " \u001b[90m [975044d2] \u001b[39m\u001b[93m↑ Xorg_xcb_util_keysyms_jll v0.4.0+0 ⇒ v0.4.0+1\u001b[39m\n",
      " \u001b[90m [0d47668e] \u001b[39m\u001b[93m↑ Xorg_xcb_util_renderutil_jll v0.3.9+0 ⇒ v0.3.9+1\u001b[39m\n",
      " \u001b[90m [c22f9ab0] \u001b[39m\u001b[93m↑ Xorg_xcb_util_wm_jll v0.4.1+0 ⇒ v0.4.1+1\u001b[39m\n",
      " \u001b[90m [8e850ede] \u001b[39m\u001b[92m+ nghttp2_jll v1.40.0+2\u001b[39m\n",
      "\u001b[32m\u001b[1m   Building\u001b[22m\u001b[39m IJulia ───→ `~/.julia/packages/IJulia/IDNmS/deps/build.log`\n",
      "\u001b[32m\u001b[1m   Building\u001b[22m\u001b[39m TimeZones → `~/.julia/packages/TimeZones/K98G0/deps/build.log`\n",
      "\u001b[32m\u001b[1m   Building\u001b[22m\u001b[39m HDF5 ─────→ `~/.julia/packages/HDF5/d0V7K/deps/build.log`\n"
     ]
    }
   ],
   "source": [
    "Pkg.update()"
   ]
  },
  {
   "cell_type": "code",
   "execution_count": 4,
   "metadata": {},
   "outputs": [
    {
     "name": "stderr",
     "output_type": "stream",
     "text": [
      "┌ Info: Precompiling SymPy [24249f21-da20-56a4-8eb1-6a02cf4ae2e6]\n",
      "└ @ Base loading.jl:1278\n"
     ]
    }
   ],
   "source": [
    "using SymPy"
   ]
  },
  {
   "cell_type": "code",
   "execution_count": 59,
   "metadata": {},
   "outputs": [
    {
     "ename": "LoadError",
     "evalue": "MethodError: no method matching symbols(::Regex; real=true, positive=true)\nClosest candidates are:\n  symbols(!Matched::Symbol; kwargs...) at /Users/benfolsom/.julia/packages/SymPy/z4ZQ9/src/constructors.jl:5\n  symbols(!Matched::AbstractString; kwargs...) at /Users/benfolsom/.julia/packages/SymPy/z4ZQ9/src/constructors.jl:2\n  symbols(!Matched::T...; kwargs...) where T<:SymPy.SymbolicObject at /Users/benfolsom/.julia/packages/SymPy/z4ZQ9/src/constructors.jl:6",
     "output_type": "error",
     "traceback": [
      "MethodError: no method matching symbols(::Regex; real=true, positive=true)\nClosest candidates are:\n  symbols(!Matched::Symbol; kwargs...) at /Users/benfolsom/.julia/packages/SymPy/z4ZQ9/src/constructors.jl:5\n  symbols(!Matched::AbstractString; kwargs...) at /Users/benfolsom/.julia/packages/SymPy/z4ZQ9/src/constructors.jl:2\n  symbols(!Matched::T...; kwargs...) where T<:SymPy.SymbolicObject at /Users/benfolsom/.julia/packages/SymPy/z4ZQ9/src/constructors.jl:6",
      "",
      "Stacktrace:",
      " [1] top-level scope at In[59]:23",
      " [2] include_string(::Function, ::Module, ::String, ::String) at ./loading.jl:1091",
      " [3] execute_code(::String, ::String) at /Users/benfolsom/.julia/packages/IJulia/a1SNk/src/execute_request.jl:27",
      " [4] execute_request(::ZMQ.Socket, ::IJulia.Msg) at /Users/benfolsom/.julia/packages/IJulia/a1SNk/src/execute_request.jl:86",
      " [5] #invokelatest#1 at ./essentials.jl:710 [inlined]",
      " [6] invokelatest at ./essentials.jl:709 [inlined]",
      " [7] eventloop(::ZMQ.Socket) at /Users/benfolsom/.julia/packages/IJulia/a1SNk/src/eventloop.jl:8",
      " [8] (::IJulia.var\"#15#18\")() at ./task.jl:356"
     ]
    }
   ],
   "source": [
    "Acv_aph = symbols(\"A^alpha\",real=true)\n",
    "Acn_aph = symbols(\"A_alpha\",real=true)\n",
    "Vcv_Vph = symbols(\"V^alpha\",real=true)\n",
    "Vcn_Vph = symbols(\"V_alpha\",real=true)\n",
    "rcn_aph = symbols(\"r_alpha\",real=true)\n",
    "rcv_aph = symbols(\"r^alpha\",real=true)\n",
    "\n",
    "Acv_bt = symbols(\"A^beta\",real=true)\n",
    "Acn_bt = symbols(\"A_beta\",real=true)\n",
    "Vcv_Vbt = symbols(\"V^beta\",real=true)\n",
    "Vcn_Vbt = symbols(\"V_beta\",real=true)\n",
    "rcn_bt = symbols(\"r_beta\",real=true)\n",
    "rcv_bt = symbols(\"r^beta\",real=true)\n",
    "\n",
    "rcn_rho = symbols(\"r_rho\",real=true)\n",
    "vcv_rho = symbols(\"v^rho\",real=true)\n",
    "gup_ab =  symbols(\"g^alpha^beta\",real=true)\n",
    "glw_ab =  symbols(\"g_alpha_beta\",real=true)\n",
    "\n",
    "q =  symbols(\"q\",real=true,positive=true)\n",
    "c =  symbols(\"c\",real=true,positive=true)\n",
    "gm = symbols(\"gamma\",real=true,positive=true)\n",
    "bt = symbols(r\"\\vec{B}\",real=true,positive=true)"
   ]
  },
  {
   "cell_type": "code",
   "execution_count": 53,
   "metadata": {},
   "outputs": [
    {
     "ename": "LoadError",
     "evalue": "MethodError: no method matching Sym(::Regex; real=true, positive=true)\nClosest candidates are:\n  Sym(::Any) at /Users/benfolsom/.julia/packages/SymPy/z4ZQ9/src/types.jl:7 got unsupported keyword arguments \"real\", \"positive\"\n  Sym(!Matched::PyCall.PyObject) at /Users/benfolsom/.julia/packages/SymPy/z4ZQ9/src/types.jl:7 got unsupported keyword arguments \"real\", \"positive\"\n  Sym(!Matched::Rational{T}) where T at /Users/benfolsom/.julia/packages/SymPy/z4ZQ9/src/constructors.jl:72 got unsupported keyword arguments \"real\", \"positive\"\n  ...",
     "output_type": "error",
     "traceback": [
      "MethodError: no method matching Sym(::Regex; real=true, positive=true)\nClosest candidates are:\n  Sym(::Any) at /Users/benfolsom/.julia/packages/SymPy/z4ZQ9/src/types.jl:7 got unsupported keyword arguments \"real\", \"positive\"\n  Sym(!Matched::PyCall.PyObject) at /Users/benfolsom/.julia/packages/SymPy/z4ZQ9/src/types.jl:7 got unsupported keyword arguments \"real\", \"positive\"\n  Sym(!Matched::Rational{T}) where T at /Users/benfolsom/.julia/packages/SymPy/z4ZQ9/src/constructors.jl:72 got unsupported keyword arguments \"real\", \"positive\"\n  ...",
      "",
      "Stacktrace:",
      " [1] top-level scope at In[53]:1",
      " [2] include_string(::Function, ::Module, ::String, ::String) at ./loading.jl:1091",
      " [3] execute_code(::String, ::String) at /Users/benfolsom/.julia/packages/IJulia/a1SNk/src/execute_request.jl:27",
      " [4] execute_request(::ZMQ.Socket, ::IJulia.Msg) at /Users/benfolsom/.julia/packages/IJulia/a1SNk/src/execute_request.jl:86",
      " [5] #invokelatest#1 at ./essentials.jl:710 [inlined]",
      " [6] invokelatest at ./essentials.jl:709 [inlined]",
      " [7] eventloop(::ZMQ.Socket) at /Users/benfolsom/.julia/packages/IJulia/a1SNk/src/eventloop.jl:8",
      " [8] (::IJulia.var\"#15#18\")() at ./task.jl:356"
     ]
    }
   ],
   "source": [
    "bt = SymPy.(r\"\\vec{B}\",real=true,positive=true)"
   ]
  },
  {
   "cell_type": "code",
   "execution_count": null,
   "metadata": {},
   "outputs": [],
   "source": [
    "    "
   ]
  },
  {
   "cell_type": "code",
   "execution_count": null,
   "metadata": {},
   "outputs": [],
   "source": []
  }
 ],
 "metadata": {
  "kernelspec": {
   "display_name": "Julia 1.5.0",
   "language": "julia",
   "name": "julia-1.5"
  },
  "language_info": {
   "file_extension": ".jl",
   "mimetype": "application/julia",
   "name": "julia",
   "version": "1.5.0"
  }
 },
 "nbformat": 4,
 "nbformat_minor": 4
}
