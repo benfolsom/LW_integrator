{
 "cells": [
  {
   "cell_type": "code",
   "execution_count": null,
   "id": "c842cd97-d82a-4b00-b486-7e5247245e20",
   "metadata": {},
   "outputs": [],
   "source": [
    "%pylab inline\n",
    "from scipy.special import j0, j1\n",
    "import numpy as np\n",
    "import itertools as itrt\n",
    "import matplotlib.pyplot as plt\n",
    "#%config Completer.use_jedi = False"
   ]
  },
  {
   "cell_type": "code",
   "execution_count": null,
   "id": "dcee165f-8cfe-4bf7-bda6-4927d6526d39",
   "metadata": {},
   "outputs": [],
   "source": [
    "def gamma_to_beta(gamma):\n",
    "    return sqrt(1-1/gamma**2)\n",
    "def kinetic_to_betagamma(energy, rest_energy):\n",
    "    gamma = energy/rest_energy+1\n",
    "    beta = gamma_to_beta(gamma)\n",
    "    return beta, gamma"
   ]
  },
  {
   "cell_type": "code",
   "execution_count": null,
   "id": "e823b531-f3cc-4f70-8407-9cd80b97d536",
   "metadata": {},
   "outputs": [],
   "source": [
    "pcount = 5\n",
    "m = 1.007319468  #amu\n",
    "c = 299.792458 # mm/ns\n",
    "q = 1.178734E-5 ##1.6E-19 C => 4.8032047E-10 statC [cm^(3/2)*g^(1/2)*s^(-1)] => [mm^(3/2)*amu^(1/2)*ns^(-1)];\n",
    "aperture = 500 #mm\n",
    "wall_pos = 3000 #wall location on beam axis 'z', relative to origin\n",
    "\n",
    "\n",
    "Px = np.random.normal(-3e-2, 3e-2, pcount) #3e-2 amu*mm/ns corresponds to 93 keV\n",
    "Py = np.random.uniform(-3e-2, 3e-2, pcount)\n",
    "Pz = np.random.uniform(3.4e2, 3.41e2, pcount)  # approx 1 GeV +- 4 MeV, CAREFUL WE ARE IN LAB FRAME HERE\n",
    "Pt = np.sqrt( Px**2+Py**2+Pz**2+m**2*c**2)\n",
    "gamma = Pt/(m*c)\n",
    "bx = Px/(gamma*m*c)\n",
    "by = Py/(gamma*m*c)\n",
    "bz = Pz/(gamma*m*c)\n",
    "beta_avg  = np.sqrt(bx**2+by**2+bz**2)\n",
    "\n",
    "x = numpy.random.uniform(-50, 50, pcount)\n",
    "y = numpy.random.uniform(-50, 50, pcount)\n",
    "z = numpy.random.uniform(-500, -450, pcount)\n",
    "t = numpy.random.uniform(0, 100/(beta_avg*c), pcount)\n",
    "\n",
    "bdotx = bx*np.random.uniform(-1e-3,1e-3)  #just a guess, there is probably much more acceleration going on in the core\n",
    "bdoty = by*np.random.uniform(-1e-3,1e-3) \n",
    "bdotz = bz*np.random.uniform(-1e-7,1e-7) #sloppy approximation to reflect much less deviation in logitudinal direction"
   ]
  },
  {
   "cell_type": "code",
   "execution_count": null,
   "id": "7ca49551-74d1-4882-a5fd-962de573c8c5",
   "metadata": {},
   "outputs": [],
   "source": [
    "init_beam = {'x':x, 'y':y, 'z':z, 't':t, 'Px':Px, 'Py':Py, 'Pz':Pz,'Pt':Pt,\n",
    "             'bx':bx,'by':by,'bz':bz,'bdotx':bdotx,'bdoty':bdoty,'bdotz':bdotz,'gamma':gamma,'q':q} "
   ]
  },
  {
   "cell_type": "code",
   "execution_count": null,
   "id": "c25d259b-b890-42e2-83ca-a97d363ca0b0",
   "metadata": {},
   "outputs": [],
   "source": [
    "init_beam['gamma']"
   ]
  },
  {
   "cell_type": "code",
   "execution_count": null,
   "id": "fc5509e9-6c96-471a-8ede-5e74d989a383",
   "metadata": {},
   "outputs": [],
   "source": [
    "wallcount = pcount\n",
    "q_w = -q # one-to-one correlation for flat wall\n",
    "Px_w = np.zeros(wallcount)\n",
    "Py_w = np.zeros(wallcount)\n",
    "Pz_w = np.zeros(wallcount)  \n",
    "Pt_w = np.zeros(wallcount)\n",
    "gamma_w = np.zeros(wallcount)\n",
    "bx_w = np.zeros(wallcount)\n",
    "by_w = np.zeros(wallcount)\n",
    "bz_w = np.zeros(wallcount)\n",
    "beta_avg_w = np.sqrt(bx**2+by**2+bz**2)\n",
    "\n",
    "x_w = np.zeros(wallcount)\n",
    "y_w = np.zeros(wallcount)\n",
    "z_w = np.zeros(wallcount)\n",
    "t_w = t  #????? we need to initialize to some common timestep, I think this is consistent (we operate completely in the lab frame throughout)\n",
    "\n",
    "bdotx_w = np.zeros(wallcount)  #just a guess, there is probably much more acceleration going on in the core\n",
    "bdoty_w = np.zeros(wallcount) \n",
    "bdotz_w = np.zeros(wallcount) "
   ]
  },
  {
   "cell_type": "code",
   "execution_count": null,
   "id": "06dcb35b-70f3-4970-b0e5-be153a650166",
   "metadata": {},
   "outputs": [],
   "source": [
    "init_wall = {'x':x_w, 'y':y_w, 'z':z_w, 't':t_w, 'Px':Px_w, 'Py':Py_w, 'Pz':Pz_w,'Pt':Pt_w,\n",
    "             'bx':bx_w,'by':by_w,'bz':bz_w,'bdotx':bdotx_w,'bdoty':bdoty_w,'bdotz':bdotz_w,'gamma':gamma_w,'q':q_w} "
   ]
  },
  {
   "cell_type": "code",
   "execution_count": null,
   "id": "991c49c1-f09c-4595-8299-d61559be5d8c",
   "metadata": {},
   "outputs": [],
   "source": [
    "def bouncer_flat(vector,vector_ext,wall_Z,apt_R):\n",
    "    \"\"\" \n",
    "    taking losses at the circular aperture and generating a full image bunch reflecting off a flat wall\n",
    "    \n",
    "    includes cutoffs for particles striking wall or passing through the aperture\n",
    "    \"\"\"\n",
    "    for i in range(len(vector['x'])):\n",
    "        r = np.sqrt(vector['x'][i]**2+vector['y'][i]**2)\n",
    "        print(r)\n",
    "        #sloppy way of taking losses, setting charge to zero\n",
    "        if vector['z'][i]>=wall_Z and r>=apt_R:\n",
    "            vector['q'][i]=0 #\n",
    "            \n",
    "        \n",
    "        elif vector['z'][i]<wall_Z and r<=apt_R:\n",
    "            vector_ext['q']=-vector['q']\n",
    "            vector_ext['z'][i]=wall_Z + 2*(wall_Z-vector['z'][i])\n",
    "            vector_ext['x'][i]=vector['x'][i]\n",
    "            vector_ext['y'][i]=vector['y'][i]\n",
    "            vector_ext['Px'][i]=vector['Px'][i]\n",
    "            vector_ext['Py'][i]=vector['Py'][i]\n",
    "            vector_ext['Pz'][i]=-vector['Pz'][i]\n",
    "            vector_ext['Pt'][i]=vector['Pt'][i] #right?\n",
    "            vector_ext['gamma'][i]=vector['gamma'][i] \n",
    "            vector_ext['bx'][i]=vector['bx'][i] \n",
    "            vector_ext['by'][i]=vector['by'][i]\n",
    "            vector_ext['bz'][i]=-vector['bz'][i] \n",
    "            vector_ext['bdotx'][i]=vector['bdotx'][i] \n",
    "            vector_ext['bdoty'][i]=vector['bdoty'][i] \n",
    "            vector_ext['bdotz'][i]=vector['bdotz'][i] \n",
    "            vector_ext['t'][i]=vector['t'][i]   #do NOT retard here, image charge is made to exist at the moment the original charge is created\n",
    "            \n",
    "    return(vector,vector_ext)"
   ]
  },
  {
   "cell_type": "code",
   "execution_count": null,
   "id": "6c861c71-cfc7-4c4e-9c75-ee68a90d0d4d",
   "metadata": {},
   "outputs": [],
   "source": [
    "bunch_rl,bunch_img = bouncer_flat(init_beam,init_wall,wall_pos,aperture) \n",
    "#external_particle = ?????"
   ]
  },
  {
   "cell_type": "code",
   "execution_count": null,
   "id": "ddbfffce-9d33-4c6a-91fd-aede5a7bf257",
   "metadata": {},
   "outputs": [],
   "source": [
    "# def chrono_matcher(vector_set,vector_ext_set,index_global_t,index_particle):\n",
    "#     \"\"\" \n",
    "#     scans back though external particle histories to find matching time point for sample particle and \n",
    "    \n",
    "#     Times are all in lab-frame. vector_set and vector_ext_set are full trajectories. index_global_t is the current time step\n",
    "#     ONLY WORKS FOR ONE SAMPLE PARTICLE AT A TIME -- But generates matched times for all particles in the corresponding image bunch \n",
    "#     \"\"\"\n",
    "#     vector_ext_set_matched = copy(vector_ext_set)\n",
    "#     if index==0:\n",
    "#         raise Exception('vector_ext_set must have a history -- cannot begin at t=0')\n",
    "        \n",
    "#     #rudimentary scan, should be as close to zero as possible, but just overshooting by a time step should be conservative enough for now.\n",
    "#     for j in range(len(vector_ext_set[index]['t'])):            \n",
    "#             k = 1\n",
    "#             while vector_set[index_global_t]['t'][index_particle]-vector_ext_set[index_global_t-k]['t'][j] > 0.1:\n",
    "#                 k += 1\n",
    "#             else:\n",
    "#                 vector_ext_set_matched[index]['t'][j] = vector_ext_set[index-k]['t'][j]\n",
    "            \n",
    "# return(vector_ext_set_matched)        \n",
    "            "
   ]
  },
  {
   "cell_type": "code",
   "execution_count": null,
   "id": "25a49273-4e43-4416-8fd5-d63d742c8a09",
   "metadata": {},
   "outputs": [],
   "source": [
    "def dist_euclid(vector,vector_ext,index):\n",
    "    \"\"\"\n",
    "    simple Euclidean distance generator with our standard retarded-potential notation\n",
    "    \n",
    "    requires chrono_match-ed trajectories\n",
    "    \"\"\"\n",
    "    result = {}\n",
    "    result['R'] = np.zeros_like(vector['x'])    \n",
    "    result['nx'] = np.zeros_like(vector['x'])\n",
    "    result['ny'] = np.zeros_like(vector['x'])    \n",
    "    result['nz'] = np.zeros_like(vector['x'])    \n",
    "    for j in range(len(vector_ext['x'])):\n",
    "        result['R'][j] = np.sqrt( (vector['x'][index]-vector_ext['x'][j])**2+\n",
    "                          (vector['y'][index]-vector_ext['y'][j])**2+\n",
    "                          (vector['z'][index]-vector_ext['z'][j])**2 )\n",
    "        result['nx'][j] = (vector['x'][index]-vector_ext['x'][j])/result['R'][j]\n",
    "        result['ny'][j] = (vector['y'][index]-vector_ext['y'][j])/result['R'][j]\n",
    "        result['nz'][j] = (vector['z'][index]-vector_ext['z'][j])/result['R'][j]\n",
    "    return(result)"
   ]
  },
  {
   "cell_type": "code",
   "execution_count": null,
   "id": "b664c461-babd-4346-a24f-720afa5b80ac",
   "metadata": {},
   "outputs": [],
   "source": [
    "def step1(h, vector,vector_ext): # nhat includes R and fnhat components, need to generate this per particle pair\n",
    "    result = vector\n",
    "    for i in range(len(vector['x'])):   #iterating over all real particles OR all reflection points (these must be done in separate steps)            \n",
    "        nhat = dist_euclid(vector,vector_ext,i)\n",
    "        for j in range(len(vector_ext['x'])): #summing all external contributions (reflected particles and/or local particles)                        \n",
    "            result['x'][i] = vector['x'][i]\n",
    "            result['y'][i] = vector['y'][i]\n",
    "            result['z'][i] = vector['z'][i]\n",
    "            result['t'][i] = vector['t'][i]\n",
    "            result['Px'][i] = vector['Px'][i] + h/m*vector['q']*vector_ext['q']*vector['gamma'][i]\\\n",
    "                        *1/(1-np.dot((vector_ext['bx'][j],vector_ext['by'][j],vector_ext['bz'][j]),(nhat['nx'][j],nhat['ny'][j],nhat['nz'][j]))**2)\\\n",
    "                        *( 1/nhat['R'][j]**2*vector['bx'][i]*np.dot((vector_ext['bx'][j],vector_ext['by'][j],vector_ext['bz'][j]),(vector['bx'][i],vector['by'][i],vector['bz'][i]))\\\n",
    "                        -nhat['nx'][j]*np.dot((vector_ext['bx'][j],vector_ext['by'][j],vector_ext['bz'][j]),(vector['bx'][i],vector['by'][i],vector['bz'][i]))\\\n",
    "                        /(vector_ext['gamma'][j]**2*nhat['R'][j]**2*(1-np.dot((vector_ext['bx'][j],vector_ext['by'][j],vector_ext['bz'][j]),(nhat['nx'][j],nhat['ny'][j],nhat['nz'][j]))))\\\n",
    "                        -nhat['nx'][j]/(c*nhat['R'][j])*(np.dot((vector['bx'][i],vector['by'][i],vector['bz'][i]),((vector_ext['bdotx'][j],vector_ext['bdoty'][j],vector_ext['bdotz'][j])+vector_ext['gamma'][j]**2\\\n",
    "                        *np.dot((vector_ext['bx'][j],vector_ext['by'][j],vector_ext['bz'][j]),np.dot((vector_ext['bx'][j],vector_ext['by'][j],vector_ext['bz'][j]),(vector_ext['bdotx'][j],vector_ext['bdoty'][j],vector_ext['bdotz'][j])) ) ) ) ) )\n",
    "            result['Py'][i] = vector['Py'][i] + h/m*vector['q']*vector_ext['q']*vector['gamma'][i]\\\n",
    "                        *1/(1-np.dot((vector_ext['bx'][j],vector_ext['by'][j],vector_ext['bz'][j]),(nhat['nx'][j],nhat['ny'][j],nhat['nz'][j]))**2)\\\n",
    "                        *( 1/nhat['R'][j]**2*vector['by'][i]*np.dot((vector_ext['bx'][j],vector_ext['by'][j],vector_ext['bz'][j]),(vector['bx'][i],vector['by'][i],vector['bz'][i]))\\\n",
    "                        -nhat['ny'][j]*np.dot((vector_ext['bx'][j],vector_ext['by'][j],vector_ext['bz'][j]),(vector['bx'][i],vector['by'][i],vector['bz'][i]))\\\n",
    "                        /(vector_ext['gamma'][j]**2*nhat['R'][j]**2*(1-np.dot((vector_ext['bx'][j],vector_ext['by'][j],vector_ext['bz'][j]),(nhat['nx'][j],nhat['ny'][j],nhat['nz'][j]))))\\\n",
    "                        -nhat['ny'][j]/(c*nhat['R'][j])*(np.dot((vector['bx'][i],vector['by'][i],vector['bz'][i]),((vector_ext['bdotx'][j],vector_ext['bdoty'][j],vector_ext['bdotz'][j])+vector_ext['gamma'][j]**2\\\n",
    "                        *np.dot((vector_ext['bx'][j],vector_ext['by'][j],vector_ext['bz'][j]),np.dot((vector_ext['bx'][j],vector_ext['by'][j],vector_ext['bz'][j]),(vector_ext['bdotx'][j],vector_ext['bdoty'][j],vector_ext['bdotz'][j])) ) ) ) ) )\n",
    "            result['Pz'][i] = vector['Pz'][i] + h/m*vector['q']*vector_ext['q']*vector['gamma'][i]\\\n",
    "                        *1/(1-np.dot((vector_ext['bx'][j],vector_ext['by'][j],vector_ext['bz'][j]),(nhat['nx'][j],nhat['ny'][j],nhat['nz'][j]))**2)\\\n",
    "                        *( 1/nhat['R'][j]**2*vector['bz'][i]*np.dot((vector_ext['bx'][j],vector_ext['by'][j],vector_ext['bz'][j]),(vector['bx'][i],vector['by'][i],vector['bz'][i]))\\\n",
    "                        -nhat['nz'][j]*np.dot((vector_ext['bx'][j],vector_ext['by'][j],vector_ext['bz'][j]),(vector['bx'][i],vector['by'][i],vector['bz'][i]))\\\n",
    "                        /(vector_ext['gamma'][j]**2*nhat['R'][j]**2*(1-np.dot((vector_ext['bx'][j],vector_ext['by'][j],vector_ext['bz'][j]),(nhat['nx'][j],nhat['ny'][j],nhat['nz'][j]))))\\\n",
    "                        -nhat['nz'][j]/(c*nhat['R'][j])*(np.dot((vector['bx'][i],vector['by'][i],vector['bz'][i]),((vector_ext['bdotx'][j],vector_ext['bdoty'][j],vector_ext['bdotz'][j])+vector_ext['gamma'][j]**2\\\n",
    "                        *np.dot((vector_ext['bx'][j],vector_ext['by'][j],vector_ext['bz'][j]),np.dot((vector_ext['bx'][j],vector_ext['by'][j],vector_ext['bz'][j]),(vector_ext['bdotx'][j],vector_ext['bdoty'][j],vector_ext['bdotz'][j])) ) ) ) ) )\n",
    "            result['Pt'][i] = vector['Pt'][i] + h/m*vector['q']*vector_ext['q']*vector['gamma'][i] \\\n",
    "                        *(((vector_ext['gamma'][j]**2*np.dot((vector_ext['bx'][j],vector_ext['by'][j],vector_ext['bz'][j]),(vector_ext['bdotx'][j],vector_ext['bdoty'][j],vector_ext['bdotz'][j])))/(c*nhat['R'][j]) \\\n",
    "                        - 1/nhat['R'][j]**2) /(1 - np.dot((vector_ext['bx'][j],vector_ext['by'][j],vector_ext['bz'][j]),(nhat['nx'][j],nhat['ny'][j],nhat['nz'][j]))))\n",
    "            result['gamma'][i] = result['Pt'][i]/(m*c**2)\n",
    "            result['bx'][i] = result['Px'][i]/(m*c*result['gamma'][i])\n",
    "            result['by'][i] = result['Py'][i]/(m*c*result['gamma'][i])\n",
    "            result['bz'][i] = result['Pz'][i]/(m*c*result['gamma'][i])\n",
    "            result['bdotx'][i] = (result['Px'][i]-vector['Px'][i]) / h   #necessary history to treat as an external particle later (keep in lab frame?) \n",
    "            result['bdoty'][i] =(result['Py'][i]-vector['Py'][i]) / h\n",
    "            result['bdotz'][i] = (result['Pz'][i]-vector['Pz'][i]) / h\n",
    "            vector = result #will this work? need to update values here between each particle pair calculation\n",
    "        return result,nhat\n",
    "\n",
    "        \n",
    "\n",
    "def step2(h, vector,vector_ext,nhat):\n",
    "    result = vector\n",
    "    for i in range(len(vector['x'])):   #iterating over all real particles OR all reflection points (these must be done in separate steps)            \n",
    "        for j in range(len(vector_ext['x'])): #summing all external contributions (reflected particles and/or local particles) \n",
    "            result['x'][i] = vector['x'][i] + h/m * (vector['Px'][i]+vector['q']/c*vector_ext['q']*vector_ext['bx'][j]\\\n",
    "                        / (vector_ext['gamma'][j]*c*nhat['R'][j]*(1-np.dot((vector_ext['bx'][j],vector_ext['by'][j],vector_ext['bz'][j]),(nhat['nx'][j],nhat['ny'][j],nhat['nz'][j])))))\n",
    "            result['y'][i] = vector['y'][i] + h/m * (vector['Py'][i]+vector['q']/c*vector_ext['q']*vector_ext['by'][j]\\\n",
    "                        / (vector_ext['gamma'][j]*c*nhat['R'][j]*(1-np.dot((vector_ext['bx'][j],vector_ext['by'][j],vector_ext['bz'][j]),(nhat['nx'][j],nhat['ny'][j],nhat['nz'][j])))))\n",
    "            result['z'][i] = vector['z'][i] + h/m * (vector['Pz'][i]+vector['q']/c*vector_ext['q']*vector_ext['bz'][j]\\\n",
    "                        / (vector_ext['gamma'][j]*c*nhat['R'][j]*(1-np.dot((vector_ext['bx'][j],vector_ext['by'][j],vector_ext['bz'][j]),(nhat['nx'][j],nhat['ny'][j],nhat['nz'][j])))))\n",
    "            result['t'][i] = vector['t'][i] + h/m * (vector['Pt'][i]+vector['q']/c*vector_ext['q']\\\n",
    "                        / (vector_ext['gamma'][j]*c*nhat['R'][j]*(1-np.dot((vector_ext['bx'][j],vector_ext['by'][j],vector_ext['bz'][j]),(nhat['nx'][j],nhat['ny'][j],nhat['nz'][j])))))\n",
    "            result['Px'][i] = vector['Px'][i]\n",
    "            result['Py'][i] = vector['Py'][i]\n",
    "            result['Pz'][i] = vector['Pz'][i]\n",
    "            result['Pt'][i] = vector['Pt'][i]\n",
    "        return result,nhat"
   ]
  },
  {
   "cell_type": "code",
   "execution_count": null,
   "id": "5a17acd6-261c-49ab-b1df-fd11754071b4",
   "metadata": {},
   "outputs": [],
   "source": [
    "s1out,s1nhat = step1(1E-3,bunch_rl,bunch_img)"
   ]
  },
  {
   "cell_type": "code",
   "execution_count": null,
   "id": "2b92f64c-a1d0-4001-9635-29cce0956f17",
   "metadata": {},
   "outputs": [],
   "source": [
    "s2out,s2nhat = step2(1E-3,s1out,bunch_img,s1nhat)"
   ]
  },
  {
   "cell_type": "code",
   "execution_count": null,
   "id": "8ab0be27-bd1c-42bd-a1a3-44deae0e3d8d",
   "metadata": {},
   "outputs": [],
   "source": []
  },
  {
   "cell_type": "code",
   "execution_count": null,
   "id": "ce85e07d-5882-4163-9096-9ce4240d0f25",
   "metadata": {},
   "outputs": [],
   "source": []
  },
  {
   "cell_type": "code",
   "execution_count": null,
   "id": "d81c9502-00f1-4e91-96c7-0bdf9454e309",
   "metadata": {},
   "outputs": [],
   "source": []
  },
  {
   "cell_type": "code",
   "execution_count": null,
   "id": "51f8eed7-1ca2-4596-b463-dc2015098f0b",
   "metadata": {},
   "outputs": [],
   "source": []
  },
  {
   "cell_type": "code",
   "execution_count": null,
   "id": "e6997b8a-b279-40f5-93e3-35e3ec203b5a",
   "metadata": {},
   "outputs": [],
   "source": []
  }
 ],
 "metadata": {
  "kernelspec": {
   "display_name": "Python 3 (ipykernel)",
   "language": "python",
   "name": "python3"
  },
  "language_info": {
   "codemirror_mode": {
    "name": "ipython",
    "version": 3
   },
   "file_extension": ".py",
   "mimetype": "text/x-python",
   "name": "python",
   "nbconvert_exporter": "python",
   "pygments_lexer": "ipython3",
   "version": "3.7.16"
  }
 },
 "nbformat": 4,
 "nbformat_minor": 5
}
