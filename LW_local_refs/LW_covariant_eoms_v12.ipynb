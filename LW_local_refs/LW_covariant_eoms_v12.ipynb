{
 "cells": [
  {
   "cell_type": "code",
   "execution_count": 12,
   "metadata": {},
   "outputs": [],
   "source": [
    "%config Completer.use_jedi = False  #fixing an autocomplete bug in my jupyter, you might not want this\n",
    "import sympy as sp \n",
    "import numpy as np\n",
    "from mpmath import *\n",
    "from sympy import *  #oops lazy, sorry"
   ]
  },
  {
   "cell_type": "code",
   "execution_count": null,
   "metadata": {},
   "outputs": [],
   "source": []
  },
  {
   "attachments": {},
   "cell_type": "markdown",
   "metadata": {},
   "source": [
    "### I define so many symbols to have covariant and contravariant versions of the necessary vectors for at least two different indices. $\\rho$ is used as an index for cases where vectors are multiplied over the same index, e.g., $x^\\rho z_\\rho$\n",
    "#### \n",
    "#### I will just use Bordovitsyn's 2003 paper\n",
    "###### https://link.springer.com/content/pdf/10.1023/A:1026217822337.pdf\n",
    "#### and Jackson and my thesis.\n",
    "#### \n",
    "#### There are many useful identities in Bordovitsyn's paper, particularly the bottom equation from page 460: $\\tilde{r}_{\\rho} v^{\\rho}=-\\tilde{r} c \\gamma[1-(\\tilde{n} \\boldsymbol{\\beta})]$. Equation 26 and the other equations on that page are very helpful for understanding the necessary parts for doing covariant derivatives on the LW potentials."
   ]
  },
  {
   "cell_type": "code",
   "execution_count": 13,
   "metadata": {},
   "outputs": [],
   "source": [
    "Pcv_aph = sp.symbols(\"P^alpha\",real=True)\n",
    "Pcn_aph = sp.symbols(\"P_alpha\",real=True)\n",
    "Acv_aph = sp.symbols(\"A^alpha\",real=True)\n",
    "Acn_aph = sp.symbols(\"A_alpha\",real=True)\n",
    "vcv_aph = sp.symbols(\"v^alpha\",real=True)\n",
    "vcn_aph = sp.symbols(\"v_alpha\",real=True)\n",
    "rcn_aph = sp.symbols(r\"\\tilde{r}_{\\alpha}\",real=True)\n",
    "rcv_aph = sp.symbols(r\"\\tilde{r}^{\\alpha}\",real=True)\n",
    "\n",
    "Pcv_bt= sp.symbols(\"P^beta\",real=True)\n",
    "Pcn_bt = sp.symbols(\"P_beta\",real=True)\n",
    "Acv_bt = sp.symbols(\"A^beta\",real=True)\n",
    "Acn_bt = sp.symbols(\"A_beta\",real=True)\n",
    "vcv_bt = sp.symbols(\"v^beta\",real=True)\n",
    "vcn_bt = sp.symbols(\"v_beta\",real=True)\n",
    "rcn_bt = sp.symbols(r\"\\tilde{r}_{\\beta}\",real=True)\n",
    "rcv_bt = sp.symbols(r\"\\tilde{r}^{\\beta}\",real=True)\n",
    "\n",
    "r_x = sp.symbols(r\"\\tilde{r}^x\",real=True,positive=True)\n",
    "r_y = sp.symbols(r\"\\tilde{r}^y\",real=True,positive=True)\n",
    "r_z = sp.symbols(r\"\\tilde{r}^z\",real=True,positive=True)\n",
    "\n",
    "v_x = sp.symbols(r\"\\tilde{v}^x\",real=True,positive=True)\n",
    "v_y = sp.symbols(r\"\\tilde{v}^y\",real=True,positive=True)\n",
    "v_z = sp.symbols(r\"\\tilde{v}^z\",real=True,positive=True)\n",
    "\n",
    "rcn_rho = sp.symbols(r\"\\tilde{r}_{\\rho}\",real=True)\n",
    "rcv_rho = sp.symbols(r\"\\tilde{r}^{\\rho}\",real=True)\n",
    "vcn_rho = sp.symbols(\"v_rho\",real=True)\n",
    "vcv_rho = sp.symbols(\"v^rho\",real=True)\n",
    "gup_ab =  sp.symbols(\"g^alpha^beta\",real=True)\n",
    "glw_ab =  sp.symbols(\"g_alpha_beta\",real=True)\n",
    "gup_ba =  sp.symbols(\"g^beta^alpha\",real=True)\n",
    "glw_ba = sp.symbols(\"g_beta_alpha\",real=True)\n",
    "del_ab = sp.symbols(\"\\delta^alpha_beta\",real=True)\n",
    "\n",
    "q =  sp.symbols(\"q\",real=True)\n",
    "q_s =  sp.symbols(\"q_s\",real=True)\n",
    "c =  sp.symbols(\"c\",real=True,positive=True)\n",
    "K = sp.symbols(\"K\",real=True,positive=True)\n",
    "\n",
    "gm = sp.symbols(\"gamma\",real=True,positive=True)\n",
    "bta = sp.symbols(r'\\vec{\\beta}',real=True)\n",
    "dbta = sp.symbols(r'\\dot{\\vec{\\beta}}',real=True)\n",
    "bta_dot_dbta = sp.symbols(r'\\vec{\\beta}\\cdot\\dot{\\vec{\\beta}}',real=True)\n",
    "bta_ob_dot_dbta = sp.symbols(r'\\beta_{ob}\\cdot\\dot{\\vec{\\beta}}',real=True)\n",
    "\n",
    "bta_x = sp.symbols(r'\\beta_x',real=True,positive=True)\n",
    "bta_x_ob = sp.symbols(r'\\beta_{x-ob}',real=True,positive=True)\n",
    "\n",
    "#dvdtau = sp.symbols(r'\\frac{dv^\\beta}{d\\tau}',real=True) \n",
    "dvdtau_bt = sp.symbols(r'\\dot{V^\\beta}',real=True) \n",
    "dvdtau_aph = sp.symbols(r'\\dot{V^\\alpha}',real=True) \n",
    "\n",
    "tau = sp.symbols('tau',real=True) \n",
    "r_mag = sp.symbols(r\"|\\tilde{r}|\",real=True)  #same as jackson's |R|\n",
    "n_src_ob = sp.symbols(r\"|\\hat{n}|\",real=True)  #same as jackson's |R|\n",
    "n_src_ob_x = sp.symbols(r\"|\\hat{n}|_x\",real=True)  #same as jackson's |R|\n",
    "n_src_ob_y = sp.symbols(r\"|\\hat{n}|_y\",real=True)  #same as jackson's |R|\n",
    "n_src_ob_z = sp.symbols(r\"|\\hat{n}|_z\",real=True)  #same as jackson's |R|\n",
    "\n",
    "#ONLY FOR OBJECTIVE\n",
    "s_vec = sp.symbols(r'\\vec{s}',real=True) #spin vector\n",
    "m_ob = sp.symbols('m_{ob}',real=True,positive=True) \n",
    "gm_ob = sp.symbols(r'\\gamma_{ob}',real=True) \n",
    "bta_ob = sp.symbols(\"beta_ob\",real=True,positive=True)\n",
    "vcn_bt_ob = sp.symbols(\"v_beta_-ob\",real=True)\n",
    "vcv_bt_ob = sp.symbols(\"v^beta^-ob\",real=True)\n",
    "vcv_aph_ob = sp.symbols(\"v^alpha^-ob\",real=True)\n",
    "vcn_aph_ob = sp.symbols(\"v_alpha_-ob\",real=True)\n",
    "\n",
    "#dot product\n",
    "bta_dot_btaob =sp.symbols(r'\\vec{\\beta}\\cdot\\beta_{ob}',real=True,positive=True) \n",
    "\n",
    "#d/dtau derivatives (proper time)\n",
    "bta_dot =sp.symbols(r'\\dot{\\beta}',real=True,positive=True)  \n",
    "bta_dot_ob =sp.symbols(r'\\dot{\\beta}_{ob}',real=True,positive=True)  \n",
    "bta_dot_x = sp.symbols(r'\\dot{\\beta}_{x}',real=True,positive=True)  \n"
   ]
  },
  {
   "cell_type": "code",
   "execution_count": 14,
   "metadata": {},
   "outputs": [
    {
     "data": {
      "text/latex": [
       "$\\displaystyle \\vec{\\beta}\\cdot\\beta_{ob}$"
      ],
      "text/plain": [
       "\\vec{\\beta}\\cdot\\beta_{ob}"
      ]
     },
     "execution_count": 14,
     "metadata": {},
     "output_type": "execute_result"
    }
   ],
   "source": [
    "bta_dot_btaob"
   ]
  },
  {
   "attachments": {},
   "cell_type": "markdown",
   "metadata": {},
   "source": [
    "### this block is just a test based on jackson's dVdtau formalism. i use bordovitsyn instead below "
   ]
  },
  {
   "cell_type": "code",
   "execution_count": 15,
   "metadata": {},
   "outputs": [
    {
     "data": {
      "text/latex": [
       "$\\displaystyle \\frac{\\dot{V^\\beta} \\tilde{r}^{\\alpha} q_{s}}{K^{2} c^{2} \\gamma^{2} |\\tilde{r}|^{2}} - \\frac{q_{s} v^{\\alpha} v^{\\beta}}{K^{2} c^{2} \\gamma^{2} |\\tilde{r}|^{2}} - \\frac{\\dot{V^\\alpha} \\tilde{r}^{\\alpha} \\tilde{r}_{\\alpha} q_{s} v^{\\beta}}{K^{3} c^{3} \\gamma^{3} |\\tilde{r}|^{3}} + \\frac{\\tilde{r}^{\\alpha} q_{s} v^{\\beta}}{K^{3} c \\gamma^{3} |\\tilde{r}|^{3}}$"
      ],
      "text/plain": [
       "\\dot{V^\\beta}*\\tilde{r}^{\\alpha}*q_s/(K**2*c**2*gamma**2*|\\tilde{r}|**2) - q_s*v^alpha*v^beta/(K**2*c**2*gamma**2*|\\tilde{r}|**2) - \\dot{V^\\alpha}*\\tilde{r}^{\\alpha}*\\tilde{r}_{\\alpha}*q_s*v^beta/(K**3*c**3*gamma**3*|\\tilde{r}|**3) + \\tilde{r}^{\\alpha}*q_s*v^beta/(K**3*c*gamma**3*|\\tilde{r}|**3)"
      ]
     },
     "execution_count": 15,
     "metadata": {},
     "output_type": "execute_result"
    }
   ],
   "source": [
    "#inferring from 14.11 a different form for dcv_aph_Acv_bt\n",
    "#d_dtau_term = rcv_aph*vcv_bt/(K*c*r_mag*gm) #for reference only\n",
    "\n",
    "d_dtau_term_solved = ((-vcv_aph*vcv_bt+rcv_aph*dvdtau_bt)*(K*c*r_mag*gm) - rcv_aph*vcv_bt*(-c**2+rcn_aph*dvdtau_aph))/(K*c*r_mag*gm)**2\n",
    "dcv_aph_Acv_bt_alt = expand(q_s/(K*c*r_mag*gm)*d_dtau_term_solved)\n",
    "#dcv_aph_Acv_bt_alt = dcv_aph_Acv_bt_alt.subs(rcn_aph*rcv_aph,0) #not wrong!!!!!\n",
    "#dcv_aph_Acv_bt_alt = dcv_aph_Acv_bt_alt.subs(vcv_aph*vcv_bt,c**2*gup_ab)\n",
    "#dcv_aph_Acv_bt_alt = dcv_aph_Acv_bt_alt.subs(rcn_bt*vcv_bt,(K*c*r_mag*gm))\n",
    "#dcv_aph_Acv_bt_alt = dcv_aph_Acv_bt_alt.subs(rcv_aph*vcv_bt,(K*c*r_mag*gm))\n",
    "\n",
    "\n",
    "#dcv_aph_Acv_bt_alt = dcv_aph_Acv_bt_alt.subs(rcv_aph*vcv_bt,gup_ab*(K*c*r_mag*gm))\n",
    "dcv_aph_Acv_bt_alt\n",
    "\n",
    "### when switching dVdtau indices, Jac(K*c*r_mag*gm)son is ambiguous here. Leading terms match bordovitsyn with switched indices, but loo(K*c*r_mag*gm)s suspect "
   ]
  },
  {
   "cell_type": "code",
   "execution_count": 16,
   "metadata": {},
   "outputs": [
    {
     "data": {
      "text/latex": [
       "$\\displaystyle \\frac{\\dot{V^\\beta} \\tilde{r}^{\\alpha} q_{s}}{K^{2} c^{2} \\gamma^{2} |\\tilde{r}|^{2}} - \\frac{q_{s} v^{\\alpha} v^{\\beta}}{K^{2} c^{2} \\gamma^{2} |\\tilde{r}|^{2}} - \\frac{\\dot{V^\\alpha} \\tilde{r}^{\\alpha} \\tilde{r}_{\\alpha} q_{s} v^{\\beta}}{K^{3} c^{3} \\gamma^{3} |\\tilde{r}|^{3}} + \\frac{\\tilde{r}^{\\alpha} q_{s} v^{\\beta}}{K^{3} c \\gamma^{3} |\\tilde{r}|^{3}}$"
      ],
      "text/plain": [
       "\\dot{V^\\beta}*\\tilde{r}^{\\alpha}*q_s/(K**2*c**2*gamma**2*|\\tilde{r}|**2) - q_s*v^alpha*v^beta/(K**2*c**2*gamma**2*|\\tilde{r}|**2) - \\dot{V^\\alpha}*\\tilde{r}^{\\alpha}*\\tilde{r}_{\\alpha}*q_s*v^beta/(K**3*c**3*gamma**3*|\\tilde{r}|**3) + \\tilde{r}^{\\alpha}*q_s*v^beta/(K**3*c*gamma**3*|\\tilde{r}|**3)"
      ]
     },
     "execution_count": 16,
     "metadata": {},
     "output_type": "execute_result"
    }
   ],
   "source": [
    "dcv_aph_Acv_bt_alt"
   ]
  },
  {
   "cell_type": "code",
   "execution_count": 17,
   "metadata": {},
   "outputs": [],
   "source": [
    "d_dtau_term_solved_reverse = ((-vcv_aph*vcv_bt+rcv_bt*dvdtau_aph)*(K*c*r_mag*gm) - rcv_bt*vcv_aph*(-c**2+rcn_aph*dvdtau_bt))/(K*c*r_mag*gm)**2\n",
    "dcv_bt_Acv_aph_alt = expand(q_s/(K*c*r_mag*gm)*d_dtau_term_solved_reverse)"
   ]
  },
  {
   "cell_type": "code",
   "execution_count": 18,
   "metadata": {},
   "outputs": [
    {
     "data": {
      "text/latex": [
       "$\\displaystyle - \\frac{\\dot{V^\\alpha} \\tilde{r}^{\\beta} q_{s}}{K^{2} c^{2} \\gamma^{2} |\\tilde{r}|^{2}} + \\frac{\\dot{V^\\beta} \\tilde{r}^{\\alpha} q_{s}}{K^{2} c^{2} \\gamma^{2} |\\tilde{r}|^{2}} - \\frac{\\dot{V^\\alpha} \\tilde{r}^{\\alpha} \\tilde{r}_{\\alpha} q_{s} v^{\\beta}}{K^{3} c^{3} \\gamma^{3} |\\tilde{r}|^{3}} + \\frac{\\dot{V^\\beta} \\tilde{r}^{\\beta} \\tilde{r}_{\\alpha} q_{s} v^{\\alpha}}{K^{3} c^{3} \\gamma^{3} |\\tilde{r}|^{3}} + \\frac{\\tilde{r}^{\\alpha} q_{s} v^{\\beta}}{K^{3} c \\gamma^{3} |\\tilde{r}|^{3}} - \\frac{\\tilde{r}^{\\beta} q_{s} v^{\\alpha}}{K^{3} c \\gamma^{3} |\\tilde{r}|^{3}}$"
      ],
      "text/plain": [
       "-\\dot{V^\\alpha}*\\tilde{r}^{\\beta}*q_s/(K**2*c**2*gamma**2*|\\tilde{r}|**2) + \\dot{V^\\beta}*\\tilde{r}^{\\alpha}*q_s/(K**2*c**2*gamma**2*|\\tilde{r}|**2) - \\dot{V^\\alpha}*\\tilde{r}^{\\alpha}*\\tilde{r}_{\\alpha}*q_s*v^beta/(K**3*c**3*gamma**3*|\\tilde{r}|**3) + \\dot{V^\\beta}*\\tilde{r}^{\\beta}*\\tilde{r}_{\\alpha}*q_s*v^alpha/(K**3*c**3*gamma**3*|\\tilde{r}|**3) + \\tilde{r}^{\\alpha}*q_s*v^beta/(K**3*c*gamma**3*|\\tilde{r}|**3) - \\tilde{r}^{\\beta}*q_s*v^alpha/(K**3*c*gamma**3*|\\tilde{r}|**3)"
      ]
     },
     "execution_count": 18,
     "metadata": {},
     "output_type": "execute_result"
    }
   ],
   "source": [
    "expand(dcv_aph_Acv_bt_alt-dcv_bt_Acv_aph_alt)"
   ]
  },
  {
   "cell_type": "code",
   "execution_count": 19,
   "metadata": {},
   "outputs": [
    {
     "data": {
      "text/latex": [
       "$\\displaystyle \\frac{K c \\gamma |\\tilde{r}| \\left(\\dot{V^\\beta} \\tilde{r}^{\\alpha} - v^{\\alpha} v^{\\beta}\\right) - \\tilde{r}^{\\alpha} v^{\\beta} \\left(\\dot{V^\\alpha} \\tilde{r}_{\\alpha} - c^{2}\\right)}{K^{2} c^{2} \\gamma^{2} |\\tilde{r}|^{2}}$"
      ],
      "text/plain": [
       "(K*c*gamma*|\\tilde{r}|*(\\dot{V^\\beta}*\\tilde{r}^{\\alpha} - v^alpha*v^beta) - \\tilde{r}^{\\alpha}*v^beta*(\\dot{V^\\alpha}*\\tilde{r}_{\\alpha} - c**2))/(K**2*c**2*gamma**2*|\\tilde{r}|**2)"
      ]
     },
     "execution_count": 19,
     "metadata": {},
     "output_type": "execute_result"
    }
   ],
   "source": [
    "d_dtau_term_solved#.subs(dvdtau_bt,0)"
   ]
  },
  {
   "cell_type": "code",
   "execution_count": 20,
   "metadata": {},
   "outputs": [],
   "source": [
    "#expand(dAdtau)"
   ]
  },
  {
   "cell_type": "code",
   "execution_count": null,
   "metadata": {},
   "outputs": [],
   "source": []
  },
  {
   "attachments": {},
   "cell_type": "markdown",
   "metadata": {},
   "source": [
    "#### I use $\\tilde{r}$ (Bordovitsyn's notation) for the distance between particles at retarded time $\\tau$. This is $[x-r(\\tau)]$ in Jackson, where  $\\left|[x-r(\\tau)]\\right| \\equiv R$ "
   ]
  },
  {
   "cell_type": "code",
   "execution_count": null,
   "metadata": {},
   "outputs": [],
   "source": []
  },
  {
   "attachments": {},
   "cell_type": "markdown",
   "metadata": {},
   "source": [
    "#### Starting with the second form of Equation 43 from Bordovitsyn's paper.\n",
    "##### and using K $\\equiv (1-\\beta \\cdot \\vec{n})$"
   ]
  },
  {
   "cell_type": "code",
   "execution_count": 21,
   "metadata": {},
   "outputs": [
    {
     "data": {
      "text/latex": [
       "$\\displaystyle - \\frac{A^{\\beta} v^{\\alpha}}{K c \\gamma |\\tilde{r}|} + \\frac{\\tilde{r}^{\\alpha} \\frac{d}{d \\tau} A^{\\beta}}{K c \\gamma |\\tilde{r}|}$"
      ],
      "text/plain": [
       "-A^beta*v^alpha/(K*c*gamma*|\\tilde{r}|) + \\tilde{r}^{\\alpha}*Derivative(A^beta, tau)/(K*c*gamma*|\\tilde{r}|)"
      ]
     },
     "execution_count": 21,
     "metadata": {},
     "output_type": "execute_result"
    }
   ],
   "source": [
    "dcv_aph_Acv_bt = -vcv_aph/(c*(K)*r_mag*gm)*Acv_bt+rcv_aph/(c*K*r_mag*gm)*sp.Derivative(Acv_bt,tau)\n",
    "dcv_aph_Acv_bt"
   ]
  },
  {
   "attachments": {},
   "cell_type": "markdown",
   "metadata": {},
   "source": [
    "### Now we need Jackson 14.12, and 14.6\n",
    "\n"
   ]
  },
  {
   "cell_type": "code",
   "execution_count": 22,
   "metadata": {},
   "outputs": [
    {
     "data": {
      "text/latex": [
       "$\\displaystyle v^{\\beta}$"
      ],
      "text/plain": [
       "v^beta"
      ]
     },
     "execution_count": 22,
     "metadata": {},
     "output_type": "execute_result"
    }
   ],
   "source": [
    "vcv_bt"
   ]
  },
  {
   "cell_type": "code",
   "execution_count": 23,
   "metadata": {},
   "outputs": [
    {
     "data": {
      "text/latex": [
       "$\\displaystyle \\frac{\\dot{V^\\beta} q_{s}}{K c \\gamma |\\tilde{r}|} - \\frac{\\dot{V^\\alpha} \\tilde{r}_{\\alpha} q_{s} v^{\\beta}}{K^{2} c^{2} \\gamma^{2} |\\tilde{r}|^{2}} + \\frac{q_{s} v^{\\beta}}{K^{2} \\gamma^{2} |\\tilde{r}|^{2}}$"
      ],
      "text/plain": [
       "\\dot{V^\\beta}*q_s/(K*c*gamma*|\\tilde{r}|) - \\dot{V^\\alpha}*\\tilde{r}_{\\alpha}*q_s*v^beta/(K**2*c**2*gamma**2*|\\tilde{r}|**2) + q_s*v^beta/(K**2*gamma**2*|\\tilde{r}|**2)"
      ]
     },
     "execution_count": 23,
     "metadata": {},
     "output_type": "execute_result"
    }
   ],
   "source": [
    "#using quotient rule... keep a close eye on indices here,\n",
    "#dAdtau = expand(q_s*(dvdtau_bt*(K)*c*r_mag*gm-vcv_bt*(-c**2+rcn_bt*dvdtau_bt))/(K*c*r_mag*gm)**2)\n",
    "dAdtau = expand(q_s*(dvdtau_bt*(K)*c*r_mag*gm-vcv_bt*(-c**2+rcn_aph*dvdtau_aph))/(K*c*r_mag*gm)**2)\n",
    "#dAdtau = dAdtau.subs(rcn_bt*vcv_bt,K*c*r_mag*gm)\n",
    "dAdtau"
   ]
  },
  {
   "cell_type": "code",
   "execution_count": 24,
   "metadata": {},
   "outputs": [],
   "source": [
    "#dcv_aph_Acv_bt_sbbd = dcv_aph_Acv_bt.subs(sp.Derivative(Acv_bt,tau),expand(dAdtau))       #bordovitsyn\n",
    "dcv_aph_Acv_bt_sbbd = dcv_aph_Acv_bt_alt#.subs(sp.Derivative(Acv_bt,tau),expand(dAdtau)) #mine by jackson\n",
    "#dcv_aph_Acv_bt_sbbd = (expand(dcv_aph_Acv_bt_sbbd)) #original\n",
    "#dcv_aph_Acv_bt_sbbd = (expand(dcv_aph_Acv_bt_sbbd)*rcn_aph) #extra simple\n",
    "dcv_aph_Acv_bt_sbbd= dcv_aph_Acv_bt_sbbd.subs(Acv_bt,q_s*vcv_bt/(c*(K)*r_mag*gm))\n",
    "#dcv_aph_Acv_bt_sbbd= dcv_aph_Acv_bt_sbbd.subs(Acn_bt,q_s*vcn_bt/(c*K*r_mag*gm))\n",
    "\n",
    "#dcv_aph_Acv_bt_sbbd = dcv_aph_Acv_bt_sbbd.subs(q_s,1)\n",
    "#dcv_aph_Acv_bt_sbbd = expand(dcv_aph_Acv_bt_sbbd.subs(rcn_bt*vcv_bt,c*K*r_mag*gm))\n",
    "#dcv_aph_Acv_bt_sbbd = dcv_aph_Acv_bt_sbbd.subs(rcn_bt*vcv_bt,c*K*r_mag*gm)\n",
    "#dcv_aph_Acv_bt_sbbd = dcv_aph_Acv_bt_sbbd.subs(rcv_aph*rcn_aph,0)\n",
    "#dcv_aph_Acv_bt_sbbd = dcv_aph_Acv_bt_sbbd.subs(rcn_aph*rcv_aph,0) #OLD SIMPLIFICATION -leaves a Vdot dependence\n",
    "#dcv_aph_Acv_bt_sbbd = dcv_aph_Acv_bt_sbbd.subs(vcv_aph*vcv_bt,c**2*gup_ab) "
   ]
  },
  {
   "cell_type": "code",
   "execution_count": 25,
   "metadata": {},
   "outputs": [
    {
     "data": {
      "text/latex": [
       "$\\displaystyle \\frac{\\dot{V^\\beta} \\tilde{r}^{\\alpha} q_{s}}{K^{2} c^{2} \\gamma^{2} |\\tilde{r}|^{2}} - \\frac{q_{s} v^{\\alpha} v^{\\beta}}{K^{2} c^{2} \\gamma^{2} |\\tilde{r}|^{2}} - \\frac{\\dot{V^\\alpha} \\tilde{r}^{\\alpha} \\tilde{r}_{\\alpha} q_{s} v^{\\beta}}{K^{3} c^{3} \\gamma^{3} |\\tilde{r}|^{3}} + \\frac{\\tilde{r}^{\\alpha} q_{s} v^{\\beta}}{K^{3} c \\gamma^{3} |\\tilde{r}|^{3}}$"
      ],
      "text/plain": [
       "\\dot{V^\\beta}*\\tilde{r}^{\\alpha}*q_s/(K**2*c**2*gamma**2*|\\tilde{r}|**2) - q_s*v^alpha*v^beta/(K**2*c**2*gamma**2*|\\tilde{r}|**2) - \\dot{V^\\alpha}*\\tilde{r}^{\\alpha}*\\tilde{r}_{\\alpha}*q_s*v^beta/(K**3*c**3*gamma**3*|\\tilde{r}|**3) + \\tilde{r}^{\\alpha}*q_s*v^beta/(K**3*c*gamma**3*|\\tilde{r}|**3)"
      ]
     },
     "execution_count": 25,
     "metadata": {},
     "output_type": "execute_result"
    }
   ],
   "source": [
    "expand(dcv_aph_Acv_bt_sbbd)"
   ]
  },
  {
   "cell_type": "code",
   "execution_count": 26,
   "metadata": {},
   "outputs": [
    {
     "data": {
      "text/latex": [
       "$\\displaystyle 0$"
      ],
      "text/plain": [
       "0"
      ]
     },
     "execution_count": 26,
     "metadata": {},
     "output_type": "execute_result"
    }
   ],
   "source": [
    "expand(dcv_aph_Acv_bt_alt)-expand(dcv_aph_Acv_bt_sbbd)"
   ]
  },
  {
   "cell_type": "code",
   "execution_count": 27,
   "metadata": {},
   "outputs": [
    {
     "data": {
      "text/latex": [
       "$\\displaystyle \\tilde{r}^{\\beta} v_{\\beta}$"
      ],
      "text/plain": [
       "\\tilde{r}^{\\beta}*v_beta"
      ]
     },
     "execution_count": 27,
     "metadata": {},
     "output_type": "execute_result"
    }
   ],
   "source": [
    "rcv_bt*vcn_bt"
   ]
  },
  {
   "attachments": {},
   "cell_type": "markdown",
   "metadata": {},
   "source": [
    "### This is our main result, before substituting in explicit components. Note that I use $V_{\\beta-observer}$ instead of $P_\\beta - (q/c) A_\\beta$"
   ]
  },
  {
   "cell_type": "code",
   "execution_count": null,
   "metadata": {},
   "outputs": [],
   "source": []
  },
  {
   "cell_type": "code",
   "execution_count": 28,
   "metadata": {},
   "outputs": [],
   "source": [
    "Pcn_bt_expl = m_ob*vcn_bt_ob+q*q_s*vcn_bt/(c**2*(K)*r_mag*gm)"
   ]
  },
  {
   "cell_type": "code",
   "execution_count": 29,
   "metadata": {},
   "outputs": [
    {
     "data": {
      "text/latex": [
       "$\\displaystyle m_{ob} v_{\\beta -ob} + \\frac{q q_{s} v_{\\beta}}{K c^{2} \\gamma |\\tilde{r}|}$"
      ],
      "text/plain": [
       "m_{ob}*v_beta_-ob + q*q_s*v_beta/(K*c**2*gamma*|\\tilde{r}|)"
      ]
     },
     "execution_count": 29,
     "metadata": {},
     "output_type": "execute_result"
    }
   ],
   "source": [
    "Pcn_bt_expl"
   ]
  },
  {
   "cell_type": "code",
   "execution_count": 30,
   "metadata": {},
   "outputs": [],
   "source": [
    "#dPcv_aph_dtau_O = q/c*(vcn_bt_ob-q/(m_ob*c)*Acn_bt)*dcv_aph_Acv_bt_sbbd #original def... spurious\n",
    "dPcv_aph_dtau = q/(c*m_ob)*(Pcn_bt-q/c*Acn_bt)*dcv_aph_Acv_bt_sbbd\n",
    "#dPcv_aph_dtau = q/(c*m_ob)*(m_ob*vcn_bt_ob)*dcv_aph_Acv_bt_sbbd\n",
    "\n",
    "dPcv_aph_dtau_sbbd = dPcv_aph_dtau.subs(Acn_bt,q_s*vcn_bt/(c*K*r_mag*gm))\n",
    "dPcv_aph_dtau_sbbd = dPcv_aph_dtau_sbbd.subs(Pcn_bt,Pcn_bt_expl)\n",
    "dPcv_aph_dtau_sbbd = expand(dPcv_aph_dtau_sbbd)\n",
    "dPcv_aph_dtau_sbbd = dPcv_aph_dtau_sbbd.subs(gup_ab*vcn_bt_ob,vcv_aph_ob)"
   ]
  },
  {
   "cell_type": "code",
   "execution_count": 66,
   "metadata": {},
   "outputs": [
    {
     "data": {
      "text/latex": [
       "$\\displaystyle \\frac{\\dot{V^\\beta} \\tilde{r}^{\\alpha} q q_{s} v_{\\beta -ob}}{K^{2} c^{3} \\gamma^{2} |\\tilde{r}|^{2}} - \\frac{q q_{s} v^{\\alpha} v^{\\beta} v_{\\beta -ob}}{K^{2} c^{3} \\gamma^{2} |\\tilde{r}|^{2}} - \\frac{\\dot{V^\\alpha} \\tilde{r}^{\\alpha} \\tilde{r}_{\\alpha} q q_{s} v^{\\beta} v_{\\beta -ob}}{K^{3} c^{4} \\gamma^{3} |\\tilde{r}|^{3}} + \\frac{\\tilde{r}^{\\alpha} q q_{s} v^{\\beta} v_{\\beta -ob}}{K^{3} c^{2} \\gamma^{3} |\\tilde{r}|^{3}}$"
      ],
      "text/plain": [
       "\\dot{V^\\beta}*\\tilde{r}^{\\alpha}*q*q_s*v_beta_-ob/(K**2*c**3*gamma**2*|\\tilde{r}|**2) - q*q_s*v^alpha*v^beta*v_beta_-ob/(K**2*c**3*gamma**2*|\\tilde{r}|**2) - \\dot{V^\\alpha}*\\tilde{r}^{\\alpha}*\\tilde{r}_{\\alpha}*q*q_s*v^beta*v_beta_-ob/(K**3*c**4*gamma**3*|\\tilde{r}|**3) + \\tilde{r}^{\\alpha}*q*q_s*v^beta*v_beta_-ob/(K**3*c**2*gamma**3*|\\tilde{r}|**3)"
      ]
     },
     "execution_count": 66,
     "metadata": {},
     "output_type": "execute_result"
    }
   ],
   "source": [
    "expand(dPcv_aph_dtau_sbbd)"
   ]
  },
  {
   "cell_type": "code",
   "execution_count": null,
   "metadata": {},
   "outputs": [],
   "source": []
  },
  {
   "attachments": {},
   "cell_type": "markdown",
   "metadata": {},
   "source": []
  },
  {
   "attachments": {},
   "cell_type": "markdown",
   "metadata": {},
   "source": []
  },
  {
   "cell_type": "code",
   "execution_count": 32,
   "metadata": {},
   "outputs": [],
   "source": [
    "#From Jackson 14.12:\n",
    "dvdtau_0= c*gm**4*bta_dot_dbta\n",
    "dvdtau_3= c*gm**2*dbta+c*gm**4*bta*(bta_dot_dbta)\n",
    "\n",
    "v0 = gm*c\n",
    "v3 = gm*c*bta_x\n",
    "v0_ob = gm_ob*c\n",
    "v3_ob = gm_ob*c*bta_ob\n",
    "v0_dot = gm**4*bta_dot_dbta*c #see jackson 14.12 or wikipedia \"four-acceleration\"\n",
    "v3_dot = gm**2*bta_dot*c+gm**4*bta_dot_dbta*bta*c\n",
    "\n",
    "r0 = r_mag\n",
    "r3 = r_mag*n_src_ob"
   ]
  },
  {
   "cell_type": "code",
   "execution_count": 33,
   "metadata": {},
   "outputs": [
    {
     "data": {
      "text/latex": [
       "$\\displaystyle \\dot{\\beta}$"
      ],
      "text/plain": [
       "\\dot{\\beta}"
      ]
     },
     "execution_count": 33,
     "metadata": {},
     "output_type": "execute_result"
    }
   ],
   "source": [
    "bta_dot"
   ]
  },
  {
   "cell_type": "code",
   "execution_count": 34,
   "metadata": {},
   "outputs": [],
   "source": [
    "dPcv_aph_dtau_0 = expand(dPcv_aph_dtau_sbbd)\n",
    "\n",
    "#dPcv_aph_dtau_0 = dPcv_aph_dtau_0.subs(vcv_aph*vcv_bt,gup_ab*c**2)\n",
    "#dPcv_aph_dtau_0 = dPcv_aph_dtau_0.subs(rcv_aph*vcv_bt,gup_ab*K*c*r_mag*gm)\n",
    "#dPcv_aph_dtau_0 = dPcv_aph_dtau_0.subs(gup_ab*vcn_bt_ob,v0)\n",
    "\n",
    "\n",
    "#dPcv_aph_dtau_0 = dPcv_aph_dtau_0.subs(dvdtau_bt*vcn_bt_ob,v0_ob*v0_dot-v3_ob*v3_dot)\n",
    "dPcv_aph_dtau_0 = dPcv_aph_dtau_0.subs(dvdtau_aph,v0_dot)\n",
    "dPcv_aph_dtau_0 = dPcv_aph_dtau_0.subs(rcv_aph,r0)\n",
    "dPcv_aph_dtau_0 = dPcv_aph_dtau_0.subs(rcn_aph,r0) #\n",
    "\n",
    "\n",
    "#dPcv_aph_dtau_0 = dPcv_aph_dtau_0.subs(dvdtau_bt,dvdtau_0)\n",
    "#dPcv_aph_dtau_0 = dPcv_aph_dtau_0.subs(dvdtau_aph,dvdtau_0)\n",
    "\n",
    "#dPcv_aph_dtau_0 = dPcv_aph_dtau_0.subs(gup_ab*vcn_bt_ob,vcv_aph_ob)\n",
    "#dPcv_aph_dtau_0 = dPcv_aph_dtau_0.subs(vcv_bt*vcn_bt_ob,c**2*gm_ob*gm*(1-bta_dot_btaob))\n",
    "#dPcv_aph_dtau_0 = dPcv_aph_dtau_0.subs(vcv_bt*vcn_bt_ob,v0*v0_ob-v3*v3_ob)\n",
    "\n",
    "#dPcv_aph_dtau_0 = dPcv_aph_dtau_0.subs(vcn_aph,v0)\n",
    "dPcv_aph_dtau_0 = dPcv_aph_dtau_0.subs(vcv_aph,v0)\n",
    "\n",
    "#dPcv_aph_dtau_0 = dPcv_aph_dtau_0.subs(vcn_bt,v0)\n",
    "#dPcv_aph_dtau_0 = dPcv_aph_dtau_0.subs(vcv_bt,v0)\n",
    "\n",
    "\n",
    "# #dPcv_aph_dtau_0 = dPcv_aph_dtau_0.subs(rcn_bt,r0)\n",
    "# dPcv_aph_dtau_0 = dPcv_aph_dtau_0.subs(rcv_bt,r0)\n",
    "# dPcv_aph_dtau_0 = dPcv_aph_dtau_0.subs(gup_ab*vcn_bt_ob,v0_ob)\n",
    "#dPcv_aph_dtau_0 = dPcv_aph_dtau_0.subs(vcv_aph_ob,v0_ob)\n",
    "#dPcv_aph_dtau_0 = dPcv_aph_dtau_0.subs(dvdtau_bt,v0_dot)\n",
    "\n",
    "# #dPcv_aph_dtau_0 = dPcv_aph_dtau_0.subs(vcn_aph_ob,-v0_ob)"
   ]
  },
  {
   "attachments": {},
   "cell_type": "markdown",
   "metadata": {},
   "source": []
  },
  {
   "cell_type": "code",
   "execution_count": 67,
   "metadata": {},
   "outputs": [
    {
     "data": {
      "text/latex": [
       "$\\displaystyle \\frac{\\dot{V^\\beta} q q_{s} v_{\\beta -ob}}{K^{2} c^{3} \\gamma^{2} |\\tilde{r}|} - \\frac{q q_{s} v^{\\beta} v_{\\beta -ob}}{K^{2} c^{2} \\gamma |\\tilde{r}|^{2}} - \\frac{\\vec{\\beta}\\cdot\\dot{\\vec{\\beta}} \\gamma q q_{s} v^{\\beta} v_{\\beta -ob}}{K^{3} c^{3} |\\tilde{r}|} + \\frac{q q_{s} v^{\\beta} v_{\\beta -ob}}{K^{3} c^{2} \\gamma^{3} |\\tilde{r}|^{2}}$"
      ],
      "text/plain": [
       "\\dot{V^\\beta}*q*q_s*v_beta_-ob/(K**2*c**3*gamma**2*|\\tilde{r}|) - q*q_s*v^beta*v_beta_-ob/(K**2*c**2*gamma*|\\tilde{r}|**2) - \\vec{\\beta}\\cdot\\dot{\\vec{\\beta}}*gamma*q*q_s*v^beta*v_beta_-ob/(K**3*c**3*|\\tilde{r}|) + q*q_s*v^beta*v_beta_-ob/(K**3*c**2*gamma**3*|\\tilde{r}|**2)"
      ]
     },
     "execution_count": 67,
     "metadata": {},
     "output_type": "execute_result"
    }
   ],
   "source": [
    "dPcv_aph_dtau_0"
   ]
  },
  {
   "cell_type": "code",
   "execution_count": 70,
   "metadata": {},
   "outputs": [
    {
     "data": {
      "text/latex": [
       "$\\displaystyle - \\frac{\\gamma_{ob} q q_{s} \\left(1 - \\vec{\\beta}\\cdot\\beta_{ob}\\right)}{K^{2} |\\tilde{r}|^{2}} + \\frac{\\gamma_{ob} q q_{s} \\left(1 - \\vec{\\beta}\\cdot\\beta_{ob}\\right)}{K^{3} \\gamma^{2} |\\tilde{r}|^{2}}$"
      ],
      "text/plain": [
       "-\\gamma_{ob}*q*q_s*(1 - \\vec{\\beta}\\cdot\\beta_{ob})/(K**2*|\\tilde{r}|**2) + \\gamma_{ob}*q*q_s*(1 - \\vec{\\beta}\\cdot\\beta_{ob})/(K**3*gamma**2*|\\tilde{r}|**2)"
      ]
     },
     "execution_count": 70,
     "metadata": {},
     "output_type": "execute_result"
    }
   ],
   "source": [
    "dPcv_aph_dtau_0.subs(vcv_bt*vcn_bt_ob,c**2*gm_ob*gm*(1-bta_dot_btaob)).subs(bta_dot_dbta,0).subs(bta_dot,0).subs(dvdtau_bt,0)"
   ]
  },
  {
   "cell_type": "code",
   "execution_count": 36,
   "metadata": {},
   "outputs": [],
   "source": [
    "#full scalar\n",
    "dPdtau0 = dPcv_aph_dtau_0.subs(vcv_bt*vcn_bt_ob,c**2*gm_ob*gm*(1-bta_dot_btaob))\n",
    "dPdtau0 = (dPdtau0).subs(dvdtau_bt*vcn_bt_ob,v0_ob*v0_dot-v3_ob*v3_dot)"
   ]
  },
  {
   "cell_type": "code",
   "execution_count": 37,
   "metadata": {},
   "outputs": [
    {
     "data": {
      "text/latex": [
       "$\\displaystyle - \\frac{\\gamma_{ob} q q_{s} \\left(1 - \\vec{\\beta}\\cdot\\beta_{ob}\\right)}{K^{2} |\\tilde{r}|^{2}} + \\frac{q q_{s} \\left(\\gamma_{ob} \\vec{\\beta}\\cdot\\dot{\\vec{\\beta}} c^{2} \\gamma^{4} - \\gamma_{ob} \\beta_{ob} c \\left(\\dot{\\beta} c \\gamma^{2} + \\vec{\\beta} \\vec{\\beta}\\cdot\\dot{\\vec{\\beta}} c \\gamma^{4}\\right)\\right)}{K^{2} c^{3} \\gamma^{2} |\\tilde{r}|} - \\frac{\\gamma_{ob} \\vec{\\beta}\\cdot\\dot{\\vec{\\beta}} \\gamma^{2} q q_{s} \\left(1 - \\vec{\\beta}\\cdot\\beta_{ob}\\right)}{K^{3} c |\\tilde{r}|} + \\frac{\\gamma_{ob} q q_{s} \\left(1 - \\vec{\\beta}\\cdot\\beta_{ob}\\right)}{K^{3} \\gamma^{2} |\\tilde{r}|^{2}}$"
      ],
      "text/plain": [
       "-\\gamma_{ob}*q*q_s*(1 - \\vec{\\beta}\\cdot\\beta_{ob})/(K**2*|\\tilde{r}|**2) + q*q_s*(\\gamma_{ob}*\\vec{\\beta}\\cdot\\dot{\\vec{\\beta}}*c**2*gamma**4 - \\gamma_{ob}*beta_ob*c*(\\dot{\\beta}*c*gamma**2 + \\vec{\\beta}*\\vec{\\beta}\\cdot\\dot{\\vec{\\beta}}*c*gamma**4))/(K**2*c**3*gamma**2*|\\tilde{r}|) - \\gamma_{ob}*\\vec{\\beta}\\cdot\\dot{\\vec{\\beta}}*gamma**2*q*q_s*(1 - \\vec{\\beta}\\cdot\\beta_{ob})/(K**3*c*|\\tilde{r}|) + \\gamma_{ob}*q*q_s*(1 - \\vec{\\beta}\\cdot\\beta_{ob})/(K**3*gamma**2*|\\tilde{r}|**2)"
      ]
     },
     "execution_count": 37,
     "metadata": {},
     "output_type": "execute_result"
    }
   ],
   "source": [
    "(dPdtau0)"
   ]
  },
  {
   "cell_type": "code",
   "execution_count": 38,
   "metadata": {},
   "outputs": [
    {
     "data": {
      "text/latex": [
       "$\\displaystyle \\frac{\\dot{V^\\beta} \\tilde{r}^{\\alpha} q q_{s} v_{\\beta -ob}}{K^{2} c^{3} \\gamma^{2} |\\tilde{r}|^{2}} - \\frac{q q_{s} v^{\\alpha} v^{\\beta} v_{\\beta -ob}}{K^{2} c^{3} \\gamma^{2} |\\tilde{r}|^{2}} - \\frac{\\dot{V^\\alpha} \\tilde{r}^{\\alpha} \\tilde{r}_{\\alpha} q q_{s} v^{\\beta} v_{\\beta -ob}}{K^{3} c^{4} \\gamma^{3} |\\tilde{r}|^{3}} + \\frac{\\tilde{r}^{\\alpha} q q_{s} v^{\\beta} v_{\\beta -ob}}{K^{3} c^{2} \\gamma^{3} |\\tilde{r}|^{3}}$"
      ],
      "text/plain": [
       "\\dot{V^\\beta}*\\tilde{r}^{\\alpha}*q*q_s*v_beta_-ob/(K**2*c**3*gamma**2*|\\tilde{r}|**2) - q*q_s*v^alpha*v^beta*v_beta_-ob/(K**2*c**3*gamma**2*|\\tilde{r}|**2) - \\dot{V^\\alpha}*\\tilde{r}^{\\alpha}*\\tilde{r}_{\\alpha}*q*q_s*v^beta*v_beta_-ob/(K**3*c**4*gamma**3*|\\tilde{r}|**3) + \\tilde{r}^{\\alpha}*q*q_s*v^beta*v_beta_-ob/(K**3*c**2*gamma**3*|\\tilde{r}|**3)"
      ]
     },
     "execution_count": 38,
     "metadata": {},
     "output_type": "execute_result"
    }
   ],
   "source": [
    "expand(dPcv_aph_dtau_sbbd)"
   ]
  },
  {
   "cell_type": "code",
   "execution_count": 91,
   "metadata": {},
   "outputs": [],
   "source": [
    "dPcv_aph_dtau_3 = expand(dPcv_aph_dtau_sbbd)\n",
    "dPcv_aph_dtau_3 = dPcv_aph_dtau_3.subs(dvdtau_aph,v3_dot)\n",
    "dPcv_aph_dtau_3 = dPcv_aph_dtau_3.subs(rcv_aph,r3)\n",
    "dPcv_aph_dtau_3 = dPcv_aph_dtau_3.subs(rcn_aph,-r3) #\n",
    "dPcv_aph_dtau_3 = dPcv_aph_dtau_3.subs(vcv_aph,v3)\n",
    "#for verification, above subs are for implementation\n",
    "#dPcv_aph_dtau_3 = dPcv_aph_dtau_3.subs(vcv_bt*vcn_bt_ob,c**2*gm_ob*gm*(1-bta_dot_btaob))\n",
    "#dPcv_aph_dtau_3 = dPcv_aph_dtau_3.subs(dvdtau_bt*vcn_bt_ob,v0_ob*v0_dot-v3_ob*v3_dot)"
   ]
  },
  {
   "cell_type": "code",
   "execution_count": 92,
   "metadata": {},
   "outputs": [
    {
     "data": {
      "text/latex": [
       "$\\displaystyle - \\frac{\\beta_{x} q q_{s} v^{\\beta} v_{\\beta -ob}}{K^{2} c^{2} \\gamma |\\tilde{r}|^{2}} + \\frac{\\dot{V^\\beta} q q_{s} v_{\\beta -ob} |\\hat{n}|}{K^{2} c^{3} \\gamma^{2} |\\tilde{r}|} + \\frac{\\dot{\\beta} q q_{s} v^{\\beta} v_{\\beta -ob} |\\hat{n}|^{2}}{K^{3} c^{3} \\gamma |\\tilde{r}|} + \\frac{\\vec{\\beta} \\vec{\\beta}\\cdot\\dot{\\vec{\\beta}} \\gamma q q_{s} v^{\\beta} v_{\\beta -ob} |\\hat{n}|^{2}}{K^{3} c^{3} |\\tilde{r}|} + \\frac{q q_{s} v^{\\beta} v_{\\beta -ob} |\\hat{n}|}{K^{3} c^{2} \\gamma^{3} |\\tilde{r}|^{2}}$"
      ],
      "text/plain": [
       "-\\beta_x*q*q_s*v^beta*v_beta_-ob/(K**2*c**2*gamma*|\\tilde{r}|**2) + \\dot{V^\\beta}*q*q_s*v_beta_-ob*|\\hat{n}|/(K**2*c**3*gamma**2*|\\tilde{r}|) + \\dot{\\beta}*q*q_s*v^beta*v_beta_-ob*|\\hat{n}|**2/(K**3*c**3*gamma*|\\tilde{r}|) + \\vec{\\beta}*\\vec{\\beta}\\cdot\\dot{\\vec{\\beta}}*gamma*q*q_s*v^beta*v_beta_-ob*|\\hat{n}|**2/(K**3*c**3*|\\tilde{r}|) + q*q_s*v^beta*v_beta_-ob*|\\hat{n}|/(K**3*c**2*gamma**3*|\\tilde{r}|**2)"
      ]
     },
     "execution_count": 92,
     "metadata": {},
     "output_type": "execute_result"
    }
   ],
   "source": [
    "expand(simplify(dPcv_aph_dtau_3))"
   ]
  },
  {
   "cell_type": "code",
   "execution_count": 90,
   "metadata": {},
   "outputs": [
    {
     "data": {
      "text/latex": [
       "$\\displaystyle - \\frac{\\beta_{x} \\gamma_{ob} q q_{s} \\left(1 - \\vec{\\beta}\\cdot\\beta_{ob}\\right)}{K^{2} |\\tilde{r}|^{2}} + \\frac{\\dot{V^\\beta} q q_{s} v_{\\beta -ob} |\\hat{n}|}{K^{2} c^{3} \\gamma^{2} |\\tilde{r}|} + \\frac{\\gamma_{ob} q q_{s} |\\hat{n}| \\left(1 - \\vec{\\beta}\\cdot\\beta_{ob}\\right)}{K^{3} \\gamma^{2} |\\tilde{r}|^{2}}$"
      ],
      "text/plain": [
       "-\\beta_x*\\gamma_{ob}*q*q_s*(1 - \\vec{\\beta}\\cdot\\beta_{ob})/(K**2*|\\tilde{r}|**2) + \\dot{V^\\beta}*q*q_s*v_beta_-ob*|\\hat{n}|/(K**2*c**3*gamma**2*|\\tilde{r}|) + \\gamma_{ob}*q*q_s*|\\hat{n}|*(1 - \\vec{\\beta}\\cdot\\beta_{ob})/(K**3*gamma**2*|\\tilde{r}|**2)"
      ]
     },
     "execution_count": 90,
     "metadata": {},
     "output_type": "execute_result"
    }
   ],
   "source": [
    "dPcv_aph_dtau_3.subs(bta_dot_dbta,0).subs(bta_dot,0)"
   ]
  },
  {
   "cell_type": "code",
   "execution_count": 52,
   "metadata": {},
   "outputs": [
    {
     "data": {
      "text/latex": [
       "$\\displaystyle \\beta_{x} c \\gamma$"
      ],
      "text/plain": [
       "\\beta_x*c*gamma"
      ]
     },
     "execution_count": 52,
     "metadata": {},
     "output_type": "execute_result"
    }
   ],
   "source": [
    "v3"
   ]
  },
  {
   "cell_type": "markdown",
   "metadata": {},
   "source": []
  },
  {
   "cell_type": "code",
   "execution_count": null,
   "metadata": {},
   "outputs": [],
   "source": []
  },
  {
   "cell_type": "code",
   "execution_count": null,
   "metadata": {},
   "outputs": [],
   "source": []
  },
  {
   "cell_type": "code",
   "execution_count": 53,
   "metadata": {},
   "outputs": [
    {
     "ename": "NameError",
     "evalue": "name 'aa' is not defined",
     "output_type": "error",
     "traceback": [
      "\u001b[0;31m---------------------------------------------------------------------------\u001b[0m",
      "\u001b[0;31mNameError\u001b[0m                                 Traceback (most recent call last)",
      "\u001b[1;32m/Users/benfolsom_1/code_wkng/LW/LW_covariant_eoms_v12.ipynb Cell 48\u001b[0m line \u001b[0;36m2\n\u001b[1;32m      <a href='vscode-notebook-cell:/Users/benfolsom_1/code_wkng/LW/LW_covariant_eoms_v12.ipynb#X65sZmlsZQ%3D%3D?line=0'>1</a>\u001b[0m \u001b[39m# dPcv_aph_dtau_3 = expand(dPcv_aph_dtau_sbbd)\u001b[39;00m\n\u001b[1;32m      <a href='vscode-notebook-cell:/Users/benfolsom_1/code_wkng/LW/LW_covariant_eoms_v12.ipynb#X65sZmlsZQ%3D%3D?line=1'>2</a>\u001b[0m \u001b[39m# dPcv_aph_dtau_3 = dPcv_aph_dtau_3.subs(vcv_aph*vcv_bt,gup_ab*c**2)\u001b[39;00m\n\u001b[1;32m      <a href='vscode-notebook-cell:/Users/benfolsom_1/code_wkng/LW/LW_covariant_eoms_v12.ipynb#X65sZmlsZQ%3D%3D?line=2'>3</a>\u001b[0m \u001b[39m# dPcv_aph_dtau_3 = dPcv_aph_dtau_3.subs(rcv_aph*vcv_bt,gup_ab*K*gm*r_mag*c)\u001b[39;00m\n\u001b[0;32m   (...)\u001b[0m\n\u001b[1;32m     <a href='vscode-notebook-cell:/Users/benfolsom_1/code_wkng/LW/LW_covariant_eoms_v12.ipynb#X65sZmlsZQ%3D%3D?line=18'>19</a>\u001b[0m \u001b[39m# # dPcv_aph_dtau_3 = dPcv_aph_dtau_3.subs(dvdtau_bt,v3_dot)\u001b[39;00m\n\u001b[1;32m     <a href='vscode-notebook-cell:/Users/benfolsom_1/code_wkng/LW/LW_covariant_eoms_v12.ipynb#X65sZmlsZQ%3D%3D?line=19'>20</a>\u001b[0m \u001b[39m# # dPcv_aph_dtau_3 = dPcv_aph_dtau_3.subs(vcn_bt_ob,-v3_ob)\u001b[39;00m\n\u001b[0;32m---> <a href='vscode-notebook-cell:/Users/benfolsom_1/code_wkng/LW/LW_covariant_eoms_v12.ipynb#X65sZmlsZQ%3D%3D?line=20'>21</a>\u001b[0m aa\n",
      "\u001b[0;31mNameError\u001b[0m: name 'aa' is not defined"
     ]
    }
   ],
   "source": [
    "# dPcv_aph_dtau_3 = expand(dPcv_aph_dtau_sbbd)\n",
    "# dPcv_aph_dtau_3 = dPcv_aph_dtau_3.subs(vcv_aph*vcv_bt,gup_ab*c**2)\n",
    "# dPcv_aph_dtau_3 = dPcv_aph_dtau_3.subs(rcv_aph*vcv_bt,gup_ab*K*gm*r_mag*c)\n",
    "# dPcv_aph_dtau_3 = dPcv_aph_dtau_3.subs(gup_ab*vcn_bt_ob,vcv_aph_ob)\n",
    "# dPcv_aph_dtau_3 = dPcv_aph_dtau_3.subs(dvdtau_bt*vcn_bt_ob,-v3_dot*v3_ob)\n",
    "\n",
    "# # #dPcv_aph_dtau_3 = dPcv_aph_dtau_3.subs(dvdtau_bt,dvdtau_3)\n",
    "# # #dPcv_aph_dtau_3 = dPcv_aph_dtau_3.subs(K,(1-bta*n_src_ob))\n",
    "# # dPcv_aph_dtau_3 = dPcv_aph_dtau_3.subs(vcv_aph,v3)\n",
    "# # #dPcv_aph_dtau_3 = dPcv_aph_dtau_3.subs(vcn_bt,-v3)\n",
    "# # #dPcv_aph_dtau_3 = dPcv_aph_dtau_3.subs(vcv_bt,v3)\n",
    "# # #dPcv_aph_dtau_3 = dPcv_aph_dtau_3.subs(vcv_aph*vcv_bt,gm**2*c**2*bta_dot_dbta)\n",
    "# # #dPcv_aph_dtau_3 = dPcv_aph_dtau_3.subs(rcn_aph,-r3)\n",
    "# dPcv_aph_dtau_3 = dPcv_aph_dtau_3.subs(rcv_aph,r3)\n",
    "# # #dPcv_aph_dtau_3 = dPcv_aph_dtau_3.subs(rcn_bt,r3)\n",
    "# # #dPcv_aph_dtau_3 = dPcv_aph_dtau_3.subs(rcv_bt,r3)\n",
    "# dPcv_aph_dtau_3 = dPcv_aph_dtau_3.subs(vcv_aph_ob,gm_ob*c*bta_x_ob)\n",
    "# # dPcv_aph_dtau_3 = dPcv_aph_dtau_3.subs(vcn_bt_ob*vcv_bt,-bta_dot_btaob*c**2*gm*gm_ob)\n",
    "# # dPcv_aph_dtau_3 = dPcv_aph_dtau_3.subs(dvdtau_bt,v3_dot)\n",
    "# # dPcv_aph_dtau_3 = dPcv_aph_dtau_3.subs(vcn_bt_ob,-v3_ob)"
   ]
  },
  {
   "attachments": {},
   "cell_type": "markdown",
   "metadata": {},
   "source": []
  },
  {
   "cell_type": "code",
   "execution_count": null,
   "metadata": {},
   "outputs": [],
   "source": []
  },
  {
   "cell_type": "code",
   "execution_count": null,
   "metadata": {},
   "outputs": [],
   "source": []
  },
  {
   "cell_type": "code",
   "execution_count": 54,
   "metadata": {},
   "outputs": [
    {
     "data": {
      "text/latex": [
       "$\\displaystyle \\frac{\\gamma_{ob} q q_{s} \\left(K \\beta_{x} c \\gamma^{2} \\left(\\vec{\\beta}\\cdot\\beta_{ob} - 1\\right) + K \\gamma^{2} |\\hat{n}| |\\tilde{r}| \\left(\\vec{\\beta}\\cdot\\dot{\\vec{\\beta}} \\gamma^{2} - \\beta_{ob} \\left(\\dot{\\beta} + \\vec{\\beta} \\vec{\\beta}\\cdot\\dot{\\vec{\\beta}} \\gamma^{2}\\right)\\right) - c |\\hat{n}| \\left(\\vec{\\beta}\\cdot\\beta_{ob} - 1\\right) - \\gamma^{2} |\\hat{n}|^{2} |\\tilde{r}| \\left(\\dot{\\beta} + \\vec{\\beta} \\vec{\\beta}\\cdot\\dot{\\vec{\\beta}} \\gamma^{2}\\right) \\left(\\vec{\\beta}\\cdot\\beta_{ob} - 1\\right)\\right)}{K^{3} c \\gamma^{2} |\\tilde{r}|^{2}}$"
      ],
      "text/plain": [
       "\\gamma_{ob}*q*q_s*(K*\\beta_x*c*gamma**2*(\\vec{\\beta}\\cdot\\beta_{ob} - 1) + K*gamma**2*|\\hat{n}|*|\\tilde{r}|*(\\vec{\\beta}\\cdot\\dot{\\vec{\\beta}}*gamma**2 - beta_ob*(\\dot{\\beta} + \\vec{\\beta}*\\vec{\\beta}\\cdot\\dot{\\vec{\\beta}}*gamma**2)) - c*|\\hat{n}|*(\\vec{\\beta}\\cdot\\beta_{ob} - 1) - gamma**2*|\\hat{n}|**2*|\\tilde{r}|*(\\dot{\\beta} + \\vec{\\beta}*\\vec{\\beta}\\cdot\\dot{\\vec{\\beta}}*gamma**2)*(\\vec{\\beta}\\cdot\\beta_{ob} - 1))/(K**3*c*gamma**2*|\\tilde{r}|**2)"
      ]
     },
     "execution_count": 54,
     "metadata": {},
     "output_type": "execute_result"
    }
   ],
   "source": [
    "simplify(dPcv_aph_dtau_3)"
   ]
  },
  {
   "cell_type": "code",
   "execution_count": 55,
   "metadata": {},
   "outputs": [
    {
     "data": {
      "text/latex": [
       "$\\displaystyle \\beta_{x-ob}$"
      ],
      "text/plain": [
       "\\beta_{x-ob}"
      ]
     },
     "execution_count": 55,
     "metadata": {},
     "output_type": "execute_result"
    }
   ],
   "source": [
    "bta_x_ob"
   ]
  },
  {
   "cell_type": "code",
   "execution_count": 56,
   "metadata": {},
   "outputs": [
    {
     "data": {
      "text/latex": [
       "$\\displaystyle \\frac{\\gamma_{ob} q q_{s} \\left(K \\beta_{x} c \\gamma^{2} \\left(\\vec{\\beta}\\cdot\\beta_{ob} - 1\\right) + K \\gamma^{2} |\\hat{n}| |\\tilde{r}| \\left(\\vec{\\beta}\\cdot\\dot{\\vec{\\beta}} \\gamma^{2} - \\beta_{ob} \\left(\\dot{\\beta} + \\vec{\\beta} \\vec{\\beta}\\cdot\\dot{\\vec{\\beta}} \\gamma^{2}\\right)\\right) - c |\\hat{n}| \\left(\\vec{\\beta}\\cdot\\beta_{ob} - 1\\right) - \\gamma^{2} |\\hat{n}|^{2} |\\tilde{r}| \\left(\\dot{\\beta} + \\vec{\\beta} \\vec{\\beta}\\cdot\\dot{\\vec{\\beta}} \\gamma^{2}\\right) \\left(\\vec{\\beta}\\cdot\\beta_{ob} - 1\\right)\\right)}{K^{3} c \\gamma^{2} |\\tilde{r}|^{2}}$"
      ],
      "text/plain": [
       "\\gamma_{ob}*q*q_s*(K*\\beta_x*c*gamma**2*(\\vec{\\beta}\\cdot\\beta_{ob} - 1) + K*gamma**2*|\\hat{n}|*|\\tilde{r}|*(\\vec{\\beta}\\cdot\\dot{\\vec{\\beta}}*gamma**2 - beta_ob*(\\dot{\\beta} + \\vec{\\beta}*\\vec{\\beta}\\cdot\\dot{\\vec{\\beta}}*gamma**2)) - c*|\\hat{n}|*(\\vec{\\beta}\\cdot\\beta_{ob} - 1) - gamma**2*|\\hat{n}|**2*|\\tilde{r}|*(\\dot{\\beta} + \\vec{\\beta}*\\vec{\\beta}\\cdot\\dot{\\vec{\\beta}}*gamma**2)*(\\vec{\\beta}\\cdot\\beta_{ob} - 1))/(K**3*c*gamma**2*|\\tilde{r}|**2)"
      ]
     },
     "execution_count": 56,
     "metadata": {},
     "output_type": "execute_result"
    }
   ],
   "source": [
    "dPdtaux = dPcv_aph_dtau_3.subs([[rcv_aph,r_mag*n_src_ob_x],[vcv_aph_ob,bta_ob*c*gm_ob],[gup_ab,-1]])\n",
    "simplify(dPdtaux)"
   ]
  },
  {
   "cell_type": "code",
   "execution_count": 57,
   "metadata": {},
   "outputs": [],
   "source": [
    "energy_momentum = -(dPcv_aph_dtau_0)**2 + (dPcv_aph_dtau_3)**2+m_ob**2*c**2\n",
    "dynamic_mass_squared = solve(energy_momentum,m_ob**2)\n",
    "dynamic_mass_squared  = expand(dynamic_mass_squared[0])\n"
   ]
  },
  {
   "cell_type": "code",
   "execution_count": 58,
   "metadata": {},
   "outputs": [
    {
     "ename": "NameError",
     "evalue": "name 'bob' is not defined",
     "output_type": "error",
     "traceback": [
      "\u001b[0;31m---------------------------------------------------------------------------\u001b[0m",
      "\u001b[0;31mNameError\u001b[0m                                 Traceback (most recent call last)",
      "\u001b[1;32m/Users/benfolsom_1/code_wkng/LW/LW_covariant_eoms_v12.ipynb Cell 56\u001b[0m line \u001b[0;36m1\n\u001b[0;32m----> <a href='vscode-notebook-cell:/Users/benfolsom_1/code_wkng/LW/LW_covariant_eoms_v12.ipynb#Y106sZmlsZQ%3D%3D?line=0'>1</a>\u001b[0m bob[\u001b[39m0\u001b[39m]\n",
      "\u001b[0;31mNameError\u001b[0m: name 'bob' is not defined"
     ]
    }
   ],
   "source": [
    "bob[0]"
   ]
  },
  {
   "cell_type": "code",
   "execution_count": 59,
   "metadata": {},
   "outputs": [
    {
     "data": {
      "text/latex": [
       "$\\displaystyle - \\frac{\\beta_{x}^{2} \\gamma_{ob}^{2} \\vec{\\beta}\\cdot\\beta_{ob}^{2} q^{2} q_{s}^{2}}{K^{4} c^{2} |\\tilde{r}|^{4}} + \\frac{2 \\beta_{x}^{2} \\gamma_{ob}^{2} \\vec{\\beta}\\cdot\\beta_{ob} q^{2} q_{s}^{2}}{K^{4} c^{2} |\\tilde{r}|^{4}} - \\frac{\\beta_{x}^{2} \\gamma_{ob}^{2} q^{2} q_{s}^{2}}{K^{4} c^{2} |\\tilde{r}|^{4}} + \\frac{2 \\beta_{x} \\dot{\\beta} \\gamma_{ob}^{2} \\vec{\\beta}\\cdot\\beta_{ob} \\beta_{ob} q^{2} q_{s}^{2} |\\hat{n}|}{K^{4} c^{3} |\\tilde{r}|^{3}} - \\frac{2 \\beta_{x} \\dot{\\beta} \\gamma_{ob}^{2} \\beta_{ob} q^{2} q_{s}^{2} |\\hat{n}|}{K^{4} c^{3} |\\tilde{r}|^{3}} + \\frac{2 \\beta_{x} \\gamma_{ob}^{2} \\vec{\\beta} \\vec{\\beta}\\cdot\\beta_{ob} \\vec{\\beta}\\cdot\\dot{\\vec{\\beta}} \\beta_{ob} \\gamma^{2} q^{2} q_{s}^{2} |\\hat{n}|}{K^{4} c^{3} |\\tilde{r}|^{3}} - \\frac{2 \\beta_{x} \\gamma_{ob}^{2} \\vec{\\beta} \\vec{\\beta}\\cdot\\dot{\\vec{\\beta}} \\beta_{ob} \\gamma^{2} q^{2} q_{s}^{2} |\\hat{n}|}{K^{4} c^{3} |\\tilde{r}|^{3}} - \\frac{2 \\beta_{x} \\gamma_{ob}^{2} \\vec{\\beta}\\cdot\\beta_{ob} \\vec{\\beta}\\cdot\\dot{\\vec{\\beta}} \\gamma^{2} q^{2} q_{s}^{2} |\\hat{n}|}{K^{4} c^{3} |\\tilde{r}|^{3}} + \\frac{2 \\beta_{x} \\gamma_{ob}^{2} \\vec{\\beta}\\cdot\\dot{\\vec{\\beta}} \\gamma^{2} q^{2} q_{s}^{2} |\\hat{n}|}{K^{4} c^{3} |\\tilde{r}|^{3}} + \\frac{\\left(\\dot{V^\\beta}\\right)^{2} q^{2} q_{s}^{2} v_{\\beta -ob}^{2}}{K^{4} c^{8} \\gamma^{4} |\\tilde{r}|^{2}} - \\frac{2 \\dot{V^\\beta} q^{2} q_{s}^{2} v^{\\beta} v_{\\beta -ob}^{2}}{K^{4} c^{7} \\gamma^{3} |\\tilde{r}|^{3}} - \\frac{\\dot{\\beta}^{2} \\gamma_{ob}^{2} \\beta_{ob}^{2} q^{2} q_{s}^{2} |\\hat{n}|^{2}}{K^{4} c^{4} |\\tilde{r}|^{2}} - \\frac{2 \\dot{\\beta} \\gamma_{ob}^{2} \\vec{\\beta} \\vec{\\beta}\\cdot\\dot{\\vec{\\beta}} \\beta_{ob}^{2} \\gamma^{2} q^{2} q_{s}^{2} |\\hat{n}|^{2}}{K^{4} c^{4} |\\tilde{r}|^{2}} + \\frac{2 \\dot{\\beta} \\gamma_{ob}^{2} \\vec{\\beta}\\cdot\\dot{\\vec{\\beta}} \\beta_{ob} \\gamma^{2} q^{2} q_{s}^{2} |\\hat{n}|^{2}}{K^{4} c^{4} |\\tilde{r}|^{2}} - \\frac{\\gamma_{ob}^{2} \\vec{\\beta}^{2} \\vec{\\beta}\\cdot\\dot{\\vec{\\beta}}^{2} \\beta_{ob}^{2} \\gamma^{4} q^{2} q_{s}^{2} |\\hat{n}|^{2}}{K^{4} c^{4} |\\tilde{r}|^{2}} + \\frac{2 \\gamma_{ob}^{2} \\vec{\\beta} \\vec{\\beta}\\cdot\\dot{\\vec{\\beta}}^{2} \\beta_{ob} \\gamma^{4} q^{2} q_{s}^{2} |\\hat{n}|^{2}}{K^{4} c^{4} |\\tilde{r}|^{2}} - \\frac{\\gamma_{ob}^{2} \\vec{\\beta}\\cdot\\dot{\\vec{\\beta}}^{2} \\gamma^{4} q^{2} q_{s}^{2} |\\hat{n}|^{2}}{K^{4} c^{4} |\\tilde{r}|^{2}} + \\frac{q^{2} q_{s}^{2} \\left(v^{\\beta}\\right)^{2} v_{\\beta -ob}^{2}}{K^{4} c^{6} \\gamma^{2} |\\tilde{r}|^{4}} + \\frac{2 \\beta_{x} \\dot{\\beta} \\gamma_{ob}^{2} \\vec{\\beta}\\cdot\\beta_{ob}^{2} q^{2} q_{s}^{2} |\\hat{n}|^{2}}{K^{5} c^{3} |\\tilde{r}|^{3}} - \\frac{4 \\beta_{x} \\dot{\\beta} \\gamma_{ob}^{2} \\vec{\\beta}\\cdot\\beta_{ob} q^{2} q_{s}^{2} |\\hat{n}|^{2}}{K^{5} c^{3} |\\tilde{r}|^{3}} + \\frac{2 \\beta_{x} \\dot{\\beta} \\gamma_{ob}^{2} q^{2} q_{s}^{2} |\\hat{n}|^{2}}{K^{5} c^{3} |\\tilde{r}|^{3}} + \\frac{2 \\beta_{x} \\gamma_{ob}^{2} \\vec{\\beta} \\vec{\\beta}\\cdot\\beta_{ob}^{2} \\vec{\\beta}\\cdot\\dot{\\vec{\\beta}} \\gamma^{2} q^{2} q_{s}^{2} |\\hat{n}|^{2}}{K^{5} c^{3} |\\tilde{r}|^{3}} - \\frac{4 \\beta_{x} \\gamma_{ob}^{2} \\vec{\\beta} \\vec{\\beta}\\cdot\\beta_{ob} \\vec{\\beta}\\cdot\\dot{\\vec{\\beta}} \\gamma^{2} q^{2} q_{s}^{2} |\\hat{n}|^{2}}{K^{5} c^{3} |\\tilde{r}|^{3}} + \\frac{2 \\beta_{x} \\gamma_{ob}^{2} \\vec{\\beta} \\vec{\\beta}\\cdot\\dot{\\vec{\\beta}} \\gamma^{2} q^{2} q_{s}^{2} |\\hat{n}|^{2}}{K^{5} c^{3} |\\tilde{r}|^{3}} + \\frac{2 \\beta_{x} \\gamma_{ob}^{2} \\vec{\\beta}\\cdot\\beta_{ob}^{2} q^{2} q_{s}^{2} |\\hat{n}|}{K^{5} c^{2} \\gamma^{2} |\\tilde{r}|^{4}} - \\frac{4 \\beta_{x} \\gamma_{ob}^{2} \\vec{\\beta}\\cdot\\beta_{ob} q^{2} q_{s}^{2} |\\hat{n}|}{K^{5} c^{2} \\gamma^{2} |\\tilde{r}|^{4}} + \\frac{2 \\beta_{x} \\gamma_{ob}^{2} q^{2} q_{s}^{2} |\\hat{n}|}{K^{5} c^{2} \\gamma^{2} |\\tilde{r}|^{4}} - \\frac{2 \\dot{V^\\beta} \\vec{\\beta}\\cdot\\dot{\\vec{\\beta}} q^{2} q_{s}^{2} v^{\\beta} v_{\\beta -ob}^{2}}{K^{5} c^{8} \\gamma |\\tilde{r}|^{2}} + \\frac{2 \\dot{V^\\beta} q^{2} q_{s}^{2} v^{\\beta} v_{\\beta -ob}^{2}}{K^{5} c^{7} \\gamma^{5} |\\tilde{r}|^{3}} - \\frac{2 \\dot{\\beta}^{2} \\gamma_{ob}^{2} \\vec{\\beta}\\cdot\\beta_{ob} \\beta_{ob} q^{2} q_{s}^{2} |\\hat{n}|^{3}}{K^{5} c^{4} |\\tilde{r}|^{2}} + \\frac{2 \\dot{\\beta}^{2} \\gamma_{ob}^{2} \\beta_{ob} q^{2} q_{s}^{2} |\\hat{n}|^{3}}{K^{5} c^{4} |\\tilde{r}|^{2}} - \\frac{4 \\dot{\\beta} \\gamma_{ob}^{2} \\vec{\\beta} \\vec{\\beta}\\cdot\\beta_{ob} \\vec{\\beta}\\cdot\\dot{\\vec{\\beta}} \\beta_{ob} \\gamma^{2} q^{2} q_{s}^{2} |\\hat{n}|^{3}}{K^{5} c^{4} |\\tilde{r}|^{2}} + \\frac{4 \\dot{\\beta} \\gamma_{ob}^{2} \\vec{\\beta} \\vec{\\beta}\\cdot\\dot{\\vec{\\beta}} \\beta_{ob} \\gamma^{2} q^{2} q_{s}^{2} |\\hat{n}|^{3}}{K^{5} c^{4} |\\tilde{r}|^{2}} + \\frac{2 \\dot{\\beta} \\gamma_{ob}^{2} \\vec{\\beta}\\cdot\\beta_{ob} \\vec{\\beta}\\cdot\\dot{\\vec{\\beta}} \\gamma^{2} q^{2} q_{s}^{2} |\\hat{n}|^{3}}{K^{5} c^{4} |\\tilde{r}|^{2}} - \\frac{2 \\dot{\\beta} \\gamma_{ob}^{2} \\vec{\\beta}\\cdot\\beta_{ob} \\beta_{ob} q^{2} q_{s}^{2} |\\hat{n}|^{2}}{K^{5} c^{3} \\gamma^{2} |\\tilde{r}|^{3}} - \\frac{2 \\dot{\\beta} \\gamma_{ob}^{2} \\vec{\\beta}\\cdot\\dot{\\vec{\\beta}} \\gamma^{2} q^{2} q_{s}^{2} |\\hat{n}|^{3}}{K^{5} c^{4} |\\tilde{r}|^{2}} + \\frac{2 \\dot{\\beta} \\gamma_{ob}^{2} \\beta_{ob} q^{2} q_{s}^{2} |\\hat{n}|^{2}}{K^{5} c^{3} \\gamma^{2} |\\tilde{r}|^{3}} - \\frac{2 \\gamma_{ob}^{2} \\vec{\\beta}^{2} \\vec{\\beta}\\cdot\\beta_{ob} \\vec{\\beta}\\cdot\\dot{\\vec{\\beta}}^{2} \\beta_{ob} \\gamma^{4} q^{2} q_{s}^{2} |\\hat{n}|^{3}}{K^{5} c^{4} |\\tilde{r}|^{2}} + \\frac{2 \\gamma_{ob}^{2} \\vec{\\beta}^{2} \\vec{\\beta}\\cdot\\dot{\\vec{\\beta}}^{2} \\beta_{ob} \\gamma^{4} q^{2} q_{s}^{2} |\\hat{n}|^{3}}{K^{5} c^{4} |\\tilde{r}|^{2}} + \\frac{2 \\gamma_{ob}^{2} \\vec{\\beta} \\vec{\\beta}\\cdot\\beta_{ob} \\vec{\\beta}\\cdot\\dot{\\vec{\\beta}}^{2} \\gamma^{4} q^{2} q_{s}^{2} |\\hat{n}|^{3}}{K^{5} c^{4} |\\tilde{r}|^{2}} - \\frac{2 \\gamma_{ob}^{2} \\vec{\\beta} \\vec{\\beta}\\cdot\\beta_{ob} \\vec{\\beta}\\cdot\\dot{\\vec{\\beta}} \\beta_{ob} q^{2} q_{s}^{2} |\\hat{n}|^{2}}{K^{5} c^{3} |\\tilde{r}|^{3}} - \\frac{2 \\gamma_{ob}^{2} \\vec{\\beta} \\vec{\\beta}\\cdot\\dot{\\vec{\\beta}}^{2} \\gamma^{4} q^{2} q_{s}^{2} |\\hat{n}|^{3}}{K^{5} c^{4} |\\tilde{r}|^{2}} + \\frac{2 \\gamma_{ob}^{2} \\vec{\\beta} \\vec{\\beta}\\cdot\\dot{\\vec{\\beta}} \\beta_{ob} q^{2} q_{s}^{2} |\\hat{n}|^{2}}{K^{5} c^{3} |\\tilde{r}|^{3}} + \\frac{2 \\gamma_{ob}^{2} \\vec{\\beta}\\cdot\\beta_{ob} \\vec{\\beta}\\cdot\\dot{\\vec{\\beta}} q^{2} q_{s}^{2} |\\hat{n}|^{2}}{K^{5} c^{3} |\\tilde{r}|^{3}} - \\frac{2 \\gamma_{ob}^{2} \\vec{\\beta}\\cdot\\dot{\\vec{\\beta}} q^{2} q_{s}^{2} |\\hat{n}|^{2}}{K^{5} c^{3} |\\tilde{r}|^{3}} + \\frac{2 \\vec{\\beta}\\cdot\\dot{\\vec{\\beta}} q^{2} q_{s}^{2} \\left(v^{\\beta}\\right)^{2} v_{\\beta -ob}^{2}}{K^{5} c^{7} |\\tilde{r}|^{3}} - \\frac{2 q^{2} q_{s}^{2} \\left(v^{\\beta}\\right)^{2} v_{\\beta -ob}^{2}}{K^{5} c^{6} \\gamma^{4} |\\tilde{r}|^{4}} - \\frac{\\dot{\\beta}^{2} \\gamma_{ob}^{2} \\vec{\\beta}\\cdot\\beta_{ob}^{2} q^{2} q_{s}^{2} |\\hat{n}|^{4}}{K^{6} c^{4} |\\tilde{r}|^{2}} + \\frac{2 \\dot{\\beta}^{2} \\gamma_{ob}^{2} \\vec{\\beta}\\cdot\\beta_{ob} q^{2} q_{s}^{2} |\\hat{n}|^{4}}{K^{6} c^{4} |\\tilde{r}|^{2}} - \\frac{\\dot{\\beta}^{2} \\gamma_{ob}^{2} q^{2} q_{s}^{2} |\\hat{n}|^{4}}{K^{6} c^{4} |\\tilde{r}|^{2}} - \\frac{2 \\dot{\\beta} \\gamma_{ob}^{2} \\vec{\\beta} \\vec{\\beta}\\cdot\\beta_{ob}^{2} \\vec{\\beta}\\cdot\\dot{\\vec{\\beta}} \\gamma^{2} q^{2} q_{s}^{2} |\\hat{n}|^{4}}{K^{6} c^{4} |\\tilde{r}|^{2}} + \\frac{4 \\dot{\\beta} \\gamma_{ob}^{2} \\vec{\\beta} \\vec{\\beta}\\cdot\\beta_{ob} \\vec{\\beta}\\cdot\\dot{\\vec{\\beta}} \\gamma^{2} q^{2} q_{s}^{2} |\\hat{n}|^{4}}{K^{6} c^{4} |\\tilde{r}|^{2}} - \\frac{2 \\dot{\\beta} \\gamma_{ob}^{2} \\vec{\\beta} \\vec{\\beta}\\cdot\\dot{\\vec{\\beta}} \\gamma^{2} q^{2} q_{s}^{2} |\\hat{n}|^{4}}{K^{6} c^{4} |\\tilde{r}|^{2}} - \\frac{2 \\dot{\\beta} \\gamma_{ob}^{2} \\vec{\\beta}\\cdot\\beta_{ob}^{2} q^{2} q_{s}^{2} |\\hat{n}|^{3}}{K^{6} c^{3} \\gamma^{2} |\\tilde{r}|^{3}} + \\frac{4 \\dot{\\beta} \\gamma_{ob}^{2} \\vec{\\beta}\\cdot\\beta_{ob} q^{2} q_{s}^{2} |\\hat{n}|^{3}}{K^{6} c^{3} \\gamma^{2} |\\tilde{r}|^{3}} - \\frac{2 \\dot{\\beta} \\gamma_{ob}^{2} q^{2} q_{s}^{2} |\\hat{n}|^{3}}{K^{6} c^{3} \\gamma^{2} |\\tilde{r}|^{3}} - \\frac{\\gamma_{ob}^{2} \\vec{\\beta}^{2} \\vec{\\beta}\\cdot\\beta_{ob}^{2} \\vec{\\beta}\\cdot\\dot{\\vec{\\beta}}^{2} \\gamma^{4} q^{2} q_{s}^{2} |\\hat{n}|^{4}}{K^{6} c^{4} |\\tilde{r}|^{2}} + \\frac{2 \\gamma_{ob}^{2} \\vec{\\beta}^{2} \\vec{\\beta}\\cdot\\beta_{ob} \\vec{\\beta}\\cdot\\dot{\\vec{\\beta}}^{2} \\gamma^{4} q^{2} q_{s}^{2} |\\hat{n}|^{4}}{K^{6} c^{4} |\\tilde{r}|^{2}} - \\frac{\\gamma_{ob}^{2} \\vec{\\beta}^{2} \\vec{\\beta}\\cdot\\dot{\\vec{\\beta}}^{2} \\gamma^{4} q^{2} q_{s}^{2} |\\hat{n}|^{4}}{K^{6} c^{4} |\\tilde{r}|^{2}} - \\frac{2 \\gamma_{ob}^{2} \\vec{\\beta} \\vec{\\beta}\\cdot\\beta_{ob}^{2} \\vec{\\beta}\\cdot\\dot{\\vec{\\beta}} q^{2} q_{s}^{2} |\\hat{n}|^{3}}{K^{6} c^{3} |\\tilde{r}|^{3}} + \\frac{4 \\gamma_{ob}^{2} \\vec{\\beta} \\vec{\\beta}\\cdot\\beta_{ob} \\vec{\\beta}\\cdot\\dot{\\vec{\\beta}} q^{2} q_{s}^{2} |\\hat{n}|^{3}}{K^{6} c^{3} |\\tilde{r}|^{3}} - \\frac{2 \\gamma_{ob}^{2} \\vec{\\beta} \\vec{\\beta}\\cdot\\dot{\\vec{\\beta}} q^{2} q_{s}^{2} |\\hat{n}|^{3}}{K^{6} c^{3} |\\tilde{r}|^{3}} - \\frac{\\gamma_{ob}^{2} \\vec{\\beta}\\cdot\\beta_{ob}^{2} q^{2} q_{s}^{2} |\\hat{n}|^{2}}{K^{6} c^{2} \\gamma^{4} |\\tilde{r}|^{4}} + \\frac{2 \\gamma_{ob}^{2} \\vec{\\beta}\\cdot\\beta_{ob} q^{2} q_{s}^{2} |\\hat{n}|^{2}}{K^{6} c^{2} \\gamma^{4} |\\tilde{r}|^{4}} - \\frac{\\gamma_{ob}^{2} q^{2} q_{s}^{2} |\\hat{n}|^{2}}{K^{6} c^{2} \\gamma^{4} |\\tilde{r}|^{4}} + \\frac{\\vec{\\beta}\\cdot\\dot{\\vec{\\beta}}^{2} \\gamma^{2} q^{2} q_{s}^{2} \\left(v^{\\beta}\\right)^{2} v_{\\beta -ob}^{2}}{K^{6} c^{8} |\\tilde{r}|^{2}} - \\frac{2 \\vec{\\beta}\\cdot\\dot{\\vec{\\beta}} q^{2} q_{s}^{2} \\left(v^{\\beta}\\right)^{2} v_{\\beta -ob}^{2}}{K^{6} c^{7} \\gamma^{2} |\\tilde{r}|^{3}} + \\frac{q^{2} q_{s}^{2} \\left(v^{\\beta}\\right)^{2} v_{\\beta -ob}^{2}}{K^{6} c^{6} \\gamma^{6} |\\tilde{r}|^{4}}$"
      ],
      "text/plain": [
       "-\\beta_x**2*\\gamma_{ob}**2*\\vec{\\beta}\\cdot\\beta_{ob}**2*q**2*q_s**2/(K**4*c**2*|\\tilde{r}|**4) + 2*\\beta_x**2*\\gamma_{ob}**2*\\vec{\\beta}\\cdot\\beta_{ob}*q**2*q_s**2/(K**4*c**2*|\\tilde{r}|**4) - \\beta_x**2*\\gamma_{ob}**2*q**2*q_s**2/(K**4*c**2*|\\tilde{r}|**4) + 2*\\beta_x*\\dot{\\beta}*\\gamma_{ob}**2*\\vec{\\beta}\\cdot\\beta_{ob}*beta_ob*q**2*q_s**2*|\\hat{n}|/(K**4*c**3*|\\tilde{r}|**3) - 2*\\beta_x*\\dot{\\beta}*\\gamma_{ob}**2*beta_ob*q**2*q_s**2*|\\hat{n}|/(K**4*c**3*|\\tilde{r}|**3) + 2*\\beta_x*\\gamma_{ob}**2*\\vec{\\beta}*\\vec{\\beta}\\cdot\\beta_{ob}*\\vec{\\beta}\\cdot\\dot{\\vec{\\beta}}*beta_ob*gamma**2*q**2*q_s**2*|\\hat{n}|/(K**4*c**3*|\\tilde{r}|**3) - 2*\\beta_x*\\gamma_{ob}**2*\\vec{\\beta}*\\vec{\\beta}\\cdot\\dot{\\vec{\\beta}}*beta_ob*gamma**2*q**2*q_s**2*|\\hat{n}|/(K**4*c**3*|\\tilde{r}|**3) - 2*\\beta_x*\\gamma_{ob}**2*\\vec{\\beta}\\cdot\\beta_{ob}*\\vec{\\beta}\\cdot\\dot{\\vec{\\beta}}*gamma**2*q**2*q_s**2*|\\hat{n}|/(K**4*c**3*|\\tilde{r}|**3) + 2*\\beta_x*\\gamma_{ob}**2*\\vec{\\beta}\\cdot\\dot{\\vec{\\beta}}*gamma**2*q**2*q_s**2*|\\hat{n}|/(K**4*c**3*|\\tilde{r}|**3) + \\dot{V^\\beta}**2*q**2*q_s**2*v_beta_-ob**2/(K**4*c**8*gamma**4*|\\tilde{r}|**2) - 2*\\dot{V^\\beta}*q**2*q_s**2*v^beta*v_beta_-ob**2/(K**4*c**7*gamma**3*|\\tilde{r}|**3) - \\dot{\\beta}**2*\\gamma_{ob}**2*beta_ob**2*q**2*q_s**2*|\\hat{n}|**2/(K**4*c**4*|\\tilde{r}|**2) - 2*\\dot{\\beta}*\\gamma_{ob}**2*\\vec{\\beta}*\\vec{\\beta}\\cdot\\dot{\\vec{\\beta}}*beta_ob**2*gamma**2*q**2*q_s**2*|\\hat{n}|**2/(K**4*c**4*|\\tilde{r}|**2) + 2*\\dot{\\beta}*\\gamma_{ob}**2*\\vec{\\beta}\\cdot\\dot{\\vec{\\beta}}*beta_ob*gamma**2*q**2*q_s**2*|\\hat{n}|**2/(K**4*c**4*|\\tilde{r}|**2) - \\gamma_{ob}**2*\\vec{\\beta}**2*\\vec{\\beta}\\cdot\\dot{\\vec{\\beta}}**2*beta_ob**2*gamma**4*q**2*q_s**2*|\\hat{n}|**2/(K**4*c**4*|\\tilde{r}|**2) + 2*\\gamma_{ob}**2*\\vec{\\beta}*\\vec{\\beta}\\cdot\\dot{\\vec{\\beta}}**2*beta_ob*gamma**4*q**2*q_s**2*|\\hat{n}|**2/(K**4*c**4*|\\tilde{r}|**2) - \\gamma_{ob}**2*\\vec{\\beta}\\cdot\\dot{\\vec{\\beta}}**2*gamma**4*q**2*q_s**2*|\\hat{n}|**2/(K**4*c**4*|\\tilde{r}|**2) + q**2*q_s**2*v^beta**2*v_beta_-ob**2/(K**4*c**6*gamma**2*|\\tilde{r}|**4) + 2*\\beta_x*\\dot{\\beta}*\\gamma_{ob}**2*\\vec{\\beta}\\cdot\\beta_{ob}**2*q**2*q_s**2*|\\hat{n}|**2/(K**5*c**3*|\\tilde{r}|**3) - 4*\\beta_x*\\dot{\\beta}*\\gamma_{ob}**2*\\vec{\\beta}\\cdot\\beta_{ob}*q**2*q_s**2*|\\hat{n}|**2/(K**5*c**3*|\\tilde{r}|**3) + 2*\\beta_x*\\dot{\\beta}*\\gamma_{ob}**2*q**2*q_s**2*|\\hat{n}|**2/(K**5*c**3*|\\tilde{r}|**3) + 2*\\beta_x*\\gamma_{ob}**2*\\vec{\\beta}*\\vec{\\beta}\\cdot\\beta_{ob}**2*\\vec{\\beta}\\cdot\\dot{\\vec{\\beta}}*gamma**2*q**2*q_s**2*|\\hat{n}|**2/(K**5*c**3*|\\tilde{r}|**3) - 4*\\beta_x*\\gamma_{ob}**2*\\vec{\\beta}*\\vec{\\beta}\\cdot\\beta_{ob}*\\vec{\\beta}\\cdot\\dot{\\vec{\\beta}}*gamma**2*q**2*q_s**2*|\\hat{n}|**2/(K**5*c**3*|\\tilde{r}|**3) + 2*\\beta_x*\\gamma_{ob}**2*\\vec{\\beta}*\\vec{\\beta}\\cdot\\dot{\\vec{\\beta}}*gamma**2*q**2*q_s**2*|\\hat{n}|**2/(K**5*c**3*|\\tilde{r}|**3) + 2*\\beta_x*\\gamma_{ob}**2*\\vec{\\beta}\\cdot\\beta_{ob}**2*q**2*q_s**2*|\\hat{n}|/(K**5*c**2*gamma**2*|\\tilde{r}|**4) - 4*\\beta_x*\\gamma_{ob}**2*\\vec{\\beta}\\cdot\\beta_{ob}*q**2*q_s**2*|\\hat{n}|/(K**5*c**2*gamma**2*|\\tilde{r}|**4) + 2*\\beta_x*\\gamma_{ob}**2*q**2*q_s**2*|\\hat{n}|/(K**5*c**2*gamma**2*|\\tilde{r}|**4) - 2*\\dot{V^\\beta}*\\vec{\\beta}\\cdot\\dot{\\vec{\\beta}}*q**2*q_s**2*v^beta*v_beta_-ob**2/(K**5*c**8*gamma*|\\tilde{r}|**2) + 2*\\dot{V^\\beta}*q**2*q_s**2*v^beta*v_beta_-ob**2/(K**5*c**7*gamma**5*|\\tilde{r}|**3) - 2*\\dot{\\beta}**2*\\gamma_{ob}**2*\\vec{\\beta}\\cdot\\beta_{ob}*beta_ob*q**2*q_s**2*|\\hat{n}|**3/(K**5*c**4*|\\tilde{r}|**2) + 2*\\dot{\\beta}**2*\\gamma_{ob}**2*beta_ob*q**2*q_s**2*|\\hat{n}|**3/(K**5*c**4*|\\tilde{r}|**2) - 4*\\dot{\\beta}*\\gamma_{ob}**2*\\vec{\\beta}*\\vec{\\beta}\\cdot\\beta_{ob}*\\vec{\\beta}\\cdot\\dot{\\vec{\\beta}}*beta_ob*gamma**2*q**2*q_s**2*|\\hat{n}|**3/(K**5*c**4*|\\tilde{r}|**2) + 4*\\dot{\\beta}*\\gamma_{ob}**2*\\vec{\\beta}*\\vec{\\beta}\\cdot\\dot{\\vec{\\beta}}*beta_ob*gamma**2*q**2*q_s**2*|\\hat{n}|**3/(K**5*c**4*|\\tilde{r}|**2) + 2*\\dot{\\beta}*\\gamma_{ob}**2*\\vec{\\beta}\\cdot\\beta_{ob}*\\vec{\\beta}\\cdot\\dot{\\vec{\\beta}}*gamma**2*q**2*q_s**2*|\\hat{n}|**3/(K**5*c**4*|\\tilde{r}|**2) - 2*\\dot{\\beta}*\\gamma_{ob}**2*\\vec{\\beta}\\cdot\\beta_{ob}*beta_ob*q**2*q_s**2*|\\hat{n}|**2/(K**5*c**3*gamma**2*|\\tilde{r}|**3) - 2*\\dot{\\beta}*\\gamma_{ob}**2*\\vec{\\beta}\\cdot\\dot{\\vec{\\beta}}*gamma**2*q**2*q_s**2*|\\hat{n}|**3/(K**5*c**4*|\\tilde{r}|**2) + 2*\\dot{\\beta}*\\gamma_{ob}**2*beta_ob*q**2*q_s**2*|\\hat{n}|**2/(K**5*c**3*gamma**2*|\\tilde{r}|**3) - 2*\\gamma_{ob}**2*\\vec{\\beta}**2*\\vec{\\beta}\\cdot\\beta_{ob}*\\vec{\\beta}\\cdot\\dot{\\vec{\\beta}}**2*beta_ob*gamma**4*q**2*q_s**2*|\\hat{n}|**3/(K**5*c**4*|\\tilde{r}|**2) + 2*\\gamma_{ob}**2*\\vec{\\beta}**2*\\vec{\\beta}\\cdot\\dot{\\vec{\\beta}}**2*beta_ob*gamma**4*q**2*q_s**2*|\\hat{n}|**3/(K**5*c**4*|\\tilde{r}|**2) + 2*\\gamma_{ob}**2*\\vec{\\beta}*\\vec{\\beta}\\cdot\\beta_{ob}*\\vec{\\beta}\\cdot\\dot{\\vec{\\beta}}**2*gamma**4*q**2*q_s**2*|\\hat{n}|**3/(K**5*c**4*|\\tilde{r}|**2) - 2*\\gamma_{ob}**2*\\vec{\\beta}*\\vec{\\beta}\\cdot\\beta_{ob}*\\vec{\\beta}\\cdot\\dot{\\vec{\\beta}}*beta_ob*q**2*q_s**2*|\\hat{n}|**2/(K**5*c**3*|\\tilde{r}|**3) - 2*\\gamma_{ob}**2*\\vec{\\beta}*\\vec{\\beta}\\cdot\\dot{\\vec{\\beta}}**2*gamma**4*q**2*q_s**2*|\\hat{n}|**3/(K**5*c**4*|\\tilde{r}|**2) + 2*\\gamma_{ob}**2*\\vec{\\beta}*\\vec{\\beta}\\cdot\\dot{\\vec{\\beta}}*beta_ob*q**2*q_s**2*|\\hat{n}|**2/(K**5*c**3*|\\tilde{r}|**3) + 2*\\gamma_{ob}**2*\\vec{\\beta}\\cdot\\beta_{ob}*\\vec{\\beta}\\cdot\\dot{\\vec{\\beta}}*q**2*q_s**2*|\\hat{n}|**2/(K**5*c**3*|\\tilde{r}|**3) - 2*\\gamma_{ob}**2*\\vec{\\beta}\\cdot\\dot{\\vec{\\beta}}*q**2*q_s**2*|\\hat{n}|**2/(K**5*c**3*|\\tilde{r}|**3) + 2*\\vec{\\beta}\\cdot\\dot{\\vec{\\beta}}*q**2*q_s**2*v^beta**2*v_beta_-ob**2/(K**5*c**7*|\\tilde{r}|**3) - 2*q**2*q_s**2*v^beta**2*v_beta_-ob**2/(K**5*c**6*gamma**4*|\\tilde{r}|**4) - \\dot{\\beta}**2*\\gamma_{ob}**2*\\vec{\\beta}\\cdot\\beta_{ob}**2*q**2*q_s**2*|\\hat{n}|**4/(K**6*c**4*|\\tilde{r}|**2) + 2*\\dot{\\beta}**2*\\gamma_{ob}**2*\\vec{\\beta}\\cdot\\beta_{ob}*q**2*q_s**2*|\\hat{n}|**4/(K**6*c**4*|\\tilde{r}|**2) - \\dot{\\beta}**2*\\gamma_{ob}**2*q**2*q_s**2*|\\hat{n}|**4/(K**6*c**4*|\\tilde{r}|**2) - 2*\\dot{\\beta}*\\gamma_{ob}**2*\\vec{\\beta}*\\vec{\\beta}\\cdot\\beta_{ob}**2*\\vec{\\beta}\\cdot\\dot{\\vec{\\beta}}*gamma**2*q**2*q_s**2*|\\hat{n}|**4/(K**6*c**4*|\\tilde{r}|**2) + 4*\\dot{\\beta}*\\gamma_{ob}**2*\\vec{\\beta}*\\vec{\\beta}\\cdot\\beta_{ob}*\\vec{\\beta}\\cdot\\dot{\\vec{\\beta}}*gamma**2*q**2*q_s**2*|\\hat{n}|**4/(K**6*c**4*|\\tilde{r}|**2) - 2*\\dot{\\beta}*\\gamma_{ob}**2*\\vec{\\beta}*\\vec{\\beta}\\cdot\\dot{\\vec{\\beta}}*gamma**2*q**2*q_s**2*|\\hat{n}|**4/(K**6*c**4*|\\tilde{r}|**2) - 2*\\dot{\\beta}*\\gamma_{ob}**2*\\vec{\\beta}\\cdot\\beta_{ob}**2*q**2*q_s**2*|\\hat{n}|**3/(K**6*c**3*gamma**2*|\\tilde{r}|**3) + 4*\\dot{\\beta}*\\gamma_{ob}**2*\\vec{\\beta}\\cdot\\beta_{ob}*q**2*q_s**2*|\\hat{n}|**3/(K**6*c**3*gamma**2*|\\tilde{r}|**3) - 2*\\dot{\\beta}*\\gamma_{ob}**2*q**2*q_s**2*|\\hat{n}|**3/(K**6*c**3*gamma**2*|\\tilde{r}|**3) - \\gamma_{ob}**2*\\vec{\\beta}**2*\\vec{\\beta}\\cdot\\beta_{ob}**2*\\vec{\\beta}\\cdot\\dot{\\vec{\\beta}}**2*gamma**4*q**2*q_s**2*|\\hat{n}|**4/(K**6*c**4*|\\tilde{r}|**2) + 2*\\gamma_{ob}**2*\\vec{\\beta}**2*\\vec{\\beta}\\cdot\\beta_{ob}*\\vec{\\beta}\\cdot\\dot{\\vec{\\beta}}**2*gamma**4*q**2*q_s**2*|\\hat{n}|**4/(K**6*c**4*|\\tilde{r}|**2) - \\gamma_{ob}**2*\\vec{\\beta}**2*\\vec{\\beta}\\cdot\\dot{\\vec{\\beta}}**2*gamma**4*q**2*q_s**2*|\\hat{n}|**4/(K**6*c**4*|\\tilde{r}|**2) - 2*\\gamma_{ob}**2*\\vec{\\beta}*\\vec{\\beta}\\cdot\\beta_{ob}**2*\\vec{\\beta}\\cdot\\dot{\\vec{\\beta}}*q**2*q_s**2*|\\hat{n}|**3/(K**6*c**3*|\\tilde{r}|**3) + 4*\\gamma_{ob}**2*\\vec{\\beta}*\\vec{\\beta}\\cdot\\beta_{ob}*\\vec{\\beta}\\cdot\\dot{\\vec{\\beta}}*q**2*q_s**2*|\\hat{n}|**3/(K**6*c**3*|\\tilde{r}|**3) - 2*\\gamma_{ob}**2*\\vec{\\beta}*\\vec{\\beta}\\cdot\\dot{\\vec{\\beta}}*q**2*q_s**2*|\\hat{n}|**3/(K**6*c**3*|\\tilde{r}|**3) - \\gamma_{ob}**2*\\vec{\\beta}\\cdot\\beta_{ob}**2*q**2*q_s**2*|\\hat{n}|**2/(K**6*c**2*gamma**4*|\\tilde{r}|**4) + 2*\\gamma_{ob}**2*\\vec{\\beta}\\cdot\\beta_{ob}*q**2*q_s**2*|\\hat{n}|**2/(K**6*c**2*gamma**4*|\\tilde{r}|**4) - \\gamma_{ob}**2*q**2*q_s**2*|\\hat{n}|**2/(K**6*c**2*gamma**4*|\\tilde{r}|**4) + \\vec{\\beta}\\cdot\\dot{\\vec{\\beta}}**2*gamma**2*q**2*q_s**2*v^beta**2*v_beta_-ob**2/(K**6*c**8*|\\tilde{r}|**2) - 2*\\vec{\\beta}\\cdot\\dot{\\vec{\\beta}}*q**2*q_s**2*v^beta**2*v_beta_-ob**2/(K**6*c**7*gamma**2*|\\tilde{r}|**3) + q**2*q_s**2*v^beta**2*v_beta_-ob**2/(K**6*c**6*gamma**6*|\\tilde{r}|**4)"
      ]
     },
     "execution_count": 59,
     "metadata": {},
     "output_type": "execute_result"
    }
   ],
   "source": [
    "dynamic_mass_squared"
   ]
  },
  {
   "cell_type": "code",
   "execution_count": null,
   "metadata": {},
   "outputs": [],
   "source": []
  },
  {
   "cell_type": "code",
   "execution_count": null,
   "metadata": {},
   "outputs": [
    {
     "data": {
      "text/latex": [
       "$\\displaystyle \\frac{\\beta_{x} \\gamma_{ob} \\vec{\\beta}\\cdot\\beta_{ob} q q_{s}}{K^{2} |\\tilde{r}|^{2}} - \\frac{\\gamma_{ob} \\vec{\\beta}\\cdot\\beta_{ob} q q_{s} |\\hat{n}|}{K^{3} \\gamma^{2} |\\tilde{r}|^{2}}$"
      ],
      "text/plain": [
       "\\beta_x*\\gamma_{ob}*\\vec{\\beta}\\cdot\\beta_{ob}*q*q_s/(K**2*|\\tilde{r}|**2) - \\gamma_{ob}*\\vec{\\beta}\\cdot\\beta_{ob}*q*q_s*|\\hat{n}|/(K**3*gamma**2*|\\tilde{r}|**2)"
      ]
     },
     "execution_count": 454,
     "metadata": {},
     "output_type": "execute_result"
    }
   ],
   "source": [
    "dPcv_aph_dtau_3"
   ]
  },
  {
   "cell_type": "code",
   "execution_count": 385,
   "metadata": {},
   "outputs": [],
   "source": [
    "#headon"
   ]
  },
  {
   "cell_type": "code",
   "execution_count": 157,
   "metadata": {},
   "outputs": [],
   "source": [
    "#dPdtauxh = dPdtaux.subs([[dbta*c*gm**2,dbta],[c**3*gm**2,c**2],[bta_dot_dbta*c*gm**4,bta_dot_dbta*gm**2]])"
   ]
  },
  {
   "cell_type": "code",
   "execution_count": 158,
   "metadata": {},
   "outputs": [],
   "source": [
    "#dPdtauxh"
   ]
  },
  {
   "cell_type": "code",
   "execution_count": 159,
   "metadata": {},
   "outputs": [],
   "source": [
    "#dPdtauxh = ((dPdtauxh.subs([[n_src_ob,1],[q*q_s,1],[gm_ob,1]])))"
   ]
  },
  {
   "cell_type": "code",
   "execution_count": 193,
   "metadata": {},
   "outputs": [],
   "source": [
    "#dPdtauxh"
   ]
  },
  {
   "cell_type": "code",
   "execution_count": 194,
   "metadata": {},
   "outputs": [],
   "source": [
    "#dPdtau0h = ((dPdtau0.subs([[n_src_ob,1],[q*q_s*gm_ob,1]])))"
   ]
  },
  {
   "cell_type": "code",
   "execution_count": 195,
   "metadata": {},
   "outputs": [],
   "source": [
    "#dPdtau0h"
   ]
  },
  {
   "cell_type": "code",
   "execution_count": null,
   "metadata": {},
   "outputs": [],
   "source": []
  },
  {
   "cell_type": "code",
   "execution_count": 32,
   "metadata": {},
   "outputs": [],
   "source": [
    "Pfull = (dPdtau0h**2-dPdtaux**2)\n",
    "#Pfull = (dPdtau0h+dPdtauxh)\n",
    "Pfull_sbdd = Pfull.subs([[bta_ob,0],[bta_dot_dbta,0]])\n",
    "Pfull_sbdd2 = Pfull.subs([[bta_ob,-bta],[bta_dot_dbta,0]])\n",
    "#Pfull_sbdd = Pfull.subs(gm**2,1/(1-bta**2))"
   ]
  },
  {
   "cell_type": "code",
   "execution_count": 66,
   "metadata": {},
   "outputs": [
    {
     "data": {
      "text/latex": [
       "$\\displaystyle |\\hat{n}|$"
      ],
      "text/plain": [
       "|\\hat{n}|"
      ]
     },
     "execution_count": 66,
     "metadata": {},
     "output_type": "execute_result"
    }
   ],
   "source": [
    "n_src_ob"
   ]
  },
  {
   "cell_type": "code",
   "execution_count": 34,
   "metadata": {},
   "outputs": [
    {
     "data": {
      "text/latex": [
       "$\\displaystyle \\frac{\\gamma_{ob}^{2} q^{2} q_{s}^{2} \\left(- \\beta_{ob}^{2} \\left(- K \\vec{\\beta}^{2} c \\gamma^{2} + K \\gamma^{2} |\\hat{n}| |\\tilde{r}| \\left(\\dot{\\vec{\\beta}} + \\vec{\\beta} \\vec{\\beta}\\cdot\\dot{\\vec{\\beta}} \\gamma^{2}\\right) + \\vec{\\beta} c |\\hat{n}|\\right)^{2} + \\left(K \\vec{\\beta}\\cdot\\dot{\\vec{\\beta}} \\gamma^{4} |\\tilde{r}| - K c \\gamma^{2} + c\\right)^{2}\\right)}{K^{6} c^{2} \\gamma^{4} |\\tilde{r}|^{4}}$"
      ],
      "text/plain": [
       "\\gamma_{ob}**2*q**2*q_s**2*(-beta_ob**2*(-K*\\vec{\\beta}**2*c*gamma**2 + K*gamma**2*|\\hat{n}|*|\\tilde{r}|*(\\dot{\\vec{\\beta}} + \\vec{\\beta}*\\vec{\\beta}\\cdot\\dot{\\vec{\\beta}}*gamma**2) + \\vec{\\beta}*c*|\\hat{n}|)**2 + (K*\\vec{\\beta}\\cdot\\dot{\\vec{\\beta}}*gamma**4*|\\tilde{r}| - K*c*gamma**2 + c)**2)/(K**6*c**2*gamma**4*|\\tilde{r}|**4)"
      ]
     },
     "execution_count": 34,
     "metadata": {},
     "output_type": "execute_result"
    }
   ],
   "source": [
    "simplify(Pfull)"
   ]
  },
  {
   "cell_type": "code",
   "execution_count": 35,
   "metadata": {},
   "outputs": [],
   "source": [
    "Pow_inputE_ratio = simplify((Pfull/(c*dPdtau0h)))"
   ]
  },
  {
   "cell_type": "code",
   "execution_count": 36,
   "metadata": {},
   "outputs": [
    {
     "data": {
      "text/latex": [
       "$\\displaystyle \\vec{\\beta}_x$"
      ],
      "text/plain": [
       "\\vec{\\beta}_x"
      ]
     },
     "execution_count": 36,
     "metadata": {},
     "output_type": "execute_result"
    }
   ],
   "source": [
    "bta_x"
   ]
  },
  {
   "cell_type": "code",
   "execution_count": 37,
   "metadata": {},
   "outputs": [
    {
     "data": {
      "text/latex": [
       "$\\displaystyle \\vec{\\beta}$"
      ],
      "text/plain": [
       "\\vec{\\beta}"
      ]
     },
     "execution_count": 37,
     "metadata": {},
     "output_type": "execute_result"
    }
   ],
   "source": [
    "bta"
   ]
  },
  {
   "cell_type": "code",
   "execution_count": null,
   "metadata": {},
   "outputs": [],
   "source": []
  },
  {
   "cell_type": "code",
   "execution_count": 143,
   "metadata": {},
   "outputs": [
    {
     "data": {
      "text/latex": [
       "$\\displaystyle \\frac{q q_{s} \\left(- \\vec{\\beta} \\gamma^{3} |\\tilde{r}| + \\gamma^{3} |\\tilde{r}| - 1\\right)}{c \\gamma^{4} |\\tilde{r}|^{5} \\left(\\vec{\\beta}^{3} - 3 \\vec{\\beta}^{2} + 3 \\vec{\\beta} - 1\\right)}$"
      ],
      "text/plain": [
       "q*q_s*(-\\vec{\\beta}*gamma**3*|\\tilde{r}| + gamma**3*|\\tilde{r}| - 1)/(c*gamma**4*|\\tilde{r}|**5*(\\vec{\\beta}**3 - 3*\\vec{\\beta}**2 + 3*\\vec{\\beta} - 1))"
      ]
     },
     "execution_count": 143,
     "metadata": {},
     "output_type": "execute_result"
    }
   ],
   "source": [
    " simplify(expand(((((Pow_inputE_ratio.subs(r_mag,K/(gm*(1-bta)))).subs(K,gm*r_mag*(1-bta))).subs(gm_ob,gm)).subs(bta_ob,0)).subs(dbta,0)).subs(bta_dot_dbta,0))"
   ]
  },
  {
   "cell_type": "code",
   "execution_count": 166,
   "metadata": {},
   "outputs": [
    {
     "data": {
      "text/latex": [
       "$\\displaystyle \\frac{q q_{s} \\left(\\vec{\\beta} \\vec{\\beta}\\cdot\\dot{\\vec{\\beta}} \\gamma^{5} |\\tilde{r}|^{2} - \\vec{\\beta} c \\gamma^{3} |\\tilde{r}| - \\vec{\\beta}\\cdot\\dot{\\vec{\\beta}} \\gamma^{5} |\\tilde{r}|^{2} + c \\gamma^{3} |\\tilde{r}| - c\\right)}{c^{2} \\gamma^{5} |\\tilde{r}|^{5} \\left(\\vec{\\beta}^{3} - 3 \\vec{\\beta}^{2} + 3 \\vec{\\beta} - 1\\right)}$"
      ],
      "text/plain": [
       "q*q_s*(\\vec{\\beta}*\\vec{\\beta}\\cdot\\dot{\\vec{\\beta}}*gamma**5*|\\tilde{r}|**2 - \\vec{\\beta}*c*gamma**3*|\\tilde{r}| - \\vec{\\beta}\\cdot\\dot{\\vec{\\beta}}*gamma**5*|\\tilde{r}|**2 + c*gamma**3*|\\tilde{r}| - c)/(c**2*gamma**5*|\\tilde{r}|**5*(\\vec{\\beta}**3 - 3*\\vec{\\beta}**2 + 3*\\vec{\\beta} - 1))"
      ]
     },
     "execution_count": 166,
     "metadata": {},
     "output_type": "execute_result"
    }
   ],
   "source": [
    " simplify(expand(((((Pow_inputE_ratio).subs(K,gm*r_mag*(1-bta))).subs(gm_ob,1)).subs(bta_ob,0))))"
   ]
  },
  {
   "cell_type": "code",
   "execution_count": 167,
   "metadata": {},
   "outputs": [
    {
     "data": {
      "text/latex": [
       "$\\displaystyle \\frac{q q_{s} \\left(\\vec{\\beta} \\vec{\\beta}\\cdot\\dot{\\vec{\\beta}} \\gamma^{5} |\\tilde{r}|^{2} - \\vec{\\beta} c \\gamma^{3} |\\tilde{r}| - \\vec{\\beta}\\cdot\\dot{\\vec{\\beta}} \\gamma^{5} |\\tilde{r}|^{2} + c \\gamma^{3} |\\tilde{r}| - c\\right)}{c^{2} \\gamma^{5} |\\tilde{r}|^{5} \\left(\\vec{\\beta}^{3} - 3 \\vec{\\beta}^{2} + 3 \\vec{\\beta} - 1\\right)}$"
      ],
      "text/plain": [
       "q*q_s*(\\vec{\\beta}*\\vec{\\beta}\\cdot\\dot{\\vec{\\beta}}*gamma**5*|\\tilde{r}|**2 - \\vec{\\beta}*c*gamma**3*|\\tilde{r}| - \\vec{\\beta}\\cdot\\dot{\\vec{\\beta}}*gamma**5*|\\tilde{r}|**2 + c*gamma**3*|\\tilde{r}| - c)/(c**2*gamma**5*|\\tilde{r}|**5*(\\vec{\\beta}**3 - 3*\\vec{\\beta}**2 + 3*\\vec{\\beta} - 1))"
      ]
     },
     "execution_count": 167,
     "metadata": {},
     "output_type": "execute_result"
    }
   ],
   "source": [
    " simplify(expand(((((Pow_inputE_ratio.subs(r_mag,K/(gm*(1-bta)))).subs(K,gm*r_mag*(1-bta))).subs(gm_ob,1)).subs(bta_ob,0))))"
   ]
  },
  {
   "cell_type": "code",
   "execution_count": 185,
   "metadata": {},
   "outputs": [],
   "source": [
    "Pow_inputE_ratio_LOWBETA_O = simplify((((((Pow_inputE_ratio).subs(K,gm*r_mag*(1-bta))).subs(gm_ob,1).subs(bta_ob,0).subs(bta_dot_dbta,bta*dbta).subs(n_src_ob,-1)))))\n",
    "r_sol =solve(Pow_inputE_ratio_LOWBETA_O,r_mag)"
   ]
  },
  {
   "cell_type": "code",
   "execution_count": 186,
   "metadata": {},
   "outputs": [
    {
     "data": {
      "text/latex": [
       "$\\displaystyle \\frac{- \\sqrt{c} \\gamma^{2} \\sqrt{4 \\dot{\\vec{\\beta}} \\vec{\\beta}^{2} - 4 \\dot{\\vec{\\beta}} \\vec{\\beta} + \\vec{\\beta}^{2} c \\gamma - 2 \\vec{\\beta} c \\gamma + c \\gamma} + c \\gamma^{\\frac{5}{2}} \\left(\\vec{\\beta} - 1\\right)}{2 \\dot{\\vec{\\beta}} \\vec{\\beta} \\gamma^{\\frac{9}{2}} \\left(\\vec{\\beta} - 1\\right)}$"
      ],
      "text/plain": [
       "(-sqrt(c)*gamma**2*sqrt(4*\\dot{\\vec{\\beta}}*\\vec{\\beta}**2 - 4*\\dot{\\vec{\\beta}}*\\vec{\\beta} + \\vec{\\beta}**2*c*gamma - 2*\\vec{\\beta}*c*gamma + c*gamma) + c*gamma**(5/2)*(\\vec{\\beta} - 1))/(2*\\dot{\\vec{\\beta}}*\\vec{\\beta}*gamma**(9/2)*(\\vec{\\beta} - 1))"
      ]
     },
     "execution_count": 186,
     "metadata": {},
     "output_type": "execute_result"
    }
   ],
   "source": [
    "r_sol[0]"
   ]
  },
  {
   "cell_type": "code",
   "execution_count": 187,
   "metadata": {},
   "outputs": [
    {
     "data": {
      "text/latex": [
       "$\\displaystyle \\frac{\\sqrt{c} \\gamma^{2} \\sqrt{4 \\dot{\\vec{\\beta}} \\vec{\\beta}^{2} - 4 \\dot{\\vec{\\beta}} \\vec{\\beta} + \\vec{\\beta}^{2} c \\gamma - 2 \\vec{\\beta} c \\gamma + c \\gamma} + c \\gamma^{\\frac{5}{2}} \\left(\\vec{\\beta} - 1\\right)}{2 \\dot{\\vec{\\beta}} \\vec{\\beta} \\gamma^{\\frac{9}{2}} \\left(\\vec{\\beta} - 1\\right)}$"
      ],
      "text/plain": [
       "(sqrt(c)*gamma**2*sqrt(4*\\dot{\\vec{\\beta}}*\\vec{\\beta}**2 - 4*\\dot{\\vec{\\beta}}*\\vec{\\beta} + \\vec{\\beta}**2*c*gamma - 2*\\vec{\\beta}*c*gamma + c*gamma) + c*gamma**(5/2)*(\\vec{\\beta} - 1))/(2*\\dot{\\vec{\\beta}}*\\vec{\\beta}*gamma**(9/2)*(\\vec{\\beta} - 1))"
      ]
     },
     "execution_count": 187,
     "metadata": {},
     "output_type": "execute_result"
    }
   ],
   "source": [
    "r_sol[1]"
   ]
  },
  {
   "cell_type": "code",
   "execution_count": null,
   "metadata": {},
   "outputs": [],
   "source": []
  },
  {
   "cell_type": "code",
   "execution_count": null,
   "metadata": {},
   "outputs": [],
   "source": []
  },
  {
   "cell_type": "code",
   "execution_count": null,
   "metadata": {},
   "outputs": [],
   "source": []
  },
  {
   "cell_type": "code",
   "execution_count": null,
   "metadata": {},
   "outputs": [],
   "source": []
  },
  {
   "cell_type": "code",
   "execution_count": null,
   "metadata": {},
   "outputs": [],
   "source": []
  },
  {
   "cell_type": "code",
   "execution_count": 125,
   "metadata": {},
   "outputs": [
    {
     "data": {
      "text/latex": [
       "$\\displaystyle \\frac{q q_{s} \\left(- c \\gamma^{3} |\\tilde{r}| \\left(1 - \\vec{\\beta}\\right) + c\\right)}{c^{2} \\gamma^{5} |\\tilde{r}|^{5} \\left(1 - \\vec{\\beta}\\right)^{3}}$"
      ],
      "text/plain": [
       "q*q_s*(-c*gamma**3*|\\tilde{r}|*(1 - \\vec{\\beta}) + c)/(c**2*gamma**5*|\\tilde{r}|**5*(1 - \\vec{\\beta})**3)"
      ]
     },
     "execution_count": 125,
     "metadata": {},
     "output_type": "execute_result"
    }
   ],
   "source": [
    "Pow_inputE_ratio_LOWBETA_0_noaccel = ((((((Pow_inputE_ratio).subs(K,gm*r_mag*(1-bta))).subs(gm_ob,1).subs(bta_ob,0).subs(bta_dot_dbta,bta*dbta).subs(n_src_ob,-1).subs(dbta,0)))))\n",
    "(Pow_inputE_ratio_LOWBETA_0_noaccel.subs(bta**2,1-1/gm**2))"
   ]
  },
  {
   "cell_type": "code",
   "execution_count": 164,
   "metadata": {},
   "outputs": [],
   "source": [
    "Pow_inputE_ratio_equal_op_betas = ((((((Pow_inputE_ratio).subs(K,gm*r_mag*(1-bta))).subs(gm_ob,gm).subs(bta_ob**2,bta**2).subs(bta_dot_dbta,bta*dbta).subs(n_src_ob,-1)))))\n",
    "#solve(Pow_inputE_ratio_equal_op_betas,r_mag)"
   ]
  },
  {
   "cell_type": "code",
   "execution_count": null,
   "metadata": {},
   "outputs": [],
   "source": []
  },
  {
   "cell_type": "code",
   "execution_count": 151,
   "metadata": {},
   "outputs": [
    {
     "data": {
      "text/latex": [
       "$\\displaystyle - \\frac{q q_{s}}{c |\\tilde{r}|^{4}} + \\frac{q q_{s}}{c |\\tilde{r}|^{5}}$"
      ],
      "text/plain": [
       "-q*q_s/(c*|\\tilde{r}|**4) + q*q_s/(c*|\\tilde{r}|**5)"
      ]
     },
     "execution_count": 151,
     "metadata": {},
     "output_type": "execute_result"
    }
   ],
   "source": [
    "Pow_inputE_ratio_simple = (((((Pow_inputE_ratio).subs(K,gm*r_mag*(1-bta))).subs(bta_dot_dbta,bta*dbta).subs(n_src_ob,-1).subs(bta,0).subs(bta_ob,0).subs(gm,1).subs(gm_ob,1))))\n",
    "(expand(Pow_inputE_ratio_simple.subs(bta**2,1-1/gm**2)))"
   ]
  },
  {
   "cell_type": "code",
   "execution_count": null,
   "metadata": {},
   "outputs": [],
   "source": []
  },
  {
   "cell_type": "code",
   "execution_count": null,
   "metadata": {},
   "outputs": [],
   "source": []
  },
  {
   "cell_type": "code",
   "execution_count": null,
   "metadata": {},
   "outputs": [],
   "source": [
    "(Pfull_sbdd)"
   ]
  },
  {
   "cell_type": "code",
   "execution_count": null,
   "metadata": {},
   "outputs": [],
   "source": [
    "Pfull_sbdd"
   ]
  },
  {
   "cell_type": "code",
   "execution_count": null,
   "metadata": {},
   "outputs": [],
   "source": []
  },
  {
   "cell_type": "code",
   "execution_count": null,
   "metadata": {},
   "outputs": [],
   "source": [
    "sqrt(Pfull_sbdd.subs(bta,0))"
   ]
  },
  {
   "cell_type": "code",
   "execution_count": null,
   "metadata": {},
   "outputs": [],
   "source": [
    "Pfull"
   ]
  },
  {
   "cell_type": "code",
   "execution_count": null,
   "metadata": {},
   "outputs": [],
   "source": []
  },
  {
   "cell_type": "code",
   "execution_count": null,
   "metadata": {},
   "outputs": [],
   "source": []
  },
  {
   "cell_type": "code",
   "execution_count": null,
   "metadata": {},
   "outputs": [],
   "source": []
  },
  {
   "cell_type": "code",
   "execution_count": null,
   "metadata": {},
   "outputs": [],
   "source": []
  },
  {
   "cell_type": "code",
   "execution_count": null,
   "metadata": {},
   "outputs": [],
   "source": []
  },
  {
   "cell_type": "code",
   "execution_count": null,
   "metadata": {},
   "outputs": [],
   "source": [
    "dPdtaux_conv= dPdtaux.subs([[bta_dot_dbta,0],[dbta,0]])\n",
    "(dPdtaux_conv)"
   ]
  },
  {
   "cell_type": "code",
   "execution_count": null,
   "metadata": {},
   "outputs": [],
   "source": []
  },
  {
   "cell_type": "code",
   "execution_count": null,
   "metadata": {},
   "outputs": [],
   "source": []
  },
  {
   "cell_type": "code",
   "execution_count": null,
   "metadata": {},
   "outputs": [],
   "source": []
  },
  {
   "cell_type": "code",
   "execution_count": null,
   "metadata": {},
   "outputs": [],
   "source": []
  },
  {
   "cell_type": "code",
   "execution_count": null,
   "metadata": {},
   "outputs": [],
   "source": []
  },
  {
   "cell_type": "code",
   "execution_count": null,
   "metadata": {},
   "outputs": [],
   "source": []
  },
  {
   "cell_type": "code",
   "execution_count": null,
   "metadata": {},
   "outputs": [],
   "source": []
  },
  {
   "cell_type": "code",
   "execution_count": null,
   "metadata": {},
   "outputs": [],
   "source": [
    "##seems like a kroenecker needed here on the r*\\nu terms in the numerators\n",
    "##which leads to"
   ]
  },
  {
   "cell_type": "code",
   "execution_count": null,
   "metadata": {},
   "outputs": [],
   "source": [
    "#dP3dtau3 = dP3dtau3.subs(rcv_aph*vcn_bt,-r_mag*c*gm*K)\n",
    "#dP3dtau3 = dP3dtau3.subs(rcn_bt*vcv_aph,-r_mag*c*gm*K)\n",
    "\n",
    "#middleman steps, maybe a typo\n",
    "#dP3dtau3 = dP3dtau3.subs(rcv_aph*vcn_bt,rcn_aph*del_ab*vcv_aph)\n",
    "#dP3dtau3 = dP3dtau3.subs(rcn_aph*vcv_aph*del_ab,-r_mag*c*gm*K)\n",
    "#dP3dtau3 = dP3dtau3.subs(rcv_aph,rcn_bt*gup_ba)\n",
    "\n",
    "dP3dtau3"
   ]
  },
  {
   "attachments": {},
   "cell_type": "markdown",
   "metadata": {},
   "source": [
    "# take it by hand from here, extract metric tensor and simplify RHS of numerator, "
   ]
  },
  {
   "cell_type": "code",
   "execution_count": null,
   "metadata": {},
   "outputs": [],
   "source": []
  },
  {
   "cell_type": "code",
   "execution_count": null,
   "metadata": {},
   "outputs": [],
   "source": []
  },
  {
   "cell_type": "code",
   "execution_count": null,
   "metadata": {},
   "outputs": [],
   "source": []
  },
  {
   "cell_type": "code",
   "execution_count": null,
   "metadata": {},
   "outputs": [],
   "source": []
  },
  {
   "cell_type": "code",
   "execution_count": null,
   "metadata": {},
   "outputs": [],
   "source": []
  },
  {
   "cell_type": "code",
   "execution_count": null,
   "metadata": {},
   "outputs": [],
   "source": []
  },
  {
   "cell_type": "code",
   "execution_count": null,
   "metadata": {},
   "outputs": [],
   "source": []
  },
  {
   "cell_type": "code",
   "execution_count": null,
   "metadata": {},
   "outputs": [],
   "source": []
  },
  {
   "cell_type": "code",
   "execution_count": null,
   "metadata": {},
   "outputs": [],
   "source": []
  },
  {
   "cell_type": "code",
   "execution_count": null,
   "metadata": {},
   "outputs": [],
   "source": []
  }
 ],
 "metadata": {
  "kernelspec": {
   "display_name": "Python 3 (ipykernel)",
   "language": "python",
   "name": "python3"
  },
  "language_info": {
   "codemirror_mode": {
    "name": "ipython",
    "version": 3
   },
   "file_extension": ".py",
   "mimetype": "text/x-python",
   "name": "python",
   "nbconvert_exporter": "python",
   "pygments_lexer": "ipython3",
   "version": "3.10.12"
  }
 },
 "nbformat": 4,
 "nbformat_minor": 4
}
