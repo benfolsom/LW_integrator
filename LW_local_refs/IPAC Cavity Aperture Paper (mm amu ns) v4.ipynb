{
 "cells": [
  {
   "cell_type": "code",
   "execution_count": 4,
   "metadata": {},
   "outputs": [
    {
     "name": "stdout",
     "output_type": "stream",
     "text": [
      "Populating the interactive namespace from numpy and matplotlib\n"
     ]
    }
   ],
   "source": [
    "%pylab inline\n",
    "from scipy.special import j0, j1\n",
    "import numpy as np\n",
    "import itertools as itrt\n",
    "import matplotlib.pyplot as plt\n",
    "%config Completer.use_jedi = False"
   ]
  },
  {
   "cell_type": "code",
   "execution_count": 5,
   "metadata": {},
   "outputs": [],
   "source": [
    "def gamma_to_beta(gamma):\n",
    "    return sqrt(1-1/gamma**2)\n",
    "def kinetic_to_betagamma(energy, rest_energy):\n",
    "    gamma = energy/rest_energy+1\n",
    "    beta = gamma_to_beta(gamma)\n",
    "    return beta, gamma"
   ]
  },
  {
   "cell_type": "code",
   "execution_count": 6,
   "metadata": {},
   "outputs": [],
   "source": [
    "m = 1.007319468  #amu\n",
    "c = 299.792458 # mm/ns\n",
    "q = 1.178734E-5 ##1.6E-19 C => 4.8032047E-10 statC [cm^(3/2)*g^(1/2)*s^(-1)] => [mm^(3/2)*amu^(1/2)*ns^(-1)];\n",
    "Px = np.random.normal(-3e-2, 3e-2, 200) #3e-2 amu*mm/ns corresponds to 93 keV\n",
    "Py = np.random.uniform(-3e-2, 3e-2, 200)\n",
    "Pz = np.random.uniform(3.4e2, 3.41e2, 200)  # approx 1 GeV +- 4 MeV, CAREFUL WE ARE IN LAB FRAME HERE\n",
    "Pt = np.sqrt( Px**2+Py**2+Pz**2+m**2*c**2)\n",
    "gamma = Pt/(m*c)\n",
    "bx = Px/(gamma*m*c)\n",
    "by = Py/(gamma*m*c)\n",
    "bz = Pz/(gamma*m*c)\n",
    "beta_avg  = np.sqrt(bx**2+by**2+bz**2)\n",
    "\n",
    "x = numpy.random.normal(-50, 50, 200)\n",
    "y = numpy.random.uniform(-50, 50, 200)\n",
    "z = numpy.random.uniform(-50, 50, 200)\n",
    "t = numpy.random.uniform(0, 100/(beta_avg*c), 200)\n",
    "\n",
    "bdotx = bx*np.random.uniform(-1e-3,1e-3)  #just a guess, there is probably much more acceleration going on in the core\n",
    "bdoty = by*np.random.uniform(-1e-3,1e-3) \n",
    "bdotz = bz*np.random.uniform(-1e-7,1e-7) #sloppy approximation to reflect much less deviation in logitudinal direction"
   ]
  },
  {
   "cell_type": "code",
   "execution_count": 7,
   "metadata": {},
   "outputs": [],
   "source": [
    "init_beam = {'x':x, 'y':y, 'z':z, 't':t, 'Px':Px, 'Py':Py, 'Pz':Pz,'Pt':Pt,\n",
    "             'bx':bx,'by':by,'bz':bz,'bdotx':bdotx,'bdoty':bdoty,'bdotz':bdotz,'gamma':gamma,'q':q} "
   ]
  },
  {
   "cell_type": "code",
   "execution_count": 9,
   "metadata": {},
   "outputs": [
    {
     "data": {
      "text/plain": [
       "-13.650502061398846"
      ]
     },
     "execution_count": 9,
     "metadata": {},
     "output_type": "execute_result"
    }
   ],
   "source": [
    "init_beam['x'][1]"
   ]
  },
  {
   "cell_type": "code",
   "execution_count": 5,
   "metadata": {},
   "outputs": [],
   "source": [
    "def dist_euclid(vector,vector_ext,index): \n",
    "    result = {}\n",
    "    result['R'] = np.zeros_like(vector['x'])    \n",
    "    result['nx'] = np.zeros_like(vector['x'])\n",
    "    result['ny'] = np.zeros_like(vector['x'])    \n",
    "    result['nz'] = np.zeros_like(vector['x'])    \n",
    "    for j in range(len(vector_ext['x'])):\n",
    "        result['R'][j] = np.sqrt( (vector['x'][index]-vector_ext['x'][j])**2+\n",
    "                          (vector['y'][index]-vector_ext['y'][j])**2+\n",
    "                          (vector['z'][index]-vector_ext['z'][j])**2 )\n",
    "        result['nx'][j] = (vector['x'][index]-vector_ext['x'][j])/result['R'][j]\n",
    "        result['ny'][j] = (vector['y'][index]-vector_ext['y'][j])/result['R'][j]\n",
    "        result['nz'][j] = (vector['z'][index]-vector_ext['z'][j])/result['R'][j]\n",
    "    return(result)"
   ]
  },
  {
   "cell_type": "code",
   "execution_count": null,
   "metadata": {},
   "outputs": [],
   "source": []
  },
  {
   "cell_type": "code",
   "execution_count": 6,
   "metadata": {},
   "outputs": [],
   "source": [
    "def step1(h, vector,vector_ext): # nhat includes R and fnhat components, need to generate this per particle pair\n",
    "    for i in range(len(vector['x'])):   #iterating over all real particles OR all reflection points (these must be done in separate steps)            \n",
    "            nhat = dist_euclid(vector,vector_ext,i)\n",
    "        for j in range(len(vector_ext['x'])): #summing all external contributions (reflected particles and/or local particles)            \n",
    "            result = {}\n",
    "            result['x'] = vector['x']\n",
    "            result['y'] = vector['y']\n",
    "            result['z'] = vector['z']\n",
    "            result['t'] = vector['t']\n",
    "            result['Px'] = vector['Px'] + h/m*vector['q']*vector_ext['q']*vector['gamma']\\\n",
    "                        *1/(1-np.dot(vector_ext['bx','by','bz'],nhat['nx','ny','nz'])**2)\\\n",
    "                        *[ 1/nhat['R']**2*vector['bx']*np.dot(vector_ext['bx','by','bz'],vector('bx,by,bz'))\\\n",
    "                        -nhat['nx']*np.dot(vector_ext['bx','by','bz'],vector('bx,by,bz'))\\\n",
    "                        /(vector_ext['gamma']**2*nhat['R']**2*(1-np.dot(vector_ext['bx','by','bz'],nhat['nx','ny','nz'])))\\\n",
    "                        -nhat['nx']/(c*nhat['R'])*(np.dot(vector['bx','by','bz'],(vector_ext['bdotx','bdoty','bdotz']+vector_ext['gamma']**2\\\n",
    "                        *np.dot(vector_ext['bx','by','bz'],np.dot(vector_ext['bx','by','bz'],vector_ext['bdotx','bdoty','bdotz']) ) ) ) ) ]\n",
    "            result['Py'] = vector['Py'] + h/m*vector['q']*vector_ext['q']*vector['gamma']\\\n",
    "                        *1/(1-np.dot(vector_ext['bx','by','bz'],nhat['nx','ny','nz'])**2)\\\n",
    "                        *[ 1/nhat['R']**2*vector['by']*np.dot(vector_ext['bx','by','bz'],vector('bx,by,bz'))\\\n",
    "                        -nhat['ny']*np.dot(vector_ext['bx','by','bz'],vector('bx,by,bz'))\\\n",
    "                        /(vector_ext['gamma']**2*nhat['R']**2*(1-np.dot(vector_ext['bx','by','bz'],nhat['nx','ny','nz'])))\\\n",
    "                        -nhat['ny']/(c*nhat['R'])*(np.dot(vector['bx','by','bz'],(vector_ext['bdotx','bdoty','bdotz']+vector_ext['gamma']**2\\\n",
    "                        *np.dot(vector_ext['bx','by','bz'],np.dot(vector_ext['bx','by','bz'],vector_ext['bdotx','bdoty','bdotz']) ) ) ) ) ]\n",
    "            result['Pz'] = vector['Pz'] + h/m*vector['q']*vector_ext['q']*vector['gamma']\\\n",
    "                        *1/(1-np.dot(vector_ext['bx','by','bz'],nhat['nx','ny','nz'])**2)\\\n",
    "                        *[ 1/nhat['R']**2*vector['bz']*np.dot(vector_ext['bx','by','bz'],vector('bx,by,bz'))\\\n",
    "                        -nhat['nz']*np.dot(vector_ext['bx','by','bz'],vector('bx,by,bz'))\\\n",
    "                        /(vector_ext['gamma']**2*nhat['R']**2*(1-np.dot(vector_ext['bx','by','bz'],nhat['nx','ny','nz'])))\\\n",
    "                        -nhat['nz']/(c*nhat['R'])*(np.dot(vector['bx','by','bz'],(vector_ext['bdotx','bdoty','bdotz']+vector_ext['gamma']**2\\\n",
    "                        *np.dot(vector_ext['bx','by','bz'],np.dot(vector_ext['bx','by','bz'],vector_ext['bdotx','bdoty','bdotz']) ) ) ) ) ]\n",
    "            result['Pt'] = vector['Pt'] + h/m*vector['q']*vector_ext['q']*vector['gamma'] \\\n",
    "                        *[((vector_ext['gamma']**2*np.dot(vector_ext['bx','by','bz'],vector_ext('bdotx,bdoty,bdotz')))/(cnhat['R']) \\\n",
    "                        - 1/nhat['R']**2) /(1 - np.dot(vector_ext['bx','by','bz'],nhat['nx','ny','nz']))]\n",
    "            result['gamma'] = result['P0']/(m*c**2)\n",
    "            result['bx'] = result['Px']/(m*c*result['gamma'])\n",
    "            result['by'] = result['Py']/(m*c*result['gamma'])\n",
    "            result['bz'] = result['Pz']/(m*c*result['gamma'])\n",
    "            result['bdotx'] = (result['Px']-vector['Px']) / h   #necessary history to treat as an external particle later (keep in lab frame?) \n",
    "            result['bdoty'] =(result['Py']-vector['Py']) / h\n",
    "            result['bdotz'] = (result['Pz']-vector['Pz']) / h\n",
    "            vector = result #will this work? need to update values here between each particle pair calculation\n",
    "    return result\n",
    "        \n",
    "\n",
    "def step2(h, vector,vector_ext,nhat): \n",
    "        result = {}\n",
    "        result['x'] = vector['x'] + h/m * (vector['Px']+vector['q']/c*vector_ext['q']*vector_ext['bx']\\\n",
    "                    / (vector_ext['gamma']*c*nhat['R']*(1-np.dot(vector_ext['bx','by','bz'],nhat['nx','ny','nz']))))\n",
    "        result['y'] = vector['y'] + h/m * (vector['Py']+vector['q']/c*vector_ext['q']*vector_ext['by']\\\n",
    "                    / (vector_ext['gamma']*c*nhat['R']*(1-np.dot(vector_ext['bx','by','bz'],nhat['nx','ny','nz']))))\n",
    "        result['z'] = vector['z'] + h/m * (vector['Pz']+vector['q']/c*vector_ext['q']*vector_ext['bz']\\\n",
    "                    / (vector_ext['gamma']*c*nhat['R']*(1-np.dot(vector_ext['bx','by','bz'],nhat['nx','ny','nz']))))\n",
    "        result['t'] = vector['t'] + h/m * (vector['Pt']+vector['q']/c*vector_ext['q']\\\n",
    "                    / (vector_ext['gamma']*c*nhat['R']*(1-np.dot(vector_ext['bx','by','bz'],nhat['nx','ny','nz']))))\n",
    "        result['Px'] = vector['Px']\n",
    "        result['Py'] = vector['Py']\n",
    "        result['Pz'] = vector['Pz']\n",
    "        result['Pt'] = vector['Pt']\n",
    "        return result"
   ]
  },
  {
   "cell_type": "code",
   "execution_count": null,
   "metadata": {},
   "outputs": [],
   "source": []
  },
  {
   "cell_type": "code",
   "execution_count": 7,
   "metadata": {},
   "outputs": [
    {
     "ename": "SyntaxError",
     "evalue": "invalid syntax (2119329478.py, line 2)",
     "output_type": "error",
     "traceback": [
      "\u001b[0;36m  File \u001b[0;32m\"/var/folders/bm/gq5ypz5543g_6q27brcmzxwdfjywqt/T/ipykernel_20906/2119329478.py\"\u001b[0;36m, line \u001b[0;32m2\u001b[0m\n\u001b[0;31m    external_particle = ?????\u001b[0m\n\u001b[0m                        ^\u001b[0m\n\u001b[0;31mSyntaxError\u001b[0m\u001b[0;31m:\u001b[0m invalid syntax\n"
     ]
    }
   ],
   "source": [
    "beam = init_beam\n",
    "external_particle = ?????\n",
    "distances = ?????\n",
    "for i in range(1,100):\n",
    "    beam = step1(h, init_beam,external_particle,distances)\n",
    "    beam = step2(h, init_beam,external_particle,distances)"
   ]
  },
  {
   "cell_type": "code",
   "execution_count": null,
   "metadata": {},
   "outputs": [],
   "source": []
  },
  {
   "cell_type": "markdown",
   "metadata": {},
   "source": [
    "Needed is gaussian solid angle checker...\n",
    "\n",
    "Example:\n",
    "\n",
    "A ring-shaped strip of cavity wall near the aperture, with 50 test points going around in a circle. It is 15mm long and the test particle is\n",
    "R= 2cm away. The ring of test points has $r_o$=35mm outer radius and $r_i$=25mm inner radius\n",
    "<br> \n",
    "Solid angle = surface area/R$^2$ \n",
    "<br> \n",
    "or\n",
    "<br> \n",
    "$\\Omega_{ring}$ = A/R$^2$ = $\\pi(r_o-r_i) / R^2{\\,}$\n",
    "\n",
    "Then for a gaussian sphere at $R$ surrounding the test particle, we have the full integrated charge:\n",
    "\n",
    "$\\Omega_{sphere} = 4\\pi{\\,}$sr\n",
    "\n",
    "So the proportion of the full flux from the test particle is \n",
    "\n",
    "$\\Omega_{ring} / \\Omega_{sphere}$  = $(r_o-r_i) / (4 R^2){\\,}$\n",
    "\n",
    "And then dividing by the number of (evenly distributed) test points on the ring, $N=50$ we have\n",
    "\n",
    "$q_{ring~point} = q_{total} *(r_o-r_i) / (4 R^2 N) = q_{total} / 800$\n",
    "\n",
    "This result is then stored in ```vector_ext['q']```"
   ]
  },
  {
   "cell_type": "markdown",
   "metadata": {},
   "source": [
    "##### Needed still:\n",
    "\n",
    "A bootstrapper for initial integrator steps to estimate reflected potentials?\n",
    "<br>\n",
    "No! Just drift first -- with linear intra-bunch space charge if possible -- until reflected potentials arrive. But be careful to start with a comfortable margin before reflected energies become non-negligible.\n",
    "<br>\n",
    "<br>\n",
    "A test for existence of external particles?\n",
    "<br>\n",
    "-yes, must default to drift mode for initial steps"
   ]
  },
  {
   "cell_type": "code",
   "execution_count": 2,
   "metadata": {},
   "outputs": [
    {
     "data": {
      "text/plain": [
       "800"
      ]
     },
     "execution_count": 2,
     "metadata": {},
     "output_type": "execute_result"
    }
   ],
   "source": []
  },
  {
   "cell_type": "markdown",
   "metadata": {},
   "source": [
    "##### Step 1 - Run the 'init_beam' as shown through some drift to generate a history, test on a FODO lattice if there is time to get a more realistic output distribution (maybe with some basic linear space charge). This includes generating a 'distances' vector sampling from particle histories at appropriate previous timesteps, for all particle pairs in the bunch  (plenty of pairwise distance calculators we can use out of the box). Some bootstrapping needed (or advanced potentials) before there are particle histories. \n",
    "  <br>\n",
    "\n",
    "##### Step 2 - Generate a second 'init_beam' for test points along the aperture surface. These will have zero starting momentum. Save momentum values for minimization in an optimization routine.  (LOW COST - ONCE PER INTEGRATION STEP)\n",
    "\n",
    "  <br>\n",
    "\n",
    "##### Step 3 - Generate spline map (or some simpler gradient map) along the aperture surface to determine local angles of reflection (ONLY NEEDED ONCE PER SIMULATION, NOT PER INTEGRATION STEP)\n",
    "\n",
    "  <br>\n",
    "\n",
    "##### Step 4 - Generate a 'distances' vector, for all particles pairs between the bunch and the reflected bunch (which is built using the spline map and has opposite-sign charge). (VERY COSTLY - ONCE PER INTEGRATION STEP)\n",
    "\n",
    "  <br>\n",
    "\n",
    "\n",
    "\n",
    "##### Step 4 - Identify surface points experiencing strongest force and minimize. Maximize longitudinal component of reflected force. (ONCE PER SIMULATION AT FIRST, THEN MAYBE FINE TUNE PER INTEGRATION STEP)"
   ]
  },
  {
   "cell_type": "code",
   "execution_count": null,
   "metadata": {},
   "outputs": [],
   "source": []
  }
 ],
 "metadata": {
  "kernelspec": {
   "display_name": "Python 3 (ipykernel)",
   "language": "python",
   "name": "python3"
  },
  "language_info": {
   "codemirror_mode": {
    "name": "ipython",
    "version": 3
   },
   "file_extension": ".py",
   "mimetype": "text/x-python",
   "name": "python",
   "nbconvert_exporter": "python",
   "pygments_lexer": "ipython3",
   "version": "3.7.13"
  }
 },
 "nbformat": 4,
 "nbformat_minor": 4
}
