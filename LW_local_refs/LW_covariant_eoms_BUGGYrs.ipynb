{
 "cells": [
  {
   "cell_type": "code",
   "execution_count": 23,
   "metadata": {},
   "outputs": [],
   "source": [
    "%config Completer.use_jedi = False  #fixing an autocomplete bug in my jupyter, you might not want this\n",
    "import sympy as sp \n",
    "import numpy as np\n",
    "from sympy import *  #oops lazy, sorry"
   ]
  },
  {
   "cell_type": "code",
   "execution_count": 24,
   "metadata": {},
   "outputs": [],
   "source": [
    "Pcv_aph = sp.symbols(\"P^alpha\",real=True)\n",
    "Pcn_aph = sp.symbols(\"P_alpha\",real=True)\n",
    "Acv_aph = sp.symbols(\"A^alpha\",real=True)\n",
    "Acn_aph = sp.symbols(\"A_alpha\",real=True)\n",
    "vcv_aph = sp.symbols(\"v^alpha\",real=True)\n",
    "vcn_aph = sp.symbols(\"v_alpha\",real=True)\n",
    "rcn_aph = sp.symbols(r\"\\tilde{r}_{\\alpha}\",real=True)\n",
    "rcv_aph = sp.symbols(r\"\\tilde{r}^{\\alpha}\",real=True)\n",
    "\n",
    "Pcv_bt= sp.symbols(\"P^beta\",real=True)\n",
    "Pcn_bt = sp.symbols(\"P_beta\",real=True)\n",
    "Acv_bt = sp.symbols(\"A^beta\",real=True)\n",
    "Acn_bt = sp.symbols(\"A_beta\",real=True)\n",
    "vcv_bt = sp.symbols(\"v^beta\",real=True)\n",
    "vcn_bt = sp.symbols(\"v_beta\",real=True)\n",
    "rcn_bt = sp.symbols(r\"\\tilde{r}_{\\beta}\",real=True)\n",
    "rcv_bt = sp.symbols(r\"\\tilde{r}^{\\beta}\",real=True)\n",
    "\n",
    "rcn_rho = sp.symbols(r\"\\tilde{r}_{\\rho}\",real=True)\n",
    "rcv_rho = sp.symbols(r\"\\tilde{r}^{\\rho}\",real=True)\n",
    "vcn_rho = sp.symbols(\"v_rho\",real=True)\n",
    "vcv_rho = sp.symbols(\"v^rho\",real=True)\n",
    "gup_ab =  sp.symbols(\"g^alpha^beta\",real=True)\n",
    "glw_ab =  sp.symbols(\"g_alpha_beta\",real=True)\n",
    "gup_ba =  sp.symbols(\"g^beta^alpha\",real=True)\n",
    "glw_ba = sp.symbols(\"g_beta_alpha\",real=True)\n",
    "\n",
    "q =  sp.symbols(\"q\",real=True,positive=True)\n",
    "c =  sp.symbols(\"c\",real=True,positive=True)\n",
    "gm = sp.symbols(\"gamma\",real=True,positive=True)\n",
    "bta = sp.symbols(r'\\vec{\\beta}',real=True,positive=True)\n",
    "dbta = sp.symbols(r'\\dot{\\vec{\\beta}}',real=True,positive=True)\n",
    "bta_dot_dbta = sp.symbols(r'\\vec{\\beta}\\cdot\\dot{\\vec{\\beta}}',real=True,positive=True)\n",
    "dvdtau = sp.symbols(r'\\frac{dv^\\beta}{d\\tau}',real=True,positive=True) \n",
    "tau = sp.symbols('tau',real=True) \n",
    "r_v_rho = (rcv_rho*vcn_rho) \n",
    "r_mag = sp.symbols(r\"|\\tilde{r}|\")  #same as jackson's |R|\n",
    "n_src_ob = sp.symbols(r\"|\\hat{n}|\")  #same as jackson's |R|\n",
    "\n",
    "#ONLY FOR OBJECTIVE\n",
    "s_vec = sp.symbols(r'\\vec{s}',real=True) #spin vector\n",
    "m_ob = sp.symbols('m_{ob}',real=True,positive=True) \n",
    "gm_ob = sp.symbols(r'\\gamma_{ob}',real=True) \n",
    "vcn_bt_ob = sp.symbols(\"v_beta_-ob\",real=True)\n",
    "vcv_bt_ob = sp.symbols(\"v^beta^-ob\",real=True)\n",
    "vcv_aph_ob = sp.symbols(\"v^alpha^-ob\",real=True)\n",
    "vcn_aph_ob = sp.symbols(\"v_alpha_-ob\",real=True)\n"
   ]
  },
  {
   "cell_type": "code",
   "execution_count": 215,
   "metadata": {},
   "outputs": [
    {
     "data": {
      "text/latex": [
       "$\\displaystyle \\left(\\frac{A^{\\beta} v^{\\alpha}}{\\tilde{r}^{\\rho} v_{\\rho}} - \\frac{\\tilde{r}^{\\alpha}}{\\tilde{r}_{\\rho} v^{\\rho}}\\right) \\frac{d}{d \\tau} A^{\\beta}$"
      ],
      "text/plain": [
       "(A^beta*v^alpha/(\\tilde{r}^{\\rho}*v_rho) - \\tilde{r}^{\\alpha}/(\\tilde{r}_{\\rho}*v^rho))*Derivative(A^beta, tau)"
      ]
     },
     "execution_count": 215,
     "metadata": {},
     "output_type": "execute_result"
    }
   ],
   "source": [
    "###just a check\n",
    "dcv_aph_Acv_bt = (vcv_aph/(rcv_rho*vcn_rho)*Acv_bt- rcv_aph/(rcn_rho*vcv_rho))*sp.Derivative(Acv_bt,tau)\n",
    "dcv_aph_Acv_bt                  "
   ]
  },
  {
   "cell_type": "code",
   "execution_count": 216,
   "metadata": {},
   "outputs": [],
   "source": [
    "#using from Jackson 14.12\n",
    "dAdtau = q*(dvdtau*1/r_v_rho-vcv_bt/r_v_rho**2*(-c**2+rcn_bt*dvdtau))\n",
    "#expand(dAdtau)"
   ]
  },
  {
   "cell_type": "code",
   "execution_count": 217,
   "metadata": {},
   "outputs": [
    {
     "data": {
      "text/latex": [
       "$\\displaystyle q \\left(\\frac{\\frac{dv^\\beta}{d\\tau}}{\\tilde{r}^{\\rho} v_{\\rho}} - \\frac{v^{\\beta} \\left(\\frac{dv^\\beta}{d\\tau} \\tilde{r}_{\\beta} - c^{2}\\right)}{\\left(\\tilde{r}^{\\rho}\\right)^{2} v_{\\rho}^{2}}\\right)$"
      ],
      "text/plain": [
       "q*(\\frac{dv^\\beta}{d\\tau}/(\\tilde{r}^{\\rho}*v_rho) - v^beta*(\\frac{dv^\\beta}{d\\tau}*\\tilde{r}_{\\beta} - c**2)/(\\tilde{r}^{\\rho}**2*v_rho**2))"
      ]
     },
     "execution_count": 217,
     "metadata": {},
     "output_type": "execute_result"
    }
   ],
   "source": [
    "dAdtau #dv/dtau and ralpha should have the same index here!!!!!! FIX!!!!!"
   ]
  },
  {
   "cell_type": "code",
   "execution_count": 218,
   "metadata": {},
   "outputs": [
    {
     "data": {
      "text/latex": [
       "$\\displaystyle \\frac{A^{\\beta} \\frac{dv^\\beta}{d\\tau} q v^{\\alpha}}{\\left(\\tilde{r}^{\\rho}\\right)^{2} v_{\\rho}^{2}} - \\frac{A^{\\beta} \\frac{dv^\\beta}{d\\tau} \\tilde{r}_{\\beta} q v^{\\alpha} v^{\\beta}}{\\left(\\tilde{r}^{\\rho}\\right)^{3} v_{\\rho}^{3}} + \\frac{A^{\\beta} c^{2} q v^{\\alpha} v^{\\beta}}{\\left(\\tilde{r}^{\\rho}\\right)^{3} v_{\\rho}^{3}} - \\frac{\\frac{dv^\\beta}{d\\tau} \\tilde{r}^{\\alpha} q}{\\tilde{r}^{\\rho} \\tilde{r}_{\\rho} v^{\\rho} v_{\\rho}} + \\frac{\\frac{dv^\\beta}{d\\tau} \\tilde{r}^{\\alpha} \\tilde{r}_{\\beta} q v^{\\beta}}{\\left(\\tilde{r}^{\\rho}\\right)^{2} \\tilde{r}_{\\rho} v^{\\rho} v_{\\rho}^{2}} - \\frac{\\tilde{r}^{\\alpha} c^{2} q v^{\\beta}}{\\left(\\tilde{r}^{\\rho}\\right)^{2} \\tilde{r}_{\\rho} v^{\\rho} v_{\\rho}^{2}}$"
      ],
      "text/plain": [
       "A^beta*\\frac{dv^\\beta}{d\\tau}*q*v^alpha/(\\tilde{r}^{\\rho}**2*v_rho**2) - A^beta*\\frac{dv^\\beta}{d\\tau}*\\tilde{r}_{\\beta}*q*v^alpha*v^beta/(\\tilde{r}^{\\rho}**3*v_rho**3) + A^beta*c**2*q*v^alpha*v^beta/(\\tilde{r}^{\\rho}**3*v_rho**3) - \\frac{dv^\\beta}{d\\tau}*\\tilde{r}^{\\alpha}*q/(\\tilde{r}^{\\rho}*\\tilde{r}_{\\rho}*v^rho*v_rho) + \\frac{dv^\\beta}{d\\tau}*\\tilde{r}^{\\alpha}*\\tilde{r}_{\\beta}*q*v^beta/(\\tilde{r}^{\\rho}**2*\\tilde{r}_{\\rho}*v^rho*v_rho**2) - \\tilde{r}^{\\alpha}*c**2*q*v^beta/(\\tilde{r}^{\\rho}**2*\\tilde{r}_{\\rho}*v^rho*v_rho**2)"
      ]
     },
     "execution_count": 218,
     "metadata": {},
     "output_type": "execute_result"
    }
   ],
   "source": [
    "dcv_aph_Acv_bt_sbbd = dcv_aph_Acv_bt.subs(sp.Derivative(Acv_bt,tau),dAdtau)\n",
    "expand(dcv_aph_Acv_bt_sbbd)"
   ]
  },
  {
   "cell_type": "code",
   "execution_count": 219,
   "metadata": {},
   "outputs": [
    {
     "data": {
      "text/latex": [
       "$\\displaystyle \\frac{A_{\\alpha} c q}{\\left(\\tilde{r}^{\\rho}\\right)^{3}} - \\frac{\\tilde{r}^{\\alpha} q v^{\\beta}}{\\left(\\tilde{r}^{\\rho}\\right)^{2} \\tilde{r}_{\\rho} v^{\\rho}}$"
      ],
      "text/plain": [
       "A_alpha*c*q/\\tilde{r}^{\\rho}**3 - \\tilde{r}^{\\alpha}*q*v^beta/(\\tilde{r}^{\\rho}**2*\\tilde{r}_{\\rho}*v^rho)"
      ]
     },
     "execution_count": 219,
     "metadata": {},
     "output_type": "execute_result"
    }
   ],
   "source": [
    "dcv_aph_Acv_bt_sbbd_convective = dcv_aph_Acv_bt_sbbd.subs(dvdtau,0)\n",
    "dcv_aph_Acv_bt_sbbd_convective = expand(dcv_aph_Acv_bt_sbbd_convective.subs(vcn_rho**2,c**2))\n",
    "dcv_aph_Acv_bt_sbbd_convective = expand(dcv_aph_Acv_bt_sbbd_convective.subs(Acv_bt*vcv_aph*vcv_bt,Acn_aph*c**2))\n",
    "dcv_aph_Acv_bt_sbbd_convective"
   ]
  },
  {
   "cell_type": "code",
   "execution_count": 220,
   "metadata": {},
   "outputs": [],
   "source": [
    "dPcv_aph_dtau = expand(q/c*(vcn_bt_ob-q/(m_ob*c)*Acn_bt)*dcv_aph_Acv_bt_sbbd)"
   ]
  },
  {
   "cell_type": "code",
   "execution_count": 221,
   "metadata": {},
   "outputs": [
    {
     "data": {
      "text/latex": [
       "$\\displaystyle - \\frac{A^{\\beta} A_{\\beta} \\frac{dv^\\beta}{d\\tau} q^{3} v^{\\alpha}}{\\left(\\tilde{r}^{\\rho}\\right)^{2} c^{2} m_{ob} v_{\\rho}^{2}} + \\frac{A^{\\beta} A_{\\beta} \\frac{dv^\\beta}{d\\tau} \\tilde{r}_{\\beta} q^{3} v^{\\alpha} v^{\\beta}}{\\left(\\tilde{r}^{\\rho}\\right)^{3} c^{2} m_{ob} v_{\\rho}^{3}} - \\frac{A^{\\beta} A_{\\beta} q^{3} v^{\\alpha} v^{\\beta}}{\\left(\\tilde{r}^{\\rho}\\right)^{3} m_{ob} v_{\\rho}^{3}} + \\frac{A^{\\beta} \\frac{dv^\\beta}{d\\tau} q^{2} v^{\\alpha} v_{\\beta -ob}}{\\left(\\tilde{r}^{\\rho}\\right)^{2} c v_{\\rho}^{2}} - \\frac{A^{\\beta} \\frac{dv^\\beta}{d\\tau} \\tilde{r}_{\\beta} q^{2} v^{\\alpha} v^{\\beta} v_{\\beta -ob}}{\\left(\\tilde{r}^{\\rho}\\right)^{3} c v_{\\rho}^{3}} + \\frac{A^{\\beta} c q^{2} v^{\\alpha} v^{\\beta} v_{\\beta -ob}}{\\left(\\tilde{r}^{\\rho}\\right)^{3} v_{\\rho}^{3}} + \\frac{A_{\\beta} \\frac{dv^\\beta}{d\\tau} \\tilde{r}^{\\alpha} q^{3}}{\\tilde{r}^{\\rho} \\tilde{r}_{\\rho} c^{2} m_{ob} v^{\\rho} v_{\\rho}} - \\frac{A_{\\beta} \\frac{dv^\\beta}{d\\tau} \\tilde{r}^{\\alpha} \\tilde{r}_{\\beta} q^{3} v^{\\beta}}{\\left(\\tilde{r}^{\\rho}\\right)^{2} \\tilde{r}_{\\rho} c^{2} m_{ob} v^{\\rho} v_{\\rho}^{2}} + \\frac{A_{\\beta} \\tilde{r}^{\\alpha} q^{3} v^{\\beta}}{\\left(\\tilde{r}^{\\rho}\\right)^{2} \\tilde{r}_{\\rho} m_{ob} v^{\\rho} v_{\\rho}^{2}} - \\frac{\\frac{dv^\\beta}{d\\tau} \\tilde{r}^{\\alpha} q^{2} v_{\\beta -ob}}{\\tilde{r}^{\\rho} \\tilde{r}_{\\rho} c v^{\\rho} v_{\\rho}} + \\frac{\\frac{dv^\\beta}{d\\tau} \\tilde{r}^{\\alpha} \\tilde{r}_{\\beta} q^{2} v^{\\beta} v_{\\beta -ob}}{\\left(\\tilde{r}^{\\rho}\\right)^{2} \\tilde{r}_{\\rho} c v^{\\rho} v_{\\rho}^{2}} - \\frac{\\tilde{r}^{\\alpha} c q^{2} v^{\\beta} v_{\\beta -ob}}{\\left(\\tilde{r}^{\\rho}\\right)^{2} \\tilde{r}_{\\rho} v^{\\rho} v_{\\rho}^{2}}$"
      ],
      "text/plain": [
       "-A^beta*A_beta*\\frac{dv^\\beta}{d\\tau}*q**3*v^alpha/(\\tilde{r}^{\\rho}**2*c**2*m_{ob}*v_rho**2) + A^beta*A_beta*\\frac{dv^\\beta}{d\\tau}*\\tilde{r}_{\\beta}*q**3*v^alpha*v^beta/(\\tilde{r}^{\\rho}**3*c**2*m_{ob}*v_rho**3) - A^beta*A_beta*q**3*v^alpha*v^beta/(\\tilde{r}^{\\rho}**3*m_{ob}*v_rho**3) + A^beta*\\frac{dv^\\beta}{d\\tau}*q**2*v^alpha*v_beta_-ob/(\\tilde{r}^{\\rho}**2*c*v_rho**2) - A^beta*\\frac{dv^\\beta}{d\\tau}*\\tilde{r}_{\\beta}*q**2*v^alpha*v^beta*v_beta_-ob/(\\tilde{r}^{\\rho}**3*c*v_rho**3) + A^beta*c*q**2*v^alpha*v^beta*v_beta_-ob/(\\tilde{r}^{\\rho}**3*v_rho**3) + A_beta*\\frac{dv^\\beta}{d\\tau}*\\tilde{r}^{\\alpha}*q**3/(\\tilde{r}^{\\rho}*\\tilde{r}_{\\rho}*c**2*m_{ob}*v^rho*v_rho) - A_beta*\\frac{dv^\\beta}{d\\tau}*\\tilde{r}^{\\alpha}*\\tilde{r}_{\\beta}*q**3*v^beta/(\\tilde{r}^{\\rho}**2*\\tilde{r}_{\\rho}*c**2*m_{ob}*v^rho*v_rho**2) + A_beta*\\tilde{r}^{\\alpha}*q**3*v^beta/(\\tilde{r}^{\\rho}**2*\\tilde{r}_{\\rho}*m_{ob}*v^rho*v_rho**2) - \\frac{dv^\\beta}{d\\tau}*\\tilde{r}^{\\alpha}*q**2*v_beta_-ob/(\\tilde{r}^{\\rho}*\\tilde{r}_{\\rho}*c*v^rho*v_rho) + \\frac{dv^\\beta}{d\\tau}*\\tilde{r}^{\\alpha}*\\tilde{r}_{\\beta}*q**2*v^beta*v_beta_-ob/(\\tilde{r}^{\\rho}**2*\\tilde{r}_{\\rho}*c*v^rho*v_rho**2) - \\tilde{r}^{\\alpha}*c*q**2*v^beta*v_beta_-ob/(\\tilde{r}^{\\rho}**2*\\tilde{r}_{\\rho}*v^rho*v_rho**2)"
      ]
     },
     "execution_count": 221,
     "metadata": {},
     "output_type": "execute_result"
    }
   ],
   "source": [
    "dPcv_aph_dtau"
   ]
  },
  {
   "cell_type": "code",
   "execution_count": 222,
   "metadata": {},
   "outputs": [],
   "source": [
    "#shotgun approach to getting all the r*v terms simplified\n",
    "dPcv_aph_dtau_sbbd = dPcv_aph_dtau\n",
    "dPcv_aph_dtau_sbbd = dPcv_aph_dtau.subs(Acv_bt,vcv_bt/r_mag*gm*c*(1-bta*n_src_ob))\n",
    "dPcv_aph_dtau_sbbd = dPcv_aph_dtau_sbbd.subs(Acn_bt,vcn_bt/r_mag*gm*c*(1-bta*n_src_ob))\n",
    "dPcv_aph_dtau_sbbd = dPcv_aph_dtau_sbbd.subs(vcv_aph*vcv_bt,gup_ab*c**2)\n",
    "dPcv_aph_dtau_sbbd = dPcv_aph_dtau_sbbd.subs(rcv_rho**2*vcn_rho**2,(r_mag*gm*c*(1-bta*n_src_ob))**2)\n",
    "dPcv_aph_dtau_sbbd = dPcv_aph_dtau_sbbd.subs(rcv_rho*vcn_rho,r_mag*gm*c*(1-bta*n_src_ob))\n",
    "dPcv_aph_dtau_sbbd = dPcv_aph_dtau_sbbd.subs(rcn_rho*vcv_rho,r_mag*gm*c*(1-bta*n_src_ob))\n",
    "dPcv_aph_dtau_sbbd = dPcv_aph_dtau_sbbd.subs(rcn_bt*vcv_aph,glw_ba*r_mag*gm*c*(1-bta*n_src_ob))\n",
    "dPcv_aph_dtau_sbbd = dPcv_aph_dtau_sbbd.subs(rcv_bt*vcv_aph,gup_ba*r_mag*gm*c*(1-bta*n_src_ob))\n",
    "dPcv_aph_dtau_sbbd = dPcv_aph_dtau_sbbd.subs(vcn_bt*vcv_bt,c**2)\n",
    "dPcv_aph_dtau_sbbd = dPcv_aph_dtau_sbbd.subs(gup_ab*vcn_bt,vcv_aph)\n",
    "dPcv_aph_dtau_sbbd = dPcv_aph_dtau_sbbd.subs(gup_ab*vcn_bt_ob,vcv_aph_ob)"
   ]
  },
  {
   "cell_type": "code",
   "execution_count": 223,
   "metadata": {},
   "outputs": [
    {
     "data": {
      "text/latex": [
       "$\\displaystyle \\tilde{r}_{\\beta}$"
      ],
      "text/plain": [
       "\\tilde{r}_{\\beta}"
      ]
     },
     "execution_count": 223,
     "metadata": {},
     "output_type": "execute_result"
    }
   ],
   "source": [
    "rcn_bt"
   ]
  },
  {
   "cell_type": "code",
   "execution_count": 224,
   "metadata": {},
   "outputs": [
    {
     "data": {
      "text/latex": [
       "$\\displaystyle - \\frac{\\frac{dv^\\beta}{d\\tau} \\tilde{r}^{\\alpha} \\tilde{r}_{\\beta} q^{3}}{c^{2} \\gamma^{2} m_{ob} |\\tilde{r}|^{4} \\left(- \\vec{\\beta} |\\hat{n}| + 1\\right)^{2}} + \\frac{\\frac{dv^\\beta}{d\\tau} \\tilde{r}^{\\alpha} \\tilde{r}_{\\beta} q^{2} v^{\\beta} v_{\\beta -ob}}{c^{4} \\gamma^{3} |\\tilde{r}|^{3} \\left(- \\vec{\\beta} |\\hat{n}| + 1\\right)^{3}} + \\frac{\\frac{dv^\\beta}{d\\tau} \\tilde{r}^{\\alpha} q^{3} v_{\\beta}}{c^{3} \\gamma m_{ob} |\\tilde{r}|^{3} \\left(- \\vec{\\beta} |\\hat{n}| + 1\\right)} - \\frac{\\frac{dv^\\beta}{d\\tau} \\tilde{r}^{\\alpha} q^{2} v_{\\beta -ob}}{c^{3} \\gamma^{2} |\\tilde{r}|^{2} \\left(- \\vec{\\beta} |\\hat{n}| + 1\\right)^{2}} + \\frac{\\frac{dv^\\beta}{d\\tau} \\tilde{r}_{\\beta} c g^{\\alpha \\beta} q^{3}}{\\gamma m_{ob} |\\tilde{r}|^{5} \\left(- \\vec{\\beta} |\\hat{n}| + 1\\right)} - \\frac{\\frac{dv^\\beta}{d\\tau} \\tilde{r}_{\\beta} q^{2} v^{\\alpha -ob} v^{\\beta}}{c \\gamma^{2} |\\tilde{r}|^{4} \\left(- \\vec{\\beta} |\\hat{n}| + 1\\right)^{2}} - \\frac{\\frac{dv^\\beta}{d\\tau} q^{3} v^{\\alpha}}{m_{ob} |\\tilde{r}|^{4}} + \\frac{\\frac{dv^\\beta}{d\\tau} q^{2} v^{\\alpha -ob}}{\\gamma |\\tilde{r}|^{3} \\left(- \\vec{\\beta} |\\hat{n}| + 1\\right)} + \\frac{\\tilde{r}^{\\alpha} q^{3}}{\\gamma^{2} m_{ob} |\\tilde{r}|^{4} \\left(- \\vec{\\beta} |\\hat{n}| + 1\\right)^{2}} - \\frac{\\tilde{r}^{\\alpha} q^{2} v^{\\beta} v_{\\beta -ob}}{c^{2} \\gamma^{3} |\\tilde{r}|^{3} \\left(- \\vec{\\beta} |\\hat{n}| + 1\\right)^{3}} - \\frac{c^{3} g^{\\alpha \\beta} q^{3}}{\\gamma m_{ob} |\\tilde{r}|^{5} \\left(- \\vec{\\beta} |\\hat{n}| + 1\\right)} + \\frac{c q^{2} v^{\\alpha -ob} v^{\\beta}}{\\gamma^{2} |\\tilde{r}|^{4} \\left(- \\vec{\\beta} |\\hat{n}| + 1\\right)^{2}}$"
      ],
      "text/plain": [
       "-\\frac{dv^\\beta}{d\\tau}*\\tilde{r}^{\\alpha}*\\tilde{r}_{\\beta}*q**3/(c**2*gamma**2*m_{ob}*|\\tilde{r}|**4*(-\\vec{\\beta}*|\\hat{n}| + 1)**2) + \\frac{dv^\\beta}{d\\tau}*\\tilde{r}^{\\alpha}*\\tilde{r}_{\\beta}*q**2*v^beta*v_beta_-ob/(c**4*gamma**3*|\\tilde{r}|**3*(-\\vec{\\beta}*|\\hat{n}| + 1)**3) + \\frac{dv^\\beta}{d\\tau}*\\tilde{r}^{\\alpha}*q**3*v_beta/(c**3*gamma*m_{ob}*|\\tilde{r}|**3*(-\\vec{\\beta}*|\\hat{n}| + 1)) - \\frac{dv^\\beta}{d\\tau}*\\tilde{r}^{\\alpha}*q**2*v_beta_-ob/(c**3*gamma**2*|\\tilde{r}|**2*(-\\vec{\\beta}*|\\hat{n}| + 1)**2) + \\frac{dv^\\beta}{d\\tau}*\\tilde{r}_{\\beta}*c*g^alpha^beta*q**3/(gamma*m_{ob}*|\\tilde{r}|**5*(-\\vec{\\beta}*|\\hat{n}| + 1)) - \\frac{dv^\\beta}{d\\tau}*\\tilde{r}_{\\beta}*q**2*v^alpha^-ob*v^beta/(c*gamma**2*|\\tilde{r}|**4*(-\\vec{\\beta}*|\\hat{n}| + 1)**2) - \\frac{dv^\\beta}{d\\tau}*q**3*v^alpha/(m_{ob}*|\\tilde{r}|**4) + \\frac{dv^\\beta}{d\\tau}*q**2*v^alpha^-ob/(gamma*|\\tilde{r}|**3*(-\\vec{\\beta}*|\\hat{n}| + 1)) + \\tilde{r}^{\\alpha}*q**3/(gamma**2*m_{ob}*|\\tilde{r}|**4*(-\\vec{\\beta}*|\\hat{n}| + 1)**2) - \\tilde{r}^{\\alpha}*q**2*v^beta*v_beta_-ob/(c**2*gamma**3*|\\tilde{r}|**3*(-\\vec{\\beta}*|\\hat{n}| + 1)**3) - c**3*g^alpha^beta*q**3/(gamma*m_{ob}*|\\tilde{r}|**5*(-\\vec{\\beta}*|\\hat{n}| + 1)) + c*q**2*v^alpha^-ob*v^beta/(gamma**2*|\\tilde{r}|**4*(-\\vec{\\beta}*|\\hat{n}| + 1)**2)"
      ]
     },
     "execution_count": 224,
     "metadata": {},
     "output_type": "execute_result"
    }
   ],
   "source": [
    "dPcv_aph_dtau_sbbd"
   ]
  },
  {
   "cell_type": "code",
   "execution_count": 225,
   "metadata": {},
   "outputs": [],
   "source": [
    "dvdtau_0= c*gm**4*bta_dot_dbta\n",
    "dvdtau_3= c*gm**2*dbta+c*gm**4*bta*(bta_dot_dbta)\n",
    "\n",
    "v0 = gm*c\n",
    "v3 = gm*c*bta\n",
    "r0 = r_mag\n",
    "r3 = r_mag*n_src_ob"
   ]
  },
  {
   "cell_type": "code",
   "execution_count": 226,
   "metadata": {},
   "outputs": [],
   "source": [
    "dPcv_aph_dtau_0 = dPcv_aph_dtau_sbbd\n",
    "dPcv_aph_dtau_0 = dPcv_aph_dtau_0.subs(dvdtau,dvdtau_0)\n",
    "dPcv_aph_dtau_0 = dPcv_aph_dtau_0.subs(vcn_aph,v0)\n",
    "dPcv_aph_dtau_0 = dPcv_aph_dtau_0.subs(vcv_aph,v0)\n",
    "dPcv_aph_dtau_0 = dPcv_aph_dtau_0.subs(vcn_bt,v0)\n",
    "dPcv_aph_dtau_0 = dPcv_aph_dtau_0.subs(vcv_bt,v0)\n",
    "dPcv_aph_dtau_0 = dPcv_aph_dtau_0.subs(rcn_bt,r0)\n",
    "dPcv_aph_dtau_0 = dPcv_aph_dtau_0.subs(rcv_bt,r0)\n",
    "dPcv_aph_dtau_0 = dPcv_aph_dtau_0.subs(gup_ab,1)"
   ]
  },
  {
   "cell_type": "code",
   "execution_count": 227,
   "metadata": {
    "scrolled": true
   },
   "outputs": [
    {
     "data": {
      "text/latex": [
       "$\\displaystyle \\frac{\\tilde{r}^{\\alpha} q^{3}}{\\gamma^{2} m_{ob} |\\tilde{r}|^{4} \\left(- \\vec{\\beta} |\\hat{n}| + 1\\right)^{2}} - \\frac{\\tilde{r}^{\\alpha} q^{2} v_{\\beta -ob}}{c \\gamma^{2} |\\tilde{r}|^{3} \\left(- \\vec{\\beta} |\\hat{n}| + 1\\right)^{3}} - \\frac{c^{3} q^{3}}{\\gamma m_{ob} |\\tilde{r}|^{5} \\left(- \\vec{\\beta} |\\hat{n}| + 1\\right)} + \\frac{c^{2} q^{2} v^{\\alpha -ob}}{\\gamma |\\tilde{r}|^{4} \\left(- \\vec{\\beta} |\\hat{n}| + 1\\right)^{2}}$"
      ],
      "text/plain": [
       "\\tilde{r}^{\\alpha}*q**3/(gamma**2*m_{ob}*|\\tilde{r}|**4*(-\\vec{\\beta}*|\\hat{n}| + 1)**2) - \\tilde{r}^{\\alpha}*q**2*v_beta_-ob/(c*gamma**2*|\\tilde{r}|**3*(-\\vec{\\beta}*|\\hat{n}| + 1)**3) - c**3*q**3/(gamma*m_{ob}*|\\tilde{r}|**5*(-\\vec{\\beta}*|\\hat{n}| + 1)) + c**2*q**2*v^alpha^-ob/(gamma*|\\tilde{r}|**4*(-\\vec{\\beta}*|\\hat{n}| + 1)**2)"
      ]
     },
     "execution_count": 227,
     "metadata": {},
     "output_type": "execute_result"
    }
   ],
   "source": [
    "#convective scalar\n",
    "(dPcv_aph_dtau_0).subs(bta_dot_dbta,0)"
   ]
  },
  {
   "cell_type": "code",
   "execution_count": 228,
   "metadata": {},
   "outputs": [
    {
     "data": {
      "text/latex": [
       "$\\displaystyle \\frac{\\tilde{r}^{\\alpha} \\vec{\\beta}\\cdot\\dot{\\vec{\\beta}} \\gamma^{4} q^{3}}{c m_{ob} |\\tilde{r}|^{3} \\left(- \\vec{\\beta} |\\hat{n}| + 1\\right)} - \\frac{\\tilde{r}^{\\alpha} \\vec{\\beta}\\cdot\\dot{\\vec{\\beta}} \\gamma^{2} q^{3}}{c m_{ob} |\\tilde{r}|^{3} \\left(- \\vec{\\beta} |\\hat{n}| + 1\\right)^{2}} - \\frac{\\tilde{r}^{\\alpha} \\vec{\\beta}\\cdot\\dot{\\vec{\\beta}} \\gamma^{2} q^{2} v_{\\beta -ob}}{c^{2} |\\tilde{r}|^{2} \\left(- \\vec{\\beta} |\\hat{n}| + 1\\right)^{2}} + \\frac{\\tilde{r}^{\\alpha} \\vec{\\beta}\\cdot\\dot{\\vec{\\beta}} \\gamma^{2} q^{2} v_{\\beta -ob}}{c^{2} |\\tilde{r}|^{2} \\left(- \\vec{\\beta} |\\hat{n}| + 1\\right)^{3}} + \\frac{\\tilde{r}^{\\alpha} q^{3}}{\\gamma^{2} m_{ob} |\\tilde{r}|^{4} \\left(- \\vec{\\beta} |\\hat{n}| + 1\\right)^{2}} - \\frac{\\tilde{r}^{\\alpha} q^{2} v_{\\beta -ob}}{c \\gamma^{2} |\\tilde{r}|^{3} \\left(- \\vec{\\beta} |\\hat{n}| + 1\\right)^{3}} - \\frac{\\vec{\\beta}\\cdot\\dot{\\vec{\\beta}} c^{2} \\gamma^{5} q^{3}}{m_{ob} |\\tilde{r}|^{4}} + \\frac{\\vec{\\beta}\\cdot\\dot{\\vec{\\beta}} c^{2} \\gamma^{3} q^{3}}{m_{ob} |\\tilde{r}|^{4} \\left(- \\vec{\\beta} |\\hat{n}| + 1\\right)} + \\frac{\\vec{\\beta}\\cdot\\dot{\\vec{\\beta}} c \\gamma^{3} q^{2} v^{\\alpha -ob}}{|\\tilde{r}|^{3} \\left(- \\vec{\\beta} |\\hat{n}| + 1\\right)} - \\frac{\\vec{\\beta}\\cdot\\dot{\\vec{\\beta}} c \\gamma^{3} q^{2} v^{\\alpha -ob}}{|\\tilde{r}|^{3} \\left(- \\vec{\\beta} |\\hat{n}| + 1\\right)^{2}} - \\frac{c^{3} q^{3}}{\\gamma m_{ob} |\\tilde{r}|^{5} \\left(- \\vec{\\beta} |\\hat{n}| + 1\\right)} + \\frac{c^{2} q^{2} v^{\\alpha -ob}}{\\gamma |\\tilde{r}|^{4} \\left(- \\vec{\\beta} |\\hat{n}| + 1\\right)^{2}}$"
      ],
      "text/plain": [
       "\\tilde{r}^{\\alpha}*\\vec{\\beta}\\cdot\\dot{\\vec{\\beta}}*gamma**4*q**3/(c*m_{ob}*|\\tilde{r}|**3*(-\\vec{\\beta}*|\\hat{n}| + 1)) - \\tilde{r}^{\\alpha}*\\vec{\\beta}\\cdot\\dot{\\vec{\\beta}}*gamma**2*q**3/(c*m_{ob}*|\\tilde{r}|**3*(-\\vec{\\beta}*|\\hat{n}| + 1)**2) - \\tilde{r}^{\\alpha}*\\vec{\\beta}\\cdot\\dot{\\vec{\\beta}}*gamma**2*q**2*v_beta_-ob/(c**2*|\\tilde{r}|**2*(-\\vec{\\beta}*|\\hat{n}| + 1)**2) + \\tilde{r}^{\\alpha}*\\vec{\\beta}\\cdot\\dot{\\vec{\\beta}}*gamma**2*q**2*v_beta_-ob/(c**2*|\\tilde{r}|**2*(-\\vec{\\beta}*|\\hat{n}| + 1)**3) + \\tilde{r}^{\\alpha}*q**3/(gamma**2*m_{ob}*|\\tilde{r}|**4*(-\\vec{\\beta}*|\\hat{n}| + 1)**2) - \\tilde{r}^{\\alpha}*q**2*v_beta_-ob/(c*gamma**2*|\\tilde{r}|**3*(-\\vec{\\beta}*|\\hat{n}| + 1)**3) - \\vec{\\beta}\\cdot\\dot{\\vec{\\beta}}*c**2*gamma**5*q**3/(m_{ob}*|\\tilde{r}|**4) + \\vec{\\beta}\\cdot\\dot{\\vec{\\beta}}*c**2*gamma**3*q**3/(m_{ob}*|\\tilde{r}|**4*(-\\vec{\\beta}*|\\hat{n}| + 1)) + \\vec{\\beta}\\cdot\\dot{\\vec{\\beta}}*c*gamma**3*q**2*v^alpha^-ob/(|\\tilde{r}|**3*(-\\vec{\\beta}*|\\hat{n}| + 1)) - \\vec{\\beta}\\cdot\\dot{\\vec{\\beta}}*c*gamma**3*q**2*v^alpha^-ob/(|\\tilde{r}|**3*(-\\vec{\\beta}*|\\hat{n}| + 1)**2) - c**3*q**3/(gamma*m_{ob}*|\\tilde{r}|**5*(-\\vec{\\beta}*|\\hat{n}| + 1)) + c**2*q**2*v^alpha^-ob/(gamma*|\\tilde{r}|**4*(-\\vec{\\beta}*|\\hat{n}| + 1)**2)"
      ]
     },
     "execution_count": 228,
     "metadata": {},
     "output_type": "execute_result"
    }
   ],
   "source": [
    "#full scalar\n",
    "(dPcv_aph_dtau_0)"
   ]
  },
  {
   "cell_type": "code",
   "execution_count": 229,
   "metadata": {},
   "outputs": [
    {
     "data": {
      "text/latex": [
       "$\\displaystyle \\frac{\\tilde{r}^{\\alpha} \\vec{\\beta}\\cdot\\dot{\\vec{\\beta}} \\gamma^{4} q^{3}}{c m_{ob} |\\tilde{r}|^{3} \\left(- \\vec{\\beta} |\\hat{n}| + 1\\right)} - \\frac{\\tilde{r}^{\\alpha} \\vec{\\beta}\\cdot\\dot{\\vec{\\beta}} \\gamma^{2} q^{3}}{c m_{ob} |\\tilde{r}|^{3} \\left(- \\vec{\\beta} |\\hat{n}| + 1\\right)^{2}} + \\frac{\\tilde{r}^{\\alpha} q^{3}}{\\gamma^{2} m_{ob} |\\tilde{r}|^{4} \\left(- \\vec{\\beta} |\\hat{n}| + 1\\right)^{2}} - \\frac{\\vec{\\beta}\\cdot\\dot{\\vec{\\beta}} c^{2} \\gamma^{5} q^{3}}{m_{ob} |\\tilde{r}|^{4}} + \\frac{\\vec{\\beta}\\cdot\\dot{\\vec{\\beta}} c^{2} \\gamma^{3} q^{3}}{m_{ob} |\\tilde{r}|^{4} \\left(- \\vec{\\beta} |\\hat{n}| + 1\\right)} - \\frac{c^{3} q^{3}}{\\gamma m_{ob} |\\tilde{r}|^{5} \\left(- \\vec{\\beta} |\\hat{n}| + 1\\right)}$"
      ],
      "text/plain": [
       "\\tilde{r}^{\\alpha}*\\vec{\\beta}\\cdot\\dot{\\vec{\\beta}}*gamma**4*q**3/(c*m_{ob}*|\\tilde{r}|**3*(-\\vec{\\beta}*|\\hat{n}| + 1)) - \\tilde{r}^{\\alpha}*\\vec{\\beta}\\cdot\\dot{\\vec{\\beta}}*gamma**2*q**3/(c*m_{ob}*|\\tilde{r}|**3*(-\\vec{\\beta}*|\\hat{n}| + 1)**2) + \\tilde{r}^{\\alpha}*q**3/(gamma**2*m_{ob}*|\\tilde{r}|**4*(-\\vec{\\beta}*|\\hat{n}| + 1)**2) - \\vec{\\beta}\\cdot\\dot{\\vec{\\beta}}*c**2*gamma**5*q**3/(m_{ob}*|\\tilde{r}|**4) + \\vec{\\beta}\\cdot\\dot{\\vec{\\beta}}*c**2*gamma**3*q**3/(m_{ob}*|\\tilde{r}|**4*(-\\vec{\\beta}*|\\hat{n}| + 1)) - c**3*q**3/(gamma*m_{ob}*|\\tilde{r}|**5*(-\\vec{\\beta}*|\\hat{n}| + 1))"
      ]
     },
     "execution_count": 229,
     "metadata": {},
     "output_type": "execute_result"
    }
   ],
   "source": [
    "#full scalar, objective rest frame\n",
    "(dPcv_aph_dtau_0).subs([[vcv_aph_ob,0],[vcn_bt_ob,0],[gup_ab,1],[glw_ab,1]])"
   ]
  },
  {
   "cell_type": "code",
   "execution_count": 230,
   "metadata": {},
   "outputs": [
    {
     "data": {
      "text/latex": [
       "$\\displaystyle \\frac{\\tilde{r}^{\\alpha} \\vec{\\beta}\\cdot\\dot{\\vec{\\beta}} \\gamma^{4} q^{3}}{c m_{ob} |\\tilde{r}|^{3} \\left(- \\vec{\\beta} |\\hat{n}| + 1\\right)} - \\frac{\\tilde{r}^{\\alpha} \\vec{\\beta}\\cdot\\dot{\\vec{\\beta}} \\gamma^{2} q^{3}}{c m_{ob} |\\tilde{r}|^{3} \\left(- \\vec{\\beta} |\\hat{n}| + 1\\right)^{2}} + \\frac{\\tilde{r}^{\\alpha} q^{3}}{\\gamma^{2} m_{ob} |\\tilde{r}|^{4} \\left(- \\vec{\\beta} |\\hat{n}| + 1\\right)^{2}} - \\frac{\\vec{\\beta}\\cdot\\dot{\\vec{\\beta}} c^{2} \\gamma^{5} q^{3}}{m_{ob} |\\tilde{r}|^{4}} + \\frac{\\vec{\\beta}\\cdot\\dot{\\vec{\\beta}} c^{2} \\gamma^{3} q^{3}}{m_{ob} |\\tilde{r}|^{4} \\left(- \\vec{\\beta} |\\hat{n}| + 1\\right)} - \\frac{c^{3} q^{3}}{\\gamma m_{ob} |\\tilde{r}|^{5} \\left(- \\vec{\\beta} |\\hat{n}| + 1\\right)}$"
      ],
      "text/plain": [
       "\\tilde{r}^{\\alpha}*\\vec{\\beta}\\cdot\\dot{\\vec{\\beta}}*gamma**4*q**3/(c*m_{ob}*|\\tilde{r}|**3*(-\\vec{\\beta}*|\\hat{n}| + 1)) - \\tilde{r}^{\\alpha}*\\vec{\\beta}\\cdot\\dot{\\vec{\\beta}}*gamma**2*q**3/(c*m_{ob}*|\\tilde{r}|**3*(-\\vec{\\beta}*|\\hat{n}| + 1)**2) + \\tilde{r}^{\\alpha}*q**3/(gamma**2*m_{ob}*|\\tilde{r}|**4*(-\\vec{\\beta}*|\\hat{n}| + 1)**2) - \\vec{\\beta}\\cdot\\dot{\\vec{\\beta}}*c**2*gamma**5*q**3/(m_{ob}*|\\tilde{r}|**4) + \\vec{\\beta}\\cdot\\dot{\\vec{\\beta}}*c**2*gamma**3*q**3/(m_{ob}*|\\tilde{r}|**4*(-\\vec{\\beta}*|\\hat{n}| + 1)) - c**3*q**3/(gamma*m_{ob}*|\\tilde{r}|**5*(-\\vec{\\beta}*|\\hat{n}| + 1))"
      ]
     },
     "execution_count": 230,
     "metadata": {},
     "output_type": "execute_result"
    }
   ],
   "source": [
    "#full scalar, objective rest frame\n",
    "(dPcv_aph_dtau_0).subs([[vcv_aph_ob,0],[vcn_bt_ob,0],[gup_ab,1],[glw_ab,1]])"
   ]
  },
  {
   "cell_type": "code",
   "execution_count": 231,
   "metadata": {},
   "outputs": [],
   "source": [
    "dPcv_aph_dtau_3 = dPcv_aph_dtau_sbbd\n",
    "dPcv_aph_dtau_3 = dPcv_aph_dtau_3.subs(dvdtau,dvdtau_3)\n",
    "dPcv_aph_dtau_3 = dPcv_aph_dtau_3.subs(vcn_aph,v3)\n",
    "dPcv_aph_dtau_3 = dPcv_aph_dtau_3.subs(vcv_aph,v3)\n",
    "dPcv_aph_dtau_3 = dPcv_aph_dtau_3.subs(vcn_bt,v3)\n",
    "dPcv_aph_dtau_3 = dPcv_aph_dtau_3.subs(vcv_bt,v3)\n",
    "dPcv_aph_dtau_3 = dPcv_aph_dtau_3.subs(rcn_aph,r3)\n",
    "dPcv_aph_dtau_3 = dPcv_aph_dtau_3.subs(rcv_aph,r3)\n",
    "dPcv_aph_dtau_3 = dPcv_aph_dtau_3.subs(gup_ab,-1)"
   ]
  },
  {
   "cell_type": "code",
   "execution_count": 232,
   "metadata": {},
   "outputs": [],
   "source": [
    "dPcv_aph_dtau_3 = dPcv_aph_dtau_3.subs(dvdtau,dvdtau_3)"
   ]
  },
  {
   "cell_type": "code",
   "execution_count": 233,
   "metadata": {},
   "outputs": [
    {
     "data": {
      "text/latex": [
       "$\\displaystyle \\frac{\\vec{\\beta} c^{2} q^{2} v^{\\alpha -ob}}{\\vec{\\beta}^{2} \\gamma |\\hat{n}|^{2} |\\tilde{r}|^{4} - 2 \\vec{\\beta} \\gamma |\\hat{n}| |\\tilde{r}|^{4} + \\gamma |\\tilde{r}|^{4}} - \\frac{\\vec{\\beta} q^{2} v_{\\beta -ob} |\\hat{n}|}{- \\vec{\\beta}^{3} c \\gamma^{2} |\\hat{n}|^{3} |\\tilde{r}|^{2} + 3 \\vec{\\beta}^{2} c \\gamma^{2} |\\hat{n}|^{2} |\\tilde{r}|^{2} - 3 \\vec{\\beta} c \\gamma^{2} |\\hat{n}| |\\tilde{r}|^{2} + c \\gamma^{2} |\\tilde{r}|^{2}} + \\frac{c^{3} q^{3}}{- \\vec{\\beta} \\gamma m_{ob} |\\hat{n}| |\\tilde{r}|^{5} + \\gamma m_{ob} |\\tilde{r}|^{5}} + \\frac{q^{3} |\\hat{n}|}{\\vec{\\beta}^{2} \\gamma^{2} m_{ob} |\\hat{n}|^{2} |\\tilde{r}|^{3} - 2 \\vec{\\beta} \\gamma^{2} m_{ob} |\\hat{n}| |\\tilde{r}|^{3} + \\gamma^{2} m_{ob} |\\tilde{r}|^{3}}$"
      ],
      "text/plain": [
       "\\vec{\\beta}*c**2*q**2*v^alpha^-ob/(\\vec{\\beta}**2*gamma*|\\hat{n}|**2*|\\tilde{r}|**4 - 2*\\vec{\\beta}*gamma*|\\hat{n}|*|\\tilde{r}|**4 + gamma*|\\tilde{r}|**4) - \\vec{\\beta}*q**2*v_beta_-ob*|\\hat{n}|/(-\\vec{\\beta}**3*c*gamma**2*|\\hat{n}|**3*|\\tilde{r}|**2 + 3*\\vec{\\beta}**2*c*gamma**2*|\\hat{n}|**2*|\\tilde{r}|**2 - 3*\\vec{\\beta}*c*gamma**2*|\\hat{n}|*|\\tilde{r}|**2 + c*gamma**2*|\\tilde{r}|**2) + c**3*q**3/(-\\vec{\\beta}*gamma*m_{ob}*|\\hat{n}|*|\\tilde{r}|**5 + gamma*m_{ob}*|\\tilde{r}|**5) + q**3*|\\hat{n}|/(\\vec{\\beta}**2*gamma**2*m_{ob}*|\\hat{n}|**2*|\\tilde{r}|**3 - 2*\\vec{\\beta}*gamma**2*m_{ob}*|\\hat{n}|*|\\tilde{r}|**3 + gamma**2*m_{ob}*|\\tilde{r}|**3)"
      ]
     },
     "execution_count": 233,
     "metadata": {},
     "output_type": "execute_result"
    }
   ],
   "source": [
    "#convective 3-vector\n",
    "expand((dPcv_aph_dtau_3).subs([[bta_dot_dbta,0],[dbta,0]]))"
   ]
  },
  {
   "cell_type": "code",
   "execution_count": 234,
   "metadata": {},
   "outputs": [
    {
     "data": {
      "text/latex": [
       "$\\displaystyle - \\frac{\\tilde{r}_{\\beta} \\vec{\\beta} q^{2} v^{\\alpha -ob} \\left(\\dot{\\vec{\\beta}} c \\gamma^{2} + \\vec{\\beta} \\vec{\\beta}\\cdot\\dot{\\vec{\\beta}} c \\gamma^{4}\\right)}{\\gamma |\\tilde{r}|^{4} \\left(- \\vec{\\beta} |\\hat{n}| + 1\\right)^{2}} + \\frac{\\tilde{r}_{\\beta} \\vec{\\beta} q^{2} v_{\\beta -ob} |\\hat{n}| \\left(\\dot{\\vec{\\beta}} c \\gamma^{2} + \\vec{\\beta} \\vec{\\beta}\\cdot\\dot{\\vec{\\beta}} c \\gamma^{4}\\right)}{c^{3} \\gamma^{2} |\\tilde{r}|^{2} \\left(- \\vec{\\beta} |\\hat{n}| + 1\\right)^{3}} - \\frac{\\tilde{r}_{\\beta} c q^{3} \\left(\\dot{\\vec{\\beta}} c \\gamma^{2} + \\vec{\\beta} \\vec{\\beta}\\cdot\\dot{\\vec{\\beta}} c \\gamma^{4}\\right)}{\\gamma m_{ob} |\\tilde{r}|^{5} \\left(- \\vec{\\beta} |\\hat{n}| + 1\\right)} - \\frac{\\tilde{r}_{\\beta} q^{3} |\\hat{n}| \\left(\\dot{\\vec{\\beta}} c \\gamma^{2} + \\vec{\\beta} \\vec{\\beta}\\cdot\\dot{\\vec{\\beta}} c \\gamma^{4}\\right)}{c^{2} \\gamma^{2} m_{ob} |\\tilde{r}|^{3} \\left(- \\vec{\\beta} |\\hat{n}| + 1\\right)^{2}} + \\frac{\\vec{\\beta} c^{2} q^{2} v^{\\alpha -ob}}{\\gamma |\\tilde{r}|^{4} \\left(- \\vec{\\beta} |\\hat{n}| + 1\\right)^{2}} - \\frac{\\vec{\\beta} c \\gamma q^{3} \\left(\\dot{\\vec{\\beta}} c \\gamma^{2} + \\vec{\\beta} \\vec{\\beta}\\cdot\\dot{\\vec{\\beta}} c \\gamma^{4}\\right)}{m_{ob} |\\tilde{r}|^{4}} - \\frac{\\vec{\\beta} q^{2} v_{\\beta -ob} |\\hat{n}|}{c \\gamma^{2} |\\tilde{r}|^{2} \\left(- \\vec{\\beta} |\\hat{n}| + 1\\right)^{3}} + \\frac{\\vec{\\beta} q^{3} |\\hat{n}| \\left(\\dot{\\vec{\\beta}} c \\gamma^{2} + \\vec{\\beta} \\vec{\\beta}\\cdot\\dot{\\vec{\\beta}} c \\gamma^{4}\\right)}{c^{2} m_{ob} |\\tilde{r}|^{2} \\left(- \\vec{\\beta} |\\hat{n}| + 1\\right)} + \\frac{c^{3} q^{3}}{\\gamma m_{ob} |\\tilde{r}|^{5} \\left(- \\vec{\\beta} |\\hat{n}| + 1\\right)} + \\frac{q^{2} v^{\\alpha -ob} \\left(\\dot{\\vec{\\beta}} c \\gamma^{2} + \\vec{\\beta} \\vec{\\beta}\\cdot\\dot{\\vec{\\beta}} c \\gamma^{4}\\right)}{\\gamma |\\tilde{r}|^{3} \\left(- \\vec{\\beta} |\\hat{n}| + 1\\right)} + \\frac{q^{3} |\\hat{n}|}{\\gamma^{2} m_{ob} |\\tilde{r}|^{3} \\left(- \\vec{\\beta} |\\hat{n}| + 1\\right)^{2}} - \\frac{q^{2} v_{\\beta -ob} |\\hat{n}| \\left(\\dot{\\vec{\\beta}} c \\gamma^{2} + \\vec{\\beta} \\vec{\\beta}\\cdot\\dot{\\vec{\\beta}} c \\gamma^{4}\\right)}{c^{3} \\gamma^{2} |\\tilde{r}| \\left(- \\vec{\\beta} |\\hat{n}| + 1\\right)^{2}}$"
      ],
      "text/plain": [
       "-\\tilde{r}_{\\beta}*\\vec{\\beta}*q**2*v^alpha^-ob*(\\dot{\\vec{\\beta}}*c*gamma**2 + \\vec{\\beta}*\\vec{\\beta}\\cdot\\dot{\\vec{\\beta}}*c*gamma**4)/(gamma*|\\tilde{r}|**4*(-\\vec{\\beta}*|\\hat{n}| + 1)**2) + \\tilde{r}_{\\beta}*\\vec{\\beta}*q**2*v_beta_-ob*|\\hat{n}|*(\\dot{\\vec{\\beta}}*c*gamma**2 + \\vec{\\beta}*\\vec{\\beta}\\cdot\\dot{\\vec{\\beta}}*c*gamma**4)/(c**3*gamma**2*|\\tilde{r}|**2*(-\\vec{\\beta}*|\\hat{n}| + 1)**3) - \\tilde{r}_{\\beta}*c*q**3*(\\dot{\\vec{\\beta}}*c*gamma**2 + \\vec{\\beta}*\\vec{\\beta}\\cdot\\dot{\\vec{\\beta}}*c*gamma**4)/(gamma*m_{ob}*|\\tilde{r}|**5*(-\\vec{\\beta}*|\\hat{n}| + 1)) - \\tilde{r}_{\\beta}*q**3*|\\hat{n}|*(\\dot{\\vec{\\beta}}*c*gamma**2 + \\vec{\\beta}*\\vec{\\beta}\\cdot\\dot{\\vec{\\beta}}*c*gamma**4)/(c**2*gamma**2*m_{ob}*|\\tilde{r}|**3*(-\\vec{\\beta}*|\\hat{n}| + 1)**2) + \\vec{\\beta}*c**2*q**2*v^alpha^-ob/(gamma*|\\tilde{r}|**4*(-\\vec{\\beta}*|\\hat{n}| + 1)**2) - \\vec{\\beta}*c*gamma*q**3*(\\dot{\\vec{\\beta}}*c*gamma**2 + \\vec{\\beta}*\\vec{\\beta}\\cdot\\dot{\\vec{\\beta}}*c*gamma**4)/(m_{ob}*|\\tilde{r}|**4) - \\vec{\\beta}*q**2*v_beta_-ob*|\\hat{n}|/(c*gamma**2*|\\tilde{r}|**2*(-\\vec{\\beta}*|\\hat{n}| + 1)**3) + \\vec{\\beta}*q**3*|\\hat{n}|*(\\dot{\\vec{\\beta}}*c*gamma**2 + \\vec{\\beta}*\\vec{\\beta}\\cdot\\dot{\\vec{\\beta}}*c*gamma**4)/(c**2*m_{ob}*|\\tilde{r}|**2*(-\\vec{\\beta}*|\\hat{n}| + 1)) + c**3*q**3/(gamma*m_{ob}*|\\tilde{r}|**5*(-\\vec{\\beta}*|\\hat{n}| + 1)) + q**2*v^alpha^-ob*(\\dot{\\vec{\\beta}}*c*gamma**2 + \\vec{\\beta}*\\vec{\\beta}\\cdot\\dot{\\vec{\\beta}}*c*gamma**4)/(gamma*|\\tilde{r}|**3*(-\\vec{\\beta}*|\\hat{n}| + 1)) + q**3*|\\hat{n}|/(gamma**2*m_{ob}*|\\tilde{r}|**3*(-\\vec{\\beta}*|\\hat{n}| + 1)**2) - q**2*v_beta_-ob*|\\hat{n}|*(\\dot{\\vec{\\beta}}*c*gamma**2 + \\vec{\\beta}*\\vec{\\beta}\\cdot\\dot{\\vec{\\beta}}*c*gamma**4)/(c**3*gamma**2*|\\tilde{r}|*(-\\vec{\\beta}*|\\hat{n}| + 1)**2)"
      ]
     },
     "execution_count": 234,
     "metadata": {},
     "output_type": "execute_result"
    }
   ],
   "source": [
    "#full 3-vector\n",
    "(dPcv_aph_dtau_3)"
   ]
  },
  {
   "cell_type": "code",
   "execution_count": 235,
   "metadata": {},
   "outputs": [
    {
     "data": {
      "text/latex": [
       "$\\displaystyle \\frac{\\tilde{r}^{\\alpha} \\vec{\\beta}\\cdot\\dot{\\vec{\\beta}} \\gamma^{4} q^{3}}{c m_{ob} |\\tilde{r}|^{3} \\left(- \\vec{\\beta} |\\hat{n}| + 1\\right)} - \\frac{\\tilde{r}^{\\alpha} \\vec{\\beta}\\cdot\\dot{\\vec{\\beta}} \\gamma^{2} q^{2}}{c |\\tilde{r}|^{2} \\left(- \\vec{\\beta} |\\hat{n}| + 1\\right)^{2}} + \\frac{\\tilde{r}^{\\alpha} \\vec{\\beta}\\cdot\\dot{\\vec{\\beta}} \\gamma^{2} q^{2}}{c |\\tilde{r}|^{2} \\left(- \\vec{\\beta} |\\hat{n}| + 1\\right)^{3}} - \\frac{\\tilde{r}^{\\alpha} \\vec{\\beta}\\cdot\\dot{\\vec{\\beta}} \\gamma^{2} q^{3}}{c m_{ob} |\\tilde{r}|^{3} \\left(- \\vec{\\beta} |\\hat{n}| + 1\\right)^{2}} - \\frac{\\tilde{r}^{\\alpha} q^{2}}{\\gamma^{2} |\\tilde{r}|^{3} \\left(- \\vec{\\beta} |\\hat{n}| + 1\\right)^{3}} + \\frac{\\tilde{r}^{\\alpha} q^{3}}{\\gamma^{2} m_{ob} |\\tilde{r}|^{4} \\left(- \\vec{\\beta} |\\hat{n}| + 1\\right)^{2}} - \\frac{\\vec{\\beta}\\cdot\\dot{\\vec{\\beta}} c^{2} \\gamma^{5} q^{3}}{m_{ob} |\\tilde{r}|^{4}} + \\frac{\\vec{\\beta}\\cdot\\dot{\\vec{\\beta}} c^{2} \\gamma^{3} q^{2}}{|\\tilde{r}|^{3} \\left(- \\vec{\\beta} |\\hat{n}| + 1\\right)} - \\frac{\\vec{\\beta}\\cdot\\dot{\\vec{\\beta}} c^{2} \\gamma^{3} q^{2}}{|\\tilde{r}|^{3} \\left(- \\vec{\\beta} |\\hat{n}| + 1\\right)^{2}} + \\frac{\\vec{\\beta}\\cdot\\dot{\\vec{\\beta}} c^{2} \\gamma^{3} q^{3}}{m_{ob} |\\tilde{r}|^{4} \\left(- \\vec{\\beta} |\\hat{n}| + 1\\right)} + \\frac{c^{3} q^{2}}{\\gamma |\\tilde{r}|^{4} \\left(- \\vec{\\beta} |\\hat{n}| + 1\\right)^{2}} - \\frac{c^{3} q^{3}}{\\gamma m_{ob} |\\tilde{r}|^{5} \\left(- \\vec{\\beta} |\\hat{n}| + 1\\right)}$"
      ],
      "text/plain": [
       "\\tilde{r}^{\\alpha}*\\vec{\\beta}\\cdot\\dot{\\vec{\\beta}}*gamma**4*q**3/(c*m_{ob}*|\\tilde{r}|**3*(-\\vec{\\beta}*|\\hat{n}| + 1)) - \\tilde{r}^{\\alpha}*\\vec{\\beta}\\cdot\\dot{\\vec{\\beta}}*gamma**2*q**2/(c*|\\tilde{r}|**2*(-\\vec{\\beta}*|\\hat{n}| + 1)**2) + \\tilde{r}^{\\alpha}*\\vec{\\beta}\\cdot\\dot{\\vec{\\beta}}*gamma**2*q**2/(c*|\\tilde{r}|**2*(-\\vec{\\beta}*|\\hat{n}| + 1)**3) - \\tilde{r}^{\\alpha}*\\vec{\\beta}\\cdot\\dot{\\vec{\\beta}}*gamma**2*q**3/(c*m_{ob}*|\\tilde{r}|**3*(-\\vec{\\beta}*|\\hat{n}| + 1)**2) - \\tilde{r}^{\\alpha}*q**2/(gamma**2*|\\tilde{r}|**3*(-\\vec{\\beta}*|\\hat{n}| + 1)**3) + \\tilde{r}^{\\alpha}*q**3/(gamma**2*m_{ob}*|\\tilde{r}|**4*(-\\vec{\\beta}*|\\hat{n}| + 1)**2) - \\vec{\\beta}\\cdot\\dot{\\vec{\\beta}}*c**2*gamma**5*q**3/(m_{ob}*|\\tilde{r}|**4) + \\vec{\\beta}\\cdot\\dot{\\vec{\\beta}}*c**2*gamma**3*q**2/(|\\tilde{r}|**3*(-\\vec{\\beta}*|\\hat{n}| + 1)) - \\vec{\\beta}\\cdot\\dot{\\vec{\\beta}}*c**2*gamma**3*q**2/(|\\tilde{r}|**3*(-\\vec{\\beta}*|\\hat{n}| + 1)**2) + \\vec{\\beta}\\cdot\\dot{\\vec{\\beta}}*c**2*gamma**3*q**3/(m_{ob}*|\\tilde{r}|**4*(-\\vec{\\beta}*|\\hat{n}| + 1)) + c**3*q**2/(gamma*|\\tilde{r}|**4*(-\\vec{\\beta}*|\\hat{n}| + 1)**2) - c**3*q**3/(gamma*m_{ob}*|\\tilde{r}|**5*(-\\vec{\\beta}*|\\hat{n}| + 1))"
      ]
     },
     "execution_count": 235,
     "metadata": {},
     "output_type": "execute_result"
    }
   ],
   "source": [
    "#full scalar, objective rest frame\n",
    "dP0dtau0 = (dPcv_aph_dtau_0).subs([[vcv_aph_ob,c],[vcn_bt_ob,c],[gup_ab,1],[glw_ab,1]])\n",
    "(dPcv_aph_dtau_0).subs([[vcv_aph_ob,c],[vcn_bt_ob,c],[gup_ab,1],[glw_ab,1]])"
   ]
  },
  {
   "cell_type": "code",
   "execution_count": 236,
   "metadata": {},
   "outputs": [
    {
     "data": {
      "text/latex": [
       "$\\displaystyle - \\frac{\\tilde{r}_{\\beta} c q^{3} \\left(\\dot{\\vec{\\beta}} c \\gamma^{2} + \\vec{\\beta} \\vec{\\beta}\\cdot\\dot{\\vec{\\beta}} c \\gamma^{4}\\right)}{\\gamma m_{ob} |\\tilde{r}|^{5} \\left(- \\vec{\\beta} |\\hat{n}| + 1\\right)} - \\frac{\\tilde{r}_{\\beta} q^{3} |\\hat{n}| \\left(\\dot{\\vec{\\beta}} c \\gamma^{2} + \\vec{\\beta} \\vec{\\beta}\\cdot\\dot{\\vec{\\beta}} c \\gamma^{4}\\right)}{c^{2} \\gamma^{2} m_{ob} |\\tilde{r}|^{3} \\left(- \\vec{\\beta} |\\hat{n}| + 1\\right)^{2}} - \\frac{\\vec{\\beta} c \\gamma q^{3} \\left(\\dot{\\vec{\\beta}} c \\gamma^{2} + \\vec{\\beta} \\vec{\\beta}\\cdot\\dot{\\vec{\\beta}} c \\gamma^{4}\\right)}{m_{ob} |\\tilde{r}|^{4}} + \\frac{\\vec{\\beta} q^{3} |\\hat{n}| \\left(\\dot{\\vec{\\beta}} c \\gamma^{2} + \\vec{\\beta} \\vec{\\beta}\\cdot\\dot{\\vec{\\beta}} c \\gamma^{4}\\right)}{c^{2} m_{ob} |\\tilde{r}|^{2} \\left(- \\vec{\\beta} |\\hat{n}| + 1\\right)} + \\frac{c^{3} q^{3}}{\\gamma m_{ob} |\\tilde{r}|^{5} \\left(- \\vec{\\beta} |\\hat{n}| + 1\\right)} + \\frac{q^{3} |\\hat{n}|}{\\gamma^{2} m_{ob} |\\tilde{r}|^{3} \\left(- \\vec{\\beta} |\\hat{n}| + 1\\right)^{2}}$"
      ],
      "text/plain": [
       "-\\tilde{r}_{\\beta}*c*q**3*(\\dot{\\vec{\\beta}}*c*gamma**2 + \\vec{\\beta}*\\vec{\\beta}\\cdot\\dot{\\vec{\\beta}}*c*gamma**4)/(gamma*m_{ob}*|\\tilde{r}|**5*(-\\vec{\\beta}*|\\hat{n}| + 1)) - \\tilde{r}_{\\beta}*q**3*|\\hat{n}|*(\\dot{\\vec{\\beta}}*c*gamma**2 + \\vec{\\beta}*\\vec{\\beta}\\cdot\\dot{\\vec{\\beta}}*c*gamma**4)/(c**2*gamma**2*m_{ob}*|\\tilde{r}|**3*(-\\vec{\\beta}*|\\hat{n}| + 1)**2) - \\vec{\\beta}*c*gamma*q**3*(\\dot{\\vec{\\beta}}*c*gamma**2 + \\vec{\\beta}*\\vec{\\beta}\\cdot\\dot{\\vec{\\beta}}*c*gamma**4)/(m_{ob}*|\\tilde{r}|**4) + \\vec{\\beta}*q**3*|\\hat{n}|*(\\dot{\\vec{\\beta}}*c*gamma**2 + \\vec{\\beta}*\\vec{\\beta}\\cdot\\dot{\\vec{\\beta}}*c*gamma**4)/(c**2*m_{ob}*|\\tilde{r}|**2*(-\\vec{\\beta}*|\\hat{n}| + 1)) + c**3*q**3/(gamma*m_{ob}*|\\tilde{r}|**5*(-\\vec{\\beta}*|\\hat{n}| + 1)) + q**3*|\\hat{n}|/(gamma**2*m_{ob}*|\\tilde{r}|**3*(-\\vec{\\beta}*|\\hat{n}| + 1)**2)"
      ]
     },
     "execution_count": 236,
     "metadata": {},
     "output_type": "execute_result"
    }
   ],
   "source": [
    "#3-vector, objective rest frame\n",
    "dP3dtau3 = (dPcv_aph_dtau_3).subs([[vcv_aph_ob,0],[vcn_bt_ob,0],[gup_ab,-1],[glw_ab,-1]])\n",
    "(dPcv_aph_dtau_3).subs([[vcv_aph_ob,0],[vcn_bt_ob,0],[gup_ab,-1],[glw_ab,-1]])"
   ]
  },
  {
   "cell_type": "code",
   "execution_count": 237,
   "metadata": {},
   "outputs": [
    {
     "data": {
      "text/latex": [
       "$\\displaystyle - \\frac{\\tilde{r}_{\\beta} c q^{3} \\left(\\dot{\\vec{\\beta}} c \\gamma^{2} + \\vec{\\beta} \\vec{\\beta}\\cdot\\dot{\\vec{\\beta}} c \\gamma^{4}\\right)}{\\gamma m_{ob} |\\tilde{r}|^{5} \\left(- \\vec{\\beta} |\\hat{n}| + 1\\right)} - \\frac{\\tilde{r}_{\\beta} q^{3} |\\hat{n}| \\left(\\dot{\\vec{\\beta}} c \\gamma^{2} + \\vec{\\beta} \\vec{\\beta}\\cdot\\dot{\\vec{\\beta}} c \\gamma^{4}\\right)}{c^{2} \\gamma^{2} m_{ob} |\\tilde{r}|^{3} \\left(- \\vec{\\beta} |\\hat{n}| + 1\\right)^{2}} - \\frac{\\vec{\\beta} c \\gamma q^{3} \\left(\\dot{\\vec{\\beta}} c \\gamma^{2} + \\vec{\\beta} \\vec{\\beta}\\cdot\\dot{\\vec{\\beta}} c \\gamma^{4}\\right)}{m_{ob} |\\tilde{r}|^{4}} - \\frac{\\vec{\\beta} q^{2}}{c |\\tilde{r}| \\left(- \\vec{\\beta} |\\hat{n}| + 1\\right)} + \\frac{\\vec{\\beta} q^{3} |\\hat{n}| \\left(\\dot{\\vec{\\beta}} c \\gamma^{2} + \\vec{\\beta} \\vec{\\beta}\\cdot\\dot{\\vec{\\beta}} c \\gamma^{4}\\right)}{c^{2} m_{ob} |\\tilde{r}|^{2} \\left(- \\vec{\\beta} |\\hat{n}| + 1\\right)} + \\frac{c^{3} q^{3}}{\\gamma m_{ob} |\\tilde{r}|^{5} \\left(- \\vec{\\beta} |\\hat{n}| + 1\\right)} + \\frac{q^{3} |\\hat{n}|}{\\gamma^{2} m_{ob} |\\tilde{r}|^{3} \\left(- \\vec{\\beta} |\\hat{n}| + 1\\right)^{2}}$"
      ],
      "text/plain": [
       "-\\tilde{r}_{\\beta}*c*q**3*(\\dot{\\vec{\\beta}}*c*gamma**2 + \\vec{\\beta}*\\vec{\\beta}\\cdot\\dot{\\vec{\\beta}}*c*gamma**4)/(gamma*m_{ob}*|\\tilde{r}|**5*(-\\vec{\\beta}*|\\hat{n}| + 1)) - \\tilde{r}_{\\beta}*q**3*|\\hat{n}|*(\\dot{\\vec{\\beta}}*c*gamma**2 + \\vec{\\beta}*\\vec{\\beta}\\cdot\\dot{\\vec{\\beta}}*c*gamma**4)/(c**2*gamma**2*m_{ob}*|\\tilde{r}|**3*(-\\vec{\\beta}*|\\hat{n}| + 1)**2) - \\vec{\\beta}*c*gamma*q**3*(\\dot{\\vec{\\beta}}*c*gamma**2 + \\vec{\\beta}*\\vec{\\beta}\\cdot\\dot{\\vec{\\beta}}*c*gamma**4)/(m_{ob}*|\\tilde{r}|**4) - \\vec{\\beta}*q**2/(c*|\\tilde{r}|*(-\\vec{\\beta}*|\\hat{n}| + 1)) + \\vec{\\beta}*q**3*|\\hat{n}|*(\\dot{\\vec{\\beta}}*c*gamma**2 + \\vec{\\beta}*\\vec{\\beta}\\cdot\\dot{\\vec{\\beta}}*c*gamma**4)/(c**2*m_{ob}*|\\tilde{r}|**2*(-\\vec{\\beta}*|\\hat{n}| + 1)) + c**3*q**3/(gamma*m_{ob}*|\\tilde{r}|**5*(-\\vec{\\beta}*|\\hat{n}| + 1)) + q**3*|\\hat{n}|/(gamma**2*m_{ob}*|\\tilde{r}|**3*(-\\vec{\\beta}*|\\hat{n}| + 1)**2)"
      ]
     },
     "execution_count": 237,
     "metadata": {},
     "output_type": "execute_result"
    }
   ],
   "source": [
    "dP3dtau3-q/c*q/(1-bta*n_src_ob)*bta/r_mag #non-conjugate three velocity"
   ]
  },
  {
   "cell_type": "code",
   "execution_count": 80,
   "metadata": {},
   "outputs": [
    {
     "ename": "SyntaxError",
     "evalue": "unexpected EOF while parsing (<ipython-input-80-b7a274e91d09>, line 1)",
     "output_type": "error",
     "traceback": [
      "\u001b[0;36m  File \u001b[0;32m\"<ipython-input-80-b7a274e91d09>\"\u001b[0;36m, line \u001b[0;32m1\u001b[0m\n\u001b[0;31m    simplify(dP0dtau0-q/c*q/(1-bta*n_src_ob)*1/r_mag  #non-conjugate\u001b[0m\n\u001b[0m                                                                     ^\u001b[0m\n\u001b[0;31mSyntaxError\u001b[0m\u001b[0;31m:\u001b[0m unexpected EOF while parsing\n"
     ]
    }
   ],
   "source": [
    "simplify(dP0dtau0-q/c*q/(1-bta*n_src_ob)*1/r_mag  #non-conjugate "
   ]
  },
  {
   "cell_type": "code",
   "execution_count": null,
   "metadata": {},
   "outputs": [],
   "source": [
    "print(latex(dP0dtau0-q/c*q/(1-bta*n_src_ob)*1/r_mag))"
   ]
  },
  {
   "cell_type": "code",
   "execution_count": null,
   "metadata": {},
   "outputs": [],
   "source": [
    "1/m_ob*(Pcv_aph-q/c*Acv_aph)*(Pcn_aph-q/c*Acn_aph)"
   ]
  },
  {
   "cell_type": "code",
   "execution_count": null,
   "metadata": {},
   "outputs": [],
   "source": [
    "x = Symbol('x', real=true)\n",
    "d = Symbol('d', real=true)\n",
    "A = Function('A')(x)\n",
    "B = Function('B')(x)"
   ]
  },
  {
   "cell_type": "code",
   "execution_count": null,
   "metadata": {},
   "outputs": [],
   "source": [
    "#H = 1/m_ob*(Pcn_aph-q/c*A)*(Pcv_aph-q/c*A)-c*((Pcn_aph-q/c*A)*(Pcv_aph-q/c*A))**(1/2)\n",
    "#dPdtau = -H.diff(x)\n",
    "H = 1/m_ob*(Pcn_aph-q/c*A-B*d)*(Pcv_aph-q/c*A-B*d)-c*((Pcn_aph-q/c*A-B*d)*(Pcv_aph-q/c*A-B*d))**(1/2)\n",
    "dPdtau = -H.diff(x)"
   ]
  },
  {
   "cell_type": "code",
   "execution_count": null,
   "metadata": {},
   "outputs": [],
   "source": [
    "dPdtau"
   ]
  },
  {
   "cell_type": "code",
   "execution_count": null,
   "metadata": {},
   "outputs": [],
   "source": [
    "(dPdtau.subs([[(Pcn_aph-q/c*A-B*d)*(Pcv_aph-q/c*A-B*d),(m_ob*c)**2],[Pcn_aph,Pcv_aph],[d,q/(m_ob*c)*1/np.abs(s_vec)],[m_ob**3.0,m_ob**3],[m_ob**1.0,m_ob]]))\n",
    "#simplify(expand((dPdtau.subs((Pcn_aph-q/c*A)*(Pcv_aph-q/c*A),(m_ob*c)**2))))"
   ]
  },
  {
   "cell_type": "code",
   "execution_count": null,
   "metadata": {},
   "outputs": [],
   "source": []
  }
 ],
 "metadata": {
  "kernelspec": {
   "display_name": "Python 3",
   "language": "python",
   "name": "python3"
  },
  "language_info": {
   "codemirror_mode": {
    "name": "ipython",
    "version": 3
   },
   "file_extension": ".py",
   "mimetype": "text/x-python",
   "name": "python",
   "nbconvert_exporter": "python",
   "pygments_lexer": "ipython3",
   "version": "3.7.9"
  }
 },
 "nbformat": 4,
 "nbformat_minor": 4
}
