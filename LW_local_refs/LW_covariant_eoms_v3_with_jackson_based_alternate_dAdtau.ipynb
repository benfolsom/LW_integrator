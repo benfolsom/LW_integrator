{
 "cells": [
  {
   "cell_type": "code",
   "execution_count": 3,
   "metadata": {},
   "outputs": [],
   "source": [
    "%config Completer.use_jedi = False  #fixing an autocomplete bug in my jupyter, you might not want this\n",
    "import sympy as sp \n",
    "import numpy as np\n",
    "from sympy import *  #oops lazy, sorry"
   ]
  },
  {
   "cell_type": "code",
   "execution_count": null,
   "metadata": {},
   "outputs": [],
   "source": []
  },
  {
   "cell_type": "markdown",
   "metadata": {},
   "source": [
    "### I define so many symbols to have covariant and contravariant versions of the necessary vectors for at least two different indices. $\\rho$ is used as an index for cases where vectors are multiplied over the same index, e.g., $x^\\rho z_\\rho$\n",
    "#### \n",
    "#### I will just use Bordovitsyn's 2003 paper\n",
    "###### https://link.springer.com/content/pdf/10.1023/A:1026217822337.pdf\n",
    "#### and Jackson and my thesis.\n",
    "#### \n",
    "#### There are many useful identities in Bordovitsyn's paper, particularly the bottom equation from page 460: $\\tilde{r}_{\\rho} v^{\\rho}=-\\tilde{r} c \\gamma[1-(\\tilde{n} \\boldsymbol{\\beta})]$. Equation 26 and the other equations on that page are very helpful for understanding the necessary parts for doing covariant derivatives on the LW potentials."
   ]
  },
  {
   "cell_type": "code",
   "execution_count": 806,
   "metadata": {},
   "outputs": [],
   "source": [
    "Pcv_aph = sp.symbols(\"P^alpha\",real=True)\n",
    "Pcn_aph = sp.symbols(\"P_alpha\",real=True)\n",
    "Acv_aph = sp.symbols(\"A^alpha\",real=True)\n",
    "Acn_aph = sp.symbols(\"A_alpha\",real=True)\n",
    "vcv_aph = sp.symbols(\"v^alpha\",real=True)\n",
    "vcn_aph = sp.symbols(\"v_alpha\",real=True)\n",
    "rcn_aph = sp.symbols(r\"\\tilde{r}_{\\alpha}\",real=True)\n",
    "rcv_aph = sp.symbols(r\"\\tilde{r}^{\\alpha}\",real=True)\n",
    "\n",
    "Pcv_bt= sp.symbols(\"P^beta\",real=True)\n",
    "Pcn_bt = sp.symbols(\"P_beta\",real=True)\n",
    "Acv_bt = sp.symbols(\"A^beta\",real=True)\n",
    "Acn_bt = sp.symbols(\"A_beta\",real=True)\n",
    "vcv_bt = sp.symbols(\"v^beta\",real=True)\n",
    "vcn_bt = sp.symbols(\"v_beta\",real=True)\n",
    "rcn_bt = sp.symbols(r\"\\tilde{r}_{\\beta}\",real=True)\n",
    "rcv_bt = sp.symbols(r\"\\tilde{r}^{\\beta}\",real=True)\n",
    "\n",
    "r_x = sp.symbols(r\"\\tilde{r}^x\",real=True,positive=True)\n",
    "r_y = sp.symbols(r\"\\tilde{r}^y\",real=True,positive=True)\n",
    "r_z = sp.symbols(r\"\\tilde{r}^z\",real=True,positive=True)\n",
    "\n",
    "v_x = sp.symbols(r\"\\tilde{v}^x\",real=True,positive=True)\n",
    "v_y = sp.symbols(r\"\\tilde{v}^y\",real=True,positive=True)\n",
    "v_z = sp.symbols(r\"\\tilde{v}^z\",real=True,positive=True)\n",
    "\n",
    "rcn_rho = sp.symbols(r\"\\tilde{r}_{\\rho}\",real=True)\n",
    "rcv_rho = sp.symbols(r\"\\tilde{r}^{\\rho}\",real=True)\n",
    "vcn_rho = sp.symbols(\"v_rho\",real=True)\n",
    "vcv_rho = sp.symbols(\"v^rho\",real=True)\n",
    "gup_ab =  sp.symbols(\"g^alpha^beta\",real=True)\n",
    "glw_ab =  sp.symbols(\"g_alpha_beta\",real=True)\n",
    "gup_ba =  sp.symbols(\"g^beta^alpha\",real=True)\n",
    "glw_ba = sp.symbols(\"g_beta_alpha\",real=True)\n",
    "del_ab = sp.symbols(\"\\delta^alpha_beta\",real=True)\n",
    "\n",
    "q =  sp.symbols(\"q\",real=True)\n",
    "q_s =  sp.symbols(\"q_s\",real=True)\n",
    "c =  sp.symbols(\"c\",real=True,positive=True)\n",
    "K = sp.symbols(\"K\",real=True,positive=True)\n",
    "\n",
    "gm = sp.symbols(\"gamma\",real=True,positive=True)\n",
    "bta = sp.symbols(r'\\vec{\\beta}',real=True)\n",
    "dbta = sp.symbols(r'\\dot{\\vec{\\beta}}',real=True)\n",
    "bta_dot_dbta = sp.symbols(r'\\vec{\\beta}\\cdot\\dot{\\vec{\\beta}}',real=True)\n",
    "bta_x = sp.symbols(r'\\vec{\\beta}_x',real=True,positive=True)\n",
    "\n",
    "#dvdtau = sp.symbols(r'\\frac{dv^\\beta}{d\\tau}',real=True) \n",
    "dvdtau_bt = sp.symbols(r'\\dot{V^\\beta}',real=True) \n",
    "dvdtau_aph = sp.symbols(r'\\dot{V_\\alpha}',real=True) \n",
    "\n",
    "tau = sp.symbols('tau',real=True) \n",
    "r_mag = sp.symbols(r\"|\\tilde{r}|\",real=True)  #same as jackson's |R|\n",
    "n_src_ob = sp.symbols(r\"|\\hat{n}|\",real=True)  #same as jackson's |R|\n",
    "n_src_ob_x = sp.symbols(r\"|\\hat{n}|_x\",real=True)  #same as jackson's |R|\n",
    "n_src_ob_y = sp.symbols(r\"|\\hat{n}|_y\",real=True)  #same as jackson's |R|\n",
    "n_src_ob_z = sp.symbols(r\"|\\hat{n}|_z\",real=True)  #same as jackson's |R|\n",
    "\n",
    "#ONLY FOR OBJECTIVE\n",
    "s_vec = sp.symbols(r'\\vec{s}',real=True) #spin vector\n",
    "m_ob = sp.symbols('m_{ob}',real=True,positive=True) \n",
    "gm_ob = sp.symbols(r'\\gamma_{ob}',real=True) \n",
    "vcn_bt_ob = sp.symbols(\"v_beta_-ob\",real=True)\n",
    "vcv_bt_ob = sp.symbols(\"v^beta^-ob\",real=True)\n",
    "vcv_aph_ob = sp.symbols(\"v^alpha^-ob\",real=True)\n",
    "vcn_aph_ob = sp.symbols(\"v_alpha_-ob\",real=True)\n"
   ]
  },
  {
   "cell_type": "markdown",
   "metadata": {},
   "source": [
    "#### I use $\\tilde{r}$ (Bordovitsyn's notation) for the distance between particles at retarded time $\\tau$. This is $[x-r(\\tau)]$ in Jackson, where  $\\left|[x-r(\\tau)]\\right| \\equiv R$ "
   ]
  },
  {
   "cell_type": "code",
   "execution_count": 807,
   "metadata": {},
   "outputs": [
    {
     "data": {
      "text/latex": [
       "$\\displaystyle \\frac{dv^\\beta}{d\\tau}$"
      ],
      "text/plain": [
       "\\frac{dv^\\beta}{d\\tau}"
      ]
     },
     "execution_count": 807,
     "metadata": {},
     "output_type": "execute_result"
    }
   ],
   "source": [
    "dvdtau"
   ]
  },
  {
   "cell_type": "code",
   "execution_count": null,
   "metadata": {},
   "outputs": [],
   "source": []
  },
  {
   "cell_type": "markdown",
   "metadata": {},
   "source": [
    "#### Starting with the second form of Equation 43 from Bordovitsyn's paper.\n",
    "##### and using K $\\equiv \\gamma R(1-\\beta \\cdot \\vec{n})$, so $A^\\alpha = V^\\alpha/(cK)$"
   ]
  },
  {
   "cell_type": "code",
   "execution_count": 808,
   "metadata": {},
   "outputs": [
    {
     "data": {
      "text/latex": [
       "$\\displaystyle \\left(- \\frac{A^{\\beta} v^{\\alpha}}{K} + \\frac{\\tilde{r}^{\\alpha}}{K}\\right) \\frac{d}{d \\tau} A^{\\beta}$"
      ],
      "text/plain": [
       "(-A^beta*v^alpha/K + \\tilde{r}^{\\alpha}/K)*Derivative(A^beta, tau)"
      ]
     },
     "execution_count": 808,
     "metadata": {},
     "output_type": "execute_result"
    }
   ],
   "source": [
    "dcv_aph_Acv_bt = (-vcv_aph/(K)*Acv_bt+ rcv_aph/(K))*sp.Derivative(Acv_bt,tau)\n",
    "dcv_aph_Acv_bt"
   ]
  },
  {
   "cell_type": "markdown",
   "metadata": {},
   "source": [
    "### Now we need Jackson 14.12, and 14.6\n",
    "\n"
   ]
  },
  {
   "cell_type": "code",
   "execution_count": 809,
   "metadata": {},
   "outputs": [
    {
     "data": {
      "text/latex": [
       "$\\displaystyle \\frac{\\dot{V^\\beta} q_{s}}{K} - \\frac{\\dot{V^\\beta} \\tilde{r}_{\\beta} q_{s} v^{\\beta}}{K^{2}} + \\frac{c^{2} q_{s} v^{\\beta}}{K^{2}}$"
      ],
      "text/plain": [
       "\\dot{V^\\beta}*q_s/K - \\dot{V^\\beta}*\\tilde{r}_{\\beta}*q_s*v^beta/K**2 + c**2*q_s*v^beta/K**2"
      ]
     },
     "execution_count": 809,
     "metadata": {},
     "output_type": "execute_result"
    }
   ],
   "source": [
    "dAdtau = q_s*(dvdtau_bt*1/(K)-vcv_bt/(K)**2*(-c**2+rcn_bt*dvdtau_bt))\n",
    "expand(dAdtau)"
   ]
  },
  {
   "cell_type": "code",
   "execution_count": 882,
   "metadata": {},
   "outputs": [],
   "source": [
    "dcv_aph_Acv_bt_sbbd = dcv_aph_Acv_bt.subs(sp.Derivative(Acv_bt,tau),expand(dAdtau))\n",
    "dcv_aph_Acv_bt_sbbd = (expand(dcv_aph_Acv_bt_sbbd))\n",
    "dcv_aph_Acv_bt_sbbd = dcv_aph_Acv_bt_sbbd.subs(vcv_aph*vcv_bt,-c**2*glw_ab)\n",
    "dcv_aph_Acv_bt_sbbd = dcv_aph_Acv_bt_sbbd.subs(vcv_aph*vcv_bt,-c**2*glw_ab)\n",
    "dcv_aph_Acv_bt_sbbd = dcv_aph_Acv_bt_sbbd.subs(rcn_bt*vcv_bt,K)\n",
    "dcv_aph_Acv_bt_sbbd = dcv_aph_Acv_bt_sbbd.subs(rcn_bt*glw_ab,rcv_aph)\n",
    "dcv_aph_Acv_bt_sbbd= dcv_aph_Acv_bt_sbbd.subs(Acv_bt,vcv_bt/(c*K))\n",
    "dcv_aph_Acv_bt_sbbd = dcv_aph_Acv_bt_sbbd.subs(glw_ab*vcv_bt,vcn_aph)\n",
    "dcv_aph_Acv_bt_sbbd = dcv_aph_Acv_bt_sbbd.subs(vcv_bt*vcv_aph,-c**2*glw_ab)\n",
    "dcv_aph_Acv_bt_sbbd = dcv_aph_Acv_bt_sbbd.subs(rcv_aph*vcv_bt,glw_ab*(c*K))\n",
    "dcv_aph_Acv_bt_sbbd = dcv_aph_Acv_bt_sbbd.subs(dvdtau_bt*glw_ab,dvdtau_aph)\n",
    "dcv_aph_Acv_bt_sbbd = dcv_aph_Acv_bt_sbbd.subs(dvdtau_bt*glw_ab,dvdtau_aph)\n"
   ]
  },
  {
   "cell_type": "code",
   "execution_count": 883,
   "metadata": {},
   "outputs": [
    {
     "data": {
      "text/latex": [
       "$\\displaystyle \\frac{c^{3} g_{\\alpha \\beta} q_{s}}{K^{2}} - \\frac{\\dot{V_\\alpha} c^{2} q_{s}}{K^{3}} + \\frac{\\dot{V_\\alpha} c q_{s}}{K^{3}} + \\frac{c^{3} q_{s} v_{\\alpha}}{K^{4}}$"
      ],
      "text/plain": [
       "c**3*g_alpha_beta*q_s/K**2 - \\dot{V_\\alpha}*c**2*q_s/K**3 + \\dot{V_\\alpha}*c*q_s/K**3 + c**3*q_s*v_alpha/K**4"
      ]
     },
     "execution_count": 883,
     "metadata": {},
     "output_type": "execute_result"
    }
   ],
   "source": [
    "dcv_aph_Acv_bt_sbbd"
   ]
  },
  {
   "cell_type": "code",
   "execution_count": 801,
   "metadata": {},
   "outputs": [],
   "source": [
    "#inferring from 14.11 a different form for dcv_aph_Acv_bt\n",
    "#d_dtau_term = rcv_aph*vcv_bt/K #for reference only\n",
    "\n",
    "d_dtau_term_solved = ((vcv_aph*vcv_bt+rcv_aph*dvdtau_bt)*K - rcv_aph*vcv_bt*((-c**2+rcn_bt*dvdtau_aph)))/K**2\n",
    "dcv_aph_Acv_bt_alt = expand(q_s/K*d_dtau_term_solved)\n",
    "dcv_aph_Acv_bt_alt = dcv_aph_Acv_bt_alt.subs(rcn_bt*vcv_bt,K)\n",
    "dcv_aph_Acv_bt_alt = dcv_aph_Acv_bt_alt.subs(vcv_aph*vcv_bt,-c**2*glw_ab)\n",
    "dcv_aph_Acv_bt_alt = dcv_aph_Acv_bt_alt.subs(rcv_aph*vcv_bt,gup_ab*K)"
   ]
  },
  {
   "cell_type": "code",
   "execution_count": 802,
   "metadata": {},
   "outputs": [
    {
     "data": {
      "text/latex": [
       "$\\displaystyle - \\frac{\\dot{V^\\alpha} \\tilde{r}^{\\alpha} q_{s}}{K^{2}} + \\frac{\\dot{V^\\beta} \\tilde{r}^{\\alpha} q_{s}}{K^{2}} + \\frac{c^{2} g^{\\alpha \\beta} q_{s}}{K^{2}} - \\frac{c^{2} g_{\\alpha \\beta} q_{s}}{K^{2}}$"
      ],
      "text/plain": [
       "-\\dot{V^\\alpha}*\\tilde{r}^{\\alpha}*q_s/K**2 + \\dot{V^\\beta}*\\tilde{r}^{\\alpha}*q_s/K**2 + c**2*g^alpha^beta*q_s/K**2 - c**2*g_alpha_beta*q_s/K**2"
      ]
     },
     "execution_count": 802,
     "metadata": {},
     "output_type": "execute_result"
    }
   ],
   "source": [
    "(dcv_aph_Acv_bt_alt)"
   ]
  },
  {
   "cell_type": "code",
   "execution_count": 803,
   "metadata": {},
   "outputs": [],
   "source": [
    "### even when switching dVdtau indices, Jackson is ambiguous here. Leading terms match bordovitsyn with switched indices, but looks suspect "
   ]
  },
  {
   "cell_type": "code",
   "execution_count": null,
   "metadata": {},
   "outputs": [],
   "source": []
  },
  {
   "cell_type": "code",
   "execution_count": 804,
   "metadata": {},
   "outputs": [
    {
     "data": {
      "text/latex": [
       "$\\displaystyle \\frac{\\dot{V^\\beta} \\tilde{r}^{\\alpha}}{K} + \\frac{v^{\\alpha} v^{\\beta}}{K} - \\frac{\\dot{V^\\alpha} \\tilde{r}^{\\alpha} \\tilde{r}_{\\beta} v^{\\beta}}{K^{2}} + \\frac{\\tilde{r}^{\\alpha} c^{2} v^{\\beta}}{K^{2}}$"
      ],
      "text/plain": [
       "\\dot{V^\\beta}*\\tilde{r}^{\\alpha}/K + v^alpha*v^beta/K - \\dot{V^\\alpha}*\\tilde{r}^{\\alpha}*\\tilde{r}_{\\beta}*v^beta/K**2 + \\tilde{r}^{\\alpha}*c**2*v^beta/K**2"
      ]
     },
     "execution_count": 804,
     "metadata": {},
     "output_type": "execute_result"
    }
   ],
   "source": [
    "expand(d_dtau_term_solved)"
   ]
  },
  {
   "cell_type": "code",
   "execution_count": 805,
   "metadata": {},
   "outputs": [
    {
     "data": {
      "text/latex": [
       "$\\displaystyle \\frac{K \\dot{V^\\beta} - \\dot{V^\\alpha} \\tilde{r}_{\\beta} v^{\\beta} + c^{2} v^{\\beta}}{K^{2}}$"
      ],
      "text/plain": [
       "(K*\\dot{V^\\beta} - \\dot{V^\\alpha}*\\tilde{r}_{\\beta}*v^beta + c**2*v^beta)/K**2"
      ]
     },
     "execution_count": 805,
     "metadata": {},
     "output_type": "execute_result"
    }
   ],
   "source": [
    "expand(dvdtau_bt*K-vcv_bt*(-c**2+rcn_bt*dvdtau_aph))/K**2"
   ]
  },
  {
   "cell_type": "code",
   "execution_count": null,
   "metadata": {},
   "outputs": [],
   "source": []
  },
  {
   "cell_type": "code",
   "execution_count": 734,
   "metadata": {},
   "outputs": [
    {
     "data": {
      "text/latex": [
       "$\\displaystyle q_{s} \\left(\\frac{\\dot{V^\\beta}}{K} - \\frac{v^{\\beta} \\left(\\dot{V^\\beta} \\tilde{r}_{\\beta} - c^{2}\\right)}{K^{2}}\\right)$"
      ],
      "text/plain": [
       "q_s*(\\dot{V^\\beta}/K - v^beta*(\\dot{V^\\beta}*\\tilde{r}_{\\beta} - c**2)/K**2)"
      ]
     },
     "execution_count": 734,
     "metadata": {},
     "output_type": "execute_result"
    }
   ],
   "source": [
    "dAdtau"
   ]
  },
  {
   "cell_type": "code",
   "execution_count": null,
   "metadata": {},
   "outputs": [],
   "source": []
  },
  {
   "cell_type": "code",
   "execution_count": 735,
   "metadata": {},
   "outputs": [
    {
     "data": {
      "text/latex": [
       "$\\displaystyle \\frac{c^{2} g^{\\alpha \\beta} q_{s}}{K^{2}} + \\frac{\\dot{V^\\beta} c^{2} g_{\\alpha \\beta} q_{s}}{K^{3}} - \\frac{\\dot{V^\\beta} \\tilde{r}_{\\beta} c^{2} q_{s} v^{\\alpha}}{K^{4}} + \\frac{c^{4} q_{s} v^{\\alpha}}{K^{4}}$"
      ],
      "text/plain": [
       "c**2*g^alpha^beta*q_s/K**2 + \\dot{V^\\beta}*c**2*g_alpha_beta*q_s/K**3 - \\dot{V^\\beta}*\\tilde{r}_{\\beta}*c**2*q_s*v^alpha/K**4 + c**4*q_s*v^alpha/K**4"
      ]
     },
     "execution_count": 735,
     "metadata": {},
     "output_type": "execute_result"
    }
   ],
   "source": [
    "dcv_aph_Acv_bt_sbbd"
   ]
  },
  {
   "cell_type": "code",
   "execution_count": 736,
   "metadata": {},
   "outputs": [],
   "source": [
    "# dcv_aph_Acv_bt_sbbd_convective = dcv_aph_Acv_bt_sbbd.subs(dvdtau,0)\n",
    "# dcv_aph_Acv_bt_sbbd_convective = expand(dcv_aph_Acv_bt_sbbd_convective.subs(vcn_rho**2,c**2))\n",
    "# dcv_aph_Acv_bt_sbbd_convective = expand(dcv_aph_Acv_bt_sbbd_convective.subs(Acv_bt*vcv_aph*vcv_bt,Acn_aph*c**2))\n",
    "# dcv_aph_Acv_bt_sbbd_convective"
   ]
  },
  {
   "cell_type": "code",
   "execution_count": 737,
   "metadata": {},
   "outputs": [],
   "source": [
    "dPcv_aph_dtau_O = q/c*(vcn_bt_ob-q/(m_ob*c)*Acn_bt)*dcv_aph_Acv_bt_sbbd\n",
    "dPcv_aph_dtau = expand(dPcv_aph_dtau_O)"
   ]
  },
  {
   "cell_type": "code",
   "execution_count": 738,
   "metadata": {},
   "outputs": [
    {
     "data": {
      "text/latex": [
       "$\\displaystyle \\frac{q \\left(- \\frac{A_{\\beta} q}{c m_{ob}} + v_{\\beta -ob}\\right) \\left(\\frac{c^{2} g^{\\alpha \\beta} q_{s}}{K^{2}} + \\frac{\\dot{V^\\beta} c^{2} g_{\\alpha \\beta} q_{s}}{K^{3}} - \\frac{\\dot{V^\\beta} \\tilde{r}_{\\beta} c^{2} q_{s} v^{\\alpha}}{K^{4}} + \\frac{c^{4} q_{s} v^{\\alpha}}{K^{4}}\\right)}{c}$"
      ],
      "text/plain": [
       "q*(-A_beta*q/(c*m_{ob}) + v_beta_-ob)*(c**2*g^alpha^beta*q_s/K**2 + \\dot{V^\\beta}*c**2*g_alpha_beta*q_s/K**3 - \\dot{V^\\beta}*\\tilde{r}_{\\beta}*c**2*q_s*v^alpha/K**4 + c**4*q_s*v^alpha/K**4)/c"
      ]
     },
     "execution_count": 738,
     "metadata": {},
     "output_type": "execute_result"
    }
   ],
   "source": [
    "(dPcv_aph_dtau_O)"
   ]
  },
  {
   "cell_type": "code",
   "execution_count": 762,
   "metadata": {},
   "outputs": [],
   "source": [
    "#shotgun approach to getting all the r*v terms simplified\n",
    "dPcv_aph_dtau_sbbd = dPcv_aph_dtau\n",
    "dPcv_aph_dtau_sbbd = dPcv_aph_dtau_sbbd.subs(vcn_bt*vcv_bt,c**2)\n",
    "dPcv_aph_dtau_sbbd = dPcv_aph_dtau.subs(Acv_bt,q_s*vcv_bt/K)\n",
    "dPcv_aph_dtau_sbbd = dPcv_aph_dtau_sbbd.subs(Acn_bt,q_s*vcn_bt/K)\n",
    "dPcv_aph_dtau_sbbd = dPcv_aph_dtau_sbbd.subs(rcn_aph*vcv_aph,K)\n",
    "dPcv_aph_dtau_sbbd = dPcv_aph_dtau_sbbd.subs(rcv_aph*vcn_aph,K)\n",
    "dPcv_aph_dtau_sbbd = dPcv_aph_dtau_sbbd.subs(rcn_bt*vcv_bt,K)\n",
    "dPcv_aph_dtau_sbbd = dPcv_aph_dtau_sbbd.subs(rcv_bt*vcn_bt,K)\n",
    "\n",
    "dPcv_aph_dtau_sbbd = dPcv_aph_dtau_sbbd.subs(rcn_rho*rcv_rho,I) #should be zero, using I to eliminate zero terms\n",
    "\n",
    "dPcv_aph_dtau_sbbd = dPcv_aph_dtau_sbbd.subs(rcv_rho*vcn_rho,K)\n",
    "dPcv_aph_dtau_sbbd = dPcv_aph_dtau_sbbd.subs(rcn_rho*vcv_rho,K)\n",
    "dPcv_aph_dtau_sbbd = dPcv_aph_dtau_sbbd.subs(K,c*K)\n",
    "\n",
    "#dPcv_aph_dtau_sbbd = dPcv_aph_dtau.subs(Acv_bt,vcv_bt/(r_mag*gm*c*(1-bta*n_src_ob)))\n",
    "# dPcv_aph_dtau_sbbd = dPcv_aph_dtau_sbbd.subs(Acn_bt,vcn_bt/(r_mag*gm*c*(1-bta*n_src_ob)))\n",
    "#dPcv_aph_dtau_sbbd = dPcv_aph_dtau_sbbd.subs(vcv_aph*vcv_bt,gup_ab*c**2)\n",
    "\n",
    "# dPcv_aph_dtau_sbbd = dPcv_aph_dtau_sbbd.subs(rcv_rho**2*vcn_rho**2,(r_mag*gm*c*(1-bta*n_src_ob))**2)\n",
    "# dPcv_aph_dtau_sbbd = dPcv_aph_dtau_sbbd.subs(rcv_aph*rcn_bt,0)\n",
    "\n",
    "# dPcv_aph_dtau_sbbd = dPcv_aph_dtau_sbbd.subs(rcv_aph*vcv_bt,glw_ab*r_mag*gm*c*(1-bta*n_src_ob))\n",
    "# dPcv_aph_dtau_sbbd = dPcv_aph_dtau_sbbd.subs(rcn_aph*vcn_bt,gup_ab*r_mag*gm*c*(1-bta*n_src_ob))\n",
    "# dPcv_aph_dtau_sbbd = dPcv_aph_dtau_sbbd.subs(rcn_bt*vcn_aph,r_mag*gm*c*(1-bta*n_src_ob))\n",
    "# dPcv_aph_dtau_sbbd = dPcv_aph_dtau_sbbd.subs(rcv_bt*vcv_aph,r_mag*gm*c*(1-bta*n_src_ob))\n",
    "\n",
    "\n",
    "\n",
    "# dPcv_aph_dtau_sbbd = dPcv_aph_dtau_sbbd.subs(gup_ab*vcn_bt,vcv_aph)\n",
    "# dPcv_aph_dtau_sbbd = dPcv_aph_dtau_sbbd.subs(gup_ab*vcn_bt_ob,vcv_aph_ob)\n"
   ]
  },
  {
   "cell_type": "code",
   "execution_count": 763,
   "metadata": {},
   "outputs": [],
   "source": [
    "dPcv_aph_dtau_sbbd = re(dPcv_aph_dtau_sbbd)"
   ]
  },
  {
   "cell_type": "code",
   "execution_count": 764,
   "metadata": {},
   "outputs": [],
   "source": [
    "#From Jackson 14.12:\n",
    "dvdtau_0= c*gm**4*bta_dot_dbta\n",
    "dvdtau_3= c*gm**2*dbta+c*gm**4*bta*(bta_dot_dbta)\n",
    "\n",
    "v0 = gm*c\n",
    "v3 = gm*c*bta\n",
    "r0 = r_mag\n",
    "r3 = r_mag*n_src_ob"
   ]
  },
  {
   "cell_type": "code",
   "execution_count": 765,
   "metadata": {},
   "outputs": [],
   "source": [
    "dPcv_aph_dtau_0 = dPcv_aph_dtau_sbbd\n",
    "dPcv_aph_dtau_0 = dPcv_aph_dtau_0.subs(dvdtau,dvdtau_0)\n",
    "dPcv_aph_dtau_0 = dPcv_aph_dtau_0.subs(vcn_aph,v0)\n",
    "dPcv_aph_dtau_0 = dPcv_aph_dtau_0.subs(vcv_aph,v0)\n",
    "dPcv_aph_dtau_0 = dPcv_aph_dtau_0.subs(vcn_bt,v0)\n",
    "dPcv_aph_dtau_0 = dPcv_aph_dtau_0.subs(vcv_bt,v0)\n",
    "dPcv_aph_dtau_0 = dPcv_aph_dtau_0.subs(rcn_aph,r0)\n",
    "dPcv_aph_dtau_0 = dPcv_aph_dtau_0.subs(rcv_aph,r0)\n",
    "dPcv_aph_dtau_0 = dPcv_aph_dtau_0.subs(rcn_bt,r0)\n",
    "dPcv_aph_dtau_0 = dPcv_aph_dtau_0.subs(rcv_bt,r0)"
   ]
  },
  {
   "cell_type": "code",
   "execution_count": 766,
   "metadata": {
    "scrolled": true
   },
   "outputs": [
    {
     "data": {
      "text/latex": [
       "$\\displaystyle \\frac{g^{\\alpha \\beta} q q_{s} v_{\\beta -ob}}{K^{2} c} + \\frac{\\dot{V^\\beta} g_{\\alpha \\beta} q q_{s} v_{\\beta -ob}}{K^{3} c^{2}} - \\frac{g^{\\alpha \\beta} \\gamma q^{2} q_{s}^{2}}{K^{3} c^{2} m_{ob}} - \\frac{\\dot{V^\\beta} \\gamma q q_{s} v_{\\beta -ob} |\\tilde{r}|}{K^{4} c^{2}} - \\frac{\\dot{V^\\beta} g_{\\alpha \\beta} \\gamma q^{2} q_{s}^{2}}{K^{4} c^{3} m_{ob}} + \\frac{\\gamma q q_{s} v_{\\beta -ob}}{K^{4}} + \\frac{\\dot{V^\\beta} \\gamma^{2} q^{2} q_{s}^{2} |\\tilde{r}|}{K^{5} c^{3} m_{ob}} - \\frac{\\gamma^{2} q^{2} q_{s}^{2}}{K^{5} c m_{ob}}$"
      ],
      "text/plain": [
       "g^alpha^beta*q*q_s*v_beta_-ob/(K**2*c) + \\dot{V^\\beta}*g_alpha_beta*q*q_s*v_beta_-ob/(K**3*c**2) - g^alpha^beta*gamma*q**2*q_s**2/(K**3*c**2*m_{ob}) - \\dot{V^\\beta}*gamma*q*q_s*v_beta_-ob*|\\tilde{r}|/(K**4*c**2) - \\dot{V^\\beta}*g_alpha_beta*gamma*q**2*q_s**2/(K**4*c**3*m_{ob}) + gamma*q*q_s*v_beta_-ob/K**4 + \\dot{V^\\beta}*gamma**2*q**2*q_s**2*|\\tilde{r}|/(K**5*c**3*m_{ob}) - gamma**2*q**2*q_s**2/(K**5*c*m_{ob})"
      ]
     },
     "execution_count": 766,
     "metadata": {},
     "output_type": "execute_result"
    }
   ],
   "source": [
    "#convective scalar\n",
    "dPdtau0_conv = (dPcv_aph_dtau_0).subs(bta_dot_dbta,0)\n",
    "#(dPdtau0_conv.subs([[vcv_aph_ob,0],[vcn_bt_ob,0],[gup_ab,1],[glw_ab,1]]))\n",
    "dPdtau0_conv"
   ]
  },
  {
   "cell_type": "code",
   "execution_count": 767,
   "metadata": {},
   "outputs": [
    {
     "data": {
      "text/latex": [
       "$\\displaystyle \\frac{g^{\\alpha \\beta} q q_{s} v_{\\beta -ob}}{K^{2} c} + \\frac{\\dot{V^\\beta} g_{\\alpha \\beta} q q_{s} v_{\\beta -ob}}{K^{3} c^{2}} - \\frac{g^{\\alpha \\beta} \\gamma q^{2} q_{s}^{2}}{K^{3} c^{2} m_{ob}} - \\frac{\\dot{V^\\beta} \\gamma q q_{s} v_{\\beta -ob} |\\tilde{r}|}{K^{4} c^{2}} - \\frac{\\dot{V^\\beta} g_{\\alpha \\beta} \\gamma q^{2} q_{s}^{2}}{K^{4} c^{3} m_{ob}} + \\frac{\\gamma q q_{s} v_{\\beta -ob}}{K^{4}} + \\frac{\\dot{V^\\beta} \\gamma^{2} q^{2} q_{s}^{2} |\\tilde{r}|}{K^{5} c^{3} m_{ob}} - \\frac{\\gamma^{2} q^{2} q_{s}^{2}}{K^{5} c m_{ob}}$"
      ],
      "text/plain": [
       "g^alpha^beta*q*q_s*v_beta_-ob/(K**2*c) + \\dot{V^\\beta}*g_alpha_beta*q*q_s*v_beta_-ob/(K**3*c**2) - g^alpha^beta*gamma*q**2*q_s**2/(K**3*c**2*m_{ob}) - \\dot{V^\\beta}*gamma*q*q_s*v_beta_-ob*|\\tilde{r}|/(K**4*c**2) - \\dot{V^\\beta}*g_alpha_beta*gamma*q**2*q_s**2/(K**4*c**3*m_{ob}) + gamma*q*q_s*v_beta_-ob/K**4 + \\dot{V^\\beta}*gamma**2*q**2*q_s**2*|\\tilde{r}|/(K**5*c**3*m_{ob}) - gamma**2*q**2*q_s**2/(K**5*c*m_{ob})"
      ]
     },
     "execution_count": 767,
     "metadata": {},
     "output_type": "execute_result"
    }
   ],
   "source": [
    "#full scalar\n",
    "(dPcv_aph_dtau_0)"
   ]
  },
  {
   "cell_type": "code",
   "execution_count": 768,
   "metadata": {},
   "outputs": [
    {
     "data": {
      "text/latex": [
       "$\\displaystyle - \\frac{\\gamma q^{2} q_{s}^{2}}{K^{3} c^{2} m_{ob}} - \\frac{\\dot{V^\\beta} \\gamma q^{2} q_{s}^{2}}{K^{4} c^{3} m_{ob}} + \\frac{\\dot{V^\\beta} \\gamma^{2} q^{2} q_{s}^{2} |\\tilde{r}|}{K^{5} c^{3} m_{ob}} - \\frac{\\gamma^{2} q^{2} q_{s}^{2}}{K^{5} c m_{ob}}$"
      ],
      "text/plain": [
       "-gamma*q**2*q_s**2/(K**3*c**2*m_{ob}) - \\dot{V^\\beta}*gamma*q**2*q_s**2/(K**4*c**3*m_{ob}) + \\dot{V^\\beta}*gamma**2*q**2*q_s**2*|\\tilde{r}|/(K**5*c**3*m_{ob}) - gamma**2*q**2*q_s**2/(K**5*c*m_{ob})"
      ]
     },
     "execution_count": 768,
     "metadata": {},
     "output_type": "execute_result"
    }
   ],
   "source": [
    "#full scalar, objective rest frame\n",
    "dPdtau0 = (dPcv_aph_dtau_0).subs([[vcv_aph_ob,0],[vcn_bt_ob,0],[gup_ab,1],[glw_ab,1]])\n",
    "(dPdtau0).subs(1-bta*n_src_ob,K)"
   ]
  },
  {
   "cell_type": "code",
   "execution_count": 769,
   "metadata": {},
   "outputs": [],
   "source": [
    "dPcv_aph_dtau_3 = dPcv_aph_dtau_sbbd\n",
    "#dPcv_aph_dtau_3 = dPcv_aph_dtau_3.subs(dvdtau,dvdtau_3)\n",
    "# dPcv_aph_dtau_3 = dPcv_aph_dtau_3.subs(vcn_aph,v3)\n",
    "# dPcv_aph_dtau_3 = dPcv_aph_dtau_3.subs(vcv_aph,v3)\n",
    "#dPcv_aph_dtau_3 = dPcv_aph_dtau_3.subs(vcn_bt,v3)\n",
    "#dPcv_aph_dtau_3 = dPcv_aph_dtau_3.subs(vcv_bt,v3)\n",
    "#dPcv_aph_dtau_3 = dPcv_aph_dtau_3.subs(rcn_aph,r3)\n",
    "#dPcv_aph_dtau_3 = dPcv_aph_dtau_3.subs(rcv_aph,r3)\n",
    "#dPcv_aph_dtau_3 = dPcv_aph_dtau_3.subs(rcn_bt,r3)\n",
    "#dPcv_aph_dtau_3 = dPcv_aph_dtau_3.subs(rcv_bt,r3)"
   ]
  },
  {
   "cell_type": "code",
   "execution_count": 770,
   "metadata": {},
   "outputs": [],
   "source": [
    "#dPcv_aph_dtau_3 = dPcv_aph_dtau_3.subs(dvdtau,dvdtau_3)"
   ]
  },
  {
   "cell_type": "code",
   "execution_count": 778,
   "metadata": {},
   "outputs": [
    {
     "data": {
      "text/latex": [
       "$\\displaystyle - \\frac{g^{\\alpha \\beta} q^{2} q_{s}^{2} v_{\\beta}}{K^{3} c^{3} m_{ob}} - \\frac{\\dot{V^\\beta} g_{\\alpha \\beta} q^{2} q_{s}^{2} v_{\\beta}}{K^{4} c^{4} m_{ob}} + \\frac{\\dot{V^\\beta} \\tilde{r}_{\\beta} q^{2} q_{s}^{2} v^{\\alpha} v_{\\beta}}{K^{5} c^{5} m_{ob}} - \\frac{q^{2} q_{s}^{2} v^{\\alpha} v_{\\beta}}{K^{5} c^{3} m_{ob}}$"
      ],
      "text/plain": [
       "-g^alpha^beta*q**2*q_s**2*v_beta/(K**3*c**3*m_{ob}) - \\dot{V^\\beta}*g_alpha_beta*q**2*q_s**2*v_beta/(K**4*c**4*m_{ob}) + \\dot{V^\\beta}*\\tilde{r}_{\\beta}*q**2*q_s**2*v^alpha*v_beta/(K**5*c**5*m_{ob}) - q**2*q_s**2*v^alpha*v_beta/(K**5*c**3*m_{ob})"
      ]
     },
     "execution_count": 778,
     "metadata": {},
     "output_type": "execute_result"
    }
   ],
   "source": [
    "#full 3-vector\n",
    "dp3dtau3 = (dPcv_aph_dtau_3).subs( (1-bta*n_src_ob)*gm*r_mag,K)\n",
    "#dP3dtau3 = dP3dtau3.subs(rcv_aph,rcn_bt*gup_ba)\n",
    "#dP3dtau3 = dP3dtau3.subs(rcn_bt*gup_ab,rcv_aph)\n",
    "dP3dtau3"
   ]
  },
  {
   "cell_type": "code",
   "execution_count": 772,
   "metadata": {},
   "outputs": [
    {
     "data": {
      "text/latex": [
       "$\\displaystyle \\frac{g^{\\alpha \\beta} q q_{s} v_{\\beta -ob}}{K^{2} c} + \\frac{\\dot{V^\\beta} g_{\\alpha \\beta} q q_{s} v_{\\beta -ob}}{K^{3} c^{2}} - \\frac{g^{\\alpha \\beta} q^{2} q_{s}^{2} v_{\\beta}}{K^{3} c^{3} m_{ob}} - \\frac{\\dot{V^\\beta} \\tilde{r}_{\\beta} q q_{s} v^{\\alpha} v_{\\beta -ob}}{K^{4} c^{3}} - \\frac{\\dot{V^\\beta} g_{\\alpha \\beta} q^{2} q_{s}^{2} v_{\\beta}}{K^{4} c^{4} m_{ob}} + \\frac{q q_{s} v^{\\alpha} v_{\\beta -ob}}{K^{4} c} + \\frac{\\dot{V^\\beta} \\tilde{r}_{\\beta} q^{2} q_{s}^{2} v^{\\alpha} v_{\\beta}}{K^{5} c^{5} m_{ob}} - \\frac{q^{2} q_{s}^{2} v^{\\alpha} v_{\\beta}}{K^{5} c^{3} m_{ob}}$"
      ],
      "text/plain": [
       "g^alpha^beta*q*q_s*v_beta_-ob/(K**2*c) + \\dot{V^\\beta}*g_alpha_beta*q*q_s*v_beta_-ob/(K**3*c**2) - g^alpha^beta*q**2*q_s**2*v_beta/(K**3*c**3*m_{ob}) - \\dot{V^\\beta}*\\tilde{r}_{\\beta}*q*q_s*v^alpha*v_beta_-ob/(K**4*c**3) - \\dot{V^\\beta}*g_alpha_beta*q**2*q_s**2*v_beta/(K**4*c**4*m_{ob}) + q*q_s*v^alpha*v_beta_-ob/(K**4*c) + \\dot{V^\\beta}*\\tilde{r}_{\\beta}*q**2*q_s**2*v^alpha*v_beta/(K**5*c**5*m_{ob}) - q**2*q_s**2*v^alpha*v_beta/(K**5*c**3*m_{ob})"
      ]
     },
     "execution_count": 772,
     "metadata": {},
     "output_type": "execute_result"
    }
   ],
   "source": [
    "#convective 3-vector\n",
    "(dPcv_aph_dtau_3.subs([[bta_dot_dbta,0],[dbta,0]]))"
   ]
  },
  {
   "cell_type": "code",
   "execution_count": 773,
   "metadata": {},
   "outputs": [
    {
     "data": {
      "text/latex": [
       "$\\displaystyle - \\frac{g^{\\alpha \\beta} q^{2} q_{s}^{2} v_{\\beta}}{K^{3} c^{3} m_{ob}} - \\frac{\\dot{V^\\beta} g_{\\alpha \\beta} q^{2} q_{s}^{2} v_{\\beta}}{K^{4} c^{4} m_{ob}} + \\frac{\\dot{V^\\beta} \\tilde{r}_{\\beta} q^{2} q_{s}^{2} v^{\\alpha} v_{\\beta}}{K^{5} c^{5} m_{ob}} - \\frac{q^{2} q_{s}^{2} v^{\\alpha} v_{\\beta}}{K^{5} c^{3} m_{ob}}$"
      ],
      "text/plain": [
       "-g^alpha^beta*q**2*q_s**2*v_beta/(K**3*c**3*m_{ob}) - \\dot{V^\\beta}*g_alpha_beta*q**2*q_s**2*v_beta/(K**4*c**4*m_{ob}) + \\dot{V^\\beta}*\\tilde{r}_{\\beta}*q**2*q_s**2*v^alpha*v_beta/(K**5*c**5*m_{ob}) - q**2*q_s**2*v^alpha*v_beta/(K**5*c**3*m_{ob})"
      ]
     },
     "execution_count": 773,
     "metadata": {},
     "output_type": "execute_result"
    }
   ],
   "source": [
    "#3-vector, objective rest frame\n",
    "dP3dtau3 = (dPcv_aph_dtau_3).subs([[vcv_aph_ob,0],[vcn_bt_ob,0]])\n",
    "dP3dtau3 = dP3dtau3.subs( (1-bta*n_src_ob)*gm*r_mag,c*K)\n",
    "dP3dtau3 = dP3dtau3.subs( (1-bta*n_src_ob)*gm*r_mag,c*K)\n",
    "dP3dtau3 = dP3dtau3.subs(rcv_aph,rcn_bt*gup_ba)\n",
    "dP3dtau3 = dP3dtau3.subs(rcn_bt*gup_ab,rcv_aph)\n",
    "#dP3dtau3 = dP3dtau3.subs(gup_ab,1) #just to simplify K terms, this needs to be done by hand\n",
    "(dP3dtau3) #ALPHA is P's index)"
   ]
  },
  {
   "cell_type": "code",
   "execution_count": 774,
   "metadata": {},
   "outputs": [
    {
     "data": {
      "text/latex": [
       "$\\displaystyle - \\frac{q^{2} q_{s}^{2} v_{\\beta}}{K^{3} c^{3} m_{ob}} - \\frac{\\dot{V^\\beta} g_{\\alpha \\beta} q^{2} q_{s}^{2} v_{\\beta}}{K^{4} c^{4} m_{ob}} + \\frac{\\dot{V^\\beta} \\tilde{r}_{\\beta} \\gamma q^{2} q_{s}^{2} v_{\\beta}}{K^{5} c^{4} m_{ob}} - \\frac{\\gamma q^{2} q_{s}^{2} v_{\\beta}}{K^{5} c^{2} m_{ob}}$"
      ],
      "text/plain": [
       "-q**2*q_s**2*v_beta/(K**3*c**3*m_{ob}) - \\dot{V^\\beta}*g_alpha_beta*q**2*q_s**2*v_beta/(K**4*c**4*m_{ob}) + \\dot{V^\\beta}*\\tilde{r}_{\\beta}*gamma*q**2*q_s**2*v_beta/(K**5*c**4*m_{ob}) - gamma*q**2*q_s**2*v_beta/(K**5*c**2*m_{ob})"
      ]
     },
     "execution_count": 774,
     "metadata": {},
     "output_type": "execute_result"
    }
   ],
   "source": [
    "dPdtau0 = dP3dtau3.subs([[rcn_bt*gup_ab,rcv_aph],[rcv_aph,r0],[vcv_aph,v0],[rcn_bt*dvdtau,r_mag*dvdtau_0+r_mag*n_src_ob*dvdtau_3],[vcn_bt*dvdtau,v0*dvdtau_0+v3*dvdtau_3],[dvdtau,dvdtau_0+dvdtau_3],[gup_ab,1]])\n",
    "expand(dPdtau0)"
   ]
  },
  {
   "cell_type": "code",
   "execution_count": 775,
   "metadata": {},
   "outputs": [
    {
     "data": {
      "text/latex": [
       "$\\displaystyle \\frac{q^{2} q_{s}^{2} v_{\\beta} \\left(- K^{2} c - K \\dot{V^\\beta} g_{\\alpha \\beta} + \\dot{V^\\beta} \\tilde{r}_{\\beta} \\gamma - c^{2} \\gamma\\right)}{K^{5} c^{4} m_{ob}}$"
      ],
      "text/plain": [
       "q**2*q_s**2*v_beta*(-K**2*c - K*\\dot{V^\\beta}*g_alpha_beta + \\dot{V^\\beta}*\\tilde{r}_{\\beta}*gamma - c**2*gamma)/(K**5*c**4*m_{ob})"
      ]
     },
     "execution_count": 775,
     "metadata": {},
     "output_type": "execute_result"
    }
   ],
   "source": [
    "dPdtau0_conv= dPdtau0.subs([[bta_dot_dbta,bta*dbta],[dbta,0]])\n",
    "simplify(dPdtau0_conv)"
   ]
  },
  {
   "cell_type": "code",
   "execution_count": null,
   "metadata": {},
   "outputs": [],
   "source": []
  },
  {
   "cell_type": "code",
   "execution_count": 776,
   "metadata": {},
   "outputs": [
    {
     "data": {
      "text/latex": [
       "$\\displaystyle \\frac{q^{2} q_{s}^{2} v_{\\beta}}{K^{3} c^{3} m_{ob}} - \\frac{\\dot{V^\\beta} g_{\\alpha \\beta} q^{2} q_{s}^{2} v_{\\beta}}{K^{4} c^{4} m_{ob}} + \\frac{\\dot{V^\\beta} \\tilde{r}_{\\beta} \\vec{\\beta}_x \\gamma q^{2} q_{s}^{2} v_{\\beta}}{K^{5} c^{4} m_{ob}} - \\frac{\\vec{\\beta}_x \\gamma q^{2} q_{s}^{2} v_{\\beta}}{K^{5} c^{2} m_{ob}}$"
      ],
      "text/plain": [
       "q**2*q_s**2*v_beta/(K**3*c**3*m_{ob}) - \\dot{V^\\beta}*g_alpha_beta*q**2*q_s**2*v_beta/(K**4*c**4*m_{ob}) + \\dot{V^\\beta}*\\tilde{r}_{\\beta}*\\vec{\\beta}_x*gamma*q**2*q_s**2*v_beta/(K**5*c**4*m_{ob}) - \\vec{\\beta}_x*gamma*q**2*q_s**2*v_beta/(K**5*c**2*m_{ob})"
      ]
     },
     "execution_count": 776,
     "metadata": {},
     "output_type": "execute_result"
    }
   ],
   "source": [
    "dPdtaux = dP3dtau3.subs([[rcv_aph,r_mag*n_src_ob_x],[vcv_aph,bta_x*c*gm],[rcn_bt*dvdtau,r_mag*dvdtau_0+r_mag*n_src_ob*dvdtau_3],[vcn_bt*dvdtau,v0*dvdtau_0+v3*dvdtau_3],[dvdtau,dvdtau_0+dvdtau_3],[gup_ab,-1]])\n",
    "(dPdtaux)"
   ]
  },
  {
   "cell_type": "code",
   "execution_count": 777,
   "metadata": {},
   "outputs": [
    {
     "data": {
      "text/latex": [
       "$\\displaystyle \\frac{q^{2} q_{s}^{2} v_{\\beta}}{K^{3} c^{3} m_{ob}} - \\frac{\\dot{V^\\beta} g_{\\alpha \\beta} q^{2} q_{s}^{2} v_{\\beta}}{K^{4} c^{4} m_{ob}} + \\frac{\\dot{V^\\beta} \\tilde{r}_{\\beta} \\vec{\\beta}_x \\gamma q^{2} q_{s}^{2} v_{\\beta}}{K^{5} c^{4} m_{ob}} - \\frac{\\vec{\\beta}_x \\gamma q^{2} q_{s}^{2} v_{\\beta}}{K^{5} c^{2} m_{ob}}$"
      ],
      "text/plain": [
       "q**2*q_s**2*v_beta/(K**3*c**3*m_{ob}) - \\dot{V^\\beta}*g_alpha_beta*q**2*q_s**2*v_beta/(K**4*c**4*m_{ob}) + \\dot{V^\\beta}*\\tilde{r}_{\\beta}*\\vec{\\beta}_x*gamma*q**2*q_s**2*v_beta/(K**5*c**4*m_{ob}) - \\vec{\\beta}_x*gamma*q**2*q_s**2*v_beta/(K**5*c**2*m_{ob})"
      ]
     },
     "execution_count": 777,
     "metadata": {},
     "output_type": "execute_result"
    }
   ],
   "source": [
    "dPdtaux_conv= dPdtaux.subs([[bta_dot_dbta,0],[dbta,0]])\n",
    "(dPdtaux_conv)"
   ]
  },
  {
   "cell_type": "code",
   "execution_count": null,
   "metadata": {},
   "outputs": [],
   "source": []
  },
  {
   "cell_type": "code",
   "execution_count": null,
   "metadata": {},
   "outputs": [],
   "source": []
  },
  {
   "cell_type": "code",
   "execution_count": null,
   "metadata": {},
   "outputs": [],
   "source": []
  },
  {
   "cell_type": "code",
   "execution_count": null,
   "metadata": {},
   "outputs": [],
   "source": []
  },
  {
   "cell_type": "code",
   "execution_count": null,
   "metadata": {},
   "outputs": [],
   "source": []
  },
  {
   "cell_type": "code",
   "execution_count": null,
   "metadata": {},
   "outputs": [],
   "source": []
  },
  {
   "cell_type": "code",
   "execution_count": null,
   "metadata": {},
   "outputs": [],
   "source": []
  },
  {
   "cell_type": "code",
   "execution_count": null,
   "metadata": {},
   "outputs": [],
   "source": [
    "##seems like a kroenecker needed here on the r*\\nu terms in the numerators\n",
    "##which leads to"
   ]
  },
  {
   "cell_type": "code",
   "execution_count": null,
   "metadata": {},
   "outputs": [],
   "source": [
    "#dP3dtau3 = dP3dtau3.subs(rcv_aph*vcn_bt,-r_mag*c*gm*K)\n",
    "#dP3dtau3 = dP3dtau3.subs(rcn_bt*vcv_aph,-r_mag*c*gm*K)\n",
    "\n",
    "#middleman steps, maybe a typo\n",
    "#dP3dtau3 = dP3dtau3.subs(rcv_aph*vcn_bt,rcn_aph*del_ab*vcv_aph)\n",
    "#dP3dtau3 = dP3dtau3.subs(rcn_aph*vcv_aph*del_ab,-r_mag*c*gm*K)\n",
    "#dP3dtau3 = dP3dtau3.subs(rcv_aph,rcn_bt*gup_ba)\n",
    "\n",
    "dP3dtau3"
   ]
  },
  {
   "cell_type": "markdown",
   "metadata": {},
   "source": [
    "# take it by hand from here, extract metric tensor and simplify RHS of numerator, "
   ]
  },
  {
   "cell_type": "code",
   "execution_count": null,
   "metadata": {},
   "outputs": [],
   "source": []
  },
  {
   "cell_type": "code",
   "execution_count": null,
   "metadata": {},
   "outputs": [],
   "source": []
  },
  {
   "cell_type": "code",
   "execution_count": null,
   "metadata": {},
   "outputs": [],
   "source": []
  },
  {
   "cell_type": "code",
   "execution_count": null,
   "metadata": {},
   "outputs": [],
   "source": []
  },
  {
   "cell_type": "code",
   "execution_count": null,
   "metadata": {},
   "outputs": [],
   "source": []
  },
  {
   "cell_type": "code",
   "execution_count": null,
   "metadata": {},
   "outputs": [],
   "source": []
  },
  {
   "cell_type": "code",
   "execution_count": null,
   "metadata": {},
   "outputs": [],
   "source": []
  },
  {
   "cell_type": "code",
   "execution_count": null,
   "metadata": {},
   "outputs": [],
   "source": []
  },
  {
   "cell_type": "code",
   "execution_count": null,
   "metadata": {},
   "outputs": [],
   "source": []
  },
  {
   "cell_type": "code",
   "execution_count": null,
   "metadata": {},
   "outputs": [],
   "source": []
  }
 ],
 "metadata": {
  "kernelspec": {
   "display_name": "Python 3",
   "language": "python",
   "name": "python3"
  },
  "language_info": {
   "codemirror_mode": {
    "name": "ipython",
    "version": 3
   },
   "file_extension": ".py",
   "mimetype": "text/x-python",
   "name": "python",
   "nbconvert_exporter": "python",
   "pygments_lexer": "ipython3",
   "version": "3.7.9"
  }
 },
 "nbformat": 4,
 "nbformat_minor": 4
}
