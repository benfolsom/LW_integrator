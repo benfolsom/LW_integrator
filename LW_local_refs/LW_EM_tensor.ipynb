{
 "cells": [
  {
   "cell_type": "code",
   "execution_count": 27,
   "id": "gross-leonard",
   "metadata": {},
   "outputs": [
    {
     "data": {
      "text/plain": [
       "316.22776601683796"
      ]
     },
     "execution_count": 27,
     "metadata": {},
     "output_type": "execute_result"
    }
   ],
   "source": [
    "np.sqrt(100000)"
   ]
  },
  {
   "cell_type": "code",
   "execution_count": 9,
   "id": "distributed-valve",
   "metadata": {},
   "outputs": [],
   "source": [
    "%config Completer.use_jedi = False  #fixing an autocomplete bug in my jupyter, you might not want this\n",
    "import sympy as sp\n",
    "from sympy import *  # oops lazy, sorry"
   ]
  },
  {
   "cell_type": "code",
   "execution_count": 10,
   "id": "blocked-documentary",
   "metadata": {},
   "outputs": [],
   "source": [
    "Pcv_aph = sp.symbols(\"P^alpha\", real=True)\n",
    "Pcn_aph = sp.symbols(\"P_alpha\", real=True)\n",
    "Acv_aph = sp.symbols(\"A^alpha\", real=True)\n",
    "Acn_aph = sp.symbols(\"A_alpha\", real=True)\n",
    "vcv_aph = sp.symbols(\"v^alpha\", real=True)\n",
    "vcn_aph = sp.symbols(\"v_alpha\", real=True)\n",
    "rcn_aph = sp.symbols(r\"\\tilde{r}_{\\alpha}\", real=True)\n",
    "rcv_aph = sp.symbols(r\"\\tilde{r}^{\\alpha}\", real=True)\n",
    "\n",
    "Pcv_bt = sp.symbols(\"P^beta\", real=True)\n",
    "Pcn_bt = sp.symbols(\"P_beta\", real=True)\n",
    "Acv_bt = sp.symbols(\"A^beta\", real=True)\n",
    "Acn_bt = sp.symbols(\"A_beta\", real=True)\n",
    "vcv_bt = sp.symbols(\"v^beta\", real=True)\n",
    "vcn_bt = sp.symbols(\"v_beta\", real=True)\n",
    "rcn_bt = sp.symbols(r\"\\tilde{r}_{\\beta}\", real=True)\n",
    "rcv_bt = sp.symbols(r\"\\tilde{r}^{\\beta}\", real=True)\n",
    "\n",
    "rcn_rho = sp.symbols(r\"\\tilde{r}_{\\rho}\", real=True)\n",
    "rcv_rho = sp.symbols(r\"\\tilde{r}^{\\rho}\", real=True)\n",
    "vcn_rho = sp.symbols(\"v_rho\", real=True)\n",
    "vcv_rho = sp.symbols(\"v^rho\", real=True)\n",
    "gup_ab = sp.symbols(\"g^alpha^beta\", real=True)\n",
    "glw_ab = sp.symbols(\"g_alpha_beta\", real=True)\n",
    "gup_ba = sp.symbols(\"g^beta^alpha\", real=True)\n",
    "glw_ba = sp.symbols(\"g_beta_alpha\", real=True)\n",
    "\n",
    "q = sp.symbols(\"q\", real=True, positive=True)\n",
    "c = sp.symbols(\"c\", real=True, positive=True)\n",
    "gm = sp.symbols(\"gamma\", real=True, positive=True)\n",
    "bta = sp.symbols(r\"\\vec{\\beta}\", real=True, positive=True)\n",
    "dbta = sp.symbols(r\"\\dot{\\vec{\\beta}}\", real=True, positive=True)\n",
    "bta_dot_dbta = sp.symbols(\n",
    "    r\"\\vec{\\beta}\\cdot\\dot{\\vec{\\beta}}\", real=True, positive=True\n",
    ")\n",
    "dv_bt_dtau = sp.symbols(r\"\\frac{dv^\\beta}{d\\tau}\", real=True, positive=True)\n",
    "dv_aph_dtau = sp.symbols(r\"\\frac{dv^\\alpha}{d\\tau}\", real=True, positive=True)\n",
    "tau = sp.symbols(\"tau\", real=True)\n",
    "r_v_rho = rcv_rho * vcn_rho\n",
    "r_mag = sp.symbols(r\"|\\tilde{r}|\")  # same as jackson's |R|\n",
    "n_src_ob = sp.symbols(r\"|\\hat{n}|\")  # same as jackson's |R|\n",
    "\n",
    "# ONLY FOR OBJECTIVE\n",
    "s_vec = sp.symbols(r\"\\vec{s}\", real=True)  # spin vector\n",
    "m_ob = sp.symbols(\"m_{ob}\", real=True, positive=True)\n",
    "gm_ob = sp.symbols(r\"\\gamma_{ob}\", real=True)\n",
    "vcn_bt_ob = sp.symbols(\"v_beta_-ob\", real=True)\n",
    "vcv_bt_ob = sp.symbols(\"v^beta^-ob\", real=True)\n",
    "vcv_aph_ob = sp.symbols(\"v^alpha^-ob\", real=True)\n",
    "vcn_aph_ob = sp.symbols(\"v_alpha_-ob\", real=True)"
   ]
  },
  {
   "cell_type": "code",
   "execution_count": 20,
   "id": "coastal-carpet",
   "metadata": {},
   "outputs": [],
   "source": [
    "dcv_aph_Acv_bt = (\n",
    "    vcv_aph / (rcv_rho * vcn_rho) * Acv_bt - rcv_aph / (rcn_rho * vcv_rho)\n",
    ") * sp.Derivative(Acv_bt, tau)\n",
    "dcv_bt_Acv_aph = (\n",
    "    vcv_bt / (rcv_rho * vcn_rho) * Acv_aph - rcv_bt / (rcn_rho * vcv_rho)\n",
    ") * sp.Derivative(Acv_aph, tau)\n",
    "Fcv_aph_bt = dcv_aph_Acv_bt - dcv_bt_Acv_aph"
   ]
  },
  {
   "cell_type": "code",
   "execution_count": 21,
   "id": "streaming-award",
   "metadata": {},
   "outputs": [
    {
     "data": {
      "text/latex": [
       "$\\displaystyle - \\frac{A^{\\alpha} v^{\\beta} \\frac{d}{d \\tau} A^{\\alpha}}{\\tilde{r}^{\\rho} v_{\\rho}} + \\frac{A^{\\beta} v^{\\alpha} \\frac{d}{d \\tau} A^{\\beta}}{\\tilde{r}^{\\rho} v_{\\rho}} - \\frac{\\tilde{r}^{\\alpha} \\frac{d}{d \\tau} A^{\\beta}}{\\tilde{r}_{\\rho} v^{\\rho}} + \\frac{\\tilde{r}^{\\beta} \\frac{d}{d \\tau} A^{\\alpha}}{\\tilde{r}_{\\rho} v^{\\rho}}$"
      ],
      "text/plain": [
       "-A^alpha*v^beta*Derivative(A^alpha, tau)/(\\tilde{r}^{\\rho}*v_rho) + A^beta*v^alpha*Derivative(A^beta, tau)/(\\tilde{r}^{\\rho}*v_rho) - \\tilde{r}^{\\alpha}*Derivative(A^beta, tau)/(\\tilde{r}_{\\rho}*v^rho) + \\tilde{r}^{\\beta}*Derivative(A^alpha, tau)/(\\tilde{r}_{\\rho}*v^rho)"
      ]
     },
     "execution_count": 21,
     "metadata": {},
     "output_type": "execute_result"
    }
   ],
   "source": [
    "expand(Fcv_aph_bt)"
   ]
  },
  {
   "cell_type": "code",
   "execution_count": 22,
   "id": "adaptive-forward",
   "metadata": {},
   "outputs": [],
   "source": [
    "dA_bt_dtau = dv_bt_dtau * 1 / r_v_rho - vcv_bt / r_v_rho**2 * (\n",
    "    -(c**2) + rcn_bt * dv_bt_dtau\n",
    ")\n",
    "dA_aph_dtau = dv_aph_dtau * 1 / r_v_rho - vcv_aph / r_v_rho**2 * (\n",
    "    -(c**2) + rcn_aph * dv_aph_dtau\n",
    ")"
   ]
  },
  {
   "cell_type": "code",
   "execution_count": 23,
   "id": "developing-timing",
   "metadata": {},
   "outputs": [
    {
     "data": {
      "text/latex": [
       "$\\displaystyle \\frac{\\frac{dv^\\beta}{d\\tau}}{\\tilde{r}^{\\rho} v_{\\rho}} - \\frac{v^{\\beta} \\left(\\frac{dv^\\beta}{d\\tau} \\tilde{r}_{\\beta} - c^{2}\\right)}{\\left(\\tilde{r}^{\\rho}\\right)^{2} v_{\\rho}^{2}}$"
      ],
      "text/plain": [
       "\\frac{dv^\\beta}{d\\tau}/(\\tilde{r}^{\\rho}*v_rho) - v^beta*(\\frac{dv^\\beta}{d\\tau}*\\tilde{r}_{\\beta} - c**2)/(\\tilde{r}^{\\rho}**2*v_rho**2)"
      ]
     },
     "execution_count": 23,
     "metadata": {},
     "output_type": "execute_result"
    }
   ],
   "source": [
    "dA_bt_dtau"
   ]
  },
  {
   "cell_type": "code",
   "execution_count": 24,
   "id": "annual-eclipse",
   "metadata": {},
   "outputs": [
    {
     "data": {
      "text/latex": [
       "$\\displaystyle \\frac{d}{d \\tau} A^{\\beta}$"
      ],
      "text/plain": [
       "Derivative(A^beta, tau)"
      ]
     },
     "execution_count": 24,
     "metadata": {},
     "output_type": "execute_result"
    }
   ],
   "source": [
    "sp.Derivative(Acv_bt, tau)"
   ]
  },
  {
   "cell_type": "code",
   "execution_count": 25,
   "id": "periodic-desperate",
   "metadata": {},
   "outputs": [
    {
     "data": {
      "text/latex": [
       "$\\displaystyle - \\frac{c^{2} v^{\\alpha} \\left(\\frac{A^{\\alpha} v^{\\beta}}{\\tilde{r}^{\\rho} v_{\\rho}} - \\frac{\\tilde{r}^{\\beta}}{\\tilde{r}_{\\rho} v^{\\rho}}\\right)}{\\left(\\tilde{r}^{\\rho}\\right)^{2} v_{\\rho}^{2}} + \\frac{c^{2} v^{\\beta} \\left(\\frac{A^{\\beta} v^{\\alpha}}{\\tilde{r}^{\\rho} v_{\\rho}} - \\frac{\\tilde{r}^{\\alpha}}{\\tilde{r}_{\\rho} v^{\\rho}}\\right)}{\\left(\\tilde{r}^{\\rho}\\right)^{2} v_{\\rho}^{2}}$"
      ],
      "text/plain": [
       "-c**2*v^alpha*(A^alpha*v^beta/(\\tilde{r}^{\\rho}*v_rho) - \\tilde{r}^{\\beta}/(\\tilde{r}_{\\rho}*v^rho))/(\\tilde{r}^{\\rho}**2*v_rho**2) + c**2*v^beta*(A^beta*v^alpha/(\\tilde{r}^{\\rho}*v_rho) - \\tilde{r}^{\\alpha}/(\\tilde{r}_{\\rho}*v^rho))/(\\tilde{r}^{\\rho}**2*v_rho**2)"
      ]
     },
     "execution_count": 25,
     "metadata": {},
     "output_type": "execute_result"
    }
   ],
   "source": [
    "Fcv_sbbd = Fcv_aph_bt.subs(\n",
    "    [\n",
    "        [sp.Derivative(Acv_bt, tau), dA_bt_dtau],\n",
    "        [sp.Derivative(Acv_aph, tau), dA_aph_dtau],\n",
    "    ]\n",
    ")\n",
    "(Fcv_sbbd.subs([[dv_aph_dtau, 0], [dv_bt_dtau, 0]]))"
   ]
  },
  {
   "cell_type": "code",
   "execution_count": 60,
   "id": "joint-mapping",
   "metadata": {},
   "outputs": [
    {
     "data": {
      "text/latex": [
       "$\\displaystyle \\frac{c \\gamma v^{\\beta} \\left(- \\vec{\\beta} |\\hat{n}| + 1\\right)}{|\\tilde{r}|}$"
      ],
      "text/plain": [
       "c*gamma*v^beta*(-\\vec{\\beta}*|\\hat{n}| + 1)/|\\tilde{r}|"
      ]
     },
     "execution_count": 60,
     "metadata": {},
     "output_type": "execute_result"
    }
   ],
   "source": [
    "vcv_bt / r_mag * gm * c * (1 - bta * n_src_ob)"
   ]
  },
  {
   "cell_type": "code",
   "execution_count": 61,
   "id": "arranged-kitty",
   "metadata": {},
   "outputs": [],
   "source": [
    "# shotgun approach to getting all the r*v terms simplified\n",
    "Fcv_sbbd2 = Fcv_sbbd\n",
    "Fcv_sbbd2 = Fcv_sbbd.subs(Acv_bt, vcv_bt / (r_mag * gm * c * (1 - bta * n_src_ob)))\n",
    "Fcv_sbbd2 = Fcv_sbbd2.subs(Acv_aph, vcv_aph / (r_mag * gm * c * (1 - bta * n_src_ob)))\n",
    "Fcv_sbbd2 = Fcv_sbbd2.subs(vcv_aph * vcv_bt, gup_ab * c**2)\n",
    "Fcv_sbbd2 = Fcv_sbbd2.subs(\n",
    "    rcv_rho**2 * vcn_rho**2, (r_mag * gm * c * (1 - bta * n_src_ob)) ** 2\n",
    ")\n",
    "Fcv_sbbd2 = Fcv_sbbd2.subs(rcv_rho * vcn_rho, r_mag * gm * c * (1 - bta * n_src_ob))\n",
    "Fcv_sbbd2 = Fcv_sbbd2.subs(rcn_rho * vcv_rho, r_mag * gm * c * (1 - bta * n_src_ob))\n",
    "Fcv_sbbd2 = Fcv_sbbd2.subs(\n",
    "    rcn_aph * vcv_bt, glw_ab * r_mag * gm * c * (1 - bta * n_src_ob)\n",
    ")\n",
    "Fcv_sbbd2 = Fcv_sbbd2.subs(\n",
    "    rcv_aph * vcv_bt, gup_ab * r_mag * gm * c * (1 - bta * n_src_ob)\n",
    ")\n",
    "Fcv_sbbd2 = Fcv_sbbd2.subs(vcn_bt * vcv_bt, c**2)\n",
    "Fcv_sbbd2 = Fcv_sbbd2.subs(gup_ab * vcn_bt, vcv_aph)\n",
    "Fcv_sbbd2 = Fcv_sbbd2.subs(gup_ab * vcn_bt_ob, vcv_aph_ob)"
   ]
  },
  {
   "cell_type": "code",
   "execution_count": 111,
   "id": "lovely-connection",
   "metadata": {},
   "outputs": [],
   "source": [
    "dvdtau_0 = c * gm**4 * bta_dot_dbta\n",
    "dvdtau_3 = c * gm**2 * dbta + c * gm**4 * bta * (bta_dot_dbta)\n",
    "\n",
    "v0 = gm * c\n",
    "v3 = gm * c * bta\n",
    "r0 = r_mag\n",
    "r3 = r_mag * n_src_ob"
   ]
  },
  {
   "cell_type": "code",
   "execution_count": 189,
   "id": "angry-dictionary",
   "metadata": {},
   "outputs": [],
   "source": [
    "# are these dvdtaus coming from Jackson or Bordovitsyn, need to check."
   ]
  },
  {
   "cell_type": "code",
   "execution_count": 220,
   "id": "spare-september",
   "metadata": {},
   "outputs": [
    {
     "data": {
      "text/latex": [
       "$\\displaystyle \\vec{\\beta}\\cdot\\dot{\\vec{\\beta}} c \\gamma^{4}$"
      ],
      "text/plain": [
       "\\vec{\\beta}\\cdot\\dot{\\vec{\\beta}}*c*gamma**4"
      ]
     },
     "execution_count": 220,
     "metadata": {},
     "output_type": "execute_result"
    }
   ],
   "source": [
    "dvdtau_0"
   ]
  },
  {
   "cell_type": "code",
   "execution_count": 113,
   "id": "british-cradle",
   "metadata": {},
   "outputs": [
    {
     "data": {
      "text/latex": [
       "$\\displaystyle - \\left(\\frac{\\frac{dv^\\alpha}{d\\tau}}{c \\gamma |\\tilde{r}| \\left(- \\vec{\\beta} |\\hat{n}| + 1\\right)} - \\frac{v^{\\alpha} \\left(\\frac{dv^\\alpha}{d\\tau} \\tilde{r}_{\\alpha} - c^{2}\\right)}{c^{2} \\gamma^{2} |\\tilde{r}|^{2} \\left(- \\vec{\\beta} |\\hat{n}| + 1\\right)^{2}}\\right) \\left(- \\frac{\\tilde{r}^{\\beta}}{c \\gamma |\\tilde{r}| \\left(- \\vec{\\beta} |\\hat{n}| + 1\\right)} + \\frac{g^{\\alpha \\beta}}{\\gamma^{2} |\\tilde{r}|^{2} \\left(- \\vec{\\beta} |\\hat{n}| + 1\\right)^{2}}\\right) + \\left(\\frac{\\frac{dv^\\beta}{d\\tau}}{c \\gamma |\\tilde{r}| \\left(- \\vec{\\beta} |\\hat{n}| + 1\\right)} - \\frac{v^{\\beta} \\left(\\frac{dv^\\beta}{d\\tau} \\tilde{r}_{\\beta} - c^{2}\\right)}{c^{2} \\gamma^{2} |\\tilde{r}|^{2} \\left(- \\vec{\\beta} |\\hat{n}| + 1\\right)^{2}}\\right) \\left(- \\frac{\\tilde{r}^{\\alpha}}{c \\gamma |\\tilde{r}| \\left(- \\vec{\\beta} |\\hat{n}| + 1\\right)} + \\frac{g^{\\alpha \\beta}}{\\gamma^{2} |\\tilde{r}|^{2} \\left(- \\vec{\\beta} |\\hat{n}| + 1\\right)^{2}}\\right)$"
      ],
      "text/plain": [
       "-(\\frac{dv^\\alpha}{d\\tau}/(c*gamma*|\\tilde{r}|*(-\\vec{\\beta}*|\\hat{n}| + 1)) - v^alpha*(\\frac{dv^\\alpha}{d\\tau}*\\tilde{r}_{\\alpha} - c**2)/(c**2*gamma**2*|\\tilde{r}|**2*(-\\vec{\\beta}*|\\hat{n}| + 1)**2))*(-\\tilde{r}^{\\beta}/(c*gamma*|\\tilde{r}|*(-\\vec{\\beta}*|\\hat{n}| + 1)) + g^alpha^beta/(gamma**2*|\\tilde{r}|**2*(-\\vec{\\beta}*|\\hat{n}| + 1)**2)) + (\\frac{dv^\\beta}{d\\tau}/(c*gamma*|\\tilde{r}|*(-\\vec{\\beta}*|\\hat{n}| + 1)) - v^beta*(\\frac{dv^\\beta}{d\\tau}*\\tilde{r}_{\\beta} - c**2)/(c**2*gamma**2*|\\tilde{r}|**2*(-\\vec{\\beta}*|\\hat{n}| + 1)**2))*(-\\tilde{r}^{\\alpha}/(c*gamma*|\\tilde{r}|*(-\\vec{\\beta}*|\\hat{n}| + 1)) + g^alpha^beta/(gamma**2*|\\tilde{r}|**2*(-\\vec{\\beta}*|\\hat{n}| + 1)**2))"
      ]
     },
     "execution_count": 113,
     "metadata": {},
     "output_type": "execute_result"
    }
   ],
   "source": [
    "Fcv_sbbd2"
   ]
  },
  {
   "cell_type": "code",
   "execution_count": 194,
   "id": "tough-fight",
   "metadata": {},
   "outputs": [],
   "source": [
    "Fcv_sbbd0 = Fcv_sbbd2\n",
    "Fcv_sbbd0 = Fcv_sbbd0.subs(dv_bt_dtau, dvdtau_0)\n",
    "Fcv_sbbd0 = Fcv_sbbd0.subs(dv_aph_dtau, dvdtau_0)\n",
    "Fcv_sbbd0 = Fcv_sbbd0.subs(vcn_aph, v0)\n",
    "Fcv_sbbd0 = Fcv_sbbd0.subs(vcv_aph, v0)\n",
    "Fcv_sbbd0 = Fcv_sbbd0.subs(vcn_bt, v0)\n",
    "Fcv_sbbd0 = Fcv_sbbd0.subs(vcv_bt, v0)\n",
    "Fcv_sbbd0 = Fcv_sbbd0.subs(gup_ab, 1)\n",
    "Fcv_sbbd0 = Fcv_sbbd0.subs(gup_ba, 1)\n",
    "Fcv_sbbd0 = Fcv_sbbd0.subs(rcn_aph, r0)\n",
    "Fcv_sbbd0 = Fcv_sbbd0.subs(rcv_bt, r0)\n",
    "Fcv_sbbd0 = Fcv_sbbd0.subs(rcn_bt, r0)\n",
    "Fcv_sbbd0 = Fcv_sbbd0.subs(rcv_aph, r0)"
   ]
  },
  {
   "cell_type": "code",
   "execution_count": 195,
   "id": "postal-cookie",
   "metadata": {},
   "outputs": [
    {
     "data": {
      "text/latex": [
       "$\\displaystyle 0$"
      ],
      "text/plain": [
       "0"
      ]
     },
     "execution_count": 195,
     "metadata": {},
     "output_type": "execute_result"
    }
   ],
   "source": [
    "simplify(Fcv_sbbd0)"
   ]
  },
  {
   "cell_type": "markdown",
   "id": "studied-imperial",
   "metadata": {},
   "source": [
    "### EM tensor for covariant LW fields appears to be zero for scalar component, good. "
   ]
  },
  {
   "cell_type": "code",
   "execution_count": 208,
   "id": "awful-supply",
   "metadata": {},
   "outputs": [],
   "source": [
    "###note for Monday, need index-specific betas to continue"
   ]
  },
  {
   "cell_type": "code",
   "execution_count": 216,
   "id": "liable-contract",
   "metadata": {},
   "outputs": [],
   "source": [
    "Fcv_sbbd3 = Fcv_sbbd2\n",
    "# Fcv_sbbd3 = Fcv_sbbd3.subs(dv_bt_dtau,dvdtau_3)\n",
    "# Fcv_sbbd3 = Fcv_sbbd3.subs(dv_aph_dtau,dvdtau_3)\n",
    "# Fcv_sbbd3 = Fcv_sbbd3.subs(vcn_aph,v3)\n",
    "# Fcv_sbbd3 = Fcv_sbbd3.subs(vcv_aph,v3)\n",
    "# Fcv_sbbd3 = Fcv_sbbd3.subs(vcn_bt,v3)\n",
    "# Fcv_sbbd3 = Fcv_sbbd3.subs(vcv_bt,v3)\n",
    "# Fcv_sbbd3 = Fcv_sbbd3.subs(rcn_aph,r3)\n",
    "# Fcv_sbbd3 = Fcv_sbbd3.subs(gup_ab,-1)\n",
    "# Fcv_sbbd3 = Fcv_sbbd3.subs(gup_ba,-1)\n",
    "# Fcv_sbbd3 = Fcv_sbbd3.subs(glw_ab,-1)\n",
    "# Fcv_sbbd3 = Fcv_sbbd3.subs(rcv_bt,r3)\n",
    "# Fcv_sbbd3 = Fcv_sbbd3.subs(rcn_bt,r3)\n",
    "# Fcv_sbbd3 = Fcv_sbbd3.subs(rcv_aph,r3)"
   ]
  },
  {
   "cell_type": "code",
   "execution_count": 219,
   "id": "turkish-button",
   "metadata": {},
   "outputs": [
    {
     "data": {
      "text/latex": [
       "$\\displaystyle - \\left(\\frac{\\frac{dv^\\alpha}{d\\tau}}{c \\gamma |\\tilde{r}| \\left(- \\vec{\\beta} |\\hat{n}| + 1\\right)} - \\frac{v^{\\alpha} \\left(\\frac{dv^\\alpha}{d\\tau} \\tilde{r}_{\\alpha} - c^{2}\\right)}{c^{2} \\gamma^{2} |\\tilde{r}|^{2} \\left(- \\vec{\\beta} |\\hat{n}| + 1\\right)^{2}}\\right) \\left(- \\frac{\\tilde{r}^{\\beta}}{c \\gamma |\\tilde{r}| \\left(- \\vec{\\beta} |\\hat{n}| + 1\\right)} + \\frac{g^{\\alpha \\beta}}{\\gamma^{2} |\\tilde{r}|^{2} \\left(- \\vec{\\beta} |\\hat{n}| + 1\\right)^{2}}\\right) + \\left(\\frac{\\frac{dv^\\beta}{d\\tau}}{c \\gamma |\\tilde{r}| \\left(- \\vec{\\beta} |\\hat{n}| + 1\\right)} - \\frac{v^{\\beta} \\left(\\frac{dv^\\beta}{d\\tau} \\tilde{r}_{\\beta} - c^{2}\\right)}{c^{2} \\gamma^{2} |\\tilde{r}|^{2} \\left(- \\vec{\\beta} |\\hat{n}| + 1\\right)^{2}}\\right) \\left(- \\frac{\\tilde{r}^{\\alpha}}{c \\gamma |\\tilde{r}| \\left(- \\vec{\\beta} |\\hat{n}| + 1\\right)} + \\frac{g^{\\alpha \\beta}}{\\gamma^{2} |\\tilde{r}|^{2} \\left(- \\vec{\\beta} |\\hat{n}| + 1\\right)^{2}}\\right)$"
      ],
      "text/plain": [
       "-(\\frac{dv^\\alpha}{d\\tau}/(c*gamma*|\\tilde{r}|*(-\\vec{\\beta}*|\\hat{n}| + 1)) - v^alpha*(\\frac{dv^\\alpha}{d\\tau}*\\tilde{r}_{\\alpha} - c**2)/(c**2*gamma**2*|\\tilde{r}|**2*(-\\vec{\\beta}*|\\hat{n}| + 1)**2))*(-\\tilde{r}^{\\beta}/(c*gamma*|\\tilde{r}|*(-\\vec{\\beta}*|\\hat{n}| + 1)) + g^alpha^beta/(gamma**2*|\\tilde{r}|**2*(-\\vec{\\beta}*|\\hat{n}| + 1)**2)) + (\\frac{dv^\\beta}{d\\tau}/(c*gamma*|\\tilde{r}|*(-\\vec{\\beta}*|\\hat{n}| + 1)) - v^beta*(\\frac{dv^\\beta}{d\\tau}*\\tilde{r}_{\\beta} - c**2)/(c**2*gamma**2*|\\tilde{r}|**2*(-\\vec{\\beta}*|\\hat{n}| + 1)**2))*(-\\tilde{r}^{\\alpha}/(c*gamma*|\\tilde{r}|*(-\\vec{\\beta}*|\\hat{n}| + 1)) + g^alpha^beta/(gamma**2*|\\tilde{r}|**2*(-\\vec{\\beta}*|\\hat{n}| + 1)**2))"
      ]
     },
     "execution_count": 219,
     "metadata": {},
     "output_type": "execute_result"
    }
   ],
   "source": [
    "(Fcv_sbbd3)"
   ]
  },
  {
   "cell_type": "code",
   "execution_count": 218,
   "id": "functioning-manitoba",
   "metadata": {},
   "outputs": [
    {
     "data": {
      "text/latex": [
       "$\\displaystyle \\frac{- \\left(\\tilde{r}^{\\alpha} \\gamma |\\tilde{r}| \\left(\\vec{\\beta} |\\hat{n}| - 1\\right) + c g^{\\alpha \\beta}\\right) \\left(\\frac{dv^\\beta}{d\\tau} c \\gamma |\\tilde{r}| \\left(\\vec{\\beta} |\\hat{n}| - 1\\right) + v^{\\beta} \\left(\\frac{dv^\\beta}{d\\tau} \\tilde{r}_{\\beta} - c^{2}\\right)\\right) + \\left(\\tilde{r}^{\\beta} \\gamma |\\tilde{r}| \\left(\\vec{\\beta} |\\hat{n}| - 1\\right) + c g^{\\alpha \\beta}\\right) \\left(\\frac{dv^\\alpha}{d\\tau} c \\gamma |\\tilde{r}| \\left(\\vec{\\beta} |\\hat{n}| - 1\\right) + v^{\\alpha} \\left(\\frac{dv^\\alpha}{d\\tau} \\tilde{r}_{\\alpha} - c^{2}\\right)\\right)}{c^{3} \\gamma^{4} |\\tilde{r}|^{4} \\left(\\vec{\\beta} |\\hat{n}| - 1\\right)^{4}}$"
      ],
      "text/plain": [
       "(-(\\tilde{r}^{\\alpha}*gamma*|\\tilde{r}|*(\\vec{\\beta}*|\\hat{n}| - 1) + c*g^alpha^beta)*(\\frac{dv^\\beta}{d\\tau}*c*gamma*|\\tilde{r}|*(\\vec{\\beta}*|\\hat{n}| - 1) + v^beta*(\\frac{dv^\\beta}{d\\tau}*\\tilde{r}_{\\beta} - c**2)) + (\\tilde{r}^{\\beta}*gamma*|\\tilde{r}|*(\\vec{\\beta}*|\\hat{n}| - 1) + c*g^alpha^beta)*(\\frac{dv^\\alpha}{d\\tau}*c*gamma*|\\tilde{r}|*(\\vec{\\beta}*|\\hat{n}| - 1) + v^alpha*(\\frac{dv^\\alpha}{d\\tau}*\\tilde{r}_{\\alpha} - c**2)))/(c**3*gamma**4*|\\tilde{r}|**4*(\\vec{\\beta}*|\\hat{n}| - 1)**4)"
      ]
     },
     "execution_count": 218,
     "metadata": {},
     "output_type": "execute_result"
    }
   ],
   "source": [
    "simplify(Fcv_sbbd3)"
   ]
  },
  {
   "cell_type": "code",
   "execution_count": 204,
   "id": "dirty-scotland",
   "metadata": {},
   "outputs": [
    {
     "data": {
      "text/latex": [
       "$\\displaystyle |\\hat{n}| |\\tilde{r}|$"
      ],
      "text/plain": [
       "|\\hat{n}|*|\\tilde{r}|"
      ]
     },
     "execution_count": 204,
     "metadata": {},
     "output_type": "execute_result"
    }
   ],
   "source": [
    "r3"
   ]
  },
  {
   "cell_type": "code",
   "execution_count": 67,
   "id": "tender-ivory",
   "metadata": {},
   "outputs": [
    {
     "data": {
      "text/latex": [
       "$\\displaystyle \\frac{\\frac{dv^\\alpha}{d\\tau}}{\\tilde{r}^{\\rho} v_{\\rho}} - \\frac{v^{\\alpha} \\left(\\frac{dv^\\alpha}{d\\tau} \\tilde{r}_{\\alpha} - c^{2}\\right)}{\\left(\\tilde{r}^{\\rho}\\right)^{2} v_{\\rho}^{2}}$"
      ],
      "text/plain": [
       "\\frac{dv^\\alpha}{d\\tau}/(\\tilde{r}^{\\rho}*v_rho) - v^alpha*(\\frac{dv^\\alpha}{d\\tau}*\\tilde{r}_{\\alpha} - c**2)/(\\tilde{r}^{\\rho}**2*v_rho**2)"
      ]
     },
     "execution_count": 67,
     "metadata": {},
     "output_type": "execute_result"
    }
   ],
   "source": [
    "dA_aph_dtau"
   ]
  },
  {
   "cell_type": "code",
   "execution_count": null,
   "id": "russian-planet",
   "metadata": {},
   "outputs": [],
   "source": [
    "# we SHOULD BE getting Jackson 14.15"
   ]
  },
  {
   "cell_type": "code",
   "execution_count": null,
   "id": "average-flashing",
   "metadata": {},
   "outputs": [],
   "source": []
  }
 ],
 "metadata": {
  "kernelspec": {
   "display_name": "Python 3",
   "language": "python",
   "name": "python3"
  },
  "language_info": {
   "codemirror_mode": {
    "name": "ipython",
    "version": 3
   },
   "file_extension": ".py",
   "mimetype": "text/x-python",
   "name": "python",
   "nbconvert_exporter": "python",
   "pygments_lexer": "ipython3",
   "version": "3.7.9"
  }
 },
 "nbformat": 4,
 "nbformat_minor": 5
}
