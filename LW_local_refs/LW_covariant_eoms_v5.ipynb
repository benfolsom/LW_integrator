{
 "cells": [
  {
   "cell_type": "code",
   "execution_count": 1560,
   "metadata": {},
   "outputs": [],
   "source": [
    "%config Completer.use_jedi = False  #fixing an autocomplete bug in my jupyter, you might not want this\n",
    "import sympy as sp\n",
    "from sympy import *  # oops lazy, sorry"
   ]
  },
  {
   "cell_type": "code",
   "execution_count": null,
   "metadata": {},
   "outputs": [],
   "source": []
  },
  {
   "cell_type": "markdown",
   "metadata": {},
   "source": [
    "### I define so many symbols to have covariant and contravariant versions of the necessary vectors for at least two different indices. $\\rho$ is used as an index for cases where vectors are multiplied over the same index, e.g., $x^\\rho z_\\rho$\n",
    "#### \n",
    "#### I will just use Bordovitsyn's 2003 paper\n",
    "###### https://link.springer.com/content/pdf/10.1023/A:1026217822337.pdf\n",
    "#### and Jackson and my thesis.\n",
    "#### \n",
    "#### There are many useful identities in Bordovitsyn's paper, particularly the bottom equation from page 460: $\\tilde{r}_{\\rho} v^{\\rho}=-\\tilde{r} c \\gamma[1-(\\tilde{n} \\boldsymbol{\\beta})]$. Equation 26 and the other equations on that page are very helpful for understanding the necessary parts for doing covariant derivatives on the LW potentials."
   ]
  },
  {
   "cell_type": "code",
   "execution_count": 1561,
   "metadata": {},
   "outputs": [],
   "source": [
    "Pcv_aph = sp.symbols(\"P^alpha\", real=True)\n",
    "Pcn_aph = sp.symbols(\"P_alpha\", real=True)\n",
    "Acv_aph = sp.symbols(\"A^alpha\", real=True)\n",
    "Acn_aph = sp.symbols(\"A_alpha\", real=True)\n",
    "vcv_aph = sp.symbols(\"v^alpha\", real=True)\n",
    "vcn_aph = sp.symbols(\"v_alpha\", real=True)\n",
    "rcn_aph = sp.symbols(r\"\\tilde{r}_{\\alpha}\", real=True)\n",
    "rcv_aph = sp.symbols(r\"\\tilde{r}^{\\alpha}\", real=True)\n",
    "\n",
    "Pcv_bt = sp.symbols(\"P^beta\", real=True)\n",
    "Pcn_bt = sp.symbols(\"P_beta\", real=True)\n",
    "Acv_bt = sp.symbols(\"A^beta\", real=True)\n",
    "Acn_bt = sp.symbols(\"A_beta\", real=True)\n",
    "vcv_bt = sp.symbols(\"v^beta\", real=True)\n",
    "vcn_bt = sp.symbols(\"v_beta\", real=True)\n",
    "rcn_bt = sp.symbols(r\"\\tilde{r}_{\\beta}\", real=True)\n",
    "rcv_bt = sp.symbols(r\"\\tilde{r}^{\\beta}\", real=True)\n",
    "\n",
    "r_x = sp.symbols(r\"\\tilde{r}^x\", real=True, positive=True)\n",
    "r_y = sp.symbols(r\"\\tilde{r}^y\", real=True, positive=True)\n",
    "r_z = sp.symbols(r\"\\tilde{r}^z\", real=True, positive=True)\n",
    "\n",
    "v_x = sp.symbols(r\"\\tilde{v}^x\", real=True, positive=True)\n",
    "v_y = sp.symbols(r\"\\tilde{v}^y\", real=True, positive=True)\n",
    "v_z = sp.symbols(r\"\\tilde{v}^z\", real=True, positive=True)\n",
    "\n",
    "rcn_rho = sp.symbols(r\"\\tilde{r}_{\\rho}\", real=True)\n",
    "rcv_rho = sp.symbols(r\"\\tilde{r}^{\\rho}\", real=True)\n",
    "vcn_rho = sp.symbols(\"v_rho\", real=True)\n",
    "vcv_rho = sp.symbols(\"v^rho\", real=True)\n",
    "gup_ab = sp.symbols(\"g^alpha^beta\", real=True)\n",
    "glw_ab = sp.symbols(\"g_alpha_beta\", real=True)\n",
    "gup_ba = sp.symbols(\"g^beta^alpha\", real=True)\n",
    "glw_ba = sp.symbols(\"g_beta_alpha\", real=True)\n",
    "del_ab = sp.symbols(\"\\delta^alpha_beta\", real=True)\n",
    "\n",
    "q = sp.symbols(\"q\", real=True)\n",
    "q_s = sp.symbols(\"q_s\", real=True)\n",
    "c = sp.symbols(\"c\", real=True, positive=True)\n",
    "K = sp.symbols(\"K\", real=True, positive=True)\n",
    "\n",
    "gm = sp.symbols(\"gamma\", real=True, positive=True)\n",
    "bta = sp.symbols(r\"\\vec{\\beta}\", real=True)\n",
    "dbta = sp.symbols(r\"\\dot{\\vec{\\beta}}\", real=True)\n",
    "bta_dot_dbta = sp.symbols(r\"\\vec{\\beta}\\cdot\\dot{\\vec{\\beta}}\", real=True)\n",
    "bta_x = sp.symbols(r\"\\vec{\\beta}_x\", real=True, positive=True)\n",
    "\n",
    "# dvdtau = sp.symbols(r'\\frac{dv^\\beta}{d\\tau}',real=True)\n",
    "dvdtau_bt = sp.symbols(r\"\\dot{V^\\beta}\", real=True)\n",
    "dvdtau_aph = sp.symbols(r\"\\dot{V^\\alpha}\", real=True)\n",
    "\n",
    "tau = sp.symbols(\"tau\", real=True)\n",
    "r_mag = sp.symbols(r\"|\\tilde{r}|\", real=True)  # same as jackson's |R|\n",
    "n_src_ob = sp.symbols(r\"|\\hat{n}|\", real=True)  # same as jackson's |R|\n",
    "n_src_ob_x = sp.symbols(r\"|\\hat{n}|_x\", real=True)  # same as jackson's |R|\n",
    "n_src_ob_y = sp.symbols(r\"|\\hat{n}|_y\", real=True)  # same as jackson's |R|\n",
    "n_src_ob_z = sp.symbols(r\"|\\hat{n}|_z\", real=True)  # same as jackson's |R|\n",
    "\n",
    "# ONLY FOR OBJECTIVE\n",
    "s_vec = sp.symbols(r\"\\vec{s}\", real=True)  # spin vector\n",
    "m_ob = sp.symbols(\"m_{ob}\", real=True, positive=True)\n",
    "gm_ob = sp.symbols(r\"\\gamma_{ob}\", real=True)\n",
    "bta_ob = sp.symbols(\"beta_ob\", real=True, positive=True)\n",
    "vcn_bt_ob = sp.symbols(\"v_beta_-ob\", real=True)\n",
    "vcv_bt_ob = sp.symbols(\"v^beta^-ob\", real=True)\n",
    "vcv_aph_ob = sp.symbols(\"v^alpha^-ob\", real=True)\n",
    "vcn_aph_ob = sp.symbols(\"v_alpha_-ob\", real=True)"
   ]
  },
  {
   "cell_type": "code",
   "execution_count": null,
   "metadata": {},
   "outputs": [],
   "source": []
  },
  {
   "cell_type": "code",
   "execution_count": null,
   "metadata": {},
   "outputs": [],
   "source": []
  },
  {
   "cell_type": "markdown",
   "metadata": {},
   "source": [
    "### this block is just a test based on jackson's dVdtau formalism. i use bordovitsyn instead below "
   ]
  },
  {
   "cell_type": "code",
   "execution_count": 1669,
   "metadata": {},
   "outputs": [
    {
     "data": {
      "text/latex": [
       "$\\displaystyle \\frac{\\dot{V^\\beta} \\tilde{r}^{\\alpha} q_{s}}{K^{2} c^{2} \\gamma^{2} |\\tilde{r}|^{2}} - \\frac{q_{s} v^{\\alpha} v^{\\beta}}{K^{2} c^{2} \\gamma^{2} |\\tilde{r}|^{2}} + \\frac{\\tilde{r}^{\\alpha} q_{s} v^{\\beta}}{K^{3} c \\gamma^{3} |\\tilde{r}|^{3}}$"
      ],
      "text/plain": [
       "\\dot{V^\\beta}*\\tilde{r}^{\\alpha}*q_s/(K**2*c**2*gamma**2*|\\tilde{r}|**2) - q_s*v^alpha*v^beta/(K**2*c**2*gamma**2*|\\tilde{r}|**2) + \\tilde{r}^{\\alpha}*q_s*v^beta/(K**3*c*gamma**3*|\\tilde{r}|**3)"
      ]
     },
     "execution_count": 1669,
     "metadata": {},
     "output_type": "execute_result"
    }
   ],
   "source": [
    "# inferring from 14.11 a different form for dcv_aph_Acv_bt\n",
    "# d_dtau_term = rcv_aph*vcv_bt/(K*c*r_mag*gm) #for reference only\n",
    "\n",
    "d_dtau_term_solved = (\n",
    "    (-vcv_aph * vcv_bt + rcv_aph * dvdtau_bt) * (K * c * r_mag * gm)\n",
    "    - rcv_aph * vcv_bt * (-(c**2) + rcn_aph * dvdtau_aph)\n",
    ") / (K * c * r_mag * gm) ** 2\n",
    "dcv_aph_Acv_bt_alt = expand(q_s / (K * c * r_mag * gm) * d_dtau_term_solved)\n",
    "dcv_aph_Acv_bt_alt = dcv_aph_Acv_bt_alt.subs(rcn_aph * rcv_aph, 0)\n",
    "# dcv_aph_Acv_bt_alt = dcv_aph_Acv_bt_alt.subs(vcv_aph*vcv_bt,c**2*gup_ab)\n",
    "# dcv_aph_Acv_bt_alt = dcv_aph_Acv_bt_alt.subs(rcn_bt*vcv_bt,(K*c*r_mag*gm))\n",
    "\n",
    "# dcv_aph_Acv_bt_alt = dcv_aph_Acv_bt_alt.subs(rcv_aph*vcv_bt,gup_ab*(K*c*r_mag*gm))\n",
    "dcv_aph_Acv_bt_alt\n",
    "### when switching dVdtau indices, Jac(K*c*r_mag*gm)son is ambiguous here. Leading terms match bordovitsyn with switched indices, but loo(K*c*r_mag*gm)s suspect"
   ]
  },
  {
   "cell_type": "code",
   "execution_count": null,
   "metadata": {},
   "outputs": [],
   "source": []
  },
  {
   "cell_type": "code",
   "execution_count": null,
   "metadata": {},
   "outputs": [],
   "source": []
  },
  {
   "cell_type": "code",
   "execution_count": null,
   "metadata": {},
   "outputs": [],
   "source": []
  },
  {
   "cell_type": "markdown",
   "metadata": {},
   "source": [
    "#### I use $\\tilde{r}$ (Bordovitsyn's notation) for the distance between particles at retarded time $\\tau$. This is $[x-r(\\tau)]$ in Jackson, where  $\\left|[x-r(\\tau)]\\right| \\equiv R$ "
   ]
  },
  {
   "cell_type": "code",
   "execution_count": null,
   "metadata": {},
   "outputs": [],
   "source": []
  },
  {
   "cell_type": "markdown",
   "metadata": {},
   "source": [
    "#### Starting with the second form of Equation 43 from Bordovitsyn's paper.\n",
    "##### and using K $\\equiv (1-\\beta \\cdot \\vec{n})$"
   ]
  },
  {
   "cell_type": "code",
   "execution_count": 1693,
   "metadata": {},
   "outputs": [
    {
     "data": {
      "text/latex": [
       "$\\displaystyle - \\frac{A^{\\beta} v^{\\alpha}}{K c \\gamma |\\tilde{r}|} + \\frac{\\tilde{r}^{\\alpha} \\frac{d}{d \\tau} A^{\\beta}}{K c \\gamma |\\tilde{r}|}$"
      ],
      "text/plain": [
       "-A^beta*v^alpha/(K*c*gamma*|\\tilde{r}|) + \\tilde{r}^{\\alpha}*Derivative(A^beta, tau)/(K*c*gamma*|\\tilde{r}|)"
      ]
     },
     "execution_count": 1693,
     "metadata": {},
     "output_type": "execute_result"
    }
   ],
   "source": [
    "dcv_aph_Acv_bt = -vcv_aph / (c * K * r_mag * gm) * Acv_bt + rcv_aph / (\n",
    "    c * K * r_mag * gm\n",
    ") * sp.Derivative(Acv_bt, tau)\n",
    "dcv_aph_Acv_bt"
   ]
  },
  {
   "cell_type": "markdown",
   "metadata": {},
   "source": [
    "### Now we need Jackson 14.12, and 14.6\n",
    "\n"
   ]
  },
  {
   "cell_type": "code",
   "execution_count": 1694,
   "metadata": {},
   "outputs": [
    {
     "data": {
      "text/latex": [
       "$\\displaystyle \\frac{\\dot{V^\\beta} q_{s}}{K c \\gamma |\\tilde{r}|} - \\frac{\\dot{V^\\alpha} \\tilde{r}_{\\alpha} q_{s} v^{\\beta}}{K^{2} c^{2} \\gamma^{2} |\\tilde{r}|^{2}} + \\frac{q_{s} v^{\\beta}}{K^{2} \\gamma^{2} |\\tilde{r}|^{2}}$"
      ],
      "text/plain": [
       "\\dot{V^\\beta}*q_s/(K*c*gamma*|\\tilde{r}|) - \\dot{V^\\alpha}*\\tilde{r}_{\\alpha}*q_s*v^beta/(K**2*c**2*gamma**2*|\\tilde{r}|**2) + q_s*v^beta/(K**2*gamma**2*|\\tilde{r}|**2)"
      ]
     },
     "execution_count": 1694,
     "metadata": {},
     "output_type": "execute_result"
    }
   ],
   "source": [
    "# using quotient rule... keep a close eye on indices here,\n",
    "dAdtau = expand(\n",
    "    q_s\n",
    "    * (dvdtau_bt * K * c * r_mag * gm - vcv_bt * (-(c**2) + rcn_aph * dvdtau_aph))\n",
    "    / (K * c * r_mag * gm) ** 2\n",
    ")\n",
    "# dAdtau = dAdtau.subs(rcn_bt*vcv_bt,K*c*r_mag*gm)\n",
    "expand(dAdtau)"
   ]
  },
  {
   "cell_type": "code",
   "execution_count": 1695,
   "metadata": {},
   "outputs": [],
   "source": [
    "dcv_aph_Acv_bt_sbbd = dcv_aph_Acv_bt.subs(sp.Derivative(Acv_bt, tau), expand(dAdtau))\n",
    "dcv_aph_Acv_bt_sbbd = expand(dcv_aph_Acv_bt_sbbd)\n",
    "dcv_aph_Acv_bt_sbbd = dcv_aph_Acv_bt_sbbd.subs(\n",
    "    Acv_bt, q_s * vcv_bt / (c * K * r_mag * gm)\n",
    ")\n",
    "# dcv_aph_Acv_bt_sbbd= dcv_aph_Acv_bt_sbbd.subs(Acn_bt,q_s*vcn_bt/(c*K*r_mag*gm))\n",
    "\n",
    "\n",
    "dcv_aph_Acv_bt_sbbd = dcv_aph_Acv_bt_sbbd.subs(rcv_aph * rcn_aph, 0)\n",
    "# dcv_aph_Acv_bt_sbbd = dcv_aph_Acv_bt_sbbd.subs(vcv_aph*vcv_bt,c**2*gup_ab)"
   ]
  },
  {
   "cell_type": "code",
   "execution_count": 1696,
   "metadata": {},
   "outputs": [
    {
     "data": {
      "text/latex": [
       "$\\displaystyle \\frac{\\dot{V^\\beta} \\tilde{r}^{\\alpha} q_{s}}{K^{2} c^{2} \\gamma^{2} |\\tilde{r}|^{2}} - \\frac{q_{s} v^{\\alpha} v^{\\beta}}{K^{2} c^{2} \\gamma^{2} |\\tilde{r}|^{2}} + \\frac{\\tilde{r}^{\\alpha} q_{s} v^{\\beta}}{K^{3} c \\gamma^{3} |\\tilde{r}|^{3}}$"
      ],
      "text/plain": [
       "\\dot{V^\\beta}*\\tilde{r}^{\\alpha}*q_s/(K**2*c**2*gamma**2*|\\tilde{r}|**2) - q_s*v^alpha*v^beta/(K**2*c**2*gamma**2*|\\tilde{r}|**2) + \\tilde{r}^{\\alpha}*q_s*v^beta/(K**3*c*gamma**3*|\\tilde{r}|**3)"
      ]
     },
     "execution_count": 1696,
     "metadata": {},
     "output_type": "execute_result"
    }
   ],
   "source": [
    "dcv_aph_Acv_bt_sbbd"
   ]
  },
  {
   "cell_type": "code",
   "execution_count": null,
   "metadata": {},
   "outputs": [],
   "source": []
  },
  {
   "cell_type": "markdown",
   "metadata": {},
   "source": [
    "### This is our main result, before substituting in explicit components. Note that I use $V_{\\beta-observer}$ instead of $P_\\beta - (q/c) A_\\beta$"
   ]
  },
  {
   "cell_type": "code",
   "execution_count": 1698,
   "metadata": {},
   "outputs": [],
   "source": [
    "# dPcv_aph_dtau_O = q/c*(vcn_bt_ob-q/(m_ob*c)*Acn_bt)*dcv_aph_Acv_bt_sbbd #original def... spurious\n",
    "dPcv_aph_dtau = q / (c * m_ob) * (Pcn_bt - q / c * Acn_bt) * dcv_aph_Acv_bt_sbbd\n",
    "# dPcv_aph_dtau = q/(c*m_ob)*(m_ob*vcn_bt_ob)*dcv_aph_Acv_bt_sbbd\n",
    "dPcv_aph_dtau_sbbd = expand(dPcv_aph_dtau)"
   ]
  },
  {
   "cell_type": "code",
   "execution_count": 1699,
   "metadata": {},
   "outputs": [
    {
     "data": {
      "text/latex": [
       "$\\displaystyle - \\frac{A_{\\beta} \\dot{V^\\beta} \\tilde{r}^{\\alpha} q^{2} q_{s}}{K^{2} c^{4} \\gamma^{2} m_{ob} |\\tilde{r}|^{2}} + \\frac{A_{\\beta} q^{2} q_{s} v^{\\alpha} v^{\\beta}}{K^{2} c^{4} \\gamma^{2} m_{ob} |\\tilde{r}|^{2}} - \\frac{A_{\\beta} \\tilde{r}^{\\alpha} q^{2} q_{s} v^{\\beta}}{K^{3} c^{3} \\gamma^{3} m_{ob} |\\tilde{r}|^{3}} + \\frac{P_{\\beta} \\dot{V^\\beta} \\tilde{r}^{\\alpha} q q_{s}}{K^{2} c^{3} \\gamma^{2} m_{ob} |\\tilde{r}|^{2}} - \\frac{P_{\\beta} q q_{s} v^{\\alpha} v^{\\beta}}{K^{2} c^{3} \\gamma^{2} m_{ob} |\\tilde{r}|^{2}} + \\frac{P_{\\beta} \\tilde{r}^{\\alpha} q q_{s} v^{\\beta}}{K^{3} c^{2} \\gamma^{3} m_{ob} |\\tilde{r}|^{3}}$"
      ],
      "text/plain": [
       "-A_beta*\\dot{V^\\beta}*\\tilde{r}^{\\alpha}*q**2*q_s/(K**2*c**4*gamma**2*m_{ob}*|\\tilde{r}|**2) + A_beta*q**2*q_s*v^alpha*v^beta/(K**2*c**4*gamma**2*m_{ob}*|\\tilde{r}|**2) - A_beta*\\tilde{r}^{\\alpha}*q**2*q_s*v^beta/(K**3*c**3*gamma**3*m_{ob}*|\\tilde{r}|**3) + P_beta*\\dot{V^\\beta}*\\tilde{r}^{\\alpha}*q*q_s/(K**2*c**3*gamma**2*m_{ob}*|\\tilde{r}|**2) - P_beta*q*q_s*v^alpha*v^beta/(K**2*c**3*gamma**2*m_{ob}*|\\tilde{r}|**2) + P_beta*\\tilde{r}^{\\alpha}*q*q_s*v^beta/(K**3*c**2*gamma**3*m_{ob}*|\\tilde{r}|**3)"
      ]
     },
     "execution_count": 1699,
     "metadata": {},
     "output_type": "execute_result"
    }
   ],
   "source": [
    "dPcv_aph_dtau_sbbd"
   ]
  },
  {
   "cell_type": "code",
   "execution_count": 1700,
   "metadata": {},
   "outputs": [],
   "source": [
    "# From Jackson 14.12:\n",
    "dvdtau_0 = c * gm**4 * bta_dot_dbta\n",
    "dvdtau_3 = c * gm**2 * dbta + c * gm**4 * bta * (bta_dot_dbta)\n",
    "\n",
    "v0 = gm * c\n",
    "v3 = gm * c * bta\n",
    "v0_ob = gm_ob * c\n",
    "v3_ob = gm_ob * c * bta_ob\n",
    "\n",
    "r0 = r_mag\n",
    "r3 = r_mag * n_src_ob"
   ]
  },
  {
   "cell_type": "code",
   "execution_count": 1701,
   "metadata": {},
   "outputs": [],
   "source": [
    "dPcv_aph_dtau_0 = dPcv_aph_dtau_sbbd\n",
    "dPcv_aph_dtau_0 = dPcv_aph_dtau_0.subs(dvdtau_bt, dvdtau_0)\n",
    "dPcv_aph_dtau_0 = dPcv_aph_dtau_0.subs(dvdtau_aph, dvdtau_0)\n",
    "dPcv_aph_dtau_0 = dPcv_aph_dtau_0.subs(gup_ab * vcn_bt_ob, vcv_aph_ob)\n",
    "dPcv_aph_dtau_0 = dPcv_aph_dtau_0.subs(vcn_aph, v0)\n",
    "dPcv_aph_dtau_0 = dPcv_aph_dtau_0.subs(vcv_aph, v0)\n",
    "dPcv_aph_dtau_0 = dPcv_aph_dtau_0.subs(vcn_bt, v0)\n",
    "dPcv_aph_dtau_0 = dPcv_aph_dtau_0.subs(vcv_bt, v0)\n",
    "dPcv_aph_dtau_0 = dPcv_aph_dtau_0.subs(rcn_aph, r0)\n",
    "dPcv_aph_dtau_0 = dPcv_aph_dtau_0.subs(rcv_aph, r0)\n",
    "dPcv_aph_dtau_0 = dPcv_aph_dtau_0.subs(rcn_bt, r0)\n",
    "dPcv_aph_dtau_0 = dPcv_aph_dtau_0.subs(rcv_bt, r0)\n",
    "dPcv_aph_dtau_0 = dPcv_aph_dtau_0.subs(vcv_bt_ob, v0_ob)\n",
    "dPcv_aph_dtau_0 = dPcv_aph_dtau_0.subs(vcn_bt_ob, v0_ob)\n",
    "dPcv_aph_dtau_0 = dPcv_aph_dtau_0.subs(vcv_aph_ob, v0_ob)\n",
    "dPcv_aph_dtau_0 = dPcv_aph_dtau_0.subs(vcn_aph_ob, v0_ob)"
   ]
  },
  {
   "cell_type": "code",
   "execution_count": 1702,
   "metadata": {},
   "outputs": [
    {
     "data": {
      "text/latex": [
       "$\\displaystyle - \\frac{A_{\\beta} \\vec{\\beta}\\cdot\\dot{\\vec{\\beta}} \\gamma^{2} q^{2} q_{s}}{K^{2} c^{3} m_{ob} |\\tilde{r}|} + \\frac{A_{\\beta} q^{2} q_{s}}{K^{2} c^{2} m_{ob} |\\tilde{r}|^{2}} - \\frac{A_{\\beta} q^{2} q_{s}}{K^{3} c^{2} \\gamma^{2} m_{ob} |\\tilde{r}|^{2}} + \\frac{P_{\\beta} \\vec{\\beta}\\cdot\\dot{\\vec{\\beta}} \\gamma^{2} q q_{s}}{K^{2} c^{2} m_{ob} |\\tilde{r}|} - \\frac{P_{\\beta} q q_{s}}{K^{2} c m_{ob} |\\tilde{r}|^{2}} + \\frac{P_{\\beta} q q_{s}}{K^{3} c \\gamma^{2} m_{ob} |\\tilde{r}|^{2}}$"
      ],
      "text/plain": [
       "-A_beta*\\vec{\\beta}\\cdot\\dot{\\vec{\\beta}}*gamma**2*q**2*q_s/(K**2*c**3*m_{ob}*|\\tilde{r}|) + A_beta*q**2*q_s/(K**2*c**2*m_{ob}*|\\tilde{r}|**2) - A_beta*q**2*q_s/(K**3*c**2*gamma**2*m_{ob}*|\\tilde{r}|**2) + P_beta*\\vec{\\beta}\\cdot\\dot{\\vec{\\beta}}*gamma**2*q*q_s/(K**2*c**2*m_{ob}*|\\tilde{r}|) - P_beta*q*q_s/(K**2*c*m_{ob}*|\\tilde{r}|**2) + P_beta*q*q_s/(K**3*c*gamma**2*m_{ob}*|\\tilde{r}|**2)"
      ]
     },
     "execution_count": 1702,
     "metadata": {},
     "output_type": "execute_result"
    }
   ],
   "source": [
    "dPcv_aph_dtau_0"
   ]
  },
  {
   "cell_type": "code",
   "execution_count": 1675,
   "metadata": {},
   "outputs": [],
   "source": [
    "# full scalar\n",
    "dPdtau0 = (dPcv_aph_dtau_0).subs([[vcn_bt_ob, v0_ob], [vcv_aph_ob, v0_ob]])\n",
    "dPdtau0 = (dPdtau0).subs(K, 1 - bta * n_src_ob)"
   ]
  },
  {
   "cell_type": "code",
   "execution_count": 1676,
   "metadata": {},
   "outputs": [
    {
     "data": {
      "text/latex": [
       "$\\displaystyle \\frac{\\gamma_{ob} \\vec{\\beta}\\cdot\\dot{\\vec{\\beta}} \\gamma^{2} q q_{s}}{c |\\tilde{r}| \\left(- \\vec{\\beta} |\\hat{n}| + 1\\right)^{2}} - \\frac{\\gamma_{ob} q q_{s}}{|\\tilde{r}|^{2} \\left(- \\vec{\\beta} |\\hat{n}| + 1\\right)^{2}} + \\frac{\\gamma_{ob} q q_{s}}{\\gamma^{2} |\\tilde{r}|^{2} \\left(- \\vec{\\beta} |\\hat{n}| + 1\\right)^{3}}$"
      ],
      "text/plain": [
       "\\gamma_{ob}*\\vec{\\beta}\\cdot\\dot{\\vec{\\beta}}*gamma**2*q*q_s/(c*|\\tilde{r}|*(-\\vec{\\beta}*|\\hat{n}| + 1)**2) - \\gamma_{ob}*q*q_s/(|\\tilde{r}|**2*(-\\vec{\\beta}*|\\hat{n}| + 1)**2) + \\gamma_{ob}*q*q_s/(gamma**2*|\\tilde{r}|**2*(-\\vec{\\beta}*|\\hat{n}| + 1)**3)"
      ]
     },
     "execution_count": 1676,
     "metadata": {},
     "output_type": "execute_result"
    }
   ],
   "source": [
    "dPdtau0"
   ]
  },
  {
   "cell_type": "code",
   "execution_count": 1677,
   "metadata": {},
   "outputs": [
    {
     "data": {
      "text/latex": [
       "$\\displaystyle \\frac{\\dot{V^\\beta} \\tilde{r}^{\\alpha} q q_{s} v_{\\beta -ob}}{K^{2} c^{3} \\gamma^{2} |\\tilde{r}|^{2}} - \\frac{q q_{s} v^{\\alpha} v^{\\beta} v_{\\beta -ob}}{K^{2} c^{3} \\gamma^{2} |\\tilde{r}|^{2}} + \\frac{\\tilde{r}^{\\alpha} q q_{s} v^{\\beta} v_{\\beta -ob}}{K^{3} c^{2} \\gamma^{3} |\\tilde{r}|^{3}}$"
      ],
      "text/plain": [
       "\\dot{V^\\beta}*\\tilde{r}^{\\alpha}*q*q_s*v_beta_-ob/(K**2*c**3*gamma**2*|\\tilde{r}|**2) - q*q_s*v^alpha*v^beta*v_beta_-ob/(K**2*c**3*gamma**2*|\\tilde{r}|**2) + \\tilde{r}^{\\alpha}*q*q_s*v^beta*v_beta_-ob/(K**3*c**2*gamma**3*|\\tilde{r}|**3)"
      ]
     },
     "execution_count": 1677,
     "metadata": {},
     "output_type": "execute_result"
    }
   ],
   "source": [
    "dPcv_aph_dtau_sbbd"
   ]
  },
  {
   "cell_type": "code",
   "execution_count": 1678,
   "metadata": {},
   "outputs": [],
   "source": [
    "dPcv_aph_dtau_3 = dPcv_aph_dtau_sbbd\n",
    "dPcv_aph_dtau_3 = dPcv_aph_dtau_3.subs(dvdtau_bt, dvdtau_3)\n",
    "dPcv_aph_dtau_3 = dPcv_aph_dtau_3.subs(K, (1 - bta * n_src_ob))\n",
    "# dPcv_aph_dtau_3 = dPcv_aph_dtau_3.subs(vcv_aph,v3)\n",
    "# dPcv_aph_dtau_3 = dPcv_aph_dtau_3.subs(vcn_bt,-v3)\n",
    "dPcv_aph_dtau_3 = dPcv_aph_dtau_3.subs(vcv_bt, v3)\n",
    "# dPcv_aph_dtau_3 = dPcv_aph_dtau_3.subs(rcn_aph,r3)\n",
    "dPcv_aph_dtau_3 = dPcv_aph_dtau_3.subs(rcv_aph, r3)\n",
    "# dPcv_aph_dtau_3 = dPcv_aph_dtau_3.subs(rcn_bt,r3)\n",
    "# dPcv_aph_dtau_3 = dPcv_aph_dtau_3.subs(rcv_bt,r3)\n",
    "# dPcv_aph_dtau_3 = dPcv_aph_dtau_3.subs(gup_ab*vcn_bt_ob,vcv_aph_ob)\n",
    "dPcv_aph_dtau_3 = dPcv_aph_dtau_3.subs(vcv_aph, gm * c * bta_x)\n",
    "dPcv_aph_dtau_3 = dPcv_aph_dtau_3.subs(vcn_bt_ob, -v3_ob)"
   ]
  },
  {
   "cell_type": "code",
   "execution_count": 1679,
   "metadata": {},
   "outputs": [
    {
     "data": {
      "text/latex": [
       "$\\displaystyle \\frac{\\gamma_{ob} \\vec{\\beta} \\vec{\\beta}_x \\beta_{ob} q q_{s}}{|\\tilde{r}|^{2} \\left(- \\vec{\\beta} |\\hat{n}| + 1\\right)^{2}} - \\frac{\\gamma_{ob} \\vec{\\beta} \\beta_{ob} q q_{s} |\\hat{n}|}{\\gamma^{2} |\\tilde{r}|^{2} \\left(- \\vec{\\beta} |\\hat{n}| + 1\\right)^{3}} - \\frac{\\gamma_{ob} \\beta_{ob} q q_{s} |\\hat{n}| \\left(\\dot{\\vec{\\beta}} c \\gamma^{2} + \\vec{\\beta} \\vec{\\beta}\\cdot\\dot{\\vec{\\beta}} c \\gamma^{4}\\right)}{c^{2} \\gamma^{2} |\\tilde{r}| \\left(- \\vec{\\beta} |\\hat{n}| + 1\\right)^{2}}$"
      ],
      "text/plain": [
       "\\gamma_{ob}*\\vec{\\beta}*\\vec{\\beta}_x*beta_ob*q*q_s/(|\\tilde{r}|**2*(-\\vec{\\beta}*|\\hat{n}| + 1)**2) - \\gamma_{ob}*\\vec{\\beta}*beta_ob*q*q_s*|\\hat{n}|/(gamma**2*|\\tilde{r}|**2*(-\\vec{\\beta}*|\\hat{n}| + 1)**3) - \\gamma_{ob}*beta_ob*q*q_s*|\\hat{n}|*(\\dot{\\vec{\\beta}}*c*gamma**2 + \\vec{\\beta}*\\vec{\\beta}\\cdot\\dot{\\vec{\\beta}}*c*gamma**4)/(c**2*gamma**2*|\\tilde{r}|*(-\\vec{\\beta}*|\\hat{n}| + 1)**2)"
      ]
     },
     "execution_count": 1679,
     "metadata": {},
     "output_type": "execute_result"
    }
   ],
   "source": [
    "dPcv_aph_dtau_3"
   ]
  },
  {
   "cell_type": "code",
   "execution_count": null,
   "metadata": {},
   "outputs": [],
   "source": []
  },
  {
   "cell_type": "code",
   "execution_count": 1680,
   "metadata": {},
   "outputs": [
    {
     "data": {
      "text/latex": [
       "$\\displaystyle \\frac{\\gamma_{ob} \\vec{\\beta} \\vec{\\beta}_x \\beta_{ob} q q_{s}}{|\\tilde{r}|^{2} \\left(- \\vec{\\beta} |\\hat{n}| + 1\\right)^{2}} - \\frac{\\gamma_{ob} \\vec{\\beta} \\beta_{ob} q q_{s} |\\hat{n}|}{\\gamma^{2} |\\tilde{r}|^{2} \\left(- \\vec{\\beta} |\\hat{n}| + 1\\right)^{3}} - \\frac{\\gamma_{ob} \\beta_{ob} q q_{s} |\\hat{n}| \\left(\\dot{\\vec{\\beta}} c \\gamma^{2} + \\vec{\\beta} \\vec{\\beta}\\cdot\\dot{\\vec{\\beta}} c \\gamma^{4}\\right)}{c^{2} \\gamma^{2} |\\tilde{r}| \\left(- \\vec{\\beta} |\\hat{n}| + 1\\right)^{2}}$"
      ],
      "text/plain": [
       "\\gamma_{ob}*\\vec{\\beta}*\\vec{\\beta}_x*beta_ob*q*q_s/(|\\tilde{r}|**2*(-\\vec{\\beta}*|\\hat{n}| + 1)**2) - \\gamma_{ob}*\\vec{\\beta}*beta_ob*q*q_s*|\\hat{n}|/(gamma**2*|\\tilde{r}|**2*(-\\vec{\\beta}*|\\hat{n}| + 1)**3) - \\gamma_{ob}*beta_ob*q*q_s*|\\hat{n}|*(\\dot{\\vec{\\beta}}*c*gamma**2 + \\vec{\\beta}*\\vec{\\beta}\\cdot\\dot{\\vec{\\beta}}*c*gamma**4)/(c**2*gamma**2*|\\tilde{r}|*(-\\vec{\\beta}*|\\hat{n}| + 1)**2)"
      ]
     },
     "execution_count": 1680,
     "metadata": {},
     "output_type": "execute_result"
    }
   ],
   "source": [
    "dPcv_aph_dtau_3"
   ]
  },
  {
   "cell_type": "code",
   "execution_count": 1681,
   "metadata": {},
   "outputs": [
    {
     "data": {
      "text/latex": [
       "$\\displaystyle \\frac{\\gamma_{ob} \\vec{\\beta} \\vec{\\beta}_x \\beta_{ob} q q_{s}}{|\\tilde{r}|^{2} \\left(- \\vec{\\beta} |\\hat{n}| + 1\\right)^{2}} - \\frac{\\gamma_{ob} \\vec{\\beta} \\beta_{ob} q q_{s} |\\hat{n}|}{\\gamma^{2} |\\tilde{r}|^{2} \\left(- \\vec{\\beta} |\\hat{n}| + 1\\right)^{3}} - \\frac{\\gamma_{ob} \\beta_{ob} q q_{s} |\\hat{n}| \\left(\\dot{\\vec{\\beta}} c \\gamma^{2} + \\vec{\\beta} \\vec{\\beta}\\cdot\\dot{\\vec{\\beta}} c \\gamma^{4}\\right)}{c^{2} \\gamma^{2} |\\tilde{r}| \\left(- \\vec{\\beta} |\\hat{n}| + 1\\right)^{2}}$"
      ],
      "text/plain": [
       "\\gamma_{ob}*\\vec{\\beta}*\\vec{\\beta}_x*beta_ob*q*q_s/(|\\tilde{r}|**2*(-\\vec{\\beta}*|\\hat{n}| + 1)**2) - \\gamma_{ob}*\\vec{\\beta}*beta_ob*q*q_s*|\\hat{n}|/(gamma**2*|\\tilde{r}|**2*(-\\vec{\\beta}*|\\hat{n}| + 1)**3) - \\gamma_{ob}*beta_ob*q*q_s*|\\hat{n}|*(\\dot{\\vec{\\beta}}*c*gamma**2 + \\vec{\\beta}*\\vec{\\beta}\\cdot\\dot{\\vec{\\beta}}*c*gamma**4)/(c**2*gamma**2*|\\tilde{r}|*(-\\vec{\\beta}*|\\hat{n}| + 1)**2)"
      ]
     },
     "execution_count": 1681,
     "metadata": {},
     "output_type": "execute_result"
    }
   ],
   "source": [
    "dPdtaux = dPcv_aph_dtau_3.subs(\n",
    "    [[rcv_aph, r_mag * n_src_ob_x], [vcv_aph_ob, bta_ob * c * gm_ob], [gup_ab, -1]]\n",
    ")\n",
    "(dPdtaux)"
   ]
  },
  {
   "cell_type": "code",
   "execution_count": 1682,
   "metadata": {},
   "outputs": [],
   "source": [
    "# headon"
   ]
  },
  {
   "cell_type": "code",
   "execution_count": 1683,
   "metadata": {},
   "outputs": [],
   "source": [
    "dPdtauxh = dPdtaux.subs(\n",
    "    [\n",
    "        [dbta * c * gm**2, dbta],\n",
    "        [c**3 * gm**2, c**2],\n",
    "        [bta_dot_dbta * c * gm**4, bta_dot_dbta * gm**2],\n",
    "    ]\n",
    ")"
   ]
  },
  {
   "cell_type": "code",
   "execution_count": 1684,
   "metadata": {},
   "outputs": [
    {
     "data": {
      "text/latex": [
       "$\\displaystyle \\frac{\\gamma_{ob} \\vec{\\beta} \\vec{\\beta}_x \\beta_{ob} q q_{s}}{|\\tilde{r}|^{2} \\left(- \\vec{\\beta} |\\hat{n}| + 1\\right)^{2}} - \\frac{\\gamma_{ob} \\vec{\\beta} \\beta_{ob} q q_{s} |\\hat{n}|}{\\gamma^{2} |\\tilde{r}|^{2} \\left(- \\vec{\\beta} |\\hat{n}| + 1\\right)^{3}} - \\frac{\\gamma_{ob} \\beta_{ob} q q_{s} |\\hat{n}| \\left(\\dot{\\vec{\\beta}} + \\vec{\\beta} \\vec{\\beta}\\cdot\\dot{\\vec{\\beta}} \\gamma^{2}\\right)}{c^{2} \\gamma^{2} |\\tilde{r}| \\left(- \\vec{\\beta} |\\hat{n}| + 1\\right)^{2}}$"
      ],
      "text/plain": [
       "\\gamma_{ob}*\\vec{\\beta}*\\vec{\\beta}_x*beta_ob*q*q_s/(|\\tilde{r}|**2*(-\\vec{\\beta}*|\\hat{n}| + 1)**2) - \\gamma_{ob}*\\vec{\\beta}*beta_ob*q*q_s*|\\hat{n}|/(gamma**2*|\\tilde{r}|**2*(-\\vec{\\beta}*|\\hat{n}| + 1)**3) - \\gamma_{ob}*beta_ob*q*q_s*|\\hat{n}|*(\\dot{\\vec{\\beta}} + \\vec{\\beta}*\\vec{\\beta}\\cdot\\dot{\\vec{\\beta}}*gamma**2)/(c**2*gamma**2*|\\tilde{r}|*(-\\vec{\\beta}*|\\hat{n}| + 1)**2)"
      ]
     },
     "execution_count": 1684,
     "metadata": {},
     "output_type": "execute_result"
    }
   ],
   "source": [
    "dPdtauxh"
   ]
  },
  {
   "cell_type": "code",
   "execution_count": 1685,
   "metadata": {},
   "outputs": [],
   "source": [
    "dPdtauxh = dPdtauxh.subs([[n_src_ob, 1], [q * q_s, 1], [gm_ob, 1]])"
   ]
  },
  {
   "cell_type": "code",
   "execution_count": 1686,
   "metadata": {},
   "outputs": [
    {
     "data": {
      "text/latex": [
       "$\\displaystyle \\frac{\\vec{\\beta} \\vec{\\beta}_x \\beta_{ob}}{|\\tilde{r}|^{2} \\left(1 - \\vec{\\beta}\\right)^{2}} - \\frac{\\vec{\\beta} \\beta_{ob}}{\\gamma^{2} |\\tilde{r}|^{2} \\left(1 - \\vec{\\beta}\\right)^{3}} - \\frac{\\beta_{ob} \\left(\\dot{\\vec{\\beta}} + \\vec{\\beta} \\vec{\\beta}\\cdot\\dot{\\vec{\\beta}} \\gamma^{2}\\right)}{c^{2} \\gamma^{2} |\\tilde{r}| \\left(1 - \\vec{\\beta}\\right)^{2}}$"
      ],
      "text/plain": [
       "\\vec{\\beta}*\\vec{\\beta}_x*beta_ob/(|\\tilde{r}|**2*(1 - \\vec{\\beta})**2) - \\vec{\\beta}*beta_ob/(gamma**2*|\\tilde{r}|**2*(1 - \\vec{\\beta})**3) - beta_ob*(\\dot{\\vec{\\beta}} + \\vec{\\beta}*\\vec{\\beta}\\cdot\\dot{\\vec{\\beta}}*gamma**2)/(c**2*gamma**2*|\\tilde{r}|*(1 - \\vec{\\beta})**2)"
      ]
     },
     "execution_count": 1686,
     "metadata": {},
     "output_type": "execute_result"
    }
   ],
   "source": [
    "dPdtauxh"
   ]
  },
  {
   "cell_type": "code",
   "execution_count": 1687,
   "metadata": {},
   "outputs": [],
   "source": [
    "dPdtau0h = dPdtau0.subs([[n_src_ob, 1], [q * q_s * gm_ob, 1]])"
   ]
  },
  {
   "cell_type": "code",
   "execution_count": 1688,
   "metadata": {},
   "outputs": [
    {
     "data": {
      "text/latex": [
       "$\\displaystyle \\frac{\\vec{\\beta}\\cdot\\dot{\\vec{\\beta}} \\gamma^{2}}{c |\\tilde{r}| \\left(1 - \\vec{\\beta}\\right)^{2}} - \\frac{1}{|\\tilde{r}|^{2} \\left(1 - \\vec{\\beta}\\right)^{2}} + \\frac{1}{\\gamma^{2} |\\tilde{r}|^{2} \\left(1 - \\vec{\\beta}\\right)^{3}}$"
      ],
      "text/plain": [
       "\\vec{\\beta}\\cdot\\dot{\\vec{\\beta}}*gamma**2/(c*|\\tilde{r}|*(1 - \\vec{\\beta})**2) - 1/(|\\tilde{r}|**2*(1 - \\vec{\\beta})**2) + 1/(gamma**2*|\\tilde{r}|**2*(1 - \\vec{\\beta})**3)"
      ]
     },
     "execution_count": 1688,
     "metadata": {},
     "output_type": "execute_result"
    }
   ],
   "source": [
    "dPdtau0h"
   ]
  },
  {
   "cell_type": "code",
   "execution_count": null,
   "metadata": {},
   "outputs": [],
   "source": []
  },
  {
   "cell_type": "code",
   "execution_count": 1689,
   "metadata": {},
   "outputs": [],
   "source": [
    "Pfull = dPdtau0h**2 - dPdtauxh**2\n",
    "# Pfull = (dPdtau0h+dPdtauxh)\n",
    "Pfull_sbdd = Pfull.subs([[bta_ob, 0], [bta_dot_dbta, 0]])\n",
    "# Pfull_sbdd = Pfull.subs(gm**2,1/(1-bta**2))"
   ]
  },
  {
   "cell_type": "code",
   "execution_count": null,
   "metadata": {},
   "outputs": [],
   "source": []
  },
  {
   "cell_type": "code",
   "execution_count": 1690,
   "metadata": {},
   "outputs": [
    {
     "data": {
      "text/latex": [
       "$\\displaystyle \\left(- \\frac{1}{|\\tilde{r}|^{2} \\left(1 - \\vec{\\beta}\\right)^{2}} + \\frac{1}{\\gamma^{2} |\\tilde{r}|^{2} \\left(1 - \\vec{\\beta}\\right)^{3}}\\right)^{2}$"
      ],
      "text/plain": [
       "(-1/(|\\tilde{r}|**2*(1 - \\vec{\\beta})**2) + 1/(gamma**2*|\\tilde{r}|**2*(1 - \\vec{\\beta})**3))**2"
      ]
     },
     "execution_count": 1690,
     "metadata": {},
     "output_type": "execute_result"
    }
   ],
   "source": [
    "(Pfull_sbdd)"
   ]
  },
  {
   "cell_type": "code",
   "execution_count": 1691,
   "metadata": {},
   "outputs": [
    {
     "data": {
      "text/latex": [
       "$\\displaystyle \\left(- \\frac{1}{|\\tilde{r}|^{2} \\left(1 - \\vec{\\beta}\\right)^{2}} + \\frac{1}{\\gamma^{2} |\\tilde{r}|^{2} \\left(1 - \\vec{\\beta}\\right)^{3}}\\right)^{2}$"
      ],
      "text/plain": [
       "(-1/(|\\tilde{r}|**2*(1 - \\vec{\\beta})**2) + 1/(gamma**2*|\\tilde{r}|**2*(1 - \\vec{\\beta})**3))**2"
      ]
     },
     "execution_count": 1691,
     "metadata": {},
     "output_type": "execute_result"
    }
   ],
   "source": [
    "Pfull_sbdd"
   ]
  },
  {
   "cell_type": "code",
   "execution_count": null,
   "metadata": {},
   "outputs": [],
   "source": []
  },
  {
   "cell_type": "code",
   "execution_count": 1692,
   "metadata": {},
   "outputs": [
    {
     "data": {
      "text/latex": [
       "$\\displaystyle \\sqrt{\\left(- \\frac{1}{|\\tilde{r}|^{2}} + \\frac{1}{\\gamma^{2} |\\tilde{r}|^{2}}\\right)^{2}}$"
      ],
      "text/plain": [
       "sqrt((-1/|\\tilde{r}|**2 + 1/(gamma**2*|\\tilde{r}|**2))**2)"
      ]
     },
     "execution_count": 1692,
     "metadata": {},
     "output_type": "execute_result"
    }
   ],
   "source": [
    "sqrt(Pfull_sbdd.subs(bta, 0))"
   ]
  },
  {
   "cell_type": "code",
   "execution_count": 1638,
   "metadata": {},
   "outputs": [
    {
     "data": {
      "text/latex": [
       "$\\displaystyle - \\left(\\frac{\\vec{\\beta} \\vec{\\beta}_x \\beta_{ob}}{|\\tilde{r}|^{2} \\left(1 - \\vec{\\beta}\\right)^{2}} - \\frac{\\vec{\\beta} \\beta_{ob}}{\\gamma^{2} |\\tilde{r}|^{2} \\left(1 - \\vec{\\beta}\\right)^{3}} - \\frac{\\beta_{ob} \\left(\\dot{\\vec{\\beta}} + \\vec{\\beta} \\vec{\\beta}\\cdot\\dot{\\vec{\\beta}} \\gamma^{2}\\right)}{c^{2} \\gamma^{2} |\\tilde{r}| \\left(1 - \\vec{\\beta}\\right)^{2}}\\right)^{2} + \\left(\\frac{\\vec{\\beta}\\cdot\\dot{\\vec{\\beta}} \\gamma^{2}}{c |\\tilde{r}| \\left(1 - \\vec{\\beta}\\right)^{2}} - \\frac{1}{|\\tilde{r}|^{2} \\left(1 - \\vec{\\beta}\\right)^{2}} + \\frac{1}{\\gamma^{2} |\\tilde{r}|^{2} \\left(1 - \\vec{\\beta}\\right)^{3}}\\right)^{2}$"
      ],
      "text/plain": [
       "-(\\vec{\\beta}*\\vec{\\beta}_x*beta_ob/(|\\tilde{r}|**2*(1 - \\vec{\\beta})**2) - \\vec{\\beta}*beta_ob/(gamma**2*|\\tilde{r}|**2*(1 - \\vec{\\beta})**3) - beta_ob*(\\dot{\\vec{\\beta}} + \\vec{\\beta}*\\vec{\\beta}\\cdot\\dot{\\vec{\\beta}}*gamma**2)/(c**2*gamma**2*|\\tilde{r}|*(1 - \\vec{\\beta})**2))**2 + (\\vec{\\beta}\\cdot\\dot{\\vec{\\beta}}*gamma**2/(c*|\\tilde{r}|*(1 - \\vec{\\beta})**2) - 1/(|\\tilde{r}|**2*(1 - \\vec{\\beta})**2) + 1/(gamma**2*|\\tilde{r}|**2*(1 - \\vec{\\beta})**3))**2"
      ]
     },
     "execution_count": 1638,
     "metadata": {},
     "output_type": "execute_result"
    }
   ],
   "source": [
    "Pfull"
   ]
  },
  {
   "cell_type": "code",
   "execution_count": null,
   "metadata": {},
   "outputs": [],
   "source": []
  },
  {
   "cell_type": "code",
   "execution_count": null,
   "metadata": {},
   "outputs": [],
   "source": []
  },
  {
   "cell_type": "code",
   "execution_count": null,
   "metadata": {},
   "outputs": [],
   "source": []
  },
  {
   "cell_type": "code",
   "execution_count": null,
   "metadata": {},
   "outputs": [],
   "source": []
  },
  {
   "cell_type": "code",
   "execution_count": null,
   "metadata": {},
   "outputs": [],
   "source": []
  },
  {
   "cell_type": "code",
   "execution_count": 1534,
   "metadata": {},
   "outputs": [
    {
     "data": {
      "text/latex": [
       "$\\displaystyle - \\frac{\\gamma_{ob} \\vec{\\beta} \\vec{\\beta}_x \\beta_{ob} q q_{s}}{|\\tilde{r}|^{2} \\left(- \\vec{\\beta} |\\hat{n}| + 1\\right)^{2}} + \\frac{\\gamma_{ob} \\vec{\\beta} \\beta_{ob} q q_{s} |\\hat{n}|}{\\gamma^{2} |\\tilde{r}|^{2} \\left(- \\vec{\\beta} |\\hat{n}| + 1\\right)^{3}}$"
      ],
      "text/plain": [
       "-\\gamma_{ob}*\\vec{\\beta}*\\vec{\\beta}_x*beta_ob*q*q_s/(|\\tilde{r}|**2*(-\\vec{\\beta}*|\\hat{n}| + 1)**2) + \\gamma_{ob}*\\vec{\\beta}*beta_ob*q*q_s*|\\hat{n}|/(gamma**2*|\\tilde{r}|**2*(-\\vec{\\beta}*|\\hat{n}| + 1)**3)"
      ]
     },
     "execution_count": 1534,
     "metadata": {},
     "output_type": "execute_result"
    }
   ],
   "source": [
    "dPdtaux_conv = dPdtaux.subs([[bta_dot_dbta, 0], [dbta, 0]])\n",
    "(dPdtaux_conv)"
   ]
  },
  {
   "cell_type": "code",
   "execution_count": null,
   "metadata": {},
   "outputs": [],
   "source": []
  },
  {
   "cell_type": "code",
   "execution_count": null,
   "metadata": {},
   "outputs": [],
   "source": []
  },
  {
   "cell_type": "code",
   "execution_count": null,
   "metadata": {},
   "outputs": [],
   "source": []
  },
  {
   "cell_type": "code",
   "execution_count": null,
   "metadata": {},
   "outputs": [],
   "source": []
  },
  {
   "cell_type": "code",
   "execution_count": null,
   "metadata": {},
   "outputs": [],
   "source": []
  },
  {
   "cell_type": "code",
   "execution_count": null,
   "metadata": {},
   "outputs": [],
   "source": []
  },
  {
   "cell_type": "code",
   "execution_count": null,
   "metadata": {},
   "outputs": [],
   "source": []
  },
  {
   "cell_type": "code",
   "execution_count": null,
   "metadata": {},
   "outputs": [],
   "source": [
    "##seems like a kroenecker needed here on the r*\\nu terms in the numerators\n",
    "##which leads to"
   ]
  },
  {
   "cell_type": "code",
   "execution_count": null,
   "metadata": {},
   "outputs": [],
   "source": [
    "# dP3dtau3 = dP3dtau3.subs(rcv_aph*vcn_bt,-r_mag*c*gm*K)\n",
    "# dP3dtau3 = dP3dtau3.subs(rcn_bt*vcv_aph,-r_mag*c*gm*K)\n",
    "\n",
    "# middleman steps, maybe a typo\n",
    "# dP3dtau3 = dP3dtau3.subs(rcv_aph*vcn_bt,rcn_aph*del_ab*vcv_aph)\n",
    "# dP3dtau3 = dP3dtau3.subs(rcn_aph*vcv_aph*del_ab,-r_mag*c*gm*K)\n",
    "# dP3dtau3 = dP3dtau3.subs(rcv_aph,rcn_bt*gup_ba)\n",
    "\n",
    "dP3dtau3"
   ]
  },
  {
   "cell_type": "markdown",
   "metadata": {},
   "source": [
    "# take it by hand from here, extract metric tensor and simplify RHS of numerator, "
   ]
  },
  {
   "cell_type": "code",
   "execution_count": null,
   "metadata": {},
   "outputs": [],
   "source": []
  },
  {
   "cell_type": "code",
   "execution_count": null,
   "metadata": {},
   "outputs": [],
   "source": []
  },
  {
   "cell_type": "code",
   "execution_count": null,
   "metadata": {},
   "outputs": [],
   "source": []
  },
  {
   "cell_type": "code",
   "execution_count": null,
   "metadata": {},
   "outputs": [],
   "source": []
  },
  {
   "cell_type": "code",
   "execution_count": null,
   "metadata": {},
   "outputs": [],
   "source": []
  },
  {
   "cell_type": "code",
   "execution_count": null,
   "metadata": {},
   "outputs": [],
   "source": []
  },
  {
   "cell_type": "code",
   "execution_count": null,
   "metadata": {},
   "outputs": [],
   "source": []
  },
  {
   "cell_type": "code",
   "execution_count": null,
   "metadata": {},
   "outputs": [],
   "source": []
  },
  {
   "cell_type": "code",
   "execution_count": null,
   "metadata": {},
   "outputs": [],
   "source": []
  },
  {
   "cell_type": "code",
   "execution_count": null,
   "metadata": {},
   "outputs": [],
   "source": []
  }
 ],
 "metadata": {
  "kernelspec": {
   "display_name": "Python 3",
   "language": "python",
   "name": "python3"
  },
  "language_info": {
   "codemirror_mode": {
    "name": "ipython",
    "version": 3
   },
   "file_extension": ".py",
   "mimetype": "text/x-python",
   "name": "python",
   "nbconvert_exporter": "python",
   "pygments_lexer": "ipython3",
   "version": "3.7.9"
  }
 },
 "nbformat": 4,
 "nbformat_minor": 4
}
