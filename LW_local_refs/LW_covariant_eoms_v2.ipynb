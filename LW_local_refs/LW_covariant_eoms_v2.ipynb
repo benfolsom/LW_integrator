{
 "cells": [
  {
   "cell_type": "code",
   "execution_count": 2,
   "metadata": {},
   "outputs": [],
   "source": [
    "%config Completer.use_jedi = False  #fixing an autocomplete bug in my jupyter, you might not want this\n",
    "import sympy as sp \n",
    "import numpy as np\n",
    "from sympy import *  #oops lazy, sorry"
   ]
  },
  {
   "cell_type": "code",
   "execution_count": null,
   "metadata": {},
   "outputs": [],
   "source": []
  },
  {
   "cell_type": "markdown",
   "metadata": {},
   "source": [
    "### I define so many symbols to have covariant and contravariant versions of the necessary vectors for at least two different indices. $\\rho$ is used as an index for cases where vectors are multiplied over the same index, e.g., $x^\\rho z_\\rho$\n",
    "#### \n",
    "#### I will just use Bordovitsyn's 2003 paper\n",
    "###### https://link.springer.com/content/pdf/10.1023/A:1026217822337.pdf\n",
    "#### and Jackson and my thesis.\n",
    "#### \n",
    "#### There are many useful identities in Bordovitsyn's paper, particularly the bottom equation from page 460: $\\tilde{r}_{\\rho} v^{\\rho}=-\\tilde{r} c \\gamma[1-(\\tilde{n} \\boldsymbol{\\beta})]$. Equation 26 and the other equations on that page are very helpful for understanding the necessary parts for doing covariant derivatives on the LW potentials."
   ]
  },
  {
   "cell_type": "code",
   "execution_count": 3,
   "metadata": {},
   "outputs": [],
   "source": [
    "Pcv_aph = sp.symbols(\"P^alpha\",real=True)\n",
    "Pcn_aph = sp.symbols(\"P_alpha\",real=True)\n",
    "Acv_aph = sp.symbols(\"A^alpha\",real=True)\n",
    "Acn_aph = sp.symbols(\"A_alpha\",real=True)\n",
    "vcv_aph = sp.symbols(\"v^alpha\",real=True)\n",
    "vcn_aph = sp.symbols(\"v_alpha\",real=True)\n",
    "rcn_aph = sp.symbols(r\"\\tilde{r}_{\\alpha}\",real=True)\n",
    "rcv_aph = sp.symbols(r\"\\tilde{r}^{\\alpha}\",real=True)\n",
    "\n",
    "Pcv_bt= sp.symbols(\"P^beta\",real=True)\n",
    "Pcn_bt = sp.symbols(\"P_beta\",real=True)\n",
    "Acv_bt = sp.symbols(\"A^beta\",real=True)\n",
    "Acn_bt = sp.symbols(\"A_beta\",real=True)\n",
    "vcv_bt = sp.symbols(\"v^beta\",real=True)\n",
    "vcn_bt = sp.symbols(\"v_beta\",real=True)\n",
    "rcn_bt = sp.symbols(r\"\\tilde{r}_{\\beta}\",real=True)\n",
    "rcv_bt = sp.symbols(r\"\\tilde{r}^{\\beta}\",real=True)\n",
    "\n",
    "rcn_rho = sp.symbols(r\"\\tilde{r}_{\\rho}\",real=True)\n",
    "rcv_rho = sp.symbols(r\"\\tilde{r}^{\\rho}\",real=True)\n",
    "vcn_rho = sp.symbols(\"v_rho\",real=True)\n",
    "vcv_rho = sp.symbols(\"v^rho\",real=True)\n",
    "gup_ab =  sp.symbols(\"g^alpha^beta\",real=True)\n",
    "glw_ab =  sp.symbols(\"g_alpha_beta\",real=True)\n",
    "gup_ba =  sp.symbols(\"g^beta^alpha\",real=True)\n",
    "glw_ba = sp.symbols(\"g_beta_alpha\",real=True)\n",
    "\n",
    "q =  sp.symbols(\"q\",real=True,positive=True)\n",
    "c =  sp.symbols(\"c\",real=True,positive=True)\n",
    "gm = sp.symbols(\"gamma\",real=True,positive=True)\n",
    "bta = sp.symbols(r'\\vec{\\beta}',real=True,positive=True)\n",
    "dbta = sp.symbols(r'\\dot{\\vec{\\beta}}',real=True,positive=True)\n",
    "bta_dot_dbta = sp.symbols(r'\\vec{\\beta}\\cdot\\dot{\\vec{\\beta}}',real=True,positive=True)\n",
    "dvdtau = sp.symbols(r'\\frac{dv^\\beta}{d\\tau}',real=True,positive=True) \n",
    "tau = sp.symbols('tau',real=True) \n",
    "r_v_rho = (rcv_rho*vcn_rho) \n",
    "r_mag = sp.symbols(r\"|\\tilde{r}|\")  #same as jackson's |R|\n",
    "n_src_ob = sp.symbols(r\"|\\hat{n}|\")  #same as jackson's |R|\n",
    "\n",
    "#ONLY FOR OBJECTIVE\n",
    "s_vec = sp.symbols(r'\\vec{s}',real=True) #spin vector\n",
    "m_ob = sp.symbols('m_{ob}',real=True,positive=True) \n",
    "gm_ob = sp.symbols(r'\\gamma_{ob}',real=True) \n",
    "vcn_bt_ob = sp.symbols(\"v_beta_-ob\",real=True)\n",
    "vcv_bt_ob = sp.symbols(\"v^beta^-ob\",real=True)\n",
    "vcv_aph_ob = sp.symbols(\"v^alpha^-ob\",real=True)\n",
    "vcn_aph_ob = sp.symbols(\"v_alpha_-ob\",real=True)\n"
   ]
  },
  {
   "cell_type": "markdown",
   "metadata": {},
   "source": [
    "#### I use $\\tilde{r}$ (Bordovitsyn's notation) for the distance between particles at retarded time $\\tau$. This is $[x-r(\\tau)]$ in Jackson, where  $\\left|[x-r(\\tau)]\\right| \\equiv R$ "
   ]
  },
  {
   "cell_type": "code",
   "execution_count": null,
   "metadata": {},
   "outputs": [],
   "source": []
  },
  {
   "cell_type": "code",
   "execution_count": null,
   "metadata": {},
   "outputs": [],
   "source": []
  },
  {
   "cell_type": "markdown",
   "metadata": {},
   "source": [
    "#### Starting with the second form of Equation 43 from Bordovitsyn's paper."
   ]
  },
  {
   "cell_type": "code",
   "execution_count": 4,
   "metadata": {},
   "outputs": [
    {
     "data": {
      "text/latex": [
       "$\\displaystyle \\left(\\frac{A^{\\beta} v^{\\alpha}}{\\tilde{r}^{\\rho} v_{\\rho}} - \\frac{\\tilde{r}^{\\alpha}}{\\tilde{r}_{\\rho} v^{\\rho}}\\right) \\frac{d}{d \\tau} A^{\\beta}$"
      ],
      "text/plain": [
       "(A^beta*v^alpha/(\\tilde{r}^{\\rho}*v_rho) - \\tilde{r}^{\\alpha}/(\\tilde{r}_{\\rho}*v^rho))*Derivative(A^beta, tau)"
      ]
     },
     "execution_count": 4,
     "metadata": {},
     "output_type": "execute_result"
    }
   ],
   "source": [
    "dcv_aph_Acv_bt = (vcv_aph/(rcv_rho*vcn_rho)*Acv_bt- rcv_aph/(rcn_rho*vcv_rho))*sp.Derivative(Acv_bt,tau)\n",
    "dcv_aph_Acv_bt                  "
   ]
  },
  {
   "cell_type": "markdown",
   "metadata": {},
   "source": [
    "### Now we need Jackson 14.12, and 14.6\n",
    "\n"
   ]
  },
  {
   "cell_type": "code",
   "execution_count": 37,
   "metadata": {},
   "outputs": [],
   "source": [
    "dAdtau = dvdtau*1/r_v_rho-vcv_bt/r_v_rho**2*(-c**2+rcn_bt*dvdtau)\n",
    "#expand(dAdtau)"
   ]
  },
  {
   "cell_type": "code",
   "execution_count": 38,
   "metadata": {},
   "outputs": [
    {
     "data": {
      "text/latex": [
       "$\\displaystyle \\frac{\\frac{dv^\\beta}{d\\tau}}{\\tilde{r}^{\\rho} v_{\\rho}} - \\frac{v^{\\beta} \\left(\\frac{dv^\\beta}{d\\tau} \\tilde{r}_{\\beta} - c^{2}\\right)}{\\left(\\tilde{r}^{\\rho}\\right)^{2} v_{\\rho}^{2}}$"
      ],
      "text/plain": [
       "\\frac{dv^\\beta}{d\\tau}/(\\tilde{r}^{\\rho}*v_rho) - v^beta*(\\frac{dv^\\beta}{d\\tau}*\\tilde{r}_{\\beta} - c**2)/(\\tilde{r}^{\\rho}**2*v_rho**2)"
      ]
     },
     "execution_count": 38,
     "metadata": {},
     "output_type": "execute_result"
    }
   ],
   "source": [
    "dAdtau"
   ]
  },
  {
   "cell_type": "code",
   "execution_count": 7,
   "metadata": {},
   "outputs": [
    {
     "data": {
      "text/latex": [
       "$\\displaystyle \\frac{A^{\\beta} \\frac{dv^\\beta}{d\\tau} q v^{\\alpha}}{\\left(\\tilde{r}^{\\rho}\\right)^{2} v_{\\rho}^{2}} - \\frac{A^{\\beta} \\frac{dv^\\beta}{d\\tau} \\tilde{r}_{\\beta} q v^{\\alpha} v^{\\beta}}{\\left(\\tilde{r}^{\\rho}\\right)^{3} v_{\\rho}^{3}} + \\frac{A^{\\beta} c^{2} q v^{\\alpha} v^{\\beta}}{\\left(\\tilde{r}^{\\rho}\\right)^{3} v_{\\rho}^{3}} - \\frac{\\frac{dv^\\beta}{d\\tau} \\tilde{r}^{\\alpha} q}{\\tilde{r}^{\\rho} \\tilde{r}_{\\rho} v^{\\rho} v_{\\rho}} + \\frac{\\frac{dv^\\beta}{d\\tau} \\tilde{r}^{\\alpha} \\tilde{r}_{\\beta} q v^{\\beta}}{\\left(\\tilde{r}^{\\rho}\\right)^{2} \\tilde{r}_{\\rho} v^{\\rho} v_{\\rho}^{2}} - \\frac{\\tilde{r}^{\\alpha} c^{2} q v^{\\beta}}{\\left(\\tilde{r}^{\\rho}\\right)^{2} \\tilde{r}_{\\rho} v^{\\rho} v_{\\rho}^{2}}$"
      ],
      "text/plain": [
       "A^beta*\\frac{dv^\\beta}{d\\tau}*q*v^alpha/(\\tilde{r}^{\\rho}**2*v_rho**2) - A^beta*\\frac{dv^\\beta}{d\\tau}*\\tilde{r}_{\\beta}*q*v^alpha*v^beta/(\\tilde{r}^{\\rho}**3*v_rho**3) + A^beta*c**2*q*v^alpha*v^beta/(\\tilde{r}^{\\rho}**3*v_rho**3) - \\frac{dv^\\beta}{d\\tau}*\\tilde{r}^{\\alpha}*q/(\\tilde{r}^{\\rho}*\\tilde{r}_{\\rho}*v^rho*v_rho) + \\frac{dv^\\beta}{d\\tau}*\\tilde{r}^{\\alpha}*\\tilde{r}_{\\beta}*q*v^beta/(\\tilde{r}^{\\rho}**2*\\tilde{r}_{\\rho}*v^rho*v_rho**2) - \\tilde{r}^{\\alpha}*c**2*q*v^beta/(\\tilde{r}^{\\rho}**2*\\tilde{r}_{\\rho}*v^rho*v_rho**2)"
      ]
     },
     "execution_count": 7,
     "metadata": {},
     "output_type": "execute_result"
    }
   ],
   "source": [
    "dcv_aph_Acv_bt_sbbd = dcv_aph_Acv_bt.subs(sp.Derivative(Acv_bt,tau),q*dAdtau)\n",
    "expand(dcv_aph_Acv_bt_sbbd)"
   ]
  },
  {
   "cell_type": "code",
   "execution_count": 8,
   "metadata": {},
   "outputs": [
    {
     "data": {
      "text/latex": [
       "$\\displaystyle \\frac{A_{\\alpha} c q}{\\left(\\tilde{r}^{\\rho}\\right)^{3}} - \\frac{\\tilde{r}^{\\alpha} q v^{\\beta}}{\\left(\\tilde{r}^{\\rho}\\right)^{2} \\tilde{r}_{\\rho} v^{\\rho}}$"
      ],
      "text/plain": [
       "A_alpha*c*q/\\tilde{r}^{\\rho}**3 - \\tilde{r}^{\\alpha}*q*v^beta/(\\tilde{r}^{\\rho}**2*\\tilde{r}_{\\rho}*v^rho)"
      ]
     },
     "execution_count": 8,
     "metadata": {},
     "output_type": "execute_result"
    }
   ],
   "source": [
    "dcv_aph_Acv_bt_sbbd_convective = dcv_aph_Acv_bt_sbbd.subs(dvdtau,0)\n",
    "dcv_aph_Acv_bt_sbbd_convective = expand(dcv_aph_Acv_bt_sbbd_convective.subs(vcn_rho**2,c**2))\n",
    "dcv_aph_Acv_bt_sbbd_convective = expand(dcv_aph_Acv_bt_sbbd_convective.subs(Acv_bt*vcv_aph*vcv_bt,Acn_aph*c**2))\n",
    "dcv_aph_Acv_bt_sbbd_convective"
   ]
  },
  {
   "cell_type": "code",
   "execution_count": 9,
   "metadata": {},
   "outputs": [],
   "source": [
    "dPcv_aph_dtau = expand(q/c*(vcn_bt_ob-q/(m_ob*c)*Acn_bt)*dcv_aph_Acv_bt_sbbd)"
   ]
  },
  {
   "cell_type": "code",
   "execution_count": 39,
   "metadata": {},
   "outputs": [],
   "source": [
    "#shotgun approach to getting all the r*v terms simplified\n",
    "dPcv_aph_dtau_sbbd = dPcv_aph_dtau\n",
    "dPcv_aph_dtau_sbbd = dPcv_aph_dtau.subs(Acv_bt,vcv_bt/(r_mag*gm*c*(1-bta*n_src_ob)))\n",
    "dPcv_aph_dtau_sbbd = dPcv_aph_dtau_sbbd.subs(Acn_bt,vcn_bt/(r_mag*gm*c*(1-bta*n_src_ob)))\n",
    "dPcv_aph_dtau_sbbd = dPcv_aph_dtau_sbbd.subs(vcv_aph*vcv_bt,gup_ab*c**2)\n",
    "dPcv_aph_dtau_sbbd = dPcv_aph_dtau_sbbd.subs(rcv_rho**2*vcn_rho**2,(r_mag*gm*c*(1-bta*n_src_ob))**2)\n",
    "dPcv_aph_dtau_sbbd = dPcv_aph_dtau_sbbd.subs(rcv_rho*vcn_rho,r_mag*gm*c*(1-bta*n_src_ob))\n",
    "dPcv_aph_dtau_sbbd = dPcv_aph_dtau_sbbd.subs(rcn_rho*vcv_rho,r_mag*gm*c*(1-bta*n_src_ob))\n",
    "dPcv_aph_dtau_sbbd = dPcv_aph_dtau_sbbd.subs(rcn_aph*vcv_bt,glw_ab*r_mag*gm*c*(1-bta*n_src_ob))\n",
    "dPcv_aph_dtau_sbbd = dPcv_aph_dtau_sbbd.subs(rcv_aph*vcv_bt,gup_ab*r_mag*gm*c*(1-bta*n_src_ob))\n",
    "dPcv_aph_dtau_sbbd = dPcv_aph_dtau_sbbd.subs(vcn_bt*vcv_bt,c**2)\n",
    "dPcv_aph_dtau_sbbd = dPcv_aph_dtau_sbbd.subs(gup_ab*vcn_bt,vcv_aph)\n",
    "dPcv_aph_dtau_sbbd = dPcv_aph_dtau_sbbd.subs(gup_ab*vcn_bt_ob,vcv_aph_ob)"
   ]
  },
  {
   "cell_type": "code",
   "execution_count": 40,
   "metadata": {},
   "outputs": [],
   "source": [
    "dvdtau_0= c*gm**4*bta_dot_dbta\n",
    "dvdtau_3= c*gm**2*dbta+c*gm**4*bta*(bta_dot_dbta)\n",
    "\n",
    "v0 = gm*c\n",
    "v3 = gm*c*bta\n",
    "r0 = r_mag\n",
    "r3 = r_mag*n_src_ob"
   ]
  },
  {
   "cell_type": "code",
   "execution_count": 43,
   "metadata": {},
   "outputs": [],
   "source": [
    "dPcv_aph_dtau_0 = dPcv_aph_dtau_sbbd\n",
    "dPcv_aph_dtau_0 = dPcv_aph_dtau_0.subs(dvdtau,dvdtau_0)\n",
    "dPcv_aph_dtau_0 = dPcv_aph_dtau_0.subs(vcn_aph,v0)\n",
    "dPcv_aph_dtau_0 = dPcv_aph_dtau_0.subs(vcv_aph,v0)\n",
    "dPcv_aph_dtau_0 = dPcv_aph_dtau_0.subs(vcn_bt,v0)\n",
    "dPcv_aph_dtau_0 = dPcv_aph_dtau_0.subs(vcv_bt,v0)\n",
    "dPcv_aph_dtau_0 = dPcv_aph_dtau_0.subs(rcn_aph,r0)\n",
    "dPcv_aph_dtau_0 = dPcv_aph_dtau_0.subs(rcv_aph,r0)"
   ]
  },
  {
   "cell_type": "code",
   "execution_count": 44,
   "metadata": {
    "scrolled": true
   },
   "outputs": [
    {
     "data": {
      "text/latex": [
       "$\\displaystyle \\frac{q^{2} v^{\\alpha -ob}}{\\gamma^{3} |\\tilde{r}|^{4} \\left(- \\vec{\\beta} |\\hat{n}| + 1\\right)^{4}} - \\frac{g^{\\alpha \\beta} q^{3}}{c \\gamma^{5} m_{ob} |\\tilde{r}|^{5} \\left(- \\vec{\\beta} |\\hat{n}| + 1\\right)^{5}} - \\frac{q^{2} v^{\\alpha -ob}}{c \\gamma^{2} |\\tilde{r}|^{2} \\left(- \\vec{\\beta} |\\hat{n}| + 1\\right)^{2}} + \\frac{q^{3}}{c^{2} \\gamma^{2} m_{ob} |\\tilde{r}|^{3} \\left(- \\vec{\\beta} |\\hat{n}| + 1\\right)^{3}}$"
      ],
      "text/plain": [
       "q**2*v^alpha^-ob/(gamma**3*|\\tilde{r}|**4*(-\\vec{\\beta}*|\\hat{n}| + 1)**4) - g^alpha^beta*q**3/(c*gamma**5*m_{ob}*|\\tilde{r}|**5*(-\\vec{\\beta}*|\\hat{n}| + 1)**5) - q**2*v^alpha^-ob/(c*gamma**2*|\\tilde{r}|**2*(-\\vec{\\beta}*|\\hat{n}| + 1)**2) + q**3/(c**2*gamma**2*m_{ob}*|\\tilde{r}|**3*(-\\vec{\\beta}*|\\hat{n}| + 1)**3)"
      ]
     },
     "execution_count": 44,
     "metadata": {},
     "output_type": "execute_result"
    }
   ],
   "source": [
    "#convective scalar\n",
    "(dPcv_aph_dtau_0).subs(bta_dot_dbta,0)"
   ]
  },
  {
   "cell_type": "code",
   "execution_count": 45,
   "metadata": {},
   "outputs": [
    {
     "data": {
      "text/latex": [
       "$\\displaystyle - \\frac{\\tilde{r}_{\\beta} \\vec{\\beta}\\cdot\\dot{\\vec{\\beta}} \\gamma q^{2} v^{\\alpha -ob}}{c |\\tilde{r}|^{4} \\left(- \\vec{\\beta} |\\hat{n}| + 1\\right)^{4}} + \\frac{\\tilde{r}_{\\beta} \\vec{\\beta}\\cdot\\dot{\\vec{\\beta}} g^{\\alpha \\beta} q^{3}}{c^{2} \\gamma m_{ob} |\\tilde{r}|^{5} \\left(- \\vec{\\beta} |\\hat{n}| + 1\\right)^{5}} + \\frac{\\tilde{r}_{\\beta} \\vec{\\beta}\\cdot\\dot{\\vec{\\beta}} \\gamma^{2} q^{2} v^{\\alpha -ob}}{c^{2} |\\tilde{r}|^{2} \\left(- \\vec{\\beta} |\\hat{n}| + 1\\right)^{2}} - \\frac{\\tilde{r}_{\\beta} \\vec{\\beta}\\cdot\\dot{\\vec{\\beta}} \\gamma^{2} q^{3}}{c^{3} m_{ob} |\\tilde{r}|^{3} \\left(- \\vec{\\beta} |\\hat{n}| + 1\\right)^{3}} + \\frac{\\vec{\\beta}\\cdot\\dot{\\vec{\\beta}} \\gamma q^{2} v^{\\alpha -ob}}{c |\\tilde{r}|^{3} \\left(- \\vec{\\beta} |\\hat{n}| + 1\\right)^{3}} - \\frac{\\vec{\\beta}\\cdot\\dot{\\vec{\\beta}} \\gamma^{2} q^{2} v_{\\beta -ob}}{c^{2} |\\tilde{r}| \\left(- \\vec{\\beta} |\\hat{n}| + 1\\right)^{2}} - \\frac{\\vec{\\beta}\\cdot\\dot{\\vec{\\beta}} \\gamma q^{3}}{c^{2} m_{ob} |\\tilde{r}|^{4} \\left(- \\vec{\\beta} |\\hat{n}| + 1\\right)^{4}} + \\frac{\\vec{\\beta}\\cdot\\dot{\\vec{\\beta}} \\gamma^{2} q^{3}}{c^{3} m_{ob} |\\tilde{r}|^{2} \\left(- \\vec{\\beta} |\\hat{n}| + 1\\right)^{3}} + \\frac{q^{2} v^{\\alpha -ob}}{\\gamma^{3} |\\tilde{r}|^{4} \\left(- \\vec{\\beta} |\\hat{n}| + 1\\right)^{4}} - \\frac{g^{\\alpha \\beta} q^{3}}{c \\gamma^{5} m_{ob} |\\tilde{r}|^{5} \\left(- \\vec{\\beta} |\\hat{n}| + 1\\right)^{5}} - \\frac{q^{2} v^{\\alpha -ob}}{c \\gamma^{2} |\\tilde{r}|^{2} \\left(- \\vec{\\beta} |\\hat{n}| + 1\\right)^{2}} + \\frac{q^{3}}{c^{2} \\gamma^{2} m_{ob} |\\tilde{r}|^{3} \\left(- \\vec{\\beta} |\\hat{n}| + 1\\right)^{3}}$"
      ],
      "text/plain": [
       "-\\tilde{r}_{\\beta}*\\vec{\\beta}\\cdot\\dot{\\vec{\\beta}}*gamma*q**2*v^alpha^-ob/(c*|\\tilde{r}|**4*(-\\vec{\\beta}*|\\hat{n}| + 1)**4) + \\tilde{r}_{\\beta}*\\vec{\\beta}\\cdot\\dot{\\vec{\\beta}}*g^alpha^beta*q**3/(c**2*gamma*m_{ob}*|\\tilde{r}|**5*(-\\vec{\\beta}*|\\hat{n}| + 1)**5) + \\tilde{r}_{\\beta}*\\vec{\\beta}\\cdot\\dot{\\vec{\\beta}}*gamma**2*q**2*v^alpha^-ob/(c**2*|\\tilde{r}|**2*(-\\vec{\\beta}*|\\hat{n}| + 1)**2) - \\tilde{r}_{\\beta}*\\vec{\\beta}\\cdot\\dot{\\vec{\\beta}}*gamma**2*q**3/(c**3*m_{ob}*|\\tilde{r}|**3*(-\\vec{\\beta}*|\\hat{n}| + 1)**3) + \\vec{\\beta}\\cdot\\dot{\\vec{\\beta}}*gamma*q**2*v^alpha^-ob/(c*|\\tilde{r}|**3*(-\\vec{\\beta}*|\\hat{n}| + 1)**3) - \\vec{\\beta}\\cdot\\dot{\\vec{\\beta}}*gamma**2*q**2*v_beta_-ob/(c**2*|\\tilde{r}|*(-\\vec{\\beta}*|\\hat{n}| + 1)**2) - \\vec{\\beta}\\cdot\\dot{\\vec{\\beta}}*gamma*q**3/(c**2*m_{ob}*|\\tilde{r}|**4*(-\\vec{\\beta}*|\\hat{n}| + 1)**4) + \\vec{\\beta}\\cdot\\dot{\\vec{\\beta}}*gamma**2*q**3/(c**3*m_{ob}*|\\tilde{r}|**2*(-\\vec{\\beta}*|\\hat{n}| + 1)**3) + q**2*v^alpha^-ob/(gamma**3*|\\tilde{r}|**4*(-\\vec{\\beta}*|\\hat{n}| + 1)**4) - g^alpha^beta*q**3/(c*gamma**5*m_{ob}*|\\tilde{r}|**5*(-\\vec{\\beta}*|\\hat{n}| + 1)**5) - q**2*v^alpha^-ob/(c*gamma**2*|\\tilde{r}|**2*(-\\vec{\\beta}*|\\hat{n}| + 1)**2) + q**3/(c**2*gamma**2*m_{ob}*|\\tilde{r}|**3*(-\\vec{\\beta}*|\\hat{n}| + 1)**3)"
      ]
     },
     "execution_count": 45,
     "metadata": {},
     "output_type": "execute_result"
    }
   ],
   "source": [
    "#full scalar\n",
    "(dPcv_aph_dtau_0)"
   ]
  },
  {
   "cell_type": "code",
   "execution_count": 46,
   "metadata": {},
   "outputs": [
    {
     "data": {
      "text/latex": [
       "$\\displaystyle \\frac{\\tilde{r}_{\\beta} \\vec{\\beta}\\cdot\\dot{\\vec{\\beta}} q^{3}}{c^{2} \\gamma m_{ob} |\\tilde{r}|^{5} \\left(- \\vec{\\beta} |\\hat{n}| + 1\\right)^{5}} - \\frac{\\tilde{r}_{\\beta} \\vec{\\beta}\\cdot\\dot{\\vec{\\beta}} \\gamma^{2} q^{3}}{c^{3} m_{ob} |\\tilde{r}|^{3} \\left(- \\vec{\\beta} |\\hat{n}| + 1\\right)^{3}} - \\frac{\\vec{\\beta}\\cdot\\dot{\\vec{\\beta}} \\gamma q^{3}}{c^{2} m_{ob} |\\tilde{r}|^{4} \\left(- \\vec{\\beta} |\\hat{n}| + 1\\right)^{4}} + \\frac{\\vec{\\beta}\\cdot\\dot{\\vec{\\beta}} \\gamma^{2} q^{3}}{c^{3} m_{ob} |\\tilde{r}|^{2} \\left(- \\vec{\\beta} |\\hat{n}| + 1\\right)^{3}} - \\frac{q^{3}}{c \\gamma^{5} m_{ob} |\\tilde{r}|^{5} \\left(- \\vec{\\beta} |\\hat{n}| + 1\\right)^{5}} + \\frac{q^{3}}{c^{2} \\gamma^{2} m_{ob} |\\tilde{r}|^{3} \\left(- \\vec{\\beta} |\\hat{n}| + 1\\right)^{3}}$"
      ],
      "text/plain": [
       "\\tilde{r}_{\\beta}*\\vec{\\beta}\\cdot\\dot{\\vec{\\beta}}*q**3/(c**2*gamma*m_{ob}*|\\tilde{r}|**5*(-\\vec{\\beta}*|\\hat{n}| + 1)**5) - \\tilde{r}_{\\beta}*\\vec{\\beta}\\cdot\\dot{\\vec{\\beta}}*gamma**2*q**3/(c**3*m_{ob}*|\\tilde{r}|**3*(-\\vec{\\beta}*|\\hat{n}| + 1)**3) - \\vec{\\beta}\\cdot\\dot{\\vec{\\beta}}*gamma*q**3/(c**2*m_{ob}*|\\tilde{r}|**4*(-\\vec{\\beta}*|\\hat{n}| + 1)**4) + \\vec{\\beta}\\cdot\\dot{\\vec{\\beta}}*gamma**2*q**3/(c**3*m_{ob}*|\\tilde{r}|**2*(-\\vec{\\beta}*|\\hat{n}| + 1)**3) - q**3/(c*gamma**5*m_{ob}*|\\tilde{r}|**5*(-\\vec{\\beta}*|\\hat{n}| + 1)**5) + q**3/(c**2*gamma**2*m_{ob}*|\\tilde{r}|**3*(-\\vec{\\beta}*|\\hat{n}| + 1)**3)"
      ]
     },
     "execution_count": 46,
     "metadata": {},
     "output_type": "execute_result"
    }
   ],
   "source": [
    "#full scalar, objective rest frame\n",
    "(dPcv_aph_dtau_0).subs([[vcv_aph_ob,0],[vcn_bt_ob,0],[gup_ab,1],[glw_ab,1]])"
   ]
  },
  {
   "cell_type": "code",
   "execution_count": 47,
   "metadata": {},
   "outputs": [],
   "source": [
    "dPcv_aph_dtau_3 = dPcv_aph_dtau_sbbd\n",
    "dPcv_aph_dtau_3 = dPcv_aph_dtau_3.subs(dvdtau,dvdtau_3)\n",
    "dPcv_aph_dtau_3 = dPcv_aph_dtau_3.subs(vcn_aph,v3)\n",
    "dPcv_aph_dtau_3 = dPcv_aph_dtau_3.subs(vcv_aph,v3)\n",
    "dPcv_aph_dtau_3 = dPcv_aph_dtau_3.subs(vcn_bt,v3)\n",
    "dPcv_aph_dtau_3 = dPcv_aph_dtau_3.subs(vcv_bt,v3)\n",
    "dPcv_aph_dtau_3 = dPcv_aph_dtau_3.subs(rcn_aph,r3)\n",
    "dPcv_aph_dtau_3 = dPcv_aph_dtau_3.subs(rcv_aph,r3)"
   ]
  },
  {
   "cell_type": "code",
   "execution_count": 48,
   "metadata": {},
   "outputs": [],
   "source": [
    "dPcv_aph_dtau_3 = dPcv_aph_dtau_3.subs(dvdtau,dvdtau_3)"
   ]
  },
  {
   "cell_type": "code",
   "execution_count": 49,
   "metadata": {},
   "outputs": [
    {
     "data": {
      "text/latex": [
       "$\\displaystyle - \\frac{\\tilde{r}_{\\beta} \\vec{\\beta} q^{2} v^{\\alpha -ob} \\left(\\dot{\\vec{\\beta}} c \\gamma^{2} + \\vec{\\beta} \\vec{\\beta}\\cdot\\dot{\\vec{\\beta}} c \\gamma^{4}\\right)}{c^{2} \\gamma^{3} |\\tilde{r}|^{4} \\left(- \\vec{\\beta} |\\hat{n}| + 1\\right)^{4}} - \\frac{\\tilde{r}_{\\beta} \\vec{\\beta} q^{3} \\left(\\dot{\\vec{\\beta}} c \\gamma^{2} + \\vec{\\beta} \\vec{\\beta}\\cdot\\dot{\\vec{\\beta}} c \\gamma^{4}\\right)}{c^{4} \\gamma^{2} m_{ob} |\\tilde{r}|^{3} \\left(- \\vec{\\beta} |\\hat{n}| + 1\\right)^{3}} + \\frac{\\tilde{r}_{\\beta} g^{\\alpha \\beta} q^{3} \\left(\\dot{\\vec{\\beta}} c \\gamma^{2} + \\vec{\\beta} \\vec{\\beta}\\cdot\\dot{\\vec{\\beta}} c \\gamma^{4}\\right)}{c^{3} \\gamma^{5} m_{ob} |\\tilde{r}|^{5} \\left(- \\vec{\\beta} |\\hat{n}| + 1\\right)^{5}} + \\frac{\\tilde{r}_{\\beta} q^{2} v^{\\alpha -ob} \\left(\\dot{\\vec{\\beta}} c \\gamma^{2} + \\vec{\\beta} \\vec{\\beta}\\cdot\\dot{\\vec{\\beta}} c \\gamma^{4}\\right)}{c^{3} \\gamma^{2} |\\tilde{r}|^{2} \\left(- \\vec{\\beta} |\\hat{n}| + 1\\right)^{2}} + \\frac{\\vec{\\beta} q^{2} v^{\\alpha -ob}}{\\gamma^{3} |\\tilde{r}|^{4} \\left(- \\vec{\\beta} |\\hat{n}| + 1\\right)^{4}} + \\frac{\\vec{\\beta} q^{3}}{c^{2} \\gamma^{2} m_{ob} |\\tilde{r}|^{3} \\left(- \\vec{\\beta} |\\hat{n}| + 1\\right)^{3}} - \\frac{\\vec{\\beta} q^{3} \\left(\\dot{\\vec{\\beta}} c \\gamma^{2} + \\vec{\\beta} \\vec{\\beta}\\cdot\\dot{\\vec{\\beta}} c \\gamma^{4}\\right)}{c^{3} \\gamma^{3} m_{ob} |\\tilde{r}|^{4} \\left(- \\vec{\\beta} |\\hat{n}| + 1\\right)^{4}} + \\frac{\\vec{\\beta} q^{3} |\\hat{n}| \\left(\\dot{\\vec{\\beta}} c \\gamma^{2} + \\vec{\\beta} \\vec{\\beta}\\cdot\\dot{\\vec{\\beta}} c \\gamma^{4}\\right)}{c^{4} \\gamma^{2} m_{ob} |\\tilde{r}|^{2} \\left(- \\vec{\\beta} |\\hat{n}| + 1\\right)^{3}} - \\frac{g^{\\alpha \\beta} q^{3}}{c \\gamma^{5} m_{ob} |\\tilde{r}|^{5} \\left(- \\vec{\\beta} |\\hat{n}| + 1\\right)^{5}} - \\frac{q^{2} v^{\\alpha -ob}}{c \\gamma^{2} |\\tilde{r}|^{2} \\left(- \\vec{\\beta} |\\hat{n}| + 1\\right)^{2}} + \\frac{q^{2} v^{\\alpha -ob} \\left(\\dot{\\vec{\\beta}} c \\gamma^{2} + \\vec{\\beta} \\vec{\\beta}\\cdot\\dot{\\vec{\\beta}} c \\gamma^{4}\\right)}{c^{2} \\gamma^{3} |\\tilde{r}|^{3} \\left(- \\vec{\\beta} |\\hat{n}| + 1\\right)^{3}} - \\frac{q^{2} v_{\\beta -ob} |\\hat{n}| \\left(\\dot{\\vec{\\beta}} c \\gamma^{2} + \\vec{\\beta} \\vec{\\beta}\\cdot\\dot{\\vec{\\beta}} c \\gamma^{4}\\right)}{c^{3} \\gamma^{2} |\\tilde{r}| \\left(- \\vec{\\beta} |\\hat{n}| + 1\\right)^{2}}$"
      ],
      "text/plain": [
       "-\\tilde{r}_{\\beta}*\\vec{\\beta}*q**2*v^alpha^-ob*(\\dot{\\vec{\\beta}}*c*gamma**2 + \\vec{\\beta}*\\vec{\\beta}\\cdot\\dot{\\vec{\\beta}}*c*gamma**4)/(c**2*gamma**3*|\\tilde{r}|**4*(-\\vec{\\beta}*|\\hat{n}| + 1)**4) - \\tilde{r}_{\\beta}*\\vec{\\beta}*q**3*(\\dot{\\vec{\\beta}}*c*gamma**2 + \\vec{\\beta}*\\vec{\\beta}\\cdot\\dot{\\vec{\\beta}}*c*gamma**4)/(c**4*gamma**2*m_{ob}*|\\tilde{r}|**3*(-\\vec{\\beta}*|\\hat{n}| + 1)**3) + \\tilde{r}_{\\beta}*g^alpha^beta*q**3*(\\dot{\\vec{\\beta}}*c*gamma**2 + \\vec{\\beta}*\\vec{\\beta}\\cdot\\dot{\\vec{\\beta}}*c*gamma**4)/(c**3*gamma**5*m_{ob}*|\\tilde{r}|**5*(-\\vec{\\beta}*|\\hat{n}| + 1)**5) + \\tilde{r}_{\\beta}*q**2*v^alpha^-ob*(\\dot{\\vec{\\beta}}*c*gamma**2 + \\vec{\\beta}*\\vec{\\beta}\\cdot\\dot{\\vec{\\beta}}*c*gamma**4)/(c**3*gamma**2*|\\tilde{r}|**2*(-\\vec{\\beta}*|\\hat{n}| + 1)**2) + \\vec{\\beta}*q**2*v^alpha^-ob/(gamma**3*|\\tilde{r}|**4*(-\\vec{\\beta}*|\\hat{n}| + 1)**4) + \\vec{\\beta}*q**3/(c**2*gamma**2*m_{ob}*|\\tilde{r}|**3*(-\\vec{\\beta}*|\\hat{n}| + 1)**3) - \\vec{\\beta}*q**3*(\\dot{\\vec{\\beta}}*c*gamma**2 + \\vec{\\beta}*\\vec{\\beta}\\cdot\\dot{\\vec{\\beta}}*c*gamma**4)/(c**3*gamma**3*m_{ob}*|\\tilde{r}|**4*(-\\vec{\\beta}*|\\hat{n}| + 1)**4) + \\vec{\\beta}*q**3*|\\hat{n}|*(\\dot{\\vec{\\beta}}*c*gamma**2 + \\vec{\\beta}*\\vec{\\beta}\\cdot\\dot{\\vec{\\beta}}*c*gamma**4)/(c**4*gamma**2*m_{ob}*|\\tilde{r}|**2*(-\\vec{\\beta}*|\\hat{n}| + 1)**3) - g^alpha^beta*q**3/(c*gamma**5*m_{ob}*|\\tilde{r}|**5*(-\\vec{\\beta}*|\\hat{n}| + 1)**5) - q**2*v^alpha^-ob/(c*gamma**2*|\\tilde{r}|**2*(-\\vec{\\beta}*|\\hat{n}| + 1)**2) + q**2*v^alpha^-ob*(\\dot{\\vec{\\beta}}*c*gamma**2 + \\vec{\\beta}*\\vec{\\beta}\\cdot\\dot{\\vec{\\beta}}*c*gamma**4)/(c**2*gamma**3*|\\tilde{r}|**3*(-\\vec{\\beta}*|\\hat{n}| + 1)**3) - q**2*v_beta_-ob*|\\hat{n}|*(\\dot{\\vec{\\beta}}*c*gamma**2 + \\vec{\\beta}*\\vec{\\beta}\\cdot\\dot{\\vec{\\beta}}*c*gamma**4)/(c**3*gamma**2*|\\tilde{r}|*(-\\vec{\\beta}*|\\hat{n}| + 1)**2)"
      ]
     },
     "execution_count": 49,
     "metadata": {},
     "output_type": "execute_result"
    }
   ],
   "source": [
    "#full 3-vector\n",
    "(dPcv_aph_dtau_3)"
   ]
  },
  {
   "cell_type": "code",
   "execution_count": 50,
   "metadata": {},
   "outputs": [
    {
     "data": {
      "text/latex": [
       "$\\displaystyle \\frac{\\vec{\\beta} q^{3}}{- \\vec{\\beta}^{3} c^{2} \\gamma^{2} m_{ob} |\\hat{n}|^{3} |\\tilde{r}|^{3} + 3 \\vec{\\beta}^{2} c^{2} \\gamma^{2} m_{ob} |\\hat{n}|^{2} |\\tilde{r}|^{3} - 3 \\vec{\\beta} c^{2} \\gamma^{2} m_{ob} |\\hat{n}| |\\tilde{r}|^{3} + c^{2} \\gamma^{2} m_{ob} |\\tilde{r}|^{3}} + \\frac{\\vec{\\beta} q^{2} v^{\\alpha -ob}}{\\vec{\\beta}^{4} \\gamma^{3} |\\hat{n}|^{4} |\\tilde{r}|^{4} - 4 \\vec{\\beta}^{3} \\gamma^{3} |\\hat{n}|^{3} |\\tilde{r}|^{4} + 6 \\vec{\\beta}^{2} \\gamma^{3} |\\hat{n}|^{2} |\\tilde{r}|^{4} - 4 \\vec{\\beta} \\gamma^{3} |\\hat{n}| |\\tilde{r}|^{4} + \\gamma^{3} |\\tilde{r}|^{4}} - \\frac{g^{\\alpha \\beta} q^{3}}{- \\vec{\\beta}^{5} c \\gamma^{5} m_{ob} |\\hat{n}|^{5} |\\tilde{r}|^{5} + 5 \\vec{\\beta}^{4} c \\gamma^{5} m_{ob} |\\hat{n}|^{4} |\\tilde{r}|^{5} - 10 \\vec{\\beta}^{3} c \\gamma^{5} m_{ob} |\\hat{n}|^{3} |\\tilde{r}|^{5} + 10 \\vec{\\beta}^{2} c \\gamma^{5} m_{ob} |\\hat{n}|^{2} |\\tilde{r}|^{5} - 5 \\vec{\\beta} c \\gamma^{5} m_{ob} |\\hat{n}| |\\tilde{r}|^{5} + c \\gamma^{5} m_{ob} |\\tilde{r}|^{5}} - \\frac{q^{2} v^{\\alpha -ob}}{\\vec{\\beta}^{2} c \\gamma^{2} |\\hat{n}|^{2} |\\tilde{r}|^{2} - 2 \\vec{\\beta} c \\gamma^{2} |\\hat{n}| |\\tilde{r}|^{2} + c \\gamma^{2} |\\tilde{r}|^{2}}$"
      ],
      "text/plain": [
       "\\vec{\\beta}*q**3/(-\\vec{\\beta}**3*c**2*gamma**2*m_{ob}*|\\hat{n}|**3*|\\tilde{r}|**3 + 3*\\vec{\\beta}**2*c**2*gamma**2*m_{ob}*|\\hat{n}|**2*|\\tilde{r}|**3 - 3*\\vec{\\beta}*c**2*gamma**2*m_{ob}*|\\hat{n}|*|\\tilde{r}|**3 + c**2*gamma**2*m_{ob}*|\\tilde{r}|**3) + \\vec{\\beta}*q**2*v^alpha^-ob/(\\vec{\\beta}**4*gamma**3*|\\hat{n}|**4*|\\tilde{r}|**4 - 4*\\vec{\\beta}**3*gamma**3*|\\hat{n}|**3*|\\tilde{r}|**4 + 6*\\vec{\\beta}**2*gamma**3*|\\hat{n}|**2*|\\tilde{r}|**4 - 4*\\vec{\\beta}*gamma**3*|\\hat{n}|*|\\tilde{r}|**4 + gamma**3*|\\tilde{r}|**4) - g^alpha^beta*q**3/(-\\vec{\\beta}**5*c*gamma**5*m_{ob}*|\\hat{n}|**5*|\\tilde{r}|**5 + 5*\\vec{\\beta}**4*c*gamma**5*m_{ob}*|\\hat{n}|**4*|\\tilde{r}|**5 - 10*\\vec{\\beta}**3*c*gamma**5*m_{ob}*|\\hat{n}|**3*|\\tilde{r}|**5 + 10*\\vec{\\beta}**2*c*gamma**5*m_{ob}*|\\hat{n}|**2*|\\tilde{r}|**5 - 5*\\vec{\\beta}*c*gamma**5*m_{ob}*|\\hat{n}|*|\\tilde{r}|**5 + c*gamma**5*m_{ob}*|\\tilde{r}|**5) - q**2*v^alpha^-ob/(\\vec{\\beta}**2*c*gamma**2*|\\hat{n}|**2*|\\tilde{r}|**2 - 2*\\vec{\\beta}*c*gamma**2*|\\hat{n}|*|\\tilde{r}|**2 + c*gamma**2*|\\tilde{r}|**2)"
      ]
     },
     "execution_count": 50,
     "metadata": {},
     "output_type": "execute_result"
    }
   ],
   "source": [
    "#convective 3-vector\n",
    "expand(dPcv_aph_dtau_3.subs([[bta_dot_dbta,0],[dbta,0]]))"
   ]
  },
  {
   "cell_type": "code",
   "execution_count": 51,
   "metadata": {},
   "outputs": [
    {
     "data": {
      "text/latex": [
       "$\\displaystyle - \\frac{\\tilde{r}_{\\beta} \\vec{\\beta}\\cdot\\dot{\\vec{\\beta}} \\gamma q^{2}}{|\\tilde{r}|^{4} \\left(- \\vec{\\beta} |\\hat{n}| + 1\\right)^{4}} + \\frac{\\tilde{r}_{\\beta} \\vec{\\beta}\\cdot\\dot{\\vec{\\beta}} \\gamma^{2} q^{2}}{c |\\tilde{r}|^{2} \\left(- \\vec{\\beta} |\\hat{n}| + 1\\right)^{2}} + \\frac{\\tilde{r}_{\\beta} \\vec{\\beta}\\cdot\\dot{\\vec{\\beta}} q^{3}}{c^{2} \\gamma m_{ob} |\\tilde{r}|^{5} \\left(- \\vec{\\beta} |\\hat{n}| + 1\\right)^{5}} - \\frac{\\tilde{r}_{\\beta} \\vec{\\beta}\\cdot\\dot{\\vec{\\beta}} \\gamma^{2} q^{3}}{c^{3} m_{ob} |\\tilde{r}|^{3} \\left(- \\vec{\\beta} |\\hat{n}| + 1\\right)^{3}} + \\frac{\\vec{\\beta}\\cdot\\dot{\\vec{\\beta}} \\gamma q^{2}}{|\\tilde{r}|^{3} \\left(- \\vec{\\beta} |\\hat{n}| + 1\\right)^{3}} - \\frac{\\vec{\\beta}\\cdot\\dot{\\vec{\\beta}} \\gamma^{2} q^{2}}{c |\\tilde{r}| \\left(- \\vec{\\beta} |\\hat{n}| + 1\\right)^{2}} - \\frac{\\vec{\\beta}\\cdot\\dot{\\vec{\\beta}} \\gamma q^{3}}{c^{2} m_{ob} |\\tilde{r}|^{4} \\left(- \\vec{\\beta} |\\hat{n}| + 1\\right)^{4}} + \\frac{\\vec{\\beta}\\cdot\\dot{\\vec{\\beta}} \\gamma^{2} q^{3}}{c^{3} m_{ob} |\\tilde{r}|^{2} \\left(- \\vec{\\beta} |\\hat{n}| + 1\\right)^{3}} + \\frac{c q^{2}}{\\gamma^{3} |\\tilde{r}|^{4} \\left(- \\vec{\\beta} |\\hat{n}| + 1\\right)^{4}} - \\frac{q^{2}}{\\gamma^{2} |\\tilde{r}|^{2} \\left(- \\vec{\\beta} |\\hat{n}| + 1\\right)^{2}} - \\frac{q^{3}}{c \\gamma^{5} m_{ob} |\\tilde{r}|^{5} \\left(- \\vec{\\beta} |\\hat{n}| + 1\\right)^{5}} + \\frac{q^{3}}{c^{2} \\gamma^{2} m_{ob} |\\tilde{r}|^{3} \\left(- \\vec{\\beta} |\\hat{n}| + 1\\right)^{3}}$"
      ],
      "text/plain": [
       "-\\tilde{r}_{\\beta}*\\vec{\\beta}\\cdot\\dot{\\vec{\\beta}}*gamma*q**2/(|\\tilde{r}|**4*(-\\vec{\\beta}*|\\hat{n}| + 1)**4) + \\tilde{r}_{\\beta}*\\vec{\\beta}\\cdot\\dot{\\vec{\\beta}}*gamma**2*q**2/(c*|\\tilde{r}|**2*(-\\vec{\\beta}*|\\hat{n}| + 1)**2) + \\tilde{r}_{\\beta}*\\vec{\\beta}\\cdot\\dot{\\vec{\\beta}}*q**3/(c**2*gamma*m_{ob}*|\\tilde{r}|**5*(-\\vec{\\beta}*|\\hat{n}| + 1)**5) - \\tilde{r}_{\\beta}*\\vec{\\beta}\\cdot\\dot{\\vec{\\beta}}*gamma**2*q**3/(c**3*m_{ob}*|\\tilde{r}|**3*(-\\vec{\\beta}*|\\hat{n}| + 1)**3) + \\vec{\\beta}\\cdot\\dot{\\vec{\\beta}}*gamma*q**2/(|\\tilde{r}|**3*(-\\vec{\\beta}*|\\hat{n}| + 1)**3) - \\vec{\\beta}\\cdot\\dot{\\vec{\\beta}}*gamma**2*q**2/(c*|\\tilde{r}|*(-\\vec{\\beta}*|\\hat{n}| + 1)**2) - \\vec{\\beta}\\cdot\\dot{\\vec{\\beta}}*gamma*q**3/(c**2*m_{ob}*|\\tilde{r}|**4*(-\\vec{\\beta}*|\\hat{n}| + 1)**4) + \\vec{\\beta}\\cdot\\dot{\\vec{\\beta}}*gamma**2*q**3/(c**3*m_{ob}*|\\tilde{r}|**2*(-\\vec{\\beta}*|\\hat{n}| + 1)**3) + c*q**2/(gamma**3*|\\tilde{r}|**4*(-\\vec{\\beta}*|\\hat{n}| + 1)**4) - q**2/(gamma**2*|\\tilde{r}|**2*(-\\vec{\\beta}*|\\hat{n}| + 1)**2) - q**3/(c*gamma**5*m_{ob}*|\\tilde{r}|**5*(-\\vec{\\beta}*|\\hat{n}| + 1)**5) + q**3/(c**2*gamma**2*m_{ob}*|\\tilde{r}|**3*(-\\vec{\\beta}*|\\hat{n}| + 1)**3)"
      ]
     },
     "execution_count": 51,
     "metadata": {},
     "output_type": "execute_result"
    }
   ],
   "source": [
    "#full scalar, objective rest frame\n",
    "dP0dtau0 = (dPcv_aph_dtau_0).subs([[vcv_aph_ob,c],[vcn_bt_ob,c],[gup_ab,1],[glw_ab,1]])\n",
    "dP0dtau0"
   ]
  },
  {
   "cell_type": "code",
   "execution_count": 57,
   "metadata": {},
   "outputs": [
    {
     "data": {
      "text/latex": [
       "$\\displaystyle - \\frac{\\tilde{r}_{\\beta} \\vec{\\beta} q^{3} \\left(\\dot{\\vec{\\beta}} c \\gamma^{2} + \\vec{\\beta} \\vec{\\beta}\\cdot\\dot{\\vec{\\beta}} c \\gamma^{4}\\right)}{c^{4} \\gamma^{2} m_{ob} |\\tilde{r}|^{3} \\left(- \\vec{\\beta} |\\hat{n}| + 1\\right)^{3}} - \\frac{\\tilde{r}_{\\beta} q^{3} \\left(\\dot{\\vec{\\beta}} c \\gamma^{2} + \\vec{\\beta} \\vec{\\beta}\\cdot\\dot{\\vec{\\beta}} c \\gamma^{4}\\right)}{c^{3} \\gamma^{5} m_{ob} |\\tilde{r}|^{5} \\left(- \\vec{\\beta} |\\hat{n}| + 1\\right)^{5}} + \\frac{\\vec{\\beta} q^{3}}{c^{2} \\gamma^{2} m_{ob} |\\tilde{r}|^{3} \\left(- \\vec{\\beta} |\\hat{n}| + 1\\right)^{3}} - \\frac{\\vec{\\beta} q^{3} \\left(\\dot{\\vec{\\beta}} c \\gamma^{2} + \\vec{\\beta} \\vec{\\beta}\\cdot\\dot{\\vec{\\beta}} c \\gamma^{4}\\right)}{c^{3} \\gamma^{3} m_{ob} |\\tilde{r}|^{4} \\left(- \\vec{\\beta} |\\hat{n}| + 1\\right)^{4}} + \\frac{\\vec{\\beta} q^{3} |\\hat{n}| \\left(\\dot{\\vec{\\beta}} c \\gamma^{2} + \\vec{\\beta} \\vec{\\beta}\\cdot\\dot{\\vec{\\beta}} c \\gamma^{4}\\right)}{c^{4} \\gamma^{2} m_{ob} |\\tilde{r}|^{2} \\left(- \\vec{\\beta} |\\hat{n}| + 1\\right)^{3}} + \\frac{q^{3}}{c \\gamma^{5} m_{ob} |\\tilde{r}|^{5} \\left(- \\vec{\\beta} |\\hat{n}| + 1\\right)^{5}}$"
      ],
      "text/plain": [
       "-\\tilde{r}_{\\beta}*\\vec{\\beta}*q**3*(\\dot{\\vec{\\beta}}*c*gamma**2 + \\vec{\\beta}*\\vec{\\beta}\\cdot\\dot{\\vec{\\beta}}*c*gamma**4)/(c**4*gamma**2*m_{ob}*|\\tilde{r}|**3*(-\\vec{\\beta}*|\\hat{n}| + 1)**3) - \\tilde{r}_{\\beta}*q**3*(\\dot{\\vec{\\beta}}*c*gamma**2 + \\vec{\\beta}*\\vec{\\beta}\\cdot\\dot{\\vec{\\beta}}*c*gamma**4)/(c**3*gamma**5*m_{ob}*|\\tilde{r}|**5*(-\\vec{\\beta}*|\\hat{n}| + 1)**5) + \\vec{\\beta}*q**3/(c**2*gamma**2*m_{ob}*|\\tilde{r}|**3*(-\\vec{\\beta}*|\\hat{n}| + 1)**3) - \\vec{\\beta}*q**3*(\\dot{\\vec{\\beta}}*c*gamma**2 + \\vec{\\beta}*\\vec{\\beta}\\cdot\\dot{\\vec{\\beta}}*c*gamma**4)/(c**3*gamma**3*m_{ob}*|\\tilde{r}|**4*(-\\vec{\\beta}*|\\hat{n}| + 1)**4) + \\vec{\\beta}*q**3*|\\hat{n}|*(\\dot{\\vec{\\beta}}*c*gamma**2 + \\vec{\\beta}*\\vec{\\beta}\\cdot\\dot{\\vec{\\beta}}*c*gamma**4)/(c**4*gamma**2*m_{ob}*|\\tilde{r}|**2*(-\\vec{\\beta}*|\\hat{n}| + 1)**3) + q**3/(c*gamma**5*m_{ob}*|\\tilde{r}|**5*(-\\vec{\\beta}*|\\hat{n}| + 1)**5)"
      ]
     },
     "execution_count": 57,
     "metadata": {},
     "output_type": "execute_result"
    }
   ],
   "source": [
    "#3-vector, objective rest frame\n",
    "dP3dtau3 = (dPcv_aph_dtau_3).subs([[vcv_aph_ob,0],[vcn_bt_ob,0],[gup_ab,-1],[glw_ab,-1]])\n",
    "(dPcv_aph_dtau_3).subs([[vcv_aph_ob,0],[vcn_bt_ob,0],[gup_ab,-1],[glw_ab,-1]])"
   ]
  },
  {
   "cell_type": "code",
   "execution_count": 53,
   "metadata": {},
   "outputs": [
    {
     "data": {
      "text/latex": [
       "$\\displaystyle - \\frac{\\tilde{r}_{\\beta} \\vec{\\beta} q^{3} \\left(\\dot{\\vec{\\beta}} c \\gamma^{2} + \\vec{\\beta} \\vec{\\beta}\\cdot\\dot{\\vec{\\beta}} c \\gamma^{4}\\right)}{c^{4} \\gamma^{2} m_{ob} |\\tilde{r}|^{3} \\left(- \\vec{\\beta} |\\hat{n}| + 1\\right)^{3}} - \\frac{\\tilde{r}_{\\beta} q^{3} \\left(\\dot{\\vec{\\beta}} c \\gamma^{2} + \\vec{\\beta} \\vec{\\beta}\\cdot\\dot{\\vec{\\beta}} c \\gamma^{4}\\right)}{c^{3} \\gamma^{5} m_{ob} |\\tilde{r}|^{5} \\left(- \\vec{\\beta} |\\hat{n}| + 1\\right)^{5}} - \\frac{\\vec{\\beta} q^{2}}{c |\\tilde{r}| \\left(- \\vec{\\beta} |\\hat{n}| + 1\\right)} + \\frac{\\vec{\\beta} q^{3}}{c^{2} \\gamma^{2} m_{ob} |\\tilde{r}|^{3} \\left(- \\vec{\\beta} |\\hat{n}| + 1\\right)^{3}} - \\frac{\\vec{\\beta} q^{3} \\left(\\dot{\\vec{\\beta}} c \\gamma^{2} + \\vec{\\beta} \\vec{\\beta}\\cdot\\dot{\\vec{\\beta}} c \\gamma^{4}\\right)}{c^{3} \\gamma^{3} m_{ob} |\\tilde{r}|^{4} \\left(- \\vec{\\beta} |\\hat{n}| + 1\\right)^{4}} + \\frac{\\vec{\\beta} q^{3} |\\hat{n}| \\left(\\dot{\\vec{\\beta}} c \\gamma^{2} + \\vec{\\beta} \\vec{\\beta}\\cdot\\dot{\\vec{\\beta}} c \\gamma^{4}\\right)}{c^{4} \\gamma^{2} m_{ob} |\\tilde{r}|^{2} \\left(- \\vec{\\beta} |\\hat{n}| + 1\\right)^{3}} + \\frac{q^{3}}{c \\gamma^{5} m_{ob} |\\tilde{r}|^{5} \\left(- \\vec{\\beta} |\\hat{n}| + 1\\right)^{5}}$"
      ],
      "text/plain": [
       "-\\tilde{r}_{\\beta}*\\vec{\\beta}*q**3*(\\dot{\\vec{\\beta}}*c*gamma**2 + \\vec{\\beta}*\\vec{\\beta}\\cdot\\dot{\\vec{\\beta}}*c*gamma**4)/(c**4*gamma**2*m_{ob}*|\\tilde{r}|**3*(-\\vec{\\beta}*|\\hat{n}| + 1)**3) - \\tilde{r}_{\\beta}*q**3*(\\dot{\\vec{\\beta}}*c*gamma**2 + \\vec{\\beta}*\\vec{\\beta}\\cdot\\dot{\\vec{\\beta}}*c*gamma**4)/(c**3*gamma**5*m_{ob}*|\\tilde{r}|**5*(-\\vec{\\beta}*|\\hat{n}| + 1)**5) - \\vec{\\beta}*q**2/(c*|\\tilde{r}|*(-\\vec{\\beta}*|\\hat{n}| + 1)) + \\vec{\\beta}*q**3/(c**2*gamma**2*m_{ob}*|\\tilde{r}|**3*(-\\vec{\\beta}*|\\hat{n}| + 1)**3) - \\vec{\\beta}*q**3*(\\dot{\\vec{\\beta}}*c*gamma**2 + \\vec{\\beta}*\\vec{\\beta}\\cdot\\dot{\\vec{\\beta}}*c*gamma**4)/(c**3*gamma**3*m_{ob}*|\\tilde{r}|**4*(-\\vec{\\beta}*|\\hat{n}| + 1)**4) + \\vec{\\beta}*q**3*|\\hat{n}|*(\\dot{\\vec{\\beta}}*c*gamma**2 + \\vec{\\beta}*\\vec{\\beta}\\cdot\\dot{\\vec{\\beta}}*c*gamma**4)/(c**4*gamma**2*m_{ob}*|\\tilde{r}|**2*(-\\vec{\\beta}*|\\hat{n}| + 1)**3) + q**3/(c*gamma**5*m_{ob}*|\\tilde{r}|**5*(-\\vec{\\beta}*|\\hat{n}| + 1)**5)"
      ]
     },
     "execution_count": 53,
     "metadata": {},
     "output_type": "execute_result"
    }
   ],
   "source": [
    "dP3dtau3-q/c*q/(1-bta*n_src_ob)*bta/r_mag #non-conjugate three velocity"
   ]
  },
  {
   "cell_type": "code",
   "execution_count": 54,
   "metadata": {},
   "outputs": [
    {
     "data": {
      "text/latex": [
       "$\\displaystyle \\frac{q^{2} \\left(- \\tilde{r}_{\\beta} \\vec{\\beta}\\cdot\\dot{\\vec{\\beta}} c^{3} \\gamma^{6} m_{ob} |\\tilde{r}| \\left(\\vec{\\beta} |\\hat{n}| - 1\\right) + \\tilde{r}_{\\beta} \\vec{\\beta}\\cdot\\dot{\\vec{\\beta}} c^{2} \\gamma^{7} m_{ob} |\\tilde{r}|^{3} \\left(\\vec{\\beta} |\\hat{n}| - 1\\right)^{3} - \\tilde{r}_{\\beta} \\vec{\\beta}\\cdot\\dot{\\vec{\\beta}} c \\gamma^{4} q + \\tilde{r}_{\\beta} \\vec{\\beta}\\cdot\\dot{\\vec{\\beta}} \\gamma^{7} q |\\tilde{r}|^{2} \\left(\\vec{\\beta} |\\hat{n}| - 1\\right)^{2} - \\vec{\\beta}\\cdot\\dot{\\vec{\\beta}} c^{3} \\gamma^{6} m_{ob} |\\tilde{r}|^{2} \\left(\\vec{\\beta} |\\hat{n}| - 1\\right)^{2} - \\vec{\\beta}\\cdot\\dot{\\vec{\\beta}} c^{2} \\gamma^{7} m_{ob} |\\tilde{r}|^{4} \\left(\\vec{\\beta} |\\hat{n}| - 1\\right)^{3} - \\vec{\\beta}\\cdot\\dot{\\vec{\\beta}} c \\gamma^{6} q |\\tilde{r}| \\left(\\vec{\\beta} |\\hat{n}| - 1\\right) - \\vec{\\beta}\\cdot\\dot{\\vec{\\beta}} \\gamma^{7} q |\\tilde{r}|^{3} \\left(\\vec{\\beta} |\\hat{n}| - 1\\right)^{2} + c^{4} \\gamma^{2} m_{ob} |\\tilde{r}| \\left(\\vec{\\beta} |\\hat{n}| - 1\\right) - c^{3} \\gamma^{3} m_{ob} |\\tilde{r}|^{3} \\left(\\vec{\\beta} |\\hat{n}| - 1\\right)^{3} + c^{2} \\gamma^{5} m_{ob} |\\tilde{r}|^{4} \\left(\\vec{\\beta} |\\hat{n}| - 1\\right)^{4} + c^{2} q - c \\gamma^{3} q |\\tilde{r}|^{2} \\left(\\vec{\\beta} |\\hat{n}| - 1\\right)^{2}\\right)}{c^{3} \\gamma^{5} m_{ob} |\\tilde{r}|^{5} \\left(\\vec{\\beta} |\\hat{n}| - 1\\right)^{5}}$"
      ],
      "text/plain": [
       "q**2*(-\\tilde{r}_{\\beta}*\\vec{\\beta}\\cdot\\dot{\\vec{\\beta}}*c**3*gamma**6*m_{ob}*|\\tilde{r}|*(\\vec{\\beta}*|\\hat{n}| - 1) + \\tilde{r}_{\\beta}*\\vec{\\beta}\\cdot\\dot{\\vec{\\beta}}*c**2*gamma**7*m_{ob}*|\\tilde{r}|**3*(\\vec{\\beta}*|\\hat{n}| - 1)**3 - \\tilde{r}_{\\beta}*\\vec{\\beta}\\cdot\\dot{\\vec{\\beta}}*c*gamma**4*q + \\tilde{r}_{\\beta}*\\vec{\\beta}\\cdot\\dot{\\vec{\\beta}}*gamma**7*q*|\\tilde{r}|**2*(\\vec{\\beta}*|\\hat{n}| - 1)**2 - \\vec{\\beta}\\cdot\\dot{\\vec{\\beta}}*c**3*gamma**6*m_{ob}*|\\tilde{r}|**2*(\\vec{\\beta}*|\\hat{n}| - 1)**2 - \\vec{\\beta}\\cdot\\dot{\\vec{\\beta}}*c**2*gamma**7*m_{ob}*|\\tilde{r}|**4*(\\vec{\\beta}*|\\hat{n}| - 1)**3 - \\vec{\\beta}\\cdot\\dot{\\vec{\\beta}}*c*gamma**6*q*|\\tilde{r}|*(\\vec{\\beta}*|\\hat{n}| - 1) - \\vec{\\beta}\\cdot\\dot{\\vec{\\beta}}*gamma**7*q*|\\tilde{r}|**3*(\\vec{\\beta}*|\\hat{n}| - 1)**2 + c**4*gamma**2*m_{ob}*|\\tilde{r}|*(\\vec{\\beta}*|\\hat{n}| - 1) - c**3*gamma**3*m_{ob}*|\\tilde{r}|**3*(\\vec{\\beta}*|\\hat{n}| - 1)**3 + c**2*gamma**5*m_{ob}*|\\tilde{r}|**4*(\\vec{\\beta}*|\\hat{n}| - 1)**4 + c**2*q - c*gamma**3*q*|\\tilde{r}|**2*(\\vec{\\beta}*|\\hat{n}| - 1)**2)/(c**3*gamma**5*m_{ob}*|\\tilde{r}|**5*(\\vec{\\beta}*|\\hat{n}| - 1)**5)"
      ]
     },
     "execution_count": 54,
     "metadata": {},
     "output_type": "execute_result"
    }
   ],
   "source": [
    "simplify(dP0dtau0-q/c*q/(1-bta*n_src_ob)*1/r_mag)  #non-conjugate "
   ]
  },
  {
   "cell_type": "code",
   "execution_count": 55,
   "metadata": {},
   "outputs": [
    {
     "name": "stdout",
     "output_type": "stream",
     "text": [
      "- \\frac{\\tilde{r}_{\\beta} \\vec{\\beta}\\cdot\\dot{\\vec{\\beta}} \\gamma q^{2}}{|\\tilde{r}|^{4} \\left(- \\vec{\\beta} |\\hat{n}| + 1\\right)^{4}} + \\frac{\\tilde{r}_{\\beta} \\vec{\\beta}\\cdot\\dot{\\vec{\\beta}} \\gamma^{2} q^{2}}{c |\\tilde{r}|^{2} \\left(- \\vec{\\beta} |\\hat{n}| + 1\\right)^{2}} + \\frac{\\tilde{r}_{\\beta} \\vec{\\beta}\\cdot\\dot{\\vec{\\beta}} q^{3}}{c^{2} \\gamma m_{ob} |\\tilde{r}|^{5} \\left(- \\vec{\\beta} |\\hat{n}| + 1\\right)^{5}} - \\frac{\\tilde{r}_{\\beta} \\vec{\\beta}\\cdot\\dot{\\vec{\\beta}} \\gamma^{2} q^{3}}{c^{3} m_{ob} |\\tilde{r}|^{3} \\left(- \\vec{\\beta} |\\hat{n}| + 1\\right)^{3}} + \\frac{\\vec{\\beta}\\cdot\\dot{\\vec{\\beta}} \\gamma q^{2}}{|\\tilde{r}|^{3} \\left(- \\vec{\\beta} |\\hat{n}| + 1\\right)^{3}} - \\frac{\\vec{\\beta}\\cdot\\dot{\\vec{\\beta}} \\gamma^{2} q^{2}}{c |\\tilde{r}| \\left(- \\vec{\\beta} |\\hat{n}| + 1\\right)^{2}} - \\frac{\\vec{\\beta}\\cdot\\dot{\\vec{\\beta}} \\gamma q^{3}}{c^{2} m_{ob} |\\tilde{r}|^{4} \\left(- \\vec{\\beta} |\\hat{n}| + 1\\right)^{4}} + \\frac{\\vec{\\beta}\\cdot\\dot{\\vec{\\beta}} \\gamma^{2} q^{3}}{c^{3} m_{ob} |\\tilde{r}|^{2} \\left(- \\vec{\\beta} |\\hat{n}| + 1\\right)^{3}} + \\frac{c q^{2}}{\\gamma^{3} |\\tilde{r}|^{4} \\left(- \\vec{\\beta} |\\hat{n}| + 1\\right)^{4}} - \\frac{q^{2}}{\\gamma^{2} |\\tilde{r}|^{2} \\left(- \\vec{\\beta} |\\hat{n}| + 1\\right)^{2}} - \\frac{q^{2}}{c |\\tilde{r}| \\left(- \\vec{\\beta} |\\hat{n}| + 1\\right)} - \\frac{q^{3}}{c \\gamma^{5} m_{ob} |\\tilde{r}|^{5} \\left(- \\vec{\\beta} |\\hat{n}| + 1\\right)^{5}} + \\frac{q^{3}}{c^{2} \\gamma^{2} m_{ob} |\\tilde{r}|^{3} \\left(- \\vec{\\beta} |\\hat{n}| + 1\\right)^{3}}\n"
     ]
    }
   ],
   "source": [
    "print(latex(dP0dtau0-q/c*q/(1-bta*n_src_ob)*1/r_mag))"
   ]
  },
  {
   "cell_type": "code",
   "execution_count": 36,
   "metadata": {},
   "outputs": [
    {
     "data": {
      "text/latex": [
       "$\\displaystyle \\frac{\\left(- \\frac{A^{\\alpha} q}{c} + P^{\\alpha}\\right) \\left(- \\frac{A_{\\alpha} q}{c} + P_{\\alpha}\\right)}{m_{ob}}$"
      ],
      "text/plain": [
       "(-A^alpha*q/c + P^alpha)*(-A_alpha*q/c + P_alpha)/m_{ob}"
      ]
     },
     "execution_count": 36,
     "metadata": {},
     "output_type": "execute_result"
    }
   ],
   "source": [
    "1/m_ob*(Pcv_aph-q/c*Acv_aph)*(Pcn_aph-q/c*Acn_aph)"
   ]
  },
  {
   "cell_type": "code",
   "execution_count": 26,
   "metadata": {},
   "outputs": [],
   "source": [
    "x = Symbol('x', real=true)\n",
    "d = Symbol('d', real=true)\n",
    "A = Function('A')(x)\n",
    "B = Function('B')(x)"
   ]
  },
  {
   "cell_type": "code",
   "execution_count": 27,
   "metadata": {},
   "outputs": [],
   "source": [
    "#H = 1/m_ob*(Pcn_aph-q/c*A)*(Pcv_aph-q/c*A)-c*((Pcn_aph-q/c*A)*(Pcv_aph-q/c*A))**(1/2)\n",
    "#dPdtau = -H.diff(x)\n",
    "H = 1/m_ob*(Pcn_aph-q/c*A-B*d)*(Pcv_aph-q/c*A-B*d)-c*((Pcn_aph-q/c*A-B*d)*(Pcv_aph-q/c*A-B*d))**(1/2)\n",
    "dPdtau = -H.diff(x)"
   ]
  },
  {
   "cell_type": "code",
   "execution_count": 28,
   "metadata": {},
   "outputs": [
    {
     "data": {
      "text/latex": [
       "$\\displaystyle \\frac{c \\left(\\left(P^{\\alpha} - d B{\\left(x \\right)} - \\frac{q A{\\left(x \\right)}}{c}\\right) \\left(P_{\\alpha} - d B{\\left(x \\right)} - \\frac{q A{\\left(x \\right)}}{c}\\right)\\right)^{0.5} \\left(0.5 \\left(- d \\frac{d}{d x} B{\\left(x \\right)} - \\frac{q \\frac{d}{d x} A{\\left(x \\right)}}{c}\\right) \\left(P^{\\alpha} - d B{\\left(x \\right)} - \\frac{q A{\\left(x \\right)}}{c}\\right) + 0.5 \\left(- d \\frac{d}{d x} B{\\left(x \\right)} - \\frac{q \\frac{d}{d x} A{\\left(x \\right)}}{c}\\right) \\left(P_{\\alpha} - d B{\\left(x \\right)} - \\frac{q A{\\left(x \\right)}}{c}\\right)\\right)}{\\left(P^{\\alpha} - d B{\\left(x \\right)} - \\frac{q A{\\left(x \\right)}}{c}\\right) \\left(P_{\\alpha} - d B{\\left(x \\right)} - \\frac{q A{\\left(x \\right)}}{c}\\right)} - \\frac{\\left(- d \\frac{d}{d x} B{\\left(x \\right)} - \\frac{q \\frac{d}{d x} A{\\left(x \\right)}}{c}\\right) \\left(P^{\\alpha} - d B{\\left(x \\right)} - \\frac{q A{\\left(x \\right)}}{c}\\right)}{m_{ob}} - \\frac{\\left(- d \\frac{d}{d x} B{\\left(x \\right)} - \\frac{q \\frac{d}{d x} A{\\left(x \\right)}}{c}\\right) \\left(P_{\\alpha} - d B{\\left(x \\right)} - \\frac{q A{\\left(x \\right)}}{c}\\right)}{m_{ob}}$"
      ],
      "text/plain": [
       "c*((P^alpha - d*B(x) - q*A(x)/c)*(P_alpha - d*B(x) - q*A(x)/c))**0.5*(0.5*(-d*Derivative(B(x), x) - q*Derivative(A(x), x)/c)*(P^alpha - d*B(x) - q*A(x)/c) + 0.5*(-d*Derivative(B(x), x) - q*Derivative(A(x), x)/c)*(P_alpha - d*B(x) - q*A(x)/c))/((P^alpha - d*B(x) - q*A(x)/c)*(P_alpha - d*B(x) - q*A(x)/c)) - (-d*Derivative(B(x), x) - q*Derivative(A(x), x)/c)*(P^alpha - d*B(x) - q*A(x)/c)/m_{ob} - (-d*Derivative(B(x), x) - q*Derivative(A(x), x)/c)*(P_alpha - d*B(x) - q*A(x)/c)/m_{ob}"
      ]
     },
     "execution_count": 28,
     "metadata": {},
     "output_type": "execute_result"
    }
   ],
   "source": [
    "dPdtau"
   ]
  },
  {
   "cell_type": "code",
   "execution_count": 29,
   "metadata": {},
   "outputs": [
    {
     "data": {
      "text/latex": [
       "$\\displaystyle - \\frac{1.0 \\left(- \\frac{q \\frac{d}{d x} B{\\left(x \\right)}}{c m_{ob}^{1.0} \\left|{\\vec{s}}\\right|} - \\frac{q \\frac{d}{d x} A{\\left(x \\right)}}{c}\\right) \\left(P^{\\alpha} - \\frac{q B{\\left(x \\right)}}{c m_{ob}^{1.0} \\left|{\\vec{s}}\\right|} - \\frac{q A{\\left(x \\right)}}{c}\\right)}{m_{ob}^{1.0}}$"
      ],
      "text/plain": [
       "-1.0*m_{ob}**(-1.0)*(-m_{ob}**(-1.0)*q*Derivative(B(x), x)/(c*Abs(\\vec{s})) - q*Derivative(A(x), x)/c)*(P^alpha - m_{ob}**(-1.0)*q*B(x)/(c*Abs(\\vec{s})) - q*A(x)/c)"
      ]
     },
     "execution_count": 29,
     "metadata": {},
     "output_type": "execute_result"
    }
   ],
   "source": [
    "(dPdtau.subs([[(Pcn_aph-q/c*A-B*d)*(Pcv_aph-q/c*A-B*d),(m_ob*c)**2],[Pcn_aph,Pcv_aph],[d,q/(m_ob*c)*1/np.abs(s_vec)],[m_ob**3.0,m_ob**3],[m_ob**1.0,m_ob]]))\n",
    "#simplify(expand((dPdtau.subs((Pcn_aph-q/c*A)*(Pcv_aph-q/c*A),(m_ob*c)**2))))"
   ]
  },
  {
   "cell_type": "code",
   "execution_count": null,
   "metadata": {},
   "outputs": [],
   "source": []
  },
  {
   "cell_type": "code",
   "execution_count": null,
   "metadata": {},
   "outputs": [],
   "source": []
  }
 ],
 "metadata": {
  "kernelspec": {
   "display_name": "Python 3",
   "language": "python",
   "name": "python3"
  },
  "language_info": {
   "codemirror_mode": {
    "name": "ipython",
    "version": 3
   },
   "file_extension": ".py",
   "mimetype": "text/x-python",
   "name": "python",
   "nbconvert_exporter": "python",
   "pygments_lexer": "ipython3",
   "version": "3.7.9"
  }
 },
 "nbformat": 4,
 "nbformat_minor": 4
}
