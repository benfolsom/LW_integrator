{
 "cells": [
  {
   "cell_type": "code",
   "execution_count": 6,
   "id": "406d12fa-fa16-4508-a7e1-fb3c0e2103c0",
   "metadata": {
    "tags": []
   },
   "outputs": [
    {
     "data": {
      "text/plain": [
       "0.005"
      ]
     },
     "execution_count": 6,
     "metadata": {},
     "output_type": "execute_result"
    }
   ],
   "source": [
    "(3e-4) / (6e-2)  # *12000"
   ]
  },
  {
   "cell_type": "code",
   "execution_count": 10,
   "id": "cc0f922a-e9cb-4e91-a496-47a04e02ffb8",
   "metadata": {
    "tags": []
   },
   "outputs": [
    {
     "data": {
      "text/plain": [
       "6.0"
      ]
     },
     "execution_count": 10,
     "metadata": {},
     "output_type": "execute_result"
    }
   ],
   "source": [
    "3e-6 / 6e-3 * 12000"
   ]
  },
  {
   "cell_type": "code",
   "execution_count": 11,
   "id": "8f3a4da5-66e7-4df3-9266-8032170c1c89",
   "metadata": {},
   "outputs": [
    {
     "data": {
      "text/plain": [
       "54.0"
      ]
     },
     "execution_count": 11,
     "metadata": {},
     "output_type": "execute_result"
    }
   ],
   "source": [
    "2.7 / 0.05"
   ]
  },
  {
   "cell_type": "code",
   "execution_count": null,
   "id": "d05abbb8-ba5e-4919-9632-014058b301f7",
   "metadata": {},
   "outputs": [],
   "source": []
  }
 ],
 "metadata": {
  "kernelspec": {
   "display_name": "Python 3 (ipykernel)",
   "language": "python",
   "name": "python3"
  },
  "language_info": {
   "codemirror_mode": {
    "name": "ipython",
    "version": 3
   },
   "file_extension": ".py",
   "mimetype": "text/x-python",
   "name": "python",
   "nbconvert_exporter": "python",
   "pygments_lexer": "ipython3",
   "version": "3.7.16"
  }
 },
 "nbformat": 4,
 "nbformat_minor": 5
}
