{
 "cells": [
  {
   "cell_type": "code",
   "execution_count": 1,
   "id": "782335bb-405e-4969-8752-ec5817eef307",
   "metadata": {
    "metadata": {},
    "tags": []
   },
   "outputs": [],
   "source": [
    "from covariant_integrator_library import *\n",
    "from bunch_inits import *\n",
    "from plotting_variables import *\n",
    "\n",
    "font_size = 16\n",
    "# Update the rcParams dictionary to set the font size globally\n",
    "plt.rcParams.update({'font.size': font_size})"
   ]
  },
  {
   "cell_type": "code",
   "execution_count": 2,
   "id": "43c45df3",
   "metadata": {
    "metadata": {}
   },
   "outputs": [
    {
     "name": "stdout",
     "output_type": "stream",
     "text": [
      "0.03162277660168379\n",
      "E_MeV =  2999999.9482780257\n",
      "Gamma =  3196.9789187813217\n",
      "E_rest =  938.385948501337\n",
      "E_MeV =  -2999963.7985441424\n",
      "Gamma =  15.574319435831264\n",
      "E_rest =  193020.75925874696\n"
     ]
    },
    {
     "ename": "KeyboardInterrupt",
     "evalue": "",
     "output_type": "error",
     "traceback": [
      "\u001b[0;31m---------------------------------------------------------------------------\u001b[0m",
      "\u001b[0;31mKeyboardInterrupt\u001b[0m                         Traceback (most recent call last)",
      "Cell \u001b[0;32mIn[2], line 64\u001b[0m\n\u001b[1;32m     61\u001b[0m \u001b[38;5;66;03m#step_size = 1e-7 #+ 2.3e-6 / ( (i+1) / (25) )\u001b[39;00m\n\u001b[1;32m     62\u001b[0m step_size \u001b[38;5;241m=\u001b[39m \u001b[38;5;241m2e-8\u001b[39m\n\u001b[0;32m---> 64\u001b[0m retarded_traj,retarded_drv_traj \u001b[38;5;241m=\u001b[39m \u001b[43mretarded_integrator3\u001b[49m\u001b[43m(\u001b[49m\u001b[43mstatic_steps\u001b[49m\u001b[43m,\u001b[49m\u001b[43mret_steps\u001b[49m\u001b[43m,\u001b[49m\u001b[43mstep_size\u001b[49m\u001b[43m,\u001b[49m\u001b[43mwall_pos\u001b[49m\u001b[43m,\u001b[49m\u001b[43maperture\u001b[49m\u001b[43m,\u001b[49m\u001b[43msim_type\u001b[49m\u001b[43m,\u001b[49m\u001b[43minit_rider\u001b[49m\u001b[43m,\u001b[49m\u001b[43minit_driver\u001b[49m\u001b[43m,\u001b[49m\u001b[43mbunch_dist\u001b[49m\u001b[43m,\u001b[49m\u001b[43mcav_spacing\u001b[49m\u001b[43m,\u001b[49m\u001b[43mz_cutoff\u001b[49m\u001b[43m)\u001b[49m\u001b[38;5;66;03m#just use retarded_intergrator2 for retarded calcs\u001b[39;00m\n\u001b[1;32m     65\u001b[0m \u001b[38;5;66;03m#retarded_traj,retarded_drv_traj = retarded_integrator3(static_steps,ret_steps,step_size,wall_pos,aperture,sim_type,retarded_traj_pre[-1],retarded_drv_traj_pre[-1],bunch_dist,cav_spacing,z_cutoff)#just use retarded_intergrator2 for retarded calcs\u001b[39;00m\n\u001b[1;32m     66\u001b[0m \u001b[38;5;66;03m#retarded_traj,retarded_drv_traj = retarded_traj2,retarded_drv_traj2\u001b[39;00m\n\u001b[1;32m     68\u001b[0m delta_e, delta_e_drv, tot_e, tot_e_drv, delta_e_keV, delta_e_MeV, tot_e_GeV, delta_e_keV_drv, delta_e_MeV_drv, tot_e_GeV_drv, zs, xs, zs_drv, xs_drv, bzs, bxs, bys, bdotxs, bdotys, bdotzs, Pzs, Pxs, Pys, Pts, gammas, tees, bzs_drv, bxs_drv, bys_drv, bdotxs_drv, bdotys_drv, bdotzs_drv, Pzs_drv, Pxs_drv, Pys_drv, Pts_drv, gammas_drv, tees_drv, qs_drv, gam_fixed, bdotzs_seconds, q_statC_squared, q_kg_m3_sneg2, Pows_z_rider_watts \u001b[38;5;241m=\u001b[39m calculate_plotting_variables(retarded_traj,\n\u001b[1;32m     69\u001b[0m retarded_drv_traj, init_rider, init_driver, static_steps, ret_steps, E_MeV_rest_rider, E_MeV_rest_driver, c_ms)\n",
      "File \u001b[0;32m~/work/LW_integrator/covariant_integrator_library.py:601\u001b[0m, in \u001b[0;36mretarded_integrator3\u001b[0;34m(steps_init, steps_retarded, h_step, wall_Z, apt_R, sim_type, init_rider, init_driver, mean, cav_spacing, z_cutoff)\u001b[0m\n\u001b[1;32m    599\u001b[0m     trajectory_drv_new[i] \u001b[38;5;241m=\u001b[39m trajectory_drv[i\u001b[38;5;241m-\u001b[39m\u001b[38;5;241m1\u001b[39m] \u001b[38;5;66;03m#note that init_wall is a dummy vector\u001b[39;00m\n\u001b[1;32m    600\u001b[0m \u001b[38;5;28;01melse\u001b[39;00m:\n\u001b[0;32m--> 601\u001b[0m     trajectory_new[i] \u001b[38;5;241m=\u001b[39m \u001b[43meqsofmotion_retarded\u001b[49m\u001b[43m(\u001b[49m\u001b[43mh_step\u001b[49m\u001b[43m,\u001b[49m\u001b[43mtrajectory_new\u001b[49m\u001b[43m,\u001b[49m\u001b[43mtrajectory_drv_new\u001b[49m\u001b[43m,\u001b[49m\u001b[43mi\u001b[49m\u001b[38;5;241;43m-\u001b[39;49m\u001b[38;5;241;43m1\u001b[39;49m\u001b[43m,\u001b[49m\u001b[43mapt_R\u001b[49m\u001b[43m,\u001b[49m\u001b[43msim_type\u001b[49m\u001b[43m)\u001b[49m\n\u001b[1;32m    602\u001b[0m     \u001b[38;5;28;01mif\u001b[39;00m sim_type\u001b[38;5;241m==\u001b[39m\u001b[38;5;241m1\u001b[39m:\n\u001b[1;32m    603\u001b[0m         trajectory_drv_new[i] \u001b[38;5;241m=\u001b[39m switching_flat(trajectory_new[i],wall_Z,apt_R,z_cutoff) \u001b[38;5;66;03m#note that init_wall is a dummy vector\u001b[39;00m\n",
      "File \u001b[0;32m~/work/LW_integrator/covariant_integrator_library.py:485\u001b[0m, in \u001b[0;36meqsofmotion_retarded\u001b[0;34m(h, trajectory, trajectory_ext, i_traj, apt_R, sim_type)\u001b[0m\n\u001b[1;32m    481\u001b[0m result[\u001b[38;5;124m'\u001b[39m\u001b[38;5;124mbdotz\u001b[39m\u001b[38;5;124m'\u001b[39m][l] \u001b[38;5;241m=\u001b[39m (\u001b[38;5;241m-\u001b[39mtrajectory[i_traj][\u001b[38;5;124m'\u001b[39m\u001b[38;5;124mbz\u001b[39m\u001b[38;5;124m'\u001b[39m][l]\u001b[38;5;241m+\u001b[39mresult[\u001b[38;5;124m'\u001b[39m\u001b[38;5;124mbz\u001b[39m\u001b[38;5;124m'\u001b[39m][l])\u001b[38;5;241m/\u001b[39m( c_mmns\u001b[38;5;241m*\u001b[39mh  \u001b[38;5;241m*\u001b[39m result[\u001b[38;5;124m'\u001b[39m\u001b[38;5;124mgamma\u001b[39m\u001b[38;5;124m'\u001b[39m][l])\n\u001b[1;32m    483\u001b[0m \u001b[38;5;66;03m#'real' gamma \u001b[39;00m\n\u001b[1;32m    484\u001b[0m \u001b[38;5;66;03m#btots = np.sqrt(np.square(trajectory[i_traj]['bx'][l])+np.square(trajectory[i_traj]['by'][l])+np.square(trajectory[i_traj]['bz'][l]))\u001b[39;00m\n\u001b[0;32m--> 485\u001b[0m btots \u001b[38;5;241m=\u001b[39m np\u001b[38;5;241m.\u001b[39msqrt(\u001b[43mnp\u001b[49m\u001b[38;5;241;43m.\u001b[39;49m\u001b[43msquare\u001b[49m\u001b[43m(\u001b[49m\u001b[43mresult\u001b[49m\u001b[43m[\u001b[49m\u001b[38;5;124;43m'\u001b[39;49m\u001b[38;5;124;43mbx\u001b[39;49m\u001b[38;5;124;43m'\u001b[39;49m\u001b[43m]\u001b[49m\u001b[43m[\u001b[49m\u001b[43ml\u001b[49m\u001b[43m]\u001b[49m\u001b[43m)\u001b[49m\u001b[38;5;241m+\u001b[39mnp\u001b[38;5;241m.\u001b[39msquare(result[\u001b[38;5;124m'\u001b[39m\u001b[38;5;124mby\u001b[39m\u001b[38;5;124m'\u001b[39m][l])\u001b[38;5;241m+\u001b[39mnp\u001b[38;5;241m.\u001b[39msquare(result[\u001b[38;5;124m'\u001b[39m\u001b[38;5;124mbz\u001b[39m\u001b[38;5;124m'\u001b[39m][l]))\n\u001b[1;32m    486\u001b[0m result[\u001b[38;5;124m'\u001b[39m\u001b[38;5;124mgamma\u001b[39m\u001b[38;5;124m'\u001b[39m][l] \u001b[38;5;241m=\u001b[39m np\u001b[38;5;241m.\u001b[39msqrt(np\u001b[38;5;241m.\u001b[39mdivide(\u001b[38;5;241m1\u001b[39m,\u001b[38;5;241m1\u001b[39m\u001b[38;5;241m-\u001b[39mnp\u001b[38;5;241m.\u001b[39msquare(btots)))\n\u001b[1;32m    487\u001b[0m \u001b[38;5;66;03m#print(result['gamma'][l])\u001b[39;00m\n",
      "\u001b[0;31mKeyboardInterrupt\u001b[0m: "
     ]
    }
   ],
   "source": [
    "c_ms = 299792458\n",
    "\n",
    "#transv_dist = 1e-4\n",
    "\n",
    "m_particle_rider = 1.007319468  #proton -amu\n",
    "m_particle_driver = 207.2 #lead, amu\n",
    "#m_particle = 0.0005485   #electron -amu\n",
    "#m_particle_driver = 315 #gold hexafloride, amu\n",
    "\n",
    "stripped_ions_rider = 1.\n",
    "stripped_ions_driver = 54.\n",
    "charge_sign_rider= 1.\n",
    "charge_sign_driver = 1.\n",
    "#Pz_list = np.linspace(9.584300885e5,9.584295e4,30)\n",
    "transv_distance_list = np.linspace(-2,-5,2)\n",
    "min_dE_MeVs_rider = []\n",
    "min_dE_MeVs_driver = []\n",
    "fracs_E_rider = []\n",
    "fracs_E_driver = []\n",
    "        \n",
    "for i in range(0,len(transv_distance_list)):\n",
    "#for i in range(0,1):\n",
    "        \n",
    "        starting_Pz_rider = 9.584300885e5 #Pz_list[i]   #3.25E5 corresponds to 1 TeV\n",
    "        \n",
    "        starting_Pz_driver = -starting_Pz_rider/m_particle_driver*m_particle_rider  #actually velocity-like, mass factored later\n",
    "        transv_mom_rider = 1e-6   #1e-2 is roughly 10keV scale\n",
    "        transv_mom_driver = transv_mom_rider#*207 # lazy adding lead mass\n",
    "        starting_distance_rider = 1e-3\n",
    "        starting_distance_driver = 100.\n",
    "\n",
    "        sim_type = 2    # type 2 used here, it is for bunch--bunch simulations\n",
    "        pcount_rider = 100    #bunch counts\n",
    "        pcount_driver = 100\n",
    "\n",
    "        transv_distance_list = np.logspace(-1.5,-6,2)\n",
    "        transv_dist = transv_distance_list[i]\n",
    "        print(transv_distance_list[i])\n",
    "\n",
    "        init_rider, E_MeV_rest_rider = init_bunch(starting_distance_rider,transv_mom_rider,starting_Pz_rider,stripped_ions_rider,m_particle_rider,transv_dist,pcount_rider,charge_sign_rider)\n",
    "\n",
    "        init_driver, E_MeV_rest_driver = init_bunch(starting_distance_driver,transv_mom_driver,starting_Pz_driver,stripped_ions_driver,m_particle_driver,-transv_dist,pcount_driver,charge_sign_driver)\n",
    "\n",
    "\n",
    "        #### parameters not used in this test, but required to run integrator\n",
    "        bunch_dist = 1E5   #bunch--bunch distance at which the driver bunch has maximum charge (gaussian mean)\n",
    "        cav_spacing = 1E5  #distance to the subsequent driver bunch\n",
    "        aperture = 1E5 #this parameter reused for bunch-driven gaussian sigma\n",
    "        z_cutoff = 0\n",
    "        wall_pos= 1E5\n",
    "\n",
    "\n",
    "        #coarse initialization\n",
    "        # static_steps = 1#set init_steps equal to tot_steps to test static integrator only\n",
    "        # ret_steps = 25\n",
    "        # step_size = 2e-6\n",
    "\n",
    "        #interaction zone\n",
    "        static_steps = 1\n",
    "        ret_steps = 5500\n",
    "        #step_size = 1e-7 #+ 2.3e-6 / ( (i+1) / (25) )\n",
    "        step_size = 2e-8\n",
    "        \n",
    "        retarded_traj,retarded_drv_traj = retarded_integrator3(static_steps,ret_steps,step_size,wall_pos,aperture,sim_type,init_rider,init_driver,bunch_dist,cav_spacing,z_cutoff)#just use retarded_intergrator2 for retarded calcs\n",
    "        #retarded_traj,retarded_drv_traj = retarded_integrator3(static_steps,ret_steps,step_size,wall_pos,aperture,sim_type,retarded_traj_pre[-1],retarded_drv_traj_pre[-1],bunch_dist,cav_spacing,z_cutoff)#just use retarded_intergrator2 for retarded calcs\n",
    "        #retarded_traj,retarded_drv_traj = retarded_traj2,retarded_drv_traj2\n",
    "\n",
    "        delta_e, delta_e_drv, tot_e, tot_e_drv, delta_e_keV, delta_e_MeV, tot_e_GeV, delta_e_keV_drv, delta_e_MeV_drv, tot_e_GeV_drv, zs, xs, zs_drv, xs_drv, bzs, bxs, bys, bdotxs, bdotys, bdotzs, Pzs, Pxs, Pys, Pts, gammas, tees, bzs_drv, bxs_drv, bys_drv, bdotxs_drv, bdotys_drv, bdotzs_drv, Pzs_drv, Pxs_drv, Pys_drv, Pts_drv, gammas_drv, tees_drv, qs_drv, gam_fixed, bdotzs_seconds, q_statC_squared, q_kg_m3_sneg2, Pows_z_rider_watts = calculate_plotting_variables(retarded_traj,\n",
    "        retarded_drv_traj, init_rider, init_driver, static_steps, ret_steps, E_MeV_rest_rider, E_MeV_rest_driver, c_ms)\n",
    "        min_dE_MeVs_rider = np.append(min_dE_MeVs_rider,np.min(delta_e_MeV))\n",
    "        min_dE_MeVs_driver = np.append(min_dE_MeVs_driver,np.min(delta_e_MeV_drv))\n",
    "        # max_dE_MeVs_rider = np.append(max_dE_MeVs_rider,np.max(np.abs(delta_e_MeV)))\n",
    "        # max_dE_MeVs_driver = np.append(max_dE_MeVs_driver,np.max(np.abs(delta_e_MeV_drv)))\n",
    "        print(zs[-1])\n",
    "        if tot_e_drv[-1] < tot_e_drv[0]:\n",
    "                frac_E_rider = -np.divide(np.min(tot_e),tot_e[0])\n",
    "                frac_E_driver = -np.divide(np.min(tot_e_drv),tot_e_drv[0])\n",
    "                fracs_E_rider = np.append(fracs_E_rider,frac_E_rider)\n",
    "                fracs_E_driver = np.append(fracs_E_driver,frac_E_driver)\n",
    "                print(\"driver fractional energy shift\", fracs_E_driver)\n",
    "                print(\"rider fractional energy shift\", fracs_E_rider)\n",
    "        else:\n",
    "                frac_E_rider = -np.divide(np.max(tot_e),tot_e[0])\n",
    "                frac_E_driver = np.divide(np.max(tot_e_drv),tot_e_drv[0])\n",
    "                fracs_E_rider = np.append(fracs_E_rider,frac_E_rider)\n",
    "                fracs_E_driver = np.append(fracs_E_driver,frac_E_driver)\n",
    "                print(\"driver fractional energy shift\", fracs_E_driver)\n",
    "                print(\"rider fractional energy shift\", fracs_E_rider)\n",
    "\n",
    "        fig = plt.figure(figsize=(6,5))\n",
    "        ax = fig.add_subplot(1, 1, 1) \n",
    "        ax.scatter(zs,delta_e_MeV/1000,s=40)\n",
    "        #ax.scatter(zs_drv,delta_e_MeV_drv,s=40)\n",
    "        #ax.scatter(tees,np.abs(np.multiply(qs_drv,1E-2)),s=40)\n",
    "        ax.set_ylabel(r\"$\\Delta$ E [GeV]\")\n",
    "        ax.set_xlabel(r\"z [mm]\")\n",
    "        #ax.axvline(30,color='g',label=\"wall paosition\")\n",
    "        #plt.xlim(starting_distance_rider/2,3)\n",
    "        #plt.ylim(1E-2,2e3)\n",
    "        #plt.xscale('log')  #log scale works at 1mm range\n",
    "        #plt.yscale('log')\n",
    "        plt.title(\"Rider\")\n",
    "        plt.tight_layout()\n",
    "        #plt.savefig(\"./6.26_prot_antiprot_10nm.png\",dpi=600)\n",
    "        plt.show()\n",
    "\n",
    "        fig = plt.figure(figsize=(6,5))\n",
    "        ax = fig.add_subplot(1, 1, 1) \n",
    "        #ax.scatter(zs,delta_e_MeV,s=40)\n",
    "        ax.scatter(zs_drv,delta_e_MeV_drv/1000,s=40)\n",
    "        #ax.scatter(zs_drv,np.abs(delta_e_MeV_drv/1000),s=40)  #for log plotting\n",
    "        #ax.scatter(tees,np.abs(np.multiply(qs_drv,1E-2)),s=40)\n",
    "        ax.set_ylabel(r\"$\\Delta$ E [GeV]\")\n",
    "        #ax.set_xlabel(r\"z [mm]\")\n",
    "        #ax.axvline(30,color='g',label=\"wall paosition\")\n",
    "        #plt.xlim(-0.54,0.01)\n",
    "        #plt.ylim(1E-5,5e3)\n",
    "        #plt.xscale('log')\n",
    "        #plt.yscale('log')\n",
    "        plt.title(\"Driver\")\n",
    "        plt.tight_layout()\n",
    "        #plt.savefig(\"./6.26_prot_antiprot_10nm.png\",dpi=600)\n",
    "        plt.show()\n",
    "\n",
    "\n",
    "\n"
   ]
  },
  {
   "cell_type": "code",
   "execution_count": null,
   "id": "7f8b8651",
   "metadata": {},
   "outputs": [
    {
     "ename": "NameError",
     "evalue": "name 'Pz_list' is not defined",
     "output_type": "error",
     "traceback": [
      "\u001b[0;31m---------------------------------------------------------------------------\u001b[0m",
      "\u001b[0;31mNameError\u001b[0m                                 Traceback (most recent call last)",
      "Cell \u001b[0;32mIn[15], line 4\u001b[0m\n\u001b[1;32m      2\u001b[0m c_ms \u001b[38;5;241m=\u001b[39m \u001b[38;5;241m299792458\u001b[39m \u001b[38;5;66;03m# Speed of light in m/s\u001b[39;00m\n\u001b[1;32m      3\u001b[0m mass_kg \u001b[38;5;241m=\u001b[39m m_particle_driver\u001b[38;5;241m*\u001b[39mamu_kg\n\u001b[0;32m----> 4\u001b[0m vz_mmns \u001b[38;5;241m=\u001b[39m \u001b[43mPz_list\u001b[49m\u001b[38;5;241m/\u001b[39m(m_particle_driver\u001b[38;5;241m*\u001b[39mgammas_drv[\u001b[38;5;241m0\u001b[39m]) \u001b[38;5;66;03m#NOT mass_kg here\u001b[39;00m\n\u001b[1;32m      5\u001b[0m vz_ms \u001b[38;5;241m=\u001b[39m vz_mmns\u001b[38;5;241m*\u001b[39m\u001b[38;5;241m1e6\u001b[39m\n\u001b[1;32m      6\u001b[0m Pz_kgms  \u001b[38;5;241m=\u001b[39m vz_ms\u001b[38;5;241m*\u001b[39mmass_kg\u001b[38;5;241m*\u001b[39mgammas_drv[\u001b[38;5;241m0\u001b[39m]\n",
      "\u001b[0;31mNameError\u001b[0m: name 'Pz_list' is not defined"
     ]
    }
   ],
   "source": [
    "amu_kg = 1.66053907E-27\n",
    "c_ms = 299792458 # Speed of light in m/s\n",
    "mass_kg = m_particle_driver*amu_kg\n",
    "vz_mmns = Pz_list/(m_particle_driver*gammas_drv[0]) #NOT mass_kg here\n",
    "vz_ms = vz_mmns*1e6\n",
    "Pz_kgms  = vz_ms*mass_kg*gammas_drv[0]\n",
    "E_J     = Pz_kgms*c_ms\n",
    "E_MeV_drv = E_J*6.242E12"
   ]
  },
  {
   "cell_type": "code",
   "execution_count": null,
   "id": "47595e6e",
   "metadata": {},
   "outputs": [
    {
     "ename": "NameError",
     "evalue": "name 'Pz_list' is not defined",
     "output_type": "error",
     "traceback": [
      "\u001b[0;31m---------------------------------------------------------------------------\u001b[0m",
      "\u001b[0;31mNameError\u001b[0m                                 Traceback (most recent call last)",
      "Cell \u001b[0;32mIn[7], line 4\u001b[0m\n\u001b[1;32m      2\u001b[0m c_ms \u001b[38;5;241m=\u001b[39m \u001b[38;5;241m299792458\u001b[39m \u001b[38;5;66;03m# Speed of light in m/s\u001b[39;00m\n\u001b[1;32m      3\u001b[0m mass_kg \u001b[38;5;241m=\u001b[39m m_particle_rider\u001b[38;5;241m*\u001b[39mamu_kg\n\u001b[0;32m----> 4\u001b[0m vz_mmns \u001b[38;5;241m=\u001b[39m \u001b[43mPz_list\u001b[49m\u001b[38;5;241m/\u001b[39m(m_particle_rider\u001b[38;5;241m*\u001b[39mgammas[\u001b[38;5;241m0\u001b[39m]) \u001b[38;5;66;03m#NOT mass_kg here\u001b[39;00m\n\u001b[1;32m      5\u001b[0m vz_ms \u001b[38;5;241m=\u001b[39m vz_mmns\u001b[38;5;241m*\u001b[39m\u001b[38;5;241m1e6\u001b[39m\n\u001b[1;32m      6\u001b[0m Pz_kgms  \u001b[38;5;241m=\u001b[39m vz_ms\u001b[38;5;241m*\u001b[39mmass_kg\u001b[38;5;241m*\u001b[39mgammas[\u001b[38;5;241m0\u001b[39m]\n",
      "\u001b[0;31mNameError\u001b[0m: name 'Pz_list' is not defined"
     ]
    }
   ],
   "source": [
    "amu_kg = 1.66053907E-27\n",
    "c_ms = 299792458 # Speed of light in m/s\n",
    "mass_kg = m_particle_rider*amu_kg\n",
    "vz_mmns = Pz_list/(m_particle_rider*gammas[0]) #NOT mass_kg here\n",
    "vz_ms = vz_mmns*1e6\n",
    "Pz_kgms  = vz_ms*mass_kg*gammas[0]\n",
    "E_J     = Pz_kgms*c_ms\n",
    "E_MeV = E_J*6.242E12"
   ]
  },
  {
   "cell_type": "code",
   "execution_count": null,
   "id": "e2aaed80",
   "metadata": {},
   "outputs": [
    {
     "data": {
      "text/plain": [
       "array([], dtype=float64)"
      ]
     },
     "execution_count": 8,
     "metadata": {},
     "output_type": "execute_result"
    }
   ],
   "source": [
    "(fracs_E_driver[8:]+1)*100"
   ]
  },
  {
   "cell_type": "code",
   "execution_count": null,
   "id": "d5fb7357",
   "metadata": {},
   "outputs": [
    {
     "data": {
      "image/png": "[encoded data removed]",
      "text/plain": [
       "<Figure size 600x500 with 1 Axes>"
      ]
     },
     "metadata": {},
     "output_type": "display_data"
    }
   ],
   "source": [
    "fig = plt.figure(figsize=(6,5))\n",
    "ax = fig.add_subplot(1, 1, 1) \n",
    "#ax.scatter(zs,delta_e_MeV,s=40)\n",
    "ax.scatter(transv_distance_list*1000,(fracs_E_driver+1)*100,s=40,label=\"pB\")\n",
    "#ax.scatter(transv_distance_list[8:-1]*1000,(fracs_E_driver[8:-1]+1)*100,s=40,label=\"pB\")\n",
    "#ax.scatter(transv_distance_list[0:7]*1000,(fracs_E_driver[0:7]-1)*100,s=40,label=\"pB\",color='C0')\n",
    "#ax.scatter(E_MeV/1000,np.abs(fracs_E_rider-1)*100,s=40,label=\"p\")\n",
    "#ax.scatter(zs_drv,np.abs(delta_e_MeV_drv/1000),s=40)  #for log plotting\n",
    "#ax.scatter(tees,np.abs(np.multiply(qs_drv,1E-2)),s=40)\n",
    "ax.set_ylabel(r\"Kinetic Energy Loss for pB %\")\n",
    "ax.set_xlabel(r\"p$-$pB Transverse Distance  [${\\mu}$m]\")\n",
    "#ax.axvline(30,color='g',label=\"wall paosition\")\n",
    "#plt.xlim(-0.54,0.01)\n",
    "#plt.ylim(1E-5,5e3)\n",
    "plt.xscale('log')\n",
    "plt.yscale('log')\n",
    "plt.title(\"p$-$pB @ d$_T$=100nm\")\n",
    "plt.tight_layout()\n",
    "#plt.savefig(\"./p_pB_aperture_dependent.png\",dpi=600)\n",
    "plt.show()"
   ]
  },
  {
   "cell_type": "code",
   "execution_count": null,
   "id": "bfc39586",
   "metadata": {},
   "outputs": [],
   "source": [
    "fracs_E_driver"
   ]
  },
  {
   "cell_type": "code",
   "execution_count": null,
   "id": "4d692e3d",
   "metadata": {},
   "outputs": [],
   "source": [
    "fracs_E_rider"
   ]
  },
  {
   "cell_type": "code",
   "execution_count": null,
   "id": "c3c086e4",
   "metadata": {},
   "outputs": [],
   "source": [
    "np.append(max_dE_MeVs_driver,1)"
   ]
  },
  {
   "cell_type": "code",
   "execution_count": null,
   "id": "5582d4ff",
   "metadata": {},
   "outputs": [],
   "source": [
    "fig = plt.figure(figsize=(6,5))\n",
    "ax = fig.add_subplot(1, 1, 1) \n",
    "ax.scatter(zs,delta_e_MeV/1000,s=40)\n",
    "#ax.scatter(zs_drv,delta_e_MeV_drv,s=40)\n",
    "#ax.scatter(tees,np.abs(np.multiply(qs_drv,1E-2)),s=40)\n",
    "ax.set_ylabel(r\"$\\Delta$ E [GeV]\")\n",
    "ax.set_xlabel(r\"z [mm]\")\n",
    "#ax.axvline(30,color='g',label=\"wall paosition\")\n",
    "#plt.xlim(starting_distance_rider/2,3)\n",
    "#plt.ylim(1E-2,2e3)\n",
    "#plt.xscale('log')  #log scale works at 1mm range\n",
    "#plt.yscale('log')\n",
    "plt.title(\"Rider\")\n",
    "plt.tight_layout()\n",
    "#plt.savefig(\"./6.26_prot_antiprot_10nm.png\",dpi=600)\n",
    "plt.show()\n",
    "\n",
    "fig = plt.figure(figsize=(6,5))\n",
    "ax = fig.add_subplot(1, 1, 1) \n",
    "#ax.scatter(zs,delta_e_MeV,s=40)\n",
    "ax.scatter(zs_drv,delta_e_MeV_drv/1000,s=40)\n",
    "#ax.scatter(zs_drv,np.abs(delta_e_MeV_drv/1000),s=40)  #for log plotting\n",
    "#ax.scatter(tees,np.abs(np.multiply(qs_drv,1E-2)),s=40)\n",
    "ax.set_ylabel(r\"$\\Delta$ E [GeV]\")\n",
    "#ax.set_xlabel(r\"z [mm]\")\n",
    "#ax.axvline(30,color='g',label=\"wall paosition\")\n",
    "#plt.xlim(-0.54,0.01)\n",
    "#plt.ylim(1E-5,5e3)\n",
    "#plt.xscale('log')\n",
    "#plt.yscale('log')\n",
    "plt.title(\"Driver\")\n",
    "plt.tight_layout()\n",
    "#plt.savefig(\"./6.26_prot_antiprot_10nm.png\",dpi=600)\n",
    "plt.show()\n",
    "\n"
   ]
  },
  {
   "cell_type": "code",
   "execution_count": null,
   "id": "9ce60c57",
   "metadata": {},
   "outputs": [],
   "source": [
    "fig = plt.figure(figsize=(6,5))\n",
    "ax = fig.add_subplot(1, 1, 1) \n",
    "#ax.scatter(zs,delta_e_MeV,s=40)\n",
    "ax.scatter(zs_drv,delta_e_MeV_drv/1000,s=40)\n",
    "#ax.scatter(zs_drv,np.abs(delta_e_MeV_drv/1000),s=40)  #for log plotting\n",
    "#ax.scatter(tees,np.abs(np.multiply(qs_drv,1E-2)),s=40)\n",
    "ax.set_ylabel(r\"$\\Delta$ E [GeV]\")\n",
    "#ax.set_xlabel(r\"z [mm]\")\n",
    "#ax.axvline(30,color='g',label=\"wall paosition\")\n",
    "#plt.xlim(-0.54,0.01)\n",
    "#plt.ylim(1E-5,5e3)\n",
    "#plt.xscale('log')\n",
    "#plt.yscale('log')\n",
    "plt.title(\"Driver\")\n",
    "plt.tight_layout()\n",
    "#plt.savefig(\"./6.26_prot_antiprot_10nm.png\",dpi=600)\n",
    "plt.show()\n",
    "\n"
   ]
  },
  {
   "cell_type": "code",
   "execution_count": null,
   "id": "34c69c8e",
   "metadata": {},
   "outputs": [],
   "source": [
    "10/3000*100"
   ]
  },
  {
   "cell_type": "code",
   "execution_count": null,
   "id": "af48a3b6",
   "metadata": {},
   "outputs": [],
   "source": []
  },
  {
   "cell_type": "code",
   "execution_count": null,
   "id": "a242c1ff",
   "metadata": {},
   "outputs": [],
   "source": []
  },
  {
   "cell_type": "code",
   "execution_count": null,
   "id": "62003686",
   "metadata": {
    "metadata": {}
   },
   "outputs": [],
   "source": [
    "fig = plt.figure(figsize=(6,5))\n",
    "ax = fig.add_subplot(1, 1, 1) \n",
    "ax.scatter(zs,delta_e_MeV/1000,s=40)\n",
    "#ax.scatter(zs_drv,delta_e_MeV_drv,s=40)\n",
    "#ax.scatter(tees,np.abs(np.multiply(qs_drv,1E-2)),s=40)\n",
    "ax.set_ylabel(r\"$\\Delta$ E [GeV]\")\n",
    "ax.set_xlabel(r\"z [mm]\")\n",
    "#ax.axvline(30,color='g',label=\"wall paosition\")\n",
    "#plt.xlim(starting_distance_rider/2,3)\n",
    "#plt.ylim(1E-2,2e3)\n",
    "#plt.xscale('log')  #log scale works at 1mm range\n",
    "#plt.yscale('log')\n",
    "plt.title(\"Rider\")\n",
    "plt.tight_layout()\n",
    "#plt.savefig(\"./6.26_prot_antiprot_10nm.png\",dpi=600)\n",
    "plt.show()"
   ]
  },
  {
   "cell_type": "code",
   "execution_count": null,
   "id": "543786ea",
   "metadata": {
    "metadata": {}
   },
   "outputs": [],
   "source": [
    "fig = plt.figure(figsize=(6,5))\n",
    "ax = fig.add_subplot(1, 1, 1) \n",
    "#ax.scatter(zs,delta_e_MeV,s=40)\n",
    "ax.scatter(zs_drv,delta_e_MeV_drv/1000,s=40)\n",
    "#ax.scatter(zs_drv,np.abs(delta_e_MeV_drv/1000),s=40)  #for log plotting\n",
    "#ax.scatter(tees,np.abs(np.multiply(qs_drv,1E-2)),s=40)\n",
    "ax.set_ylabel(r\"$\\Delta$ E [GeV]\")\n",
    "#ax.set_xlabel(r\"z [mm]\")\n",
    "#ax.axvline(30,color='g',label=\"wall paosition\")\n",
    "#plt.xlim(-0.54,0.01)\n",
    "#plt.ylim(1E-5,5e3)\n",
    "#plt.xscale('log')\n",
    "#plt.yscale('log')\n",
    "plt.title(\"Driver\")\n",
    "plt.tight_layout()\n",
    "#plt.savefig(\"./6.26_prot_antiprot_10nm.png\",dpi=600)\n",
    "plt.show()\n",
    "\n"
   ]
  },
  {
   "cell_type": "code",
   "execution_count": null,
   "id": "8efc017e",
   "metadata": {
    "metadata": {}
   },
   "outputs": [],
   "source": [
    "fig = plt.figure(figsize=(6,5))\n",
    "ax = fig.add_subplot(1, 1, 1) \n",
    "ax.scatter(zs,Pzs,s=40)\n",
    "#ax.scatter(tees,np.abs(np.multiply(qs_drv,1E-2)),s=40)\n",
    "ax.set_ylabel(r\"Pz\")\n",
    "ax.set_xlabel(r\"z [mm]\")\n",
    "#ax.axvline(30,color='g',label=\"wall paosition\")\n",
    "#plt.xlim(-315,45)\n",
    "#plt.yscale('log')\n",
    "plt.tight_layout()\n",
    "#plt.savefig(\"/home/benfolsom/notebooks/cov_ret_prab_figures/6.15_35MeV_electron_pinholev1.png\",dpi=600)\n",
    "plt.show()\n",
    "\n",
    "\n",
    "fig = plt.figure(figsize=(6,5))\n",
    "ax = fig.add_subplot(1, 1, 1) \n",
    "ax.scatter(zs_drv,Pzs_drv,s=40)\n",
    "#ax.scatter(tees,np.abs(np.multiply(qs_drv,1E-2)),s=40)\n",
    "ax.set_ylabel(r\"Pz\")\n",
    "ax.set_xlabel(r\"z [mm]\")\n",
    "#ax.axvline(30,color='g',label=\"wall paosition\")\n",
    "#plt.xlim(-315,45)\n",
    "#plt.yscale('log')\n",
    "plt.tight_layout()\n",
    "#plt.savefig(\"/home/benfolsom/notebooks/cov_ret_prab_figures/6.15_35MeV_electron_pinholev1.png\",dpi=600)\n",
    "plt.show()"
   ]
  },
  {
   "cell_type": "code",
   "execution_count": null,
   "id": "89cdaa99",
   "metadata": {
    "metadata": {}
   },
   "outputs": [],
   "source": [
    "fig = plt.figure(figsize=(6,5))\n",
    "ax = fig.add_subplot(1, 1, 1) \n",
    "ax.scatter(zs_drv,zs,s=40)\n",
    "#ax.scatter(tees,np.abs(np.multiply(qs_drv,1E-2)),s=40)\n",
    "ax.set_ylabel(r\"zs\")\n",
    "ax.set_xlabel(r\"zs_drv [mm]\")\n",
    "#ax.axvline(30,color='g',label=\"wall paosition\")\n",
    "#plt.xlim(-315,45)\n",
    "#plt.ylim(2E-2,5)\n",
    "#plt.yscale('log')\n",
    "plt.tight_layout()\n",
    "#plt.savefig(\"./6.26_prot_antiprot_10nm.png\",dpi=600)\n",
    "plt.show()"
   ]
  },
  {
   "cell_type": "code",
   "execution_count": null,
   "id": "428112a4",
   "metadata": {},
   "outputs": [],
   "source": []
  },
  {
   "cell_type": "code",
   "execution_count": null,
   "id": "a6e6b041",
   "metadata": {},
   "outputs": [],
   "source": []
  },
  {
   "cell_type": "code",
   "execution_count": null,
   "id": "c5530bff",
   "metadata": {},
   "outputs": [],
   "source": []
  },
  {
   "cell_type": "code",
   "execution_count": null,
   "id": "38b23e34",
   "metadata": {},
   "outputs": [],
   "source": []
  },
  {
   "cell_type": "markdown",
   "id": "060c03dc",
   "metadata": {},
   "source": [
    "### Various other plots"
   ]
  },
  {
   "cell_type": "code",
   "execution_count": null,
   "id": "23cfa94f",
   "metadata": {
    "metadata": {}
   },
   "outputs": [],
   "source": [
    "fig = plt.figure(figsize=(6,5))\n",
    "ax = fig.add_subplot(1, 1, 1) \n",
    "ax.scatter(zs,Pts,s=40)\n",
    "#ax.scatter(tees,np.abs(np.multiply(qs_drv,1E-2)),s=40)\n",
    "ax.set_ylabel(r\"Pt\")\n",
    "ax.set_xlabel(r\"z [mm]\")\n",
    "#ax.axvline(30,color='g',label=\"wall paosition\")\n",
    "#plt.xlim(-315,45)\n",
    "#plt.yscale('log')\n",
    "plt.tight_layout()\n",
    "#plt.savefig(\"/home/benfolsom/notebooks/cov_ret_prab_figures/6.15_35MeV_electron_pinholev1.png\",dpi=600)\n",
    "plt.show()\n",
    "\n",
    "\n",
    "fig = plt.figure(figsize=(6,5))\n",
    "ax = fig.add_subplot(1, 1, 1) \n",
    "ax.scatter(zs_drv,Pts_drv,s=40)\n",
    "#ax.scatter(tees,np.abs(np.multiply(qs_drv,1E-2)),s=40)\n",
    "ax.set_ylabel(r\"Pt_drv\")\n",
    "ax.set_xlabel(r\"z [mm]\")\n",
    "#ax.axvline(30,color='g',label=\"wall paosition\")\n",
    "#plt.xlim(-315,45)\n",
    "#plt.yscale('log')\n",
    "plt.tight_layout()\n",
    "#plt.savefig(\"/home/benfolsom/notebooks/cov_ret_prab_figures/6.15_35MeV_electron_pinholev1.png\",dpi=600)\n",
    "plt.show()"
   ]
  },
  {
   "cell_type": "code",
   "execution_count": null,
   "id": "a109ce66",
   "metadata": {},
   "outputs": [],
   "source": [
    "fig = plt.figure(figsize=(6,5))\n",
    "ax = fig.add_subplot(1, 1, 1) \n",
    "ax.scatter(zs,Pys,s=40)\n",
    "#ax.scatter(tees,np.abs(np.multiply(qs_drv,1E-2)),s=40)\n",
    "ax.set_ylabel(r\"Pys\")\n",
    "ax.set_xlabel(r\"z [mm]\")\n",
    "#ax.axvline(30,color='g',label=\"wall paosition\")\n",
    "#plt.xlim(-315,45)\n",
    "#plt.yscale('log')\n",
    "plt.tight_layout()\n",
    "#plt.savefig(\"/home/benfolsom/notebooks/cov_ret_prab_figures/6.15_35MeV_electron_pinholev1.png\",dpi=600)\n",
    "plt.show()\n",
    "\n",
    "\n",
    "fig = plt.figure(figsize=(6,5))\n",
    "ax = fig.add_subplot(1, 1, 1) \n",
    "ax.scatter(zs_drv,Pys_drv,s=40)\n",
    "#ax.scatter(tees,np.abs(np.multiply(qs_drv,1E-2)),s=40)\n",
    "ax.set_ylabel(r\"Pys_drv\")\n",
    "ax.set_xlabel(r\"z [mm]\")\n",
    "#ax.axvline(30,color='g',label=\"wall paosition\")\n",
    "#plt.xlim(-315,45)\n",
    "#plt.yscale('log')\n",
    "plt.tight_layout()\n",
    "#plt.savefig(\"/home/benfolsom/notebooks/cov_ret_prab_figures/6.15_35MeV_electron_pinholev1.png\",dpi=600)\n",
    "plt.show()"
   ]
  },
  {
   "cell_type": "code",
   "execution_count": null,
   "id": "c127a071",
   "metadata": {},
   "outputs": [],
   "source": [
    "fig = plt.figure(figsize=(6,5))\n",
    "ax = fig.add_subplot(1, 1, 1) \n",
    "ax.scatter(zs,Pxs,s=40)\n",
    "#ax.scatter(tees,np.abs(np.multiply(qs_drv,1E-2)),s=40)\n",
    "ax.set_ylabel(r\"Pxs\")\n",
    "ax.set_xlabel(r\"z [mm]\")\n",
    "#ax.axvline(30,color='g',label=\"wall paosition\")\n",
    "#plt.xlim(-315,45)\n",
    "#plt.yscale('log')\n",
    "plt.tight_layout()\n",
    "#plt.savefig(\"/home/benfolsom/notebooks/cov_ret_prab_figures/6.15_35MeV_electron_pinholev1.png\",dpi=600)\n",
    "plt.show()\n",
    "\n",
    "\n",
    "fig = plt.figure(figsize=(6,5))\n",
    "ax = fig.add_subplot(1, 1, 1) \n",
    "ax.scatter(zs_drv,Pxs_drv,s=40)\n",
    "#ax.scatter(tees,np.abs(np.multiply(qs_drv,1E-2)),s=40)\n",
    "ax.set_ylabel(r\"Pxs_drv\")\n",
    "ax.set_xlabel(r\"z [mm]\")\n",
    "#ax.axvline(30,color='g',label=\"wall paosition\")\n",
    "#plt.xlim(-315,45)\n",
    "#plt.yscale('log')\n",
    "plt.tight_layout()\n",
    "#plt.savefig(\"/home/benfolsom/notebooks/cov_ret_prab_figures/6.15_35MeV_electron_pinholev1.png\",dpi=600)\n",
    "plt.show()"
   ]
  },
  {
   "cell_type": "code",
   "execution_count": null,
   "id": "0eec4e44-093d-4720-ae97-70c5cece2bf7",
   "metadata": {
    "metadata": {},
    "tags": []
   },
   "outputs": [],
   "source": [
    "fig = plt.figure(figsize=(6,5))\n",
    "ax = fig.add_subplot(1, 1, 1) \n",
    "ax.scatter(zs,gammas,s=40)\n",
    "#ax.scatter(tees,np.abs(np.multiply(qs_drv,1E-2)),s=40)\n",
    "ax.set_ylabel(r\"gammas [mm]\")\n",
    "ax.set_xlabel(r\"z [mm]\")\n",
    "#ax.axvline(30,color='g',label=\"wall paosition\")\n",
    "#plt.xlim(-315,45)\n",
    "#plt.yscale('log')\n",
    "plt.tight_layout()\n",
    "#plt.savefig(\"/home/benfolsom/notebooks/cov_ret_prab_figures/6.15_35MeV_electron_pinholev1.png\",dpi=600)\n",
    "plt.show()\n",
    "\n",
    "\n",
    "fig = plt.figure(figsize=(6,5))\n",
    "ax = fig.add_subplot(1, 1, 1) \n",
    "ax.scatter(zs_drv,gammas_drv,s=40)\n",
    "#ax.scatter(tees,np.abs(np.multiply(qs_drv,1E-2)),s=40)\n",
    "ax.set_ylabel(r\"gammas_drvs [mm]\")\n",
    "ax.set_xlabel(r\"z [mm]\")\n",
    "#ax.axvline(30,color='g',label=\"wall paosition\")\n",
    "#plt.xlim(-315,45)\n",
    "#plt.yscale('log')\n",
    "plt.tight_layout()\n",
    "#plt.savefig(\"/home/benfolsom/notebooks/cov_ret_prab_figures/6.15_35MeV_electron_pinholev1.png\",dpi=600)\n",
    "plt.show()"
   ]
  },
  {
   "cell_type": "code",
   "execution_count": null,
   "id": "831b8afd",
   "metadata": {
    "metadata": {}
   },
   "outputs": [],
   "source": [
    "fig = plt.figure(figsize=(6,5))\n",
    "ax = fig.add_subplot(1, 1, 1) \n",
    "ax.scatter(zs,bzs,s=40)\n",
    "#ax.scatter(tees,np.abs(np.multiply(qs_drv,1E-2)),s=40)\n",
    "ax.set_ylabel(r\"bzs [mm]\")\n",
    "ax.set_xlabel(r\"z [mm]\")\n",
    "#ax.axvline(30,color='g',label=\"wall paosition\")\n",
    "#plt.xlim(-315,45)\n",
    "plt.yscale('log')\n",
    "plt.tight_layout()\n",
    "#plt.savefig(\"/home/benfolsom/notebooks/cov_ret_prab_figures/6.15_35MeV_electron_pinholev1.png\",dpi=600)\n",
    "plt.show()\n",
    "\n",
    "\n",
    "fig = plt.figure(figsize=(6,5))\n",
    "ax = fig.add_subplot(1, 1, 1) \n",
    "ax.scatter(zs_drv,np.abs(bzs_drv),s=40)\n",
    "#ax.scatter(tees,np.abs(np.multiply(qs_drv,1E-2)),s=40)\n",
    "ax.set_ylabel(r\"|bzs_drvs| [mm]\")\n",
    "ax.set_xlabel(r\"z [mm]\")\n",
    "#ax.axvline(30,color='g',label=\"wall paosition\")\n",
    "#plt.xlim(-315,45)\n",
    "#plt.yscale('log')\n",
    "plt.tight_layout()\n",
    "#plt.savefig(\"/home/benfolsom/notebooks/cov_ret_prab_figures/6.15_35MeV_electron_pinholev1.png\",dpi=600)\n",
    "plt.show()"
   ]
  },
  {
   "cell_type": "code",
   "execution_count": null,
   "id": "148665a7",
   "metadata": {},
   "outputs": [],
   "source": []
  },
  {
   "cell_type": "code",
   "execution_count": null,
   "id": "7f9bf4f0",
   "metadata": {},
   "outputs": [],
   "source": []
  },
  {
   "cell_type": "code",
   "execution_count": null,
   "id": "c492f6fa",
   "metadata": {},
   "outputs": [],
   "source": []
  },
  {
   "cell_type": "code",
   "execution_count": null,
   "id": "9c292a2e",
   "metadata": {},
   "outputs": [],
   "source": []
  },
  {
   "cell_type": "code",
   "execution_count": null,
   "id": "ce757004",
   "metadata": {},
   "outputs": [],
   "source": []
  },
  {
   "cell_type": "code",
   "execution_count": null,
   "id": "9ef7acfd",
   "metadata": {},
   "outputs": [],
   "source": []
  }
 ],
 "metadata": {
  "kernelspec": {
   "display_name": "Python 3",
   "language": "python",
   "name": "python3"
  },
  "language_info": {
   "codemirror_mode": {
    "name": "ipython",
    "version": 3
   },
   "file_extension": ".py",
   "mimetype": "text/x-python",
   "name": "python",
   "nbconvert_exporter": "python",
   "pygments_lexer": "ipython3",
   "version": "3.11.2"
  }
 },
 "nbformat": 4,
 "nbformat_minor": 5
}
